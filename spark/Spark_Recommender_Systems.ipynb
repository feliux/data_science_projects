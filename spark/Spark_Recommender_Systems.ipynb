{
 "cells": [
  {
   "cell_type": "markdown",
   "metadata": {},
   "source": [
    "# Índice\n",
    "\n",
    "- [Sistemas de recomendación](#recommender)\n",
    "    - [Filtros colaborativos](#cf)\n",
    "- [Descarga de datos](#descarga)\n",
    "- [Carga de datos](#carga)\n",
    "- [Limpieza de datos](#limpieza)\n",
    "- [Análisis descriptivo](#analisis)\n",
    "- [Modelo y ajuste de parámetros](#model)\n",
    "    - [K-fold](#kfold)\n",
    "- [Resultado del modelo](#resultado)\n",
    "\n",
    "\n",
    "    \n",
    "<div id='xx' />"
   ]
  },
  {
   "cell_type": "markdown",
   "metadata": {},
   "source": [
    "La práctica consiste en construir un recomendador con el módulo de recomendación de Spark (en la versión 1.6 solamente implementa el método ALS) sobre un conjunto de entrenamiento, realizar predicciones sobre un conjunto de test y posteriormente evaluar su rendimiento aplicando un RegressionEvaluator con metricName=”rmse”, dado que los valores finales son las valoraciones que se supone que daría el usuario a una determinada película que aún no ha visto, y por tanto numéricos.\n",
    "\n",
    "El paquete de pySpark de recomendaciones se encuentra en:\n",
    "\n",
    "http://spark.apache.org/docs/1.6.2/api/python/pyspark.ml.html#pyspark.ml.recommendation.ALS\n",
    "\n",
    "https://spark.apache.org/docs/latest/ml-collaborative-filtering.html\n",
    "\n",
    "El recomendador se construirá utilizando el dataset de 100000 puntuaciones de 1000 usuarios sobre 1700 películas de Movielens\n",
    "\n",
    "http://grouplens.org/datasets/movielens/100k/  (user id | item id | rating | timestamp)\n",
    "\n",
    "https://grouplens.org/datasets/movielens/\n",
    "\n",
    "Se recomienda leer el archivo README.txt para entender bien los datos:\n",
    "\n",
    "http://files.grouplens.org/datasets/movielens/ml-100k-README.txt\n",
    "\n",
    "Para poder practicar sobre un dataset más pequeño o si alguien tiene problemas de rendimiento se puede utilizar éste más reducido:\n",
    "\n",
    "https://raw.githubusercontent.com/apache/spark/master/data/mllib/als/sample_movielens_ratings.txt"
   ]
  },
  {
   "cell_type": "markdown",
   "metadata": {},
   "source": [
    "<div id='recommender' />\n",
    "\n",
    "## Sistemas de recomendación (Recommender Systems)\n",
    "\n",
    "Los sistemas de recomendación ayudan a emparejar usuarios con productos. Seleccionan el producto que maximiza el valor, tanto para el comprador como para el vendedor en un momento determinado.\n",
    "\n",
    "Podemos distinguir distintos tipos:\n",
    "\n",
    "- Basados en conocimiento experto\n",
    "- Basados en contenido\n",
    "- Filtros colaborativos\n",
    "- Sistemas híbridos\n",
    "- Dependientes del contexto\n",
    "- Recomendadores agrupados\n",
    "- Recomendadores sociales\n",
    "\n"
   ]
  },
  {
   "cell_type": "markdown",
   "metadata": {},
   "source": [
    "<div id='cf' />\n",
    "\n",
    "#### Filtros colaborativos (Collaborative Filtering)\n",
    "\n",
    "[Documentación Spark](https://spark.apache.org/docs/latest/ml-collaborative-filtering.html)\n",
    "\n",
    "Se basan en el uso de la sabiduría popular para recomendar elementos, es decir, generan recomendaciones de elementos comparando patrones de comportamiendo de los usuarios. Se fundamentan en la asunción de que los usuarios que tuvieron gustos similares en el pasado los tendrán igualmente en el futuro.\n",
    "\n",
    "La entrada a este tipo de recomendadores consistirá en una tabla de puntuaciones de los usuarios sobre los elementos y, por tanto, no necesitan información adicional ni de los usuarios ni de los elementos para poder hacer las recomendaciones.\n",
    "\n",
    "Las salidas suelen ser:\n",
    "\n",
    "- Una predicción numérica indicando en qué grado un determinado elemento le gusta al usuario objetivo.\n",
    "- Un lista de elementos a recomendar para dicho usuario."
   ]
  },
  {
   "cell_type": "markdown",
   "metadata": {},
   "source": [
    "<div id='descarga' />\n",
    "\n",
    "### Descarga de datos"
   ]
  },
  {
   "cell_type": "code",
   "execution_count": 1,
   "metadata": {
    "scrolled": true
   },
   "outputs": [
    {
     "name": "stdout",
     "output_type": "stream",
     "text": [
      "--2022-01-11 18:20:14--  http://files.grouplens.org/datasets/movielens/ml-100k.zip\n",
      "Resolving files.grouplens.org (files.grouplens.org)... 128.101.65.152\n",
      "Connecting to files.grouplens.org (files.grouplens.org)|128.101.65.152|:80... connected.\n",
      "HTTP request sent, awaiting response... 200 OK\n",
      "Length: 4924029 (4.7M) [application/zip]\n",
      "Saving to: ‘ml-100k.zip’\n",
      "\n",
      "ml-100k.zip         100%[===================>]   4.70M  2.85MB/s    in 1.6s    \n",
      "\n",
      "2022-01-11 18:20:16 (2.85 MB/s) - ‘ml-100k.zip’ saved [4924029/4924029]\n",
      "\n",
      "Archive:  ../data/ml-100k.zip\n",
      "   creating: ../data/ml-100k/\n",
      "  inflating: ../data/ml-100k/allbut.pl  \n",
      "  inflating: ../data/ml-100k/mku.sh  \n",
      "  inflating: ../data/ml-100k/README  \n",
      "  inflating: ../data/ml-100k/u.data  \n",
      "  inflating: ../data/ml-100k/u.genre  \n",
      "  inflating: ../data/ml-100k/u.info  \n",
      "  inflating: ../data/ml-100k/u.item  \n",
      "  inflating: ../data/ml-100k/u.occupation  \n",
      "  inflating: ../data/ml-100k/u.user  \n",
      "  inflating: ../data/ml-100k/u1.base  \n",
      "  inflating: ../data/ml-100k/u1.test  \n",
      "  inflating: ../data/ml-100k/u2.base  \n",
      "  inflating: ../data/ml-100k/u2.test  \n",
      "  inflating: ../data/ml-100k/u3.base  \n",
      "  inflating: ../data/ml-100k/u3.test  \n",
      "  inflating: ../data/ml-100k/u4.base  \n",
      "  inflating: ../data/ml-100k/u4.test  \n",
      "  inflating: ../data/ml-100k/u5.base  \n",
      "  inflating: ../data/ml-100k/u5.test  \n",
      "  inflating: ../data/ml-100k/ua.base  \n",
      "  inflating: ../data/ml-100k/ua.test  \n",
      "  inflating: ../data/ml-100k/ub.base  \n",
      "  inflating: ../data/ml-100k/ub.test  \n"
     ]
    }
   ],
   "source": [
    "!wget http://files.grouplens.org/datasets/movielens/ml-100k.zip\n",
    "!mv ml-100k.zip ../data\n",
    "!unzip ../data/ml-100k.zip -d ../data"
   ]
  },
  {
   "cell_type": "markdown",
   "metadata": {},
   "source": [
    "<div id='carga' />\n",
    "\n",
    "### Carga de datos"
   ]
  },
  {
   "cell_type": "code",
   "execution_count": 2,
   "metadata": {},
   "outputs": [
    {
     "data": {
      "text/plain": [
       "'2.4.5'"
      ]
     },
     "execution_count": 2,
     "metadata": {},
     "output_type": "execute_result"
    }
   ],
   "source": [
    "from pyspark import SparkContext\n",
    "from pyspark.sql import SparkSession\n",
    "\n",
    "sc = SparkContext()\n",
    "spark = SparkSession(sc)\n",
    "\n",
    "data_ratings = sc.textFile(\"../data/ml-100k/u.data\")\n",
    "data_users = sc.textFile(\"../data/ml-100k/u.user\")\n",
    "data_items = sc.textFile(\"../data/ml-100k/u.item\")\n",
    "\n",
    "sc.version"
   ]
  },
  {
   "cell_type": "markdown",
   "metadata": {},
   "source": [
    "<div id='limpieza' />\n",
    "\n",
    "### Limpieza de datos\n",
    "\n",
    "Tras importar los datos en `RDD` pasamos ahora a crear un dataframe con las variables que nos interesan. Podemos consultar la estructura de nuestros datos así como el significado de las variables en el siguiente [enlace](http://files.grouplens.org/datasets/movielens/ml-100k-README.txt)."
   ]
  },
  {
   "cell_type": "code",
   "execution_count": 3,
   "metadata": {},
   "outputs": [
    {
     "name": "stdout",
     "output_type": "stream",
     "text": [
      "root\n",
      " |-- user_id: long (nullable = true)\n",
      " |-- item_id: long (nullable = true)\n",
      " |-- rating: long (nullable = true)\n",
      " |-- age: long (nullable = true)\n",
      " |-- gender: string (nullable = true)\n",
      " |-- occupation: string (nullable = true)\n",
      " |-- genre_action: long (nullable = true)\n",
      " |-- genre_adventure: long (nullable = true)\n",
      " |-- genre_animation: long (nullable = true)\n",
      " |-- genre_childrens: long (nullable = true)\n",
      " |-- genre_comedy: long (nullable = true)\n",
      " |-- genre_crime: long (nullable = true)\n",
      " |-- genre_documentary: long (nullable = true)\n",
      " |-- genre_drama: long (nullable = true)\n",
      " |-- genre_fantasy: long (nullable = true)\n",
      " |-- genre_horror: long (nullable = true)\n",
      " |-- genre_mistery: long (nullable = true)\n",
      " |-- genre_musical: long (nullable = true)\n",
      " |-- genre_noir: long (nullable = true)\n",
      " |-- genre_romance: long (nullable = true)\n",
      " |-- genre_scifi: long (nullable = true)\n",
      " |-- genre_thriller: long (nullable = true)\n",
      " |-- genre_unknown: long (nullable = true)\n",
      " |-- genre_war: long (nullable = true)\n",
      " |-- genre_western: long (nullable = true)\n",
      " |-- imdb_url: string (nullable = true)\n",
      " |-- item_id: long (nullable = true)\n",
      " |-- item_title: string (nullable = true)\n",
      " |-- release_date: string (nullable = true)\n",
      " |-- video_release_date: string (nullable = true)\n",
      "\n"
     ]
    }
   ],
   "source": [
    "from pyspark.sql import Row\n",
    "\n",
    "rdd_ratings = data_ratings.map(lambda x: x.split(\"\\t\"))\n",
    "rdd_ratings = rdd_ratings.map(lambda x: Row(user_id=int(x[0]), item_id=int(x[1]), \n",
    "                                            rating=int(x[2]), timestamp=int(x[3])))\n",
    "df_ratings = spark.createDataFrame(rdd_ratings)\n",
    "\n",
    "rdd_users = data_users.map(lambda x: x.split(\"|\"))\n",
    "rdd_users = rdd_users.map(lambda x: Row(user_id=int(x[0]), age=int(x[1]), gender=x[2], \n",
    "                                        occupation=x[3], zip_code=x[4]))\n",
    "df_users = spark.createDataFrame(rdd_users)\n",
    "\n",
    "rdd_items = data_items.map(lambda x: x.split(\"|\"))\n",
    "rdd_items = rdd_items.map(lambda x: Row(item_id=int(x[0]), item_title=x[1], release_date=x[2], video_release_date=x[3], imdb_url=x[4], \n",
    "                                        genre_unknown=int(x[5]), genre_action=int(x[6]), genre_adventure=int(x[7]), genre_animation=int(x[8]), \n",
    "                                        genre_childrens=int(x[9]), genre_comedy=int(x[10]), genre_crime=int(x[11]), genre_documentary=int(x[12]), \n",
    "                                        genre_drama=int(x[13]), genre_fantasy=int(x[14]), genre_noir=int(x[15]), genre_horror=int(x[16]), \n",
    "                                        genre_musical=int(x[17]), genre_mistery=int(x[18]), genre_romance=int(x[19]), genre_scifi=int(x[20]), \n",
    "                                        genre_thriller=int(x[21]), genre_war=int(x[22]), genre_western=int(x[23])))\n",
    "df_items = spark.createDataFrame(rdd_items)\n",
    "\n",
    "df = df_ratings.join(df_users, df_ratings.user_id == df_users.user_id, \"left\").select(df_ratings.user_id, \"item_id\", \"rating\", \"age\", \"gender\", \"occupation\")\n",
    "df = df.join(df_items, df.item_id == df_items.item_id, \"left\")\n",
    "\n",
    "df.printSchema()"
   ]
  },
  {
   "cell_type": "code",
   "execution_count": 4,
   "metadata": {},
   "outputs": [
    {
     "data": {
      "text/html": [
       "<div>\n",
       "<style scoped>\n",
       "    .dataframe tbody tr th:only-of-type {\n",
       "        vertical-align: middle;\n",
       "    }\n",
       "\n",
       "    .dataframe tbody tr th {\n",
       "        vertical-align: top;\n",
       "    }\n",
       "\n",
       "    .dataframe thead th {\n",
       "        text-align: right;\n",
       "    }\n",
       "</style>\n",
       "<table border=\"1\" class=\"dataframe\">\n",
       "  <thead>\n",
       "    <tr style=\"text-align: right;\">\n",
       "      <th></th>\n",
       "      <th>user_id</th>\n",
       "      <th>item_id</th>\n",
       "      <th>rating</th>\n",
       "      <th>age</th>\n",
       "      <th>gender</th>\n",
       "      <th>occupation</th>\n",
       "      <th>genre_action</th>\n",
       "      <th>genre_adventure</th>\n",
       "      <th>genre_animation</th>\n",
       "      <th>genre_childrens</th>\n",
       "      <th>...</th>\n",
       "      <th>genre_romance</th>\n",
       "      <th>genre_scifi</th>\n",
       "      <th>genre_thriller</th>\n",
       "      <th>genre_unknown</th>\n",
       "      <th>genre_war</th>\n",
       "      <th>genre_western</th>\n",
       "      <th>imdb_url</th>\n",
       "      <th>item_title</th>\n",
       "      <th>release_date</th>\n",
       "      <th>video_release_date</th>\n",
       "    </tr>\n",
       "  </thead>\n",
       "  <tbody>\n",
       "    <tr>\n",
       "      <th>0</th>\n",
       "      <td>474</td>\n",
       "      <td>26</td>\n",
       "      <td>4</td>\n",
       "      <td>51</td>\n",
       "      <td>M</td>\n",
       "      <td>executive</td>\n",
       "      <td>0</td>\n",
       "      <td>0</td>\n",
       "      <td>0</td>\n",
       "      <td>0</td>\n",
       "      <td>...</td>\n",
       "      <td>0</td>\n",
       "      <td>0</td>\n",
       "      <td>0</td>\n",
       "      <td>0</td>\n",
       "      <td>0</td>\n",
       "      <td>0</td>\n",
       "      <td>http://us.imdb.com/M/title-exact?Brothers%20Mc...</td>\n",
       "      <td>Brothers McMullen, The (1995)</td>\n",
       "      <td>01-Jan-1995</td>\n",
       "      <td></td>\n",
       "    </tr>\n",
       "    <tr>\n",
       "      <th>1</th>\n",
       "      <td>222</td>\n",
       "      <td>26</td>\n",
       "      <td>3</td>\n",
       "      <td>29</td>\n",
       "      <td>M</td>\n",
       "      <td>programmer</td>\n",
       "      <td>0</td>\n",
       "      <td>0</td>\n",
       "      <td>0</td>\n",
       "      <td>0</td>\n",
       "      <td>...</td>\n",
       "      <td>0</td>\n",
       "      <td>0</td>\n",
       "      <td>0</td>\n",
       "      <td>0</td>\n",
       "      <td>0</td>\n",
       "      <td>0</td>\n",
       "      <td>http://us.imdb.com/M/title-exact?Brothers%20Mc...</td>\n",
       "      <td>Brothers McMullen, The (1995)</td>\n",
       "      <td>01-Jan-1995</td>\n",
       "      <td></td>\n",
       "    </tr>\n",
       "    <tr>\n",
       "      <th>2</th>\n",
       "      <td>270</td>\n",
       "      <td>26</td>\n",
       "      <td>5</td>\n",
       "      <td>18</td>\n",
       "      <td>F</td>\n",
       "      <td>student</td>\n",
       "      <td>0</td>\n",
       "      <td>0</td>\n",
       "      <td>0</td>\n",
       "      <td>0</td>\n",
       "      <td>...</td>\n",
       "      <td>0</td>\n",
       "      <td>0</td>\n",
       "      <td>0</td>\n",
       "      <td>0</td>\n",
       "      <td>0</td>\n",
       "      <td>0</td>\n",
       "      <td>http://us.imdb.com/M/title-exact?Brothers%20Mc...</td>\n",
       "      <td>Brothers McMullen, The (1995)</td>\n",
       "      <td>01-Jan-1995</td>\n",
       "      <td></td>\n",
       "    </tr>\n",
       "    <tr>\n",
       "      <th>3</th>\n",
       "      <td>293</td>\n",
       "      <td>26</td>\n",
       "      <td>3</td>\n",
       "      <td>24</td>\n",
       "      <td>M</td>\n",
       "      <td>writer</td>\n",
       "      <td>0</td>\n",
       "      <td>0</td>\n",
       "      <td>0</td>\n",
       "      <td>0</td>\n",
       "      <td>...</td>\n",
       "      <td>0</td>\n",
       "      <td>0</td>\n",
       "      <td>0</td>\n",
       "      <td>0</td>\n",
       "      <td>0</td>\n",
       "      <td>0</td>\n",
       "      <td>http://us.imdb.com/M/title-exact?Brothers%20Mc...</td>\n",
       "      <td>Brothers McMullen, The (1995)</td>\n",
       "      <td>01-Jan-1995</td>\n",
       "      <td></td>\n",
       "    </tr>\n",
       "    <tr>\n",
       "      <th>4</th>\n",
       "      <td>243</td>\n",
       "      <td>26</td>\n",
       "      <td>3</td>\n",
       "      <td>33</td>\n",
       "      <td>M</td>\n",
       "      <td>educator</td>\n",
       "      <td>0</td>\n",
       "      <td>0</td>\n",
       "      <td>0</td>\n",
       "      <td>0</td>\n",
       "      <td>...</td>\n",
       "      <td>0</td>\n",
       "      <td>0</td>\n",
       "      <td>0</td>\n",
       "      <td>0</td>\n",
       "      <td>0</td>\n",
       "      <td>0</td>\n",
       "      <td>http://us.imdb.com/M/title-exact?Brothers%20Mc...</td>\n",
       "      <td>Brothers McMullen, The (1995)</td>\n",
       "      <td>01-Jan-1995</td>\n",
       "      <td></td>\n",
       "    </tr>\n",
       "    <tr>\n",
       "      <th>...</th>\n",
       "      <td>...</td>\n",
       "      <td>...</td>\n",
       "      <td>...</td>\n",
       "      <td>...</td>\n",
       "      <td>...</td>\n",
       "      <td>...</td>\n",
       "      <td>...</td>\n",
       "      <td>...</td>\n",
       "      <td>...</td>\n",
       "      <td>...</td>\n",
       "      <td>...</td>\n",
       "      <td>...</td>\n",
       "      <td>...</td>\n",
       "      <td>...</td>\n",
       "      <td>...</td>\n",
       "      <td>...</td>\n",
       "      <td>...</td>\n",
       "      <td>...</td>\n",
       "      <td>...</td>\n",
       "      <td>...</td>\n",
       "      <td>...</td>\n",
       "    </tr>\n",
       "    <tr>\n",
       "      <th>99995</th>\n",
       "      <td>907</td>\n",
       "      <td>1326</td>\n",
       "      <td>4</td>\n",
       "      <td>25</td>\n",
       "      <td>F</td>\n",
       "      <td>other</td>\n",
       "      <td>0</td>\n",
       "      <td>0</td>\n",
       "      <td>0</td>\n",
       "      <td>0</td>\n",
       "      <td>...</td>\n",
       "      <td>0</td>\n",
       "      <td>0</td>\n",
       "      <td>0</td>\n",
       "      <td>0</td>\n",
       "      <td>0</td>\n",
       "      <td>0</td>\n",
       "      <td>http://us.imdb.com/M/title-exact?Boys%20(1996)</td>\n",
       "      <td>Boys (1996)</td>\n",
       "      <td>10-May-1996</td>\n",
       "      <td></td>\n",
       "    </tr>\n",
       "    <tr>\n",
       "      <th>99996</th>\n",
       "      <td>859</td>\n",
       "      <td>1326</td>\n",
       "      <td>4</td>\n",
       "      <td>18</td>\n",
       "      <td>F</td>\n",
       "      <td>other</td>\n",
       "      <td>0</td>\n",
       "      <td>0</td>\n",
       "      <td>0</td>\n",
       "      <td>0</td>\n",
       "      <td>...</td>\n",
       "      <td>0</td>\n",
       "      <td>0</td>\n",
       "      <td>0</td>\n",
       "      <td>0</td>\n",
       "      <td>0</td>\n",
       "      <td>0</td>\n",
       "      <td>http://us.imdb.com/M/title-exact?Boys%20(1996)</td>\n",
       "      <td>Boys (1996)</td>\n",
       "      <td>10-May-1996</td>\n",
       "      <td></td>\n",
       "    </tr>\n",
       "    <tr>\n",
       "      <th>99997</th>\n",
       "      <td>500</td>\n",
       "      <td>1326</td>\n",
       "      <td>4</td>\n",
       "      <td>28</td>\n",
       "      <td>M</td>\n",
       "      <td>administrator</td>\n",
       "      <td>0</td>\n",
       "      <td>0</td>\n",
       "      <td>0</td>\n",
       "      <td>0</td>\n",
       "      <td>...</td>\n",
       "      <td>0</td>\n",
       "      <td>0</td>\n",
       "      <td>0</td>\n",
       "      <td>0</td>\n",
       "      <td>0</td>\n",
       "      <td>0</td>\n",
       "      <td>http://us.imdb.com/M/title-exact?Boys%20(1996)</td>\n",
       "      <td>Boys (1996)</td>\n",
       "      <td>10-May-1996</td>\n",
       "      <td></td>\n",
       "    </tr>\n",
       "    <tr>\n",
       "      <th>99998</th>\n",
       "      <td>199</td>\n",
       "      <td>1326</td>\n",
       "      <td>3</td>\n",
       "      <td>30</td>\n",
       "      <td>M</td>\n",
       "      <td>writer</td>\n",
       "      <td>0</td>\n",
       "      <td>0</td>\n",
       "      <td>0</td>\n",
       "      <td>0</td>\n",
       "      <td>...</td>\n",
       "      <td>0</td>\n",
       "      <td>0</td>\n",
       "      <td>0</td>\n",
       "      <td>0</td>\n",
       "      <td>0</td>\n",
       "      <td>0</td>\n",
       "      <td>http://us.imdb.com/M/title-exact?Boys%20(1996)</td>\n",
       "      <td>Boys (1996)</td>\n",
       "      <td>10-May-1996</td>\n",
       "      <td></td>\n",
       "    </tr>\n",
       "    <tr>\n",
       "      <th>99999</th>\n",
       "      <td>405</td>\n",
       "      <td>1587</td>\n",
       "      <td>1</td>\n",
       "      <td>22</td>\n",
       "      <td>F</td>\n",
       "      <td>healthcare</td>\n",
       "      <td>0</td>\n",
       "      <td>0</td>\n",
       "      <td>0</td>\n",
       "      <td>0</td>\n",
       "      <td>...</td>\n",
       "      <td>0</td>\n",
       "      <td>0</td>\n",
       "      <td>0</td>\n",
       "      <td>0</td>\n",
       "      <td>0</td>\n",
       "      <td>1</td>\n",
       "      <td>http://us.imdb.com/M/title-exact?Terror%20in%2...</td>\n",
       "      <td>Terror in a Texas Town (1958)</td>\n",
       "      <td>01-Jan-1958</td>\n",
       "      <td></td>\n",
       "    </tr>\n",
       "  </tbody>\n",
       "</table>\n",
       "<p>100000 rows × 29 columns</p>\n",
       "</div>"
      ],
      "text/plain": [
       "       user_id  item_id  rating  age gender     occupation  genre_action  \\\n",
       "0          474       26       4   51      M      executive             0   \n",
       "1          222       26       3   29      M     programmer             0   \n",
       "2          270       26       5   18      F        student             0   \n",
       "3          293       26       3   24      M         writer             0   \n",
       "4          243       26       3   33      M       educator             0   \n",
       "...        ...      ...     ...  ...    ...            ...           ...   \n",
       "99995      907     1326       4   25      F          other             0   \n",
       "99996      859     1326       4   18      F          other             0   \n",
       "99997      500     1326       4   28      M  administrator             0   \n",
       "99998      199     1326       3   30      M         writer             0   \n",
       "99999      405     1587       1   22      F     healthcare             0   \n",
       "\n",
       "       genre_adventure  genre_animation  genre_childrens  ...  genre_romance  \\\n",
       "0                    0                0                0  ...              0   \n",
       "1                    0                0                0  ...              0   \n",
       "2                    0                0                0  ...              0   \n",
       "3                    0                0                0  ...              0   \n",
       "4                    0                0                0  ...              0   \n",
       "...                ...              ...              ...  ...            ...   \n",
       "99995                0                0                0  ...              0   \n",
       "99996                0                0                0  ...              0   \n",
       "99997                0                0                0  ...              0   \n",
       "99998                0                0                0  ...              0   \n",
       "99999                0                0                0  ...              0   \n",
       "\n",
       "       genre_scifi  genre_thriller  genre_unknown  genre_war  genre_western  \\\n",
       "0                0               0              0          0              0   \n",
       "1                0               0              0          0              0   \n",
       "2                0               0              0          0              0   \n",
       "3                0               0              0          0              0   \n",
       "4                0               0              0          0              0   \n",
       "...            ...             ...            ...        ...            ...   \n",
       "99995            0               0              0          0              0   \n",
       "99996            0               0              0          0              0   \n",
       "99997            0               0              0          0              0   \n",
       "99998            0               0              0          0              0   \n",
       "99999            0               0              0          0              1   \n",
       "\n",
       "                                                imdb_url  \\\n",
       "0      http://us.imdb.com/M/title-exact?Brothers%20Mc...   \n",
       "1      http://us.imdb.com/M/title-exact?Brothers%20Mc...   \n",
       "2      http://us.imdb.com/M/title-exact?Brothers%20Mc...   \n",
       "3      http://us.imdb.com/M/title-exact?Brothers%20Mc...   \n",
       "4      http://us.imdb.com/M/title-exact?Brothers%20Mc...   \n",
       "...                                                  ...   \n",
       "99995     http://us.imdb.com/M/title-exact?Boys%20(1996)   \n",
       "99996     http://us.imdb.com/M/title-exact?Boys%20(1996)   \n",
       "99997     http://us.imdb.com/M/title-exact?Boys%20(1996)   \n",
       "99998     http://us.imdb.com/M/title-exact?Boys%20(1996)   \n",
       "99999  http://us.imdb.com/M/title-exact?Terror%20in%2...   \n",
       "\n",
       "                          item_title  release_date  video_release_date  \n",
       "0      Brothers McMullen, The (1995)   01-Jan-1995                      \n",
       "1      Brothers McMullen, The (1995)   01-Jan-1995                      \n",
       "2      Brothers McMullen, The (1995)   01-Jan-1995                      \n",
       "3      Brothers McMullen, The (1995)   01-Jan-1995                      \n",
       "4      Brothers McMullen, The (1995)   01-Jan-1995                      \n",
       "...                              ...           ...                 ...  \n",
       "99995                    Boys (1996)   10-May-1996                      \n",
       "99996                    Boys (1996)   10-May-1996                      \n",
       "99997                    Boys (1996)   10-May-1996                      \n",
       "99998                    Boys (1996)   10-May-1996                      \n",
       "99999  Terror in a Texas Town (1958)   01-Jan-1958                      \n",
       "\n",
       "[100000 rows x 29 columns]"
      ]
     },
     "execution_count": 4,
     "metadata": {},
     "output_type": "execute_result"
    }
   ],
   "source": [
    "df = df.drop(df_items.item_id)\n",
    "df.toPandas()"
   ]
  },
  {
   "cell_type": "markdown",
   "metadata": {},
   "source": [
    "<div id='analisis' />\n",
    "\n",
    "### Análisis descriptivo"
   ]
  },
  {
   "cell_type": "markdown",
   "metadata": {},
   "source": [
    "Veamos el top 10 de películas con mayor número de votos:"
   ]
  },
  {
   "cell_type": "code",
   "execution_count": 5,
   "metadata": {},
   "outputs": [
    {
     "name": "stdout",
     "output_type": "stream",
     "text": [
      "+--------------------+-----+\n",
      "|          item_title|count|\n",
      "+--------------------+-----+\n",
      "|    Star Wars (1977)|  583|\n",
      "|      Contact (1997)|  509|\n",
      "|        Fargo (1996)|  508|\n",
      "|Return of the Jed...|  507|\n",
      "|    Liar Liar (1997)|  485|\n",
      "|English Patient, ...|  481|\n",
      "|       Scream (1996)|  478|\n",
      "|    Toy Story (1995)|  452|\n",
      "|Air Force One (1997)|  431|\n",
      "|Independence Day ...|  429|\n",
      "+--------------------+-----+\n",
      "only showing top 10 rows\n",
      "\n"
     ]
    }
   ],
   "source": [
    "import pyspark.sql.functions as F\n",
    "df.groupBy(\"item_title\").count().sort(F.col(\"count\").desc()).show(10)"
   ]
  },
  {
   "cell_type": "markdown",
   "metadata": {},
   "source": [
    "Las valoraciones (`rating`) tienen valores comprendido en el intervalo [1, 5]. A continuación mostramos algunas de las películas mejor valoradas:"
   ]
  },
  {
   "cell_type": "code",
   "execution_count": 6,
   "metadata": {},
   "outputs": [
    {
     "name": "stdout",
     "output_type": "stream",
     "text": [
      "+--------------------+----------+\n",
      "|          item_title|avg_rating|\n",
      "+--------------------+----------+\n",
      "|Santa with Muscle...|       5.0|\n",
      "|Great Day in Harl...|       5.0|\n",
      "|They Made Me a Cr...|       5.0|\n",
      "|Entertaining Ange...|       5.0|\n",
      "|Marlene Dietrich:...|       5.0|\n",
      "|     Star Kid (1997)|       5.0|\n",
      "|Aiqing wansui (1994)|       5.0|\n",
      "|Saint of Fort Was...|       5.0|\n",
      "|Someone Else's Am...|       5.0|\n",
      "|  Prefontaine (1997)|       5.0|\n",
      "+--------------------+----------+\n",
      "only showing top 10 rows\n",
      "\n"
     ]
    }
   ],
   "source": [
    "df.groupBy(\"item_title\").agg(F.avg(\"rating\").alias(\"avg_rating\")).sort(F.col(\"avg_rating\").desc()).show(10)"
   ]
  },
  {
   "cell_type": "markdown",
   "metadata": {},
   "source": [
    "Podemos ver un mayor número de votaciones realizadas por hombres (género masculino `M`):"
   ]
  },
  {
   "cell_type": "code",
   "execution_count": 7,
   "metadata": {},
   "outputs": [
    {
     "name": "stdout",
     "output_type": "stream",
     "text": [
      "+------+-----+\n",
      "|gender|count|\n",
      "+------+-----+\n",
      "|     M|74260|\n",
      "|     F|25740|\n",
      "+------+-----+\n",
      "\n"
     ]
    }
   ],
   "source": [
    "df.groupBy(\"gender\").count().sort(F.col(\"count\").desc()).show()"
   ]
  },
  {
   "cell_type": "code",
   "execution_count": 8,
   "metadata": {},
   "outputs": [
    {
     "name": "stdout",
     "output_type": "stream",
     "text": [
      "+------+------------+\n",
      "|gender|total_rating|\n",
      "+------+------------+\n",
      "|     M|      262085|\n",
      "|     F|       90901|\n",
      "+------+------------+\n",
      "\n"
     ]
    }
   ],
   "source": [
    "df.groupBy(\"gender\").agg(F.sum(\"rating\").alias(\"total_rating\")).sort(F.col(\"total_rating\").desc()).show()"
   ]
  },
  {
   "cell_type": "code",
   "execution_count": 9,
   "metadata": {},
   "outputs": [
    {
     "name": "stdout",
     "output_type": "stream",
     "text": [
      "+------+------------------+\n",
      "|gender|        avg_rating|\n",
      "+------+------------------+\n",
      "|     F|3.5315073815073816|\n",
      "|     M|3.5292889846485322|\n",
      "+------+------------------+\n",
      "\n"
     ]
    }
   ],
   "source": [
    "df.groupBy(\"gender\").agg(F.avg(\"rating\").alias(\"avg_rating\")).sort(F.col(\"avg_rating\").desc()).show()"
   ]
  },
  {
   "cell_type": "markdown",
   "metadata": {},
   "source": [
    "Si agrupamos por ocupación (`occupation`):"
   ]
  },
  {
   "cell_type": "code",
   "execution_count": 10,
   "metadata": {},
   "outputs": [
    {
     "name": "stdout",
     "output_type": "stream",
     "text": [
      "+-------------+-----+\n",
      "|   occupation|count|\n",
      "+-------------+-----+\n",
      "|      student|21957|\n",
      "|        other|10663|\n",
      "|     educator| 9442|\n",
      "|     engineer| 8175|\n",
      "|   programmer| 7801|\n",
      "|administrator| 7479|\n",
      "|       writer| 5536|\n",
      "|    librarian| 5273|\n",
      "|   technician| 3506|\n",
      "|    executive| 3403|\n",
      "|   healthcare| 2804|\n",
      "|       artist| 2308|\n",
      "|entertainment| 2095|\n",
      "|    scientist| 2058|\n",
      "|    marketing| 1950|\n",
      "|      retired| 1609|\n",
      "|       lawyer| 1345|\n",
      "|         none|  901|\n",
      "|     salesman|  856|\n",
      "|       doctor|  540|\n",
      "+-------------+-----+\n",
      "only showing top 20 rows\n",
      "\n"
     ]
    }
   ],
   "source": [
    "df.groupBy(\"occupation\").count().sort(F.col(\"count\").desc()).show()"
   ]
  },
  {
   "cell_type": "code",
   "execution_count": 11,
   "metadata": {},
   "outputs": [
    {
     "name": "stdout",
     "output_type": "stream",
     "text": [
      "+-------------+------------+\n",
      "|   occupation|total_rating|\n",
      "+-------------+------------+\n",
      "|      student|       77182|\n",
      "|        other|       37879|\n",
      "|     educator|       34658|\n",
      "|     engineer|       28951|\n",
      "|   programmer|       27836|\n",
      "|administrator|       27191|\n",
      "|    librarian|       18776|\n",
      "|       writer|       18688|\n",
      "|   technician|       12384|\n",
      "|    executive|       11397|\n",
      "|       artist|        8432|\n",
      "|   healthcare|        8121|\n",
      "|    scientist|        7432|\n",
      "|entertainment|        7209|\n",
      "|    marketing|        6797|\n",
      "|      retired|        5578|\n",
      "|       lawyer|        5024|\n",
      "|         none|        3405|\n",
      "|     salesman|        3067|\n",
      "|       doctor|        1992|\n",
      "+-------------+------------+\n",
      "only showing top 20 rows\n",
      "\n"
     ]
    }
   ],
   "source": [
    "df.groupBy(\"occupation\").agg(F.sum(\"rating\").alias(\"total_rating\")).sort(F.col(\"total_rating\").desc()).show()"
   ]
  },
  {
   "cell_type": "code",
   "execution_count": 12,
   "metadata": {},
   "outputs": [
    {
     "name": "stdout",
     "output_type": "stream",
     "text": [
      "+-------------+------------------+\n",
      "|   occupation|        avg_rating|\n",
      "+-------------+------------------+\n",
      "|         none| 3.779134295227525|\n",
      "|       lawyer|3.7353159851301116|\n",
      "|       doctor| 3.688888888888889|\n",
      "|     educator|3.6706206312221985|\n",
      "|       artist| 3.653379549393414|\n",
      "|administrator|3.6356464768017114|\n",
      "|    scientist| 3.611273080660836|\n",
      "|     salesman| 3.582943925233645|\n",
      "|   programmer|3.5682604794257147|\n",
      "|    librarian| 3.560781338896264|\n",
      "|        other|3.5523773797242804|\n",
      "|     engineer| 3.541406727828746|\n",
      "|   technician|3.5322304620650313|\n",
      "|      student|3.5151432345038027|\n",
      "|    marketing|3.4856410256410255|\n",
      "|      retired|3.4667495338719703|\n",
      "|entertainment|3.4410501193317424|\n",
      "|       writer|3.3757225433526012|\n",
      "|    executive|3.3491037320011756|\n",
      "|    homemaker| 3.301003344481605|\n",
      "+-------------+------------------+\n",
      "only showing top 20 rows\n",
      "\n"
     ]
    }
   ],
   "source": [
    "df.groupBy(\"occupation\").agg(F.avg(\"rating\").alias(\"avg_rating\")).sort(F.col(\"avg_rating\").desc()).show()"
   ]
  },
  {
   "cell_type": "markdown",
   "metadata": {},
   "source": [
    "Finalmente eliminamos las variables que no utilizaremos en nuestro modelo."
   ]
  },
  {
   "cell_type": "code",
   "execution_count": 13,
   "metadata": {},
   "outputs": [],
   "source": [
    "df = df.select(\"user_id\", \"item_id\", \"rating\")"
   ]
  },
  {
   "cell_type": "code",
   "execution_count": 14,
   "metadata": {},
   "outputs": [],
   "source": [
    "del data_items, data_ratings, data_users, rdd_items, rdd_ratings, rdd_users"
   ]
  },
  {
   "cell_type": "code",
   "execution_count": 15,
   "metadata": {},
   "outputs": [
    {
     "data": {
      "text/plain": [
       "['F',\n",
       " 'Row',\n",
       " 'SparkContext',\n",
       " 'SparkSession',\n",
       " 'df',\n",
       " 'df_items',\n",
       " 'df_ratings',\n",
       " 'df_users',\n",
       " 'sc',\n",
       " 'spark']"
      ]
     },
     "execution_count": 15,
     "metadata": {},
     "output_type": "execute_result"
    }
   ],
   "source": [
    "who_ls"
   ]
  },
  {
   "cell_type": "markdown",
   "metadata": {},
   "source": [
    "<div id='model' />\n",
    "\n",
    "### Modelo y ajuste de parámetros\n",
    "\n",
    "El proceso de selección del modelo se realizará a través del análisis de validación cruzada (**cross-validation**) con ajuste automático de hiperparámetros. Este ajuste se hace definiendo los posibles valores de los hiperparámetros del modelo y ejecutando una búsqueda en rejilla (**grid-search**). Los hiperparámetros del modelo ALS son:\n",
    "\n",
    "- rank: cantidad de factores latentes en el modelo (4, 8 y 12 como valores seleccionados)\n",
    "- maxIter: número máximo de iteraciones (5).\n",
    "- regParam: parámetro de regularización (0.1, 0.05 y 0.01 como valores seleccionados)\n",
    "\n",
    "Para realizar una comparativa entre los modelos obtenidos con el proceso anterior se establece como método de evaluación el cálculo del error cuadrático medio (**RMSE**) ya que se usa frecuentemente como principal métrica de evaluación en problemas de regresión. RMSE compara los valores predichos del conjunto de entrenamiento con los valores reales presentes en el conjunto de validación. Al agregar el error absoluto de las diferencias y tomar el promedio de esos valores obtenemos una medida del error del modelo. Cuanto menor es el error, mejor es la capacidad de pronóstico de ese modelo según el criterio RMSE. También se obtendrán otras métricas del error como **MSE, R2 y MAE**."
   ]
  },
  {
   "cell_type": "code",
   "execution_count": 16,
   "metadata": {},
   "outputs": [
    {
     "name": "stdout",
     "output_type": "stream",
     "text": [
      "Best number of latent factors (rank parameter): 12\n",
      "Best value of regularization factor: 0.1\n",
      "Best max iterations: 5\n",
      "RMSE test: 0.9253131493349755\n",
      "MSE test: 0.8562044243322108\n",
      "MAE test: 0.7396551369445475\n",
      "R2 test: 0.3162887571091789\n",
      "Tiempo de entrenamiento:  7.29392474492391 minutos\n"
     ]
    }
   ],
   "source": [
    "from pyspark.ml.recommendation import ALS\n",
    "from pyspark.ml.evaluation import RegressionEvaluator\n",
    "from pyspark.ml.tuning import CrossValidator, ParamGridBuilder\n",
    "import time\n",
    "\n",
    "start_time = time.time()\n",
    "\n",
    "train, test = df.randomSplit([0.8, 0.2])\n",
    "train = train.withColumnRenamed(\"rating\", \"label\")\n",
    "\n",
    "# Modelo ALS\n",
    "# Parámetro coldStartStrategy=\"drop\" para asegurar que no obtenemos NaN en métricas de evaluación\n",
    "als = ALS(maxIter=5, \n",
    "          userCol=\"user_id\", \n",
    "          itemCol=\"item_id\", \n",
    "          ratingCol=\"label\", \n",
    "          seed=1, \n",
    "          coldStartStrategy=\"drop\", \n",
    "          nonnegative=True)\n",
    "\n",
    "# Parámetros grid\n",
    "# rank -> factores latentes en el modelo\n",
    "paramGrid = ParamGridBuilder().addGrid(als.regParam, [0.1, 0.05, 0.01]).addGrid(als.rank, [4, 8, 12]).build()\n",
    "\n",
    "# Cross-Validator\n",
    "crossval = CrossValidator(estimator=als,\n",
    "                          estimatorParamMaps=paramGrid,\n",
    "                          evaluator=RegressionEvaluator(metricName=\"rmse\"),\n",
    "                          numFolds=10)\n",
    "\n",
    "cvModel = crossval.fit(train)\n",
    "\n",
    "\n",
    "# Selcción del mejor modelo\n",
    "best_als_model = cvModel.bestModel\n",
    "print(\"Best number of latent factors (rank parameter): \" + str(best_als_model.rank))\n",
    "print(\"Best value of regularization factor: \" + str(best_als_model._java_obj.parent().getRegParam()))\n",
    "print(\"Best max iterations: \" + str(best_als_model._java_obj.parent().getMaxIter()))\n",
    "\n",
    "\n",
    "# Evaluación del modelo\n",
    "pred_test = best_als_model.transform(test)\n",
    "#evaluator = RegressionEvaluator(metricName=\"rmse\", labelCol=\"rating\", predictionCol=\"prediction\")\n",
    "#rmse = evaluator.evaluate(pred_test)\n",
    "#print(\"RMSE: \" + str(rmse))\n",
    "\n",
    "ev = RegressionEvaluator(labelCol = \"rating\")\n",
    "print(\"RMSE test: {0}\".format(ev.evaluate(pred_test, {ev.metricName: \"rmse\"})))\n",
    "print(\"MSE test: {0}\".format(ev.evaluate(pred_test, {ev.metricName: \"mse\"})))\n",
    "print(\"MAE test: {0}\".format(ev.evaluate(pred_test, {ev.metricName: \"mae\"})))\n",
    "print(\"R2 test: {0}\".format(ev.evaluate(pred_test, {ev.metricName: \"r2\"})))\n",
    "\n",
    "print(\"Tiempo de entrenamiento: \", (time.time() - start_time) / 60, \"minutos\")"
   ]
  },
  {
   "cell_type": "markdown",
   "metadata": {},
   "source": [
    "<div id='kfold' />\n",
    "\n",
    "#### K-fold\n",
    "\n",
    "Para obtener una evaluación más precisa del sobreajuste (**overfitting**) del modelo y del error real (en test), una buena práctica es, una vez que se ha seleccionado el modelo ALS con el mejor ajuste de hiperparámetros (proceso de selección del modelo realizado mediante validación cruzada con búsqueda en rejilla), se evalua el modelo ajustado para distintos conjuntos de entrenamiento y test seleccionados aleatoriamente a través de múltiples **K-fold** y, finalmente, se promedian los resultados de las distintas métricas de evaluación calculadas en cada K-fold. Este proceso nos proporcionará una evaluación más precisa de nuestro motor de recomendación como predictor de ratings ante nuevos datos de entrada nunca antes vistos por el modelo."
   ]
  },
  {
   "cell_type": "code",
   "execution_count": 17,
   "metadata": {},
   "outputs": [],
   "source": [
    "def overfitting_evaluation(predictions):\n",
    "    predictions = predictions.na.drop()\n",
    "    # RMSE\n",
    "    rmse_evaluator = RegressionEvaluator(metricName=\"rmse\", labelCol=\"rating\", predictionCol=\"prediction\")\n",
    "    rmse = rmse_evaluator.evaluate(predictions)\n",
    "    print(\"Root Mean Square Error (RMSE) = \" + str(rmse))\n",
    "    # MSE\n",
    "    mse_evaluator = RegressionEvaluator(metricName=\"mse\", labelCol=\"rating\", predictionCol=\"prediction\")\n",
    "    mse = mse_evaluator.evaluate(predictions)\n",
    "    print(\"Mean Square Error (MSE) = \" + str(mse))\n",
    "    # MAE\n",
    "    mae_evaluator = RegressionEvaluator(metricName=\"mae\", labelCol=\"rating\", predictionCol=\"prediction\")\n",
    "    mae = mae_evaluator.evaluate(predictions)\n",
    "    print(\"Mean Absolute Error (MAE) = \" + str(mae))\n",
    "    # R2\n",
    "    r2_evaluator = RegressionEvaluator(metricName=\"r2\", labelCol=\"rating\", predictionCol=\"prediction\")\n",
    "    r2 = r2_evaluator.evaluate(predictions)\n",
    "    print(\"R2 metric = \" + str(r2))\n",
    "    return [rmse, mse, r2, mae]\n",
    "\n",
    "def kfold_test_eval(df, it, regPar, rank, Kfolds=5):\n",
    "    rmse_evaluations = []\n",
    "    mse_evaluations = []\n",
    "    r2_evaluations = []\n",
    "    mae_evaluations = []\n",
    "    \n",
    "    for k in range(0, Kfolds):  \n",
    "        train, test = df.randomSplit([0.8, 0.2])\n",
    "        train = train.withColumnRenamed(\"rating\", \"label\")\n",
    "        tunned_als = als = ALS(userCol=\"user_id\", \n",
    "                               itemCol=\"item_id\", \n",
    "                               ratingCol=\"label\", \n",
    "                               coldStartStrategy=\"drop\", \n",
    "                               maxIter=it, \n",
    "                               regParam=regPar, \n",
    "                               rank=rank)\n",
    "        model = tunned_als.fit(train)\n",
    "        predictions = model.transform(test)\n",
    "        print(\"----> K-fold: \" + str(k + 1))\n",
    "        k_test_eval = overfitting_evaluation(predictions)\n",
    "        rmse_evaluations.append(k_test_eval[0])\n",
    "        mse_evaluations.append(k_test_eval[1])\n",
    "        r2_evaluations.append(k_test_eval[2])\n",
    "        mae_evaluations.append(k_test_eval[3])\n",
    "        \n",
    "    average_rmse = sum(rmse_evaluations)/float(len(rmse_evaluations))\n",
    "    average_mse = sum(mse_evaluations)/float(len(mse_evaluations))\n",
    "    average_r2 = sum(r2_evaluations)/float(len(r2_evaluations))\n",
    "    average_mae = sum(mae_evaluations)/float(len(mae_evaluations))\n",
    "    average_metrics = {\"RMSE\": average_rmse, \"MSE\": average_mse, \"MAE\": average_mae, \"R2\": average_r2}\n",
    "    \n",
    "    return average_metrics"
   ]
  },
  {
   "cell_type": "code",
   "execution_count": 18,
   "metadata": {},
   "outputs": [
    {
     "name": "stdout",
     "output_type": "stream",
     "text": [
      "----> K-fold: 1\n",
      "Root Mean Square Error (RMSE) = 0.9281340319558975\n",
      "Mean Square Error (MSE) = 0.8614327812747109\n",
      "Mean Absolute Error (MAE) = 0.738484669080392\n",
      "R2 metric = 0.32393874295462544\n",
      "----> K-fold: 2\n",
      "Root Mean Square Error (RMSE) = 0.9318297056278995\n",
      "Mean Square Error (MSE) = 0.8683066002905778\n",
      "Mean Absolute Error (MAE) = 0.7407927340046081\n",
      "R2 metric = 0.32618615308434473\n",
      "----> K-fold: 3\n",
      "Root Mean Square Error (RMSE) = 0.9226281800226845\n",
      "Mean Square Error (MSE) = 0.8512427585719713\n",
      "Mean Absolute Error (MAE) = 0.7333176278626808\n",
      "R2 metric = 0.3150196018780358\n",
      "----> K-fold: 4\n",
      "Root Mean Square Error (RMSE) = 0.9276696963460531\n",
      "Mean Square Error (MSE) = 0.8605710655187784\n",
      "Mean Absolute Error (MAE) = 0.7368962762011714\n",
      "R2 metric = 0.3164184526973567\n",
      "----> K-fold: 5\n",
      "Root Mean Square Error (RMSE) = 0.9391476817935454\n",
      "Mean Square Error (MSE) = 0.8819983682181902\n",
      "Mean Absolute Error (MAE) = 0.745802440046153\n",
      "R2 metric = 0.31347863186101976\n",
      " \n",
      "Tiempo de ejecución k-fold:  2.261584301789602 minutos\n"
     ]
    }
   ],
   "source": [
    "start_time = time.time()\n",
    "kfold_test_eval(df, it=5, regPar=0.1, rank=12)\n",
    "print(\" \")\n",
    "print(\"Tiempo de ejecución k-fold: \", (time.time() - start_time) / 60, \"minutos\")"
   ]
  },
  {
   "cell_type": "markdown",
   "metadata": {},
   "source": [
    "<div id='resultado' />\n",
    "\n",
    "### Resultado del modelo\n",
    "\n",
    "Comprobaremos algunas predicciones obtenidas del modelo."
   ]
  },
  {
   "cell_type": "code",
   "execution_count": 19,
   "metadata": {},
   "outputs": [
    {
     "name": "stdout",
     "output_type": "stream",
     "text": [
      "Top 3 recomendaciones de películas para cada usuario:\n",
      "+-------+--------------------------------------------------------+\n",
      "|user_id|recommendations                                         |\n",
      "+-------+--------------------------------------------------------+\n",
      "|471    |[[538, 5.170471], [887, 5.0484133], [913, 4.9339857]]   |\n",
      "|463    |[[1643, 4.522373], [1589, 4.4196224], [1449, 4.26085]]  |\n",
      "|833    |[[1643, 4.8221817], [320, 4.2892814], [1368, 4.162993]] |\n",
      "|496    |[[1643, 4.76684], [853, 4.1428933], [1467, 4.023804]]   |\n",
      "|148    |[[1463, 5.5031233], [1643, 5.1378045], [814, 4.9099703]]|\n",
      "+-------+--------------------------------------------------------+\n",
      "only showing top 5 rows\n",
      "\n"
     ]
    }
   ],
   "source": [
    "print(\"Top 3 recomendaciones de películas para cada usuario:\")\n",
    "userRecs = best_als_model.recommendForAllUsers(3)\n",
    "userRecs.show(5, truncate=False)"
   ]
  },
  {
   "cell_type": "code",
   "execution_count": 20,
   "metadata": {},
   "outputs": [
    {
     "name": "stdout",
     "output_type": "stream",
     "text": [
      "Top 3 recomendaciones de usuario para cada película:\n",
      "+-------+------------------------------------------------------+\n",
      "|item_id|recommendations                                       |\n",
      "+-------+------------------------------------------------------+\n",
      "|1580   |[[366, 1.5022786], [688, 1.4889176], [801, 1.4198372]]|\n",
      "|471    |[[849, 4.703801], [939, 4.6878614], [810, 4.664942]]  |\n",
      "|1591   |[[928, 5.8869095], [857, 5.501318], [519, 5.044736]]  |\n",
      "|1342   |[[310, 3.9530053], [239, 3.876279], [4, 3.8565137]]   |\n",
      "|463    |[[928, 4.973973], [310, 4.8433633], [909, 4.6595435]] |\n",
      "+-------+------------------------------------------------------+\n",
      "only showing top 5 rows\n",
      "\n"
     ]
    }
   ],
   "source": [
    "print(\"Top 3 recomendaciones de usuario para cada película:\")\n",
    "movieRecs = best_als_model.recommendForAllItems(3)\n",
    "movieRecs.show(5, truncate=False)"
   ]
  },
  {
   "cell_type": "code",
   "execution_count": 21,
   "metadata": {},
   "outputs": [
    {
     "name": "stdout",
     "output_type": "stream",
     "text": [
      "Top 3 películas recomendadas para un conjunto específico de usuarios (5):\n",
      "+-------+--------------------------------------------------------+\n",
      "|user_id|recommendations                                         |\n",
      "+-------+--------------------------------------------------------+\n",
      "|65     |[[1643, 5.295609], [113, 4.6787124], [318, 4.640968]]   |\n",
      "|26     |[[1643, 4.757546], [113, 4.230652], [1467, 4.0680833]]  |\n",
      "|474    |[[1643, 5.825402], [1449, 5.039047], [1467, 4.938492]]  |\n",
      "|29     |[[1643, 5.6532516], [1449, 4.9601517], [1639, 4.815363]]|\n",
      "|541    |[[1643, 5.130844], [814, 4.8571224], [1639, 4.6165576]] |\n",
      "+-------+--------------------------------------------------------+\n",
      "\n"
     ]
    }
   ],
   "source": [
    "print(\"Top 3 películas recomendadas para un conjunto específico de usuarios (5):\")\n",
    "users = df.select(als.getUserCol()).distinct().limit(5)\n",
    "userSubsetRecs = best_als_model.recommendForUserSubset(users, 3)\n",
    "userSubsetRecs.show(truncate=False)"
   ]
  },
  {
   "cell_type": "code",
   "execution_count": 22,
   "metadata": {},
   "outputs": [
    {
     "name": "stdout",
     "output_type": "stream",
     "text": [
      "Top 3 usuarios recomendados para un conjunto específico de películas (5):\n",
      "+-------+------------------------------------------------------+\n",
      "|item_id|recommendations                                       |\n",
      "+-------+------------------------------------------------------+\n",
      "|26     |[[688, 4.203037], [274, 4.0799584], [34, 4.0450025]]  |\n",
      "|474    |[[928, 5.109949], [686, 5.0015645], [118, 4.961344]]  |\n",
      "|1677   |[[118, 3.6793573], [34, 3.553275], [928, 3.5344198]]  |\n",
      "|29     |[[127, 4.9205], [636, 4.260722], [261, 4.1712966]]    |\n",
      "|964    |[[219, 4.6748614], [122, 4.3550925], [565, 4.3343263]]|\n",
      "+-------+------------------------------------------------------+\n",
      "\n"
     ]
    }
   ],
   "source": [
    "print(\"Top 3 usuarios recomendados para un conjunto específico de películas (5):\")\n",
    "movies = df.select(als.getItemCol()).distinct().limit(5)\n",
    "movieSubSetRecs = best_als_model.recommendForItemSubset(movies, 3)\n",
    "movieSubSetRecs.show(truncate=False)"
   ]
  },
  {
   "cell_type": "markdown",
   "metadata": {},
   "source": [
    "Otra forma de extraer información de recomendaciones es mediante el método `take`. Veamos un ejemplo para las recomendaciones de usuarios para un conjunto de películas:"
   ]
  },
  {
   "cell_type": "code",
   "execution_count": 23,
   "metadata": {},
   "outputs": [
    {
     "data": {
      "text/plain": [
       "[Row(item_id=26, recommendations=[Row(user_id=688, rating=4.203036785125732), Row(user_id=274, rating=4.079958438873291), Row(user_id=34, rating=4.045002460479736)]),\n",
       " Row(item_id=474, recommendations=[Row(user_id=928, rating=5.109949111938477), Row(user_id=686, rating=5.0015645027160645), Row(user_id=118, rating=4.961343765258789)])]"
      ]
     },
     "execution_count": 23,
     "metadata": {},
     "output_type": "execute_result"
    }
   ],
   "source": [
    "movieSubSetRecs.take(2)"
   ]
  },
  {
   "cell_type": "markdown",
   "metadata": {},
   "source": [
    "O bien mediante una tabla que muestre los usuarios recomendados (sin rating) además del título de la película:"
   ]
  },
  {
   "cell_type": "code",
   "execution_count": 24,
   "metadata": {},
   "outputs": [
    {
     "name": "stdout",
     "output_type": "stream",
     "text": [
      "+-------+--------------------+-----------------------+\n",
      "|item_id|          item_title|recommendations.user_id|\n",
      "+-------+--------------------+-----------------------+\n",
      "|     26|Brothers McMullen...|         [688, 274, 34]|\n",
      "|     29|Batman Forever (1...|        [127, 636, 261]|\n",
      "|    474|Dr. Strangelove o...|        [928, 686, 118]|\n",
      "|    964|Month by the Lake...|        [219, 122, 565]|\n",
      "|   1677|Sweet Nothing (1995)|         [118, 34, 928]|\n",
      "+-------+--------------------+-----------------------+\n",
      "\n"
     ]
    }
   ],
   "source": [
    "#movieSubSetRecs.join(df_items, movieSubSetRecs.item_id == df_items.item_id, \"left\").select(df_items.item_id, \"item_title\", \"recommendations\").show()\n",
    "movieSubSetRecs.join(df_items, movieSubSetRecs.item_id == df_items.item_id, \"left\").select(df_items.item_id, \"item_title\", movieSubSetRecs.recommendations.user_id).show()"
   ]
  }
 ],
 "metadata": {
  "kernelspec": {
   "display_name": "Python 3",
   "language": "python",
   "name": "python3"
  },
  "language_info": {
   "codemirror_mode": {
    "name": "ipython",
    "version": 3
   },
   "file_extension": ".py",
   "mimetype": "text/x-python",
   "name": "python",
   "nbconvert_exporter": "python",
   "pygments_lexer": "ipython3",
   "version": "3.7.6"
  }
 },
 "nbformat": 4,
 "nbformat_minor": 4
}
