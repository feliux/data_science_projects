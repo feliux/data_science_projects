{
 "cells": [
  {
   "cell_type": "markdown",
   "metadata": {},
   "source": [
    "# Índice\n",
    "\n",
    "[Documentación Spark](https://spark.apache.org/docs/2.1.0/index.html)\n",
    "\n",
    "- [Etapas DS](#etapas)\n",
    "- [Caso de estudio](#caso)\n",
    "- [Carga de datos](#dataset)\n",
    "- [Inspección inicial](#inspeccion)\n",
    "\n",
    "    - [Inspección mediante SQL](#inspeccionsql)\n",
    "\n",
    "- [Análisis exploratorio](#exploratorio)\n",
    "\n",
    "    - [Valores faltantes](#faltantes)\n",
    "    - [Transformación y creación de variables](#transformacion)\n",
    "\n",
    "- [Visualización](#visualizacion)\n",
    "- [Machine Learning](#ml)\n",
    "\n",
    "    - [Feature Extraction](#manipulacion)\n",
    "    \n",
    "        - [Variables dummy](#dummy)\n",
    "        - [Variables discretas binarias](#binarias)\n",
    "        - [Variables discretizadas en buckets](#buckets)\n",
    "        - [Expansión polinómica](#polinomica)\n",
    "        - [Normalización de variables](#scaler)\n",
    "        \n",
    "    - [Regresión Lineal](#lr)\n",
    "    - [Regresión Lineal generalizada](#lrg)\n",
    "    \n",
    "        - [Selección de variables y regularización](#regularizacion)\n",
    "        \n",
    "            - [Ridge Regression](#ridge)\n",
    "            - [Lasso Regression](#lasso)\n",
    "            \n",
    "    - [Regresión Logística (binaria)](#rlog)\n",
    "    \n",
    "        - [Confussion Matrix](#cm)\n",
    "        - [Curva ROC](#roc)\n",
    "        - [Tuneado de parámetros](#tuneado)\n",
    "        \n",
    "    - [Decision Trees](#dt)\n",
    "    \n",
    "        - [Regresión](#dtr)\n",
    "        - [Clasificación](#dtc)\n",
    "        \n",
    "    - [Random Forest](#rf)\n",
    "    \n",
    "        - [Regresión](#rfr)\n",
    "        - [Clasificación](#rfc)\n",
    "        \n",
    "    - [Multilayer Perceptron Classifier](#perceptron)\n",
    "    - [Principal Component Analysis](#pca)\n",
    "        \n",
    "        - [Sin estandarización](#pca_sin)\n",
    "        - [Con estandarización](#pca_con)\n",
    "        \n",
    "    - [K-means](#kmeans)\n",
    "\n",
    "    \n",
    "<div id=\"idx\" />"
   ]
  },
  {
   "cell_type": "markdown",
   "metadata": {},
   "source": [
    "<div id=\"etapas\" />\n",
    "\n",
    "## Etapas de un proyecto DS\n",
    "\n",
    "##### Entender el problema\n",
    "\n",
    "- Conocimiento del contexto de los datos.\n",
    "- Información del proceso de recogida y protocolos de medición.\n",
    "- La mayoría de resultados preliminares del DS se limitan a manifestar lo que el especialista sabe sobre el ámbito de negocio.\n",
    "\n",
    "##### Analizar la representatividad\n",
    "\n",
    "- Identificar casuísticas.\n",
    "- Sesgos de población.\n",
    "- Muchos métodos de aprendizaje dan por válida la representatividad y concluyen de forma errónea.\n",
    "\n",
    "##### Explorar el conjunto de datos\n",
    "\n",
    "- Conjunto de datos: heterogéneos, voluminosos, complejos, dinámicos...\n",
    "- Primeros pasos: limpieza, imputación...\n",
    "- Suponer en primera instancia que los datos reflejan una realidad estocástica (y no determinista).\n",
    "\n",
    "##### Definir objetivos\n",
    "\n",
    "- ¿Objetivo descrito por una única variable?\n",
    "- ¿Segmentar o modelar?\n",
    "- ¿Explicativo o predictivo?\n",
    "\n",
    "##### Definir hipótesis\n",
    "\n",
    "- Muchos trabajos fracasan por pretender modelar el promedio de algo cuyo valor promedio no aporta el valor deseado.\n",
    "\n",
    "##### Escoger técnica o modelo\n",
    "\n",
    "- No supervisado: objetivo de hallar patrones. SOLUCION = PATRON + INCERTIDUMBRE\n",
    "\n",
    "- Supervisado: objetivo descrito por una variable. SOLUCION = MODELO + INCERTIDUMBRE\n",
    "\n",
    "- Los resultados de métodos y técnicas de naturaleza **no supervisada** deben aprovecharse en problemas de naturaleza **supervisada**.\n",
    "\n",
    "##### Calibrar el modelo\n",
    "\n",
    "- Hallar los valores de los (meta)parámetros.\n",
    "- Complejidad computacional: heurísticas, meta-heurísticas, sim-heurísticas...\n",
    "- Mejoras de la técnica de calibración.\n",
    "- Combinación de técnicas para escoger un mejor método de calibración.\n",
    "- Tuneado de parámetros.\n",
    "- Overfitting.\n",
    "\n",
    "##### Validar hipótesis\n",
    "\n",
    "- Post-calibración y comprobación de hipótesis.\n",
    "\n",
    "##### Medir la incertidumbre\n",
    "\n",
    "- Training / Test\n",
    "- Cross Validation\n",
    "- Validación interna y externa.\n",
    "\n",
    "##### Mejorar el modelo\n",
    "\n",
    "- Proximidad o similitud de casos.\n",
    "- Importancia de las variables.\n",
    "    - Sin una variables vs todas las variables.\n",
    "    - Sólo una variable vs todas las variables.\n",
    "- Crear y transformar variables.\n",
    "- Estandarizar los datos.\n",
    "- Añadir información de procesos no supervisados.\n",
    "- Técnicas de penalización.\n",
    "\n",
    "##### Comparar y/o seleccionar modelos\n",
    "\n",
    "- Sobreestimación.\n",
    "- No representatividad.\n",
    "- Cuantificar el ajuste de los modelos con valores comparables.\n",
    "- Agrgación de modelos: respuesta en base a un resumen (promedio, etc)) ponderado por cierta medida de ajuste (AIC, etc) de las diferentes respuestas de cada uno de los modelos."
   ]
  },
  {
   "cell_type": "markdown",
   "metadata": {},
   "source": [
    "<div id=\"caso\" />\n",
    "\n",
    "## Caso de estudio\n",
    "\n",
    "El dataset con el que trabajaremos está compuesto de información obre todos los vuelos comeriales internos en EE.UU. correspondientes al mes de diciembre de 2016. Los datos reflejan información sobre la salida y llegada de dichos vuelos. En conjunto se dispone de alrededor de 500 mil vuelos y unas 30 variables.\n",
    "\n",
    "Podemos ver información sobre las variables más relevantes del dataset de estudio [aquí](http://stat-computing.org/dataexpo/2009/the-data.html)\n",
    "\n",
    "~~~\n",
    "    Name \tDescription\n",
    " \tYear \t1987-2008\n",
    " \tMonth \t1-12\n",
    " \tDayofMonth \t1-31\n",
    " \tDayOfWeek \t1 (Monday) - 7 (Sunday)\n",
    " \tDepTime \tactual departure time (local, hhmm)\n",
    " \tCRSDepTime \tscheduled departure time (local, hhmm)\n",
    " \tArrTime \tactual arrival time (local, hhmm)\n",
    " \tCRSArrTime \tscheduled arrival time (local, hhmm)\n",
    " \tUniqueCarrier \tunique carrier code (1)\n",
    " \tFlightNum \tflight number\n",
    " \tTailNum \tplane tail number\n",
    " \tActualElapsedTime \tin minutes\n",
    " \tCRSElapsedTime \tin minutes\n",
    " \tAirTime \tin minutes\n",
    " \tArrDelay \tarrival delay, in minutes\n",
    " \tDepDelay \tdeparture delay, in minutes\n",
    " \tOrigin \torigin IATA airport code (2)\n",
    " \tDest \tdestination IATA airport code\n",
    " \tDistance \tin miles\n",
    " \tTaxiIn \ttaxi in time, in minutes\n",
    " \tTaxiOut \ttaxi out time in minutes\n",
    " \tCancelled \twas the flight cancelled?\n",
    " \tCancellationCode \treason for cancellation (A = carrier, B = weather, C = NAS, D = security)\n",
    " \tDiverted \t1 = yes, 0 = no\n",
    " \tCarrierDelay \tin minutes\n",
    " \tWeatherDelay \tin minutes\n",
    " \tNASDelay \tin minutes\n",
    " \tSecurityDelay \tin minutes\n",
    " \tLateAircraftDelay \tin minutes\n",
    "\n",
    "~~~\n",
    "(1) [unique carrier code](http://stat-computing.org/dataexpo/2009/supplemental-data.html)\n",
    "<br>\n",
    "(2) [IATA airport code](http://stat-computing.org/dataexpo/2009/supplemental-data.html)\n",
    "\n",
    "En el siguiente [enlace](https://www.transtats.bts.gov/Fields.asp?Table_ID=236) podemos ver una base de datos mucho más completa que contiene los vuelos desde el año 1987 y desde la cual hemos extraído nuestro caso de estudio."
   ]
  },
  {
   "cell_type": "markdown",
   "metadata": {},
   "source": [
    "<div id=\"dataset\" />\n",
    "\n",
    "## Carga de librerías y dataset"
   ]
  },
  {
   "cell_type": "code",
   "execution_count": 1,
   "metadata": {},
   "outputs": [
    {
     "data": {
      "text/plain": [
       "'2.4.5'"
      ]
     },
     "execution_count": 1,
     "metadata": {},
     "output_type": "execute_result"
    }
   ],
   "source": [
    "from pyspark import SparkContext\n",
    "from pyspark.sql import SQLContext, SparkSession\n",
    "\n",
    "from pyspark.sql.functions import col\n",
    "from pyspark.sql.functions import log\n",
    "\n",
    "import numpy as np\n",
    "import seaborn as sb\n",
    "import matplotlib.pyplot as plt\n",
    "%matplotlib inline\n",
    "\n",
    "sc = SparkContext()\n",
    "spark = SparkSession(sc)\n",
    "sqlc = SQLContext(sc)\n",
    "\n",
    "sc.version"
   ]
  },
  {
   "cell_type": "code",
   "execution_count": 2,
   "metadata": {},
   "outputs": [],
   "source": [
    "data = sqlc.read.format(\"com.databricks.spark.csv\").option(\"header\", \"true\").load(\"../data/on_time_performance_2016_12.csv\", inferSchema=True)"
   ]
  },
  {
   "cell_type": "markdown",
   "metadata": {},
   "source": [
    "<div id=\"inspeccion\" />\n",
    "\n",
    "## Inspección inicial\n"
   ]
  },
  {
   "cell_type": "code",
   "execution_count": 3,
   "metadata": {},
   "outputs": [
    {
     "data": {
      "text/plain": [
       "[('Year', 'int'),\n",
       " ('Quarter', 'int'),\n",
       " ('Month', 'int'),\n",
       " ('DayofMonth', 'int'),\n",
       " ('DayOfWeek', 'int'),\n",
       " ('FlightDate', 'timestamp'),\n",
       " ('UniqueCarrier', 'string'),\n",
       " ('AirlineID', 'int'),\n",
       " ('Carrier', 'string'),\n",
       " ('TailNum', 'string'),\n",
       " ('FlightNum', 'int'),\n",
       " ('OriginAirportID', 'int'),\n",
       " ('OriginAirportSeqID', 'int'),\n",
       " ('OriginCityMarketID', 'int'),\n",
       " ('Origin', 'string'),\n",
       " ('OriginCityName', 'string'),\n",
       " ('OriginState', 'string'),\n",
       " ('OriginStateFips', 'int'),\n",
       " ('OriginStateName', 'string'),\n",
       " ('OriginWac', 'int'),\n",
       " ('DestAirportID', 'int'),\n",
       " ('DestAirportSeqID', 'int'),\n",
       " ('DestCityMarketID', 'int'),\n",
       " ('Dest', 'string'),\n",
       " ('DestCityName', 'string'),\n",
       " ('DestState', 'string'),\n",
       " ('DestStateFips', 'int'),\n",
       " ('DestStateName', 'string'),\n",
       " ('DestWac', 'int'),\n",
       " ('CRSDepTime', 'int'),\n",
       " ('DepTime', 'int'),\n",
       " ('DepDelay', 'double'),\n",
       " ('DepDelayMinutes', 'double'),\n",
       " ('DepDel15', 'double'),\n",
       " ('DepartureDelayGroups', 'int'),\n",
       " ('DepTimeBlk', 'string'),\n",
       " ('TaxiOut', 'double'),\n",
       " ('WheelsOff', 'int'),\n",
       " ('WheelsOn', 'int'),\n",
       " ('TaxiIn', 'double'),\n",
       " ('CRSArrTime', 'int'),\n",
       " ('ArrTime', 'int'),\n",
       " ('ArrDelay', 'double'),\n",
       " ('ArrDelayMinutes', 'double'),\n",
       " ('ArrDel15', 'double'),\n",
       " ('ArrivalDelayGroups', 'int'),\n",
       " ('ArrTimeBlk', 'string'),\n",
       " ('Cancelled', 'double'),\n",
       " ('CancellationCode', 'string'),\n",
       " ('Diverted', 'double'),\n",
       " ('CRSElapsedTime', 'double'),\n",
       " ('ActualElapsedTime', 'double'),\n",
       " ('AirTime', 'double'),\n",
       " ('Flights', 'double'),\n",
       " ('Distance', 'double'),\n",
       " ('DistanceGroup', 'int'),\n",
       " ('CarrierDelay', 'double'),\n",
       " ('WeatherDelay', 'double'),\n",
       " ('NASDelay', 'double'),\n",
       " ('SecurityDelay', 'double'),\n",
       " ('LateAircraftDelay', 'double'),\n",
       " ('FirstDepTime', 'int'),\n",
       " ('TotalAddGTime', 'double'),\n",
       " ('LongestAddGTime', 'double'),\n",
       " ('DivAirportLandings', 'int'),\n",
       " ('DivReachedDest', 'double'),\n",
       " ('DivActualElapsedTime', 'double'),\n",
       " ('DivArrDelay', 'double'),\n",
       " ('DivDistance', 'double'),\n",
       " ('Div1Airport', 'string'),\n",
       " ('Div1AirportID', 'int'),\n",
       " ('Div1AirportSeqID', 'int'),\n",
       " ('Div1WheelsOn', 'int'),\n",
       " ('Div1TotalGTime', 'double'),\n",
       " ('Div1LongestGTime', 'double'),\n",
       " ('Div1WheelsOff', 'int'),\n",
       " ('Div1TailNum', 'string'),\n",
       " ('Div2Airport', 'string'),\n",
       " ('Div2AirportID', 'int'),\n",
       " ('Div2AirportSeqID', 'int'),\n",
       " ('Div2WheelsOn', 'int'),\n",
       " ('Div2TotalGTime', 'double'),\n",
       " ('Div2LongestGTime', 'double'),\n",
       " ('Div2WheelsOff', 'int'),\n",
       " ('Div2TailNum', 'string'),\n",
       " ('Div3Airport', 'string'),\n",
       " ('Div3AirportID', 'string'),\n",
       " ('Div3AirportSeqID', 'string'),\n",
       " ('Div3WheelsOn', 'string'),\n",
       " ('Div3TotalGTime', 'string'),\n",
       " ('Div3LongestGTime', 'string'),\n",
       " ('Div3WheelsOff', 'string'),\n",
       " ('Div3TailNum', 'string'),\n",
       " ('Div4Airport', 'string'),\n",
       " ('Div4AirportID', 'string'),\n",
       " ('Div4AirportSeqID', 'string'),\n",
       " ('Div4WheelsOn', 'string'),\n",
       " ('Div4TotalGTime', 'string'),\n",
       " ('Div4LongestGTime', 'string'),\n",
       " ('Div4WheelsOff', 'string'),\n",
       " ('Div4TailNum', 'string'),\n",
       " ('Div5Airport', 'string'),\n",
       " ('Div5AirportID', 'string'),\n",
       " ('Div5AirportSeqID', 'string'),\n",
       " ('Div5WheelsOn', 'string'),\n",
       " ('Div5TotalGTime', 'string'),\n",
       " ('Div5LongestGTime', 'string'),\n",
       " ('Div5WheelsOff', 'string'),\n",
       " ('Div5TailNum', 'string'),\n",
       " ('_c109', 'string')]"
      ]
     },
     "execution_count": 3,
     "metadata": {},
     "output_type": "execute_result"
    }
   ],
   "source": [
    "data.dtypes"
   ]
  },
  {
   "cell_type": "markdown",
   "metadata": {},
   "source": [
    "Seleccionamos las variables de interés:"
   ]
  },
  {
   "cell_type": "code",
   "execution_count": 4,
   "metadata": {},
   "outputs": [],
   "source": [
    "bd = data.select(\"Year\",\"Month\",\"DayofMonth\",\"DayOfWeek\",\"CRSDepTime\",\"UniqueCarrier\",\n",
    "               \"TailNum\", \"ArrDelay\",\"DepDelay\",\"Origin\",\"Dest\",\"Distance\",\"Cancelled\", \"Diverted\",\n",
    "               \"CarrierDelay\",\"WeatherDelay\",\"NASDelay\",\"SecurityDelay\",\"LateAircraftDelay\")"
   ]
  },
  {
   "cell_type": "code",
   "execution_count": 5,
   "metadata": {},
   "outputs": [],
   "source": [
    "# Gestión de datos disponibles\n",
    "\n",
    "#bd\n",
    "#bd.dtypes\n",
    "#bd.columns\n",
    "#bd.head(3)\n",
    "#bd.show(3)\n",
    "#bd.collect()\n",
    "#bd.select(\"ArrDelay\",\"DepDelay\")\n",
    "#bd.select(bd.ArrDelay)\n",
    "#bd.drop(\"Year\",\"Month\")\n",
    "#bd.describe(\"ArrDelay\") \n",
    "#bd.count()\n",
    "#bd.filter(bd.ArrDelay>120)\n",
    "#bd.filter(bd.ArrDelay>120).show()\n",
    "#bd.filter(bd.ArrDelay>120).count()\n",
    "#bd.withColumn(\"RetrasoNeto\", bd.ArrDelay-bd.DepDelay)\n",
    "#bd.withColumn(\"RetrasoNeto\", bd.ArrDelay-bd.DepDelay).describe(\"RetrasoNeto\").show()"
   ]
  },
  {
   "cell_type": "code",
   "execution_count": 6,
   "metadata": {
    "scrolled": true
   },
   "outputs": [
    {
     "name": "stdout",
     "output_type": "stream",
     "text": [
      "Número de filas:  460949\n",
      "Número de filas sin columnas vacías:  103593\n",
      "Vuelos fuera de hora:  452229\n",
      "Vuelos con retraso:  187744\n",
      "Cantidad de destinos:  297\n",
      "Códigos vuelo:  12\n",
      "Descripción de retrasos: \n",
      "+-------+-----------------+\n",
      "|summary|         ArrDelay|\n",
      "+-------+-----------------+\n",
      "|  count|           452229|\n",
      "|   mean|8.664734017499983|\n",
      "| stddev|49.81367422727683|\n",
      "|    min|            -73.0|\n",
      "|    max|           2028.0|\n",
      "+-------+-----------------+\n",
      "\n",
      "Media de tiempo fuera de hora según código: \n",
      "+----+------------------+\n",
      "|Dest|     avg(ArrDelay)|\n",
      "+----+------------------+\n",
      "| BGM| 35.30909090909091|\n",
      "| PSE| 9.337209302325581|\n",
      "| INL| 8.254901960784315|\n",
      "| MSY| 5.031830985915493|\n",
      "| PPG|               4.4|\n",
      "| GEG|13.471534653465346|\n",
      "| SNA|  8.28191027496382|\n",
      "| BUR|11.343975283213183|\n",
      "| GRB|13.459558823529411|\n",
      "| GTF|0.6065573770491803|\n",
      "| IDA|13.757062146892656|\n",
      "| GRR|12.164325842696629|\n",
      "| PSG| 17.96551724137931|\n",
      "| EUG| 17.99245283018868|\n",
      "| PVD| 7.068906115417743|\n",
      "| MYR| 6.552238805970149|\n",
      "| GSO| 5.271317829457364|\n",
      "| OAK|11.638753651411879|\n",
      "| MSN|11.121904761904762|\n",
      "| FAR|23.153846153846153|\n",
      "+----+------------------+\n",
      "only showing top 20 rows\n",
      "\n"
     ]
    }
   ],
   "source": [
    "print(\"Número de filas: \", bd.count())\n",
    "print(\"Número de filas sin columnas vacías: \", bd.dropna().count())\n",
    "print(\"Vuelos fuera de hora: \", bd.select(\"ArrDelay\").dropna().count())\n",
    "print(\"Vuelos con retraso: \", bd.filter(bd.ArrDelay > 0).count())\n",
    "print(\"Cantidad de destinos: \", bd.select(\"Dest\").distinct().count())\n",
    "print(\"Códigos vuelo: \", bd.select(\"UniqueCarrier\").distinct().count())\n",
    "\n",
    "print(\"Descripción de retrasos: \")\n",
    "bd.describe(\"ArrDelay\").show()\n",
    "\n",
    "print(\"Media de tiempo fuera de hora según código: \")\n",
    "bd.select(\"Dest\",\"ArrDelay\").groupBy(\"Dest\").mean().show()\n"
   ]
  },
  {
   "cell_type": "markdown",
   "metadata": {},
   "source": [
    "<div id=\"inspeccionsql\" />\n",
    "\n",
    "### Inspección mediante SQL\n",
    "\n",
    "[Documentación Spark-SQL](https://spark.apache.org/docs/2.1.0/sql-programming-guide.html)\n",
    "\n",
    "Si queremos manipular datos mediante SQL es necesario registrar la base de datos como tabla:"
   ]
  },
  {
   "cell_type": "code",
   "execution_count": 7,
   "metadata": {},
   "outputs": [
    {
     "name": "stdout",
     "output_type": "stream",
     "text": [
      "+----+------+----+\n",
      "|Dest|Origin| num|\n",
      "+----+------+----+\n",
      "| LAX|   SFO|1324|\n",
      "| SFO|   LAX|1285|\n",
      "| JFK|   LAX|1056|\n",
      "| LAX|   JFK|1056|\n",
      "| LAX|   LAS| 998|\n",
      "| LAS|   LAX| 994|\n",
      "| LAX|   SEA| 807|\n",
      "| SEA|   LAX| 806|\n",
      "| ORD|   LGA| 798|\n",
      "| LGA|   ORD| 790|\n",
      "| ORD|   LAX| 778|\n",
      "| MCO|   ATL| 757|\n",
      "| ATL|   MCO| 751|\n",
      "| LAX|   ORD| 742|\n",
      "| OGG|   HNL| 737|\n",
      "| HNL|   OGG| 737|\n",
      "| SEA|   SFO| 729|\n",
      "| ATL|   LGA| 727|\n",
      "| SFO|   SEA| 727|\n",
      "| LGA|   ATL| 726|\n",
      "+----+------+----+\n",
      "only showing top 20 rows\n",
      "\n"
     ]
    }
   ],
   "source": [
    "sqlc.registerDataFrameAsTable(bd, \"bd\")\n",
    "\n",
    "sqlc.sql(\"select Dest, Origin, count(*) as num \\\n",
    "                from bd \\\n",
    "                group by Dest, Origin \\\n",
    "                order by num desc\").show()"
   ]
  },
  {
   "cell_type": "code",
   "execution_count": 8,
   "metadata": {},
   "outputs": [
    {
     "name": "stdout",
     "output_type": "stream",
     "text": [
      "+----+------------------+---+\n",
      "|Dest|      meanArrDelay|num|\n",
      "+----+------------------+---+\n",
      "| BTM| 38.65384615384615| 56|\n",
      "| BGM| 35.30909090909091| 56|\n",
      "| JAC| 33.95637583892618|310|\n",
      "| EGE| 32.86590038314176|268|\n",
      "| TYR| 30.41176470588235| 17|\n",
      "| HDN|             30.36|157|\n",
      "| ITH|29.512820512820515| 85|\n",
      "| SPS|29.029850746268657| 69|\n",
      "| APN|28.695652173913043| 52|\n",
      "| GGG|28.333333333333332| 44|\n",
      "| ASE| 28.30346232179226|566|\n",
      "| SBN| 26.31782945736434|406|\n",
      "| MQT| 26.09433962264151| 56|\n",
      "| ABI| 25.88888888888889| 27|\n",
      "| FWA|25.273809523809526|350|\n",
      "| PLN|            24.625| 80|\n",
      "| SUN|            24.475|132|\n",
      "| CHA|24.445040214477213|386|\n",
      "| LCH|         24.078125|133|\n",
      "| ESC| 23.71153846153846| 53|\n",
      "+----+------------------+---+\n",
      "only showing top 20 rows\n",
      "\n"
     ]
    }
   ],
   "source": [
    "sqlc.sql(\"select Dest, avg(ArrDelay) as meanArrDelay , count(*) as num\\\n",
    "                from bd \\\n",
    "                group by Dest\\\n",
    "                order by meanArrDelay DESC\" ).show()"
   ]
  },
  {
   "cell_type": "markdown",
   "metadata": {},
   "source": [
    "<div id=\"exploratorio\" />\n",
    "\n",
    "## Análisis exploratorio\n",
    "\n",
    "#### Posibles objetivos:\n",
    "\n",
    "* **Predecir  el retraso de los vuelos.**\n",
    "* Analizar factores relacionados con los vuelos causantes de retraso.\n",
    "* Analizar factores relacionados con vuelos con retraso atribuible a la aerolínea.\n",
    "* Classificar Aeropuertos.\n",
    "* Classificar Aerolíneas.\n",
    "\n",
    "#### Exploración de variables *cualitativas*\n",
    "\n",
    "* Número de casos disponibles.\n",
    "* Número de categorías.\n",
    "* Frecuencias relativas.\n",
    "* Frecuencias absolutas.\n",
    "* Frecuencia relativa acumulada.\n",
    "* Frecuencia absoluta acumulada.\n",
    "\n",
    "#### Exploración de variables *cuantitativas*\n",
    "\n",
    "* Número de casos disponibles\n",
    "* Medidas de localización\n",
    "  * Media: centro de masas\n",
    "  * Mediana: punto medio (50% de la muestra)\n",
    "* Medidas de dispersión  \n",
    "  * Varianza / desviación estándar\n",
    "  * Cuartiles Q3 y Q1 (25% y 75% de la muestra)\n",
    "  * Rango Intercuartílico: IQR = Q3 – Q1\n",
    "  * Rango = max – min\n",
    "* Valores extremos\n",
    "  * Máximo y Mínimo;  Top y Bottom\n",
    "  * Percentiles (1%, 99%)\n",
    "  * Porcentaje de casos \"por encima/debajo de\"."
   ]
  },
  {
   "cell_type": "code",
   "execution_count": 9,
   "metadata": {},
   "outputs": [],
   "source": [
    "#bd2 = bd.filter(bd.Origin.isin(\"ATL\",\"ORD\",\"DEN\",\"LAX\",\"DFW\",\"SFO\",\"PHX\",\"LAS\") & bd.Dest.isin(\"ATL\",\"ORD\",\"DEN\",\"LAX\",\"DFW\",\"SFO\",\"PHX\",\"LAS\"))\n",
    "\n",
    "bd2 = sqlc.sql(\"select * from bd \\\n",
    "            where Origin in (\"ATL\",\"ORD\",\"DEN\",\"LAX\",\"DFW\",\"SFO\",\"PHX\",\"LAS\") \\\n",
    "            and Dest in (\"ATL\",\"ORD\",\"DEN\",\"LAX\",\"DFW\",\"SFO\",\"PHX\",\"LAS\")\")\n",
    "\n",
    "sqlc.registerDataFrameAsTable(bd2, \"bd2\")"
   ]
  },
  {
   "cell_type": "code",
   "execution_count": 10,
   "metadata": {},
   "outputs": [
    {
     "name": "stdout",
     "output_type": "stream",
     "text": [
      "+-------+--------------------+-----+------------------+------------------+------------------+-------------+-------+------------------+-----------------+------+-----+-----------------+--------------------+--------------------+-----------------+-----------------+------------------+--------------------+------------------+\n",
      "|summary|                Year|Month|        DayofMonth|         DayOfWeek|        CRSDepTime|UniqueCarrier|TailNum|          ArrDelay|         DepDelay|Origin| Dest|         Distance|           Cancelled|            Diverted|     CarrierDelay|     WeatherDelay|          NASDelay|       SecurityDelay| LateAircraftDelay|\n",
      "+-------+--------------------+-----+------------------+------------------+------------------+-------------+-------+------------------+-----------------+------+-----+-----------------+--------------------+--------------------+-----------------+-----------------+------------------+--------------------+------------------+\n",
      "|  count|               30965|30965|             30965|             30965|             30965|        30965|  30820|             30466|            30501| 30965|30965|            30965|               30965|               30965|             8401|             8401|              8401|                8401|              8401|\n",
      "|   mean|              2016.0| 12.0|15.943484579363798| 4.008719522041014|1336.3809785241401|         null|   null|13.300695857677411|17.28562997934494|  null| null|932.5556596156952|0.015533667043436138|5.813014694009365E-4|17.54874419711939|2.977978812046185|18.532674681585526|0.034638733484109036| 28.28437090822521|\n",
      "| stddev|1.779074192836568...|  0.0| 8.876012086360857|1.9259616915158777| 507.6969342028552|         null|   null| 53.50946738163754|49.93901250742798|  null| null|547.1294895897895| 0.12366432835495902|0.024103574850036478|52.57423582449787|19.76365388812381|33.109337772209734|  0.8447964060560703|52.012955846985896|\n",
      "|    min|                2016|   12|                 1|                 1|                 5|           AA| N001AA|             -53.0|            -21.0|   ATL|  ATL|            236.0|                 0.0|                 0.0|              0.0|              0.0|               0.0|                 0.0|               0.0|\n",
      "|    max|                2016|   12|                31|                 7|              2359|           WN| N999DN|            2028.0|           2040.0|   SFO|  SFO|           2139.0|                 1.0|                 1.0|           1276.0|            866.0|             407.0|                33.0|             806.0|\n",
      "+-------+--------------------+-----+------------------+------------------+------------------+-------------+-------+------------------+-----------------+------+-----+-----------------+--------------------+--------------------+-----------------+-----------------+------------------+--------------------+------------------+\n",
      "\n"
     ]
    }
   ],
   "source": [
    "bd2.describe().show()"
   ]
  },
  {
   "cell_type": "markdown",
   "metadata": {},
   "source": [
    "Exportamos la tabla a **pandas** para mejorar la visualización:"
   ]
  },
  {
   "cell_type": "code",
   "execution_count": 11,
   "metadata": {},
   "outputs": [
    {
     "data": {
      "text/html": [
       "<div>\n",
       "<style scoped>\n",
       "    .dataframe tbody tr th:only-of-type {\n",
       "        vertical-align: middle;\n",
       "    }\n",
       "\n",
       "    .dataframe tbody tr th {\n",
       "        vertical-align: top;\n",
       "    }\n",
       "\n",
       "    .dataframe thead th {\n",
       "        text-align: right;\n",
       "    }\n",
       "</style>\n",
       "<table border=\"1\" class=\"dataframe\">\n",
       "  <thead>\n",
       "    <tr style=\"text-align: right;\">\n",
       "      <th>summary</th>\n",
       "      <th>count</th>\n",
       "      <th>mean</th>\n",
       "      <th>stddev</th>\n",
       "      <th>min</th>\n",
       "      <th>max</th>\n",
       "    </tr>\n",
       "  </thead>\n",
       "  <tbody>\n",
       "    <tr>\n",
       "      <th>Year</th>\n",
       "      <td>30965</td>\n",
       "      <td>2016.0</td>\n",
       "      <td>1.779074192836568E-13</td>\n",
       "      <td>2016</td>\n",
       "      <td>2016</td>\n",
       "    </tr>\n",
       "    <tr>\n",
       "      <th>Month</th>\n",
       "      <td>30965</td>\n",
       "      <td>12.0</td>\n",
       "      <td>0.0</td>\n",
       "      <td>12</td>\n",
       "      <td>12</td>\n",
       "    </tr>\n",
       "    <tr>\n",
       "      <th>DayofMonth</th>\n",
       "      <td>30965</td>\n",
       "      <td>15.943484579363798</td>\n",
       "      <td>8.876012086360857</td>\n",
       "      <td>1</td>\n",
       "      <td>31</td>\n",
       "    </tr>\n",
       "    <tr>\n",
       "      <th>DayOfWeek</th>\n",
       "      <td>30965</td>\n",
       "      <td>4.008719522041014</td>\n",
       "      <td>1.9259616915158777</td>\n",
       "      <td>1</td>\n",
       "      <td>7</td>\n",
       "    </tr>\n",
       "    <tr>\n",
       "      <th>CRSDepTime</th>\n",
       "      <td>30965</td>\n",
       "      <td>1336.3809785241401</td>\n",
       "      <td>507.6969342028552</td>\n",
       "      <td>5</td>\n",
       "      <td>2359</td>\n",
       "    </tr>\n",
       "    <tr>\n",
       "      <th>UniqueCarrier</th>\n",
       "      <td>30965</td>\n",
       "      <td>None</td>\n",
       "      <td>None</td>\n",
       "      <td>AA</td>\n",
       "      <td>WN</td>\n",
       "    </tr>\n",
       "    <tr>\n",
       "      <th>TailNum</th>\n",
       "      <td>30820</td>\n",
       "      <td>None</td>\n",
       "      <td>None</td>\n",
       "      <td>N001AA</td>\n",
       "      <td>N999DN</td>\n",
       "    </tr>\n",
       "    <tr>\n",
       "      <th>ArrDelay</th>\n",
       "      <td>30466</td>\n",
       "      <td>13.300695857677411</td>\n",
       "      <td>53.50946738163754</td>\n",
       "      <td>-53.0</td>\n",
       "      <td>2028.0</td>\n",
       "    </tr>\n",
       "    <tr>\n",
       "      <th>DepDelay</th>\n",
       "      <td>30501</td>\n",
       "      <td>17.28562997934494</td>\n",
       "      <td>49.93901250742798</td>\n",
       "      <td>-21.0</td>\n",
       "      <td>2040.0</td>\n",
       "    </tr>\n",
       "    <tr>\n",
       "      <th>Origin</th>\n",
       "      <td>30965</td>\n",
       "      <td>None</td>\n",
       "      <td>None</td>\n",
       "      <td>ATL</td>\n",
       "      <td>SFO</td>\n",
       "    </tr>\n",
       "    <tr>\n",
       "      <th>Dest</th>\n",
       "      <td>30965</td>\n",
       "      <td>None</td>\n",
       "      <td>None</td>\n",
       "      <td>ATL</td>\n",
       "      <td>SFO</td>\n",
       "    </tr>\n",
       "    <tr>\n",
       "      <th>Distance</th>\n",
       "      <td>30965</td>\n",
       "      <td>932.5556596156952</td>\n",
       "      <td>547.1294895897895</td>\n",
       "      <td>236.0</td>\n",
       "      <td>2139.0</td>\n",
       "    </tr>\n",
       "    <tr>\n",
       "      <th>Cancelled</th>\n",
       "      <td>30965</td>\n",
       "      <td>0.015533667043436138</td>\n",
       "      <td>0.12366432835495902</td>\n",
       "      <td>0.0</td>\n",
       "      <td>1.0</td>\n",
       "    </tr>\n",
       "    <tr>\n",
       "      <th>Diverted</th>\n",
       "      <td>30965</td>\n",
       "      <td>5.813014694009365E-4</td>\n",
       "      <td>0.024103574850036478</td>\n",
       "      <td>0.0</td>\n",
       "      <td>1.0</td>\n",
       "    </tr>\n",
       "    <tr>\n",
       "      <th>CarrierDelay</th>\n",
       "      <td>8401</td>\n",
       "      <td>17.54874419711939</td>\n",
       "      <td>52.57423582449787</td>\n",
       "      <td>0.0</td>\n",
       "      <td>1276.0</td>\n",
       "    </tr>\n",
       "    <tr>\n",
       "      <th>WeatherDelay</th>\n",
       "      <td>8401</td>\n",
       "      <td>2.977978812046185</td>\n",
       "      <td>19.76365388812381</td>\n",
       "      <td>0.0</td>\n",
       "      <td>866.0</td>\n",
       "    </tr>\n",
       "    <tr>\n",
       "      <th>NASDelay</th>\n",
       "      <td>8401</td>\n",
       "      <td>18.532674681585526</td>\n",
       "      <td>33.109337772209734</td>\n",
       "      <td>0.0</td>\n",
       "      <td>407.0</td>\n",
       "    </tr>\n",
       "    <tr>\n",
       "      <th>SecurityDelay</th>\n",
       "      <td>8401</td>\n",
       "      <td>0.034638733484109036</td>\n",
       "      <td>0.8447964060560703</td>\n",
       "      <td>0.0</td>\n",
       "      <td>33.0</td>\n",
       "    </tr>\n",
       "    <tr>\n",
       "      <th>LateAircraftDelay</th>\n",
       "      <td>8401</td>\n",
       "      <td>28.28437090822521</td>\n",
       "      <td>52.012955846985896</td>\n",
       "      <td>0.0</td>\n",
       "      <td>806.0</td>\n",
       "    </tr>\n",
       "  </tbody>\n",
       "</table>\n",
       "</div>"
      ],
      "text/plain": [
       "summary            count                  mean                 stddev     min  \\\n",
       "Year               30965                2016.0  1.779074192836568E-13    2016   \n",
       "Month              30965                  12.0                    0.0      12   \n",
       "DayofMonth         30965    15.943484579363798      8.876012086360857       1   \n",
       "DayOfWeek          30965     4.008719522041014     1.9259616915158777       1   \n",
       "CRSDepTime         30965    1336.3809785241401      507.6969342028552       5   \n",
       "UniqueCarrier      30965                  None                   None      AA   \n",
       "TailNum            30820                  None                   None  N001AA   \n",
       "ArrDelay           30466    13.300695857677411      53.50946738163754   -53.0   \n",
       "DepDelay           30501     17.28562997934494      49.93901250742798   -21.0   \n",
       "Origin             30965                  None                   None     ATL   \n",
       "Dest               30965                  None                   None     ATL   \n",
       "Distance           30965     932.5556596156952      547.1294895897895   236.0   \n",
       "Cancelled          30965  0.015533667043436138    0.12366432835495902     0.0   \n",
       "Diverted           30965  5.813014694009365E-4   0.024103574850036478     0.0   \n",
       "CarrierDelay        8401     17.54874419711939      52.57423582449787     0.0   \n",
       "WeatherDelay        8401     2.977978812046185      19.76365388812381     0.0   \n",
       "NASDelay            8401    18.532674681585526     33.109337772209734     0.0   \n",
       "SecurityDelay       8401  0.034638733484109036     0.8447964060560703     0.0   \n",
       "LateAircraftDelay   8401     28.28437090822521     52.012955846985896     0.0   \n",
       "\n",
       "summary               max  \n",
       "Year                 2016  \n",
       "Month                  12  \n",
       "DayofMonth             31  \n",
       "DayOfWeek               7  \n",
       "CRSDepTime           2359  \n",
       "UniqueCarrier          WN  \n",
       "TailNum            N999DN  \n",
       "ArrDelay           2028.0  \n",
       "DepDelay           2040.0  \n",
       "Origin                SFO  \n",
       "Dest                  SFO  \n",
       "Distance           2139.0  \n",
       "Cancelled             1.0  \n",
       "Diverted              1.0  \n",
       "CarrierDelay       1276.0  \n",
       "WeatherDelay        866.0  \n",
       "NASDelay            407.0  \n",
       "SecurityDelay        33.0  \n",
       "LateAircraftDelay   806.0  "
      ]
     },
     "execution_count": 11,
     "metadata": {},
     "output_type": "execute_result"
    }
   ],
   "source": [
    "bd2.describe().toPandas().set_index(\"summary\").transpose()"
   ]
  },
  {
   "cell_type": "code",
   "execution_count": 12,
   "metadata": {},
   "outputs": [
    {
     "name": "stdout",
     "output_type": "stream",
     "text": [
      "+-------+------------------+\n",
      "|summary|          ArrDelay|\n",
      "+-------+------------------+\n",
      "|  count|             30466|\n",
      "|   mean|13.300695857677411|\n",
      "| stddev| 53.50946738163754|\n",
      "|    min|             -53.0|\n",
      "|    max|            2028.0|\n",
      "+-------+------------------+\n",
      "\n"
     ]
    }
   ],
   "source": [
    "bd2.describe(\"ArrDelay\").show()"
   ]
  },
  {
   "cell_type": "code",
   "execution_count": 13,
   "metadata": {},
   "outputs": [
    {
     "name": "stdout",
     "output_type": "stream",
     "text": [
      "+-----+------+\n",
      "|  min|   max|\n",
      "+-----+------+\n",
      "|-53.0|2028.0|\n",
      "+-----+------+\n",
      "\n"
     ]
    }
   ],
   "source": [
    "sqlc.sql(\"select min(ArrDelay) as min, \\\n",
    "                max(ArrDelay) as max from bd2\" ).show()"
   ]
  },
  {
   "cell_type": "code",
   "execution_count": 14,
   "metadata": {},
   "outputs": [
    {
     "name": "stdout",
     "output_type": "stream",
     "text": [
      "+--------+\n",
      "|ArrDelay|\n",
      "+--------+\n",
      "|  2028.0|\n",
      "|  1505.0|\n",
      "|  1006.0|\n",
      "|   996.0|\n",
      "|   951.0|\n",
      "|   920.0|\n",
      "|   920.0|\n",
      "|   873.0|\n",
      "|   872.0|\n",
      "|   868.0|\n",
      "+--------+\n",
      "only showing top 10 rows\n",
      "\n"
     ]
    }
   ],
   "source": [
    "bd2.select(\"ArrDelay\").orderBy(\"ArrDelay\", ascending=False).show(10)"
   ]
  },
  {
   "cell_type": "code",
   "execution_count": 15,
   "metadata": {},
   "outputs": [
    {
     "data": {
      "text/plain": [
       "Row(ArrDelay=103.0)"
      ]
     },
     "execution_count": 15,
     "metadata": {},
     "output_type": "execute_result"
    }
   ],
   "source": [
    "n = bd2.select(\"ArrDelay\").count()\n",
    "P95 = int(n*0.95)\n",
    "bd2.select(\"ArrDelay\").sort(\"ArrDelay\").collect()[P95]"
   ]
  },
  {
   "cell_type": "code",
   "execution_count": 16,
   "metadata": {},
   "outputs": [
    {
     "name": "stdout",
     "output_type": "stream",
     "text": [
      "+----+----+-------+\n",
      "|Dest| num|percent|\n",
      "+----+----+-------+\n",
      "| LAS|3726|  12.03|\n",
      "| DEN|3967|  12.81|\n",
      "| PHX|3302|  10.66|\n",
      "| DFW|3275|  10.58|\n",
      "| SFO|4430|  14.31|\n",
      "| ATL|3094|   9.99|\n",
      "| ORD|3829|  12.37|\n",
      "| LAX|5342|  17.25|\n",
      "+----+----+-------+\n",
      "\n"
     ]
    }
   ],
   "source": [
    "#bd2.groupBy(\"Dest\").count().show()\n",
    "sqlc.sql(\"select Dest, count(*) as num, round(100*count(*)/30965, 2) as percent \\\n",
    "                from bd2 \\\n",
    "                group by Dest\").show()"
   ]
  },
  {
   "cell_type": "markdown",
   "metadata": {},
   "source": [
    "Variable *Distance* en función de los diferentes aeropuertos:"
   ]
  },
  {
   "cell_type": "code",
   "execution_count": 17,
   "metadata": {},
   "outputs": [
    {
     "name": "stdout",
     "output_type": "stream",
     "text": [
      "+------+----+-------------+\n",
      "|Origin|Dest|avg(Distance)|\n",
      "+------+----+-------------+\n",
      "|   LAS| ORD|       1514.0|\n",
      "|   PHX| DFW|        868.0|\n",
      "|   LAX| DFW|       1235.0|\n",
      "|   PHX| ATL|       1587.0|\n",
      "|   ATL| ORD|        606.0|\n",
      "|   DFW| ORD|        802.0|\n",
      "|   DEN| SFO|        967.0|\n",
      "|   DFW| DEN|        641.0|\n",
      "|   PHX| ORD|       1440.0|\n",
      "|   SFO| ORD|       1846.0|\n",
      "|   ATL| DEN|       1199.0|\n",
      "|   SFO| DFW|       1464.0|\n",
      "|   DEN| LAS|        628.0|\n",
      "|   ATL| SFO|       2139.0|\n",
      "|   ORD| DEN|        888.0|\n",
      "|   ATL| LAS|       1747.0|\n",
      "|   LAS| PHX|        255.0|\n",
      "|   ATL| PHX|       1587.0|\n",
      "|   SFO| DEN|        967.0|\n",
      "|   PHX| LAS|        255.0|\n",
      "+------+----+-------------+\n",
      "only showing top 20 rows\n",
      "\n"
     ]
    }
   ],
   "source": [
    "bd2.select(\"Origin\", \"Dest\", \"Distance\").groupBy(\"Origin\", \"Dest\").mean().show()"
   ]
  },
  {
   "cell_type": "code",
   "execution_count": 18,
   "metadata": {},
   "outputs": [
    {
     "name": "stdout",
     "output_type": "stream",
     "text": [
      "+------+----+---+------+------+------+---+--------------------+\n",
      "|Origin|Dest|num|  mean|   min|   max|dif|               stdev|\n",
      "+------+----+---+------+------+------+---+--------------------+\n",
      "|   LAS| ORD|302|1514.0|1514.0|1514.0|0.0|                 0.0|\n",
      "|   PHX| DFW|380| 868.0| 868.0| 868.0|0.0|3.274622918160421...|\n",
      "|   LAX| DFW|531|1235.0|1235.0|1235.0|0.0|                 0.0|\n",
      "|   PHX| ATL|312|1587.0|1587.0|1587.0|0.0|                 0.0|\n",
      "|   ATL| ORD|530| 606.0| 606.0| 606.0|0.0|                 0.0|\n",
      "|   DFW| ORD|578| 802.0| 802.0| 802.0|0.0|                 0.0|\n",
      "|   DEN| SFO|674| 967.0| 967.0| 967.0|0.0|                 0.0|\n",
      "|   DFW| DEN|423| 641.0| 641.0| 641.0|0.0|7.761114762939483...|\n",
      "|   PHX| ORD|439|1440.0|1440.0|1440.0|0.0|                 0.0|\n",
      "|   SFO| ORD|667|1846.0|1846.0|1846.0|0.0|                 0.0|\n",
      "|   ATL| DEN|486|1199.0|1199.0|1199.0|0.0|                 0.0|\n",
      "|   SFO| DFW|403|1464.0|1464.0|1464.0|0.0|                 0.0|\n",
      "|   DEN| LAS|559| 628.0| 628.0| 628.0|0.0|                 0.0|\n",
      "|   ATL| SFO|278|2139.0|2139.0|2139.0|0.0|                 0.0|\n",
      "|   ORD| DEN|566| 888.0| 888.0| 888.0|0.0|                 0.0|\n",
      "|   ATL| LAS|368|1747.0|1747.0|1747.0|0.0|                 0.0|\n",
      "|   LAS| PHX|451| 255.0| 255.0| 255.0|0.0|                 0.0|\n",
      "|   ATL| PHX|311|1587.0|1587.0|1587.0|0.0|                 0.0|\n",
      "|   SFO| DEN|670| 967.0| 967.0| 967.0|0.0|                 0.0|\n",
      "|   PHX| LAS|457| 255.0| 255.0| 255.0|0.0|                 0.0|\n",
      "+------+----+---+------+------+------+---+--------------------+\n",
      "only showing top 20 rows\n",
      "\n"
     ]
    }
   ],
   "source": [
    "sqlc.sql(\"select Origin, Dest, count(*) as num, mean(Distance) as mean, \\\n",
    "                min(Distance) as min , max(Distance) as max,  \\\n",
    "                max(Distance) - min(Distance) as dif, \\\n",
    "                stddev(Distance) as stdev \\\n",
    "                from bd2 \\\n",
    "                group by Origin, Dest\" ).show()"
   ]
  },
  {
   "cell_type": "code",
   "execution_count": 19,
   "metadata": {},
   "outputs": [
    {
     "data": {
      "text/html": [
       "<div>\n",
       "<style scoped>\n",
       "    .dataframe tbody tr th:only-of-type {\n",
       "        vertical-align: middle;\n",
       "    }\n",
       "\n",
       "    .dataframe tbody tr th {\n",
       "        vertical-align: top;\n",
       "    }\n",
       "\n",
       "    .dataframe thead th {\n",
       "        text-align: right;\n",
       "    }\n",
       "</style>\n",
       "<table border=\"1\" class=\"dataframe\">\n",
       "  <thead>\n",
       "    <tr style=\"text-align: right;\">\n",
       "      <th></th>\n",
       "      <th>Origin</th>\n",
       "      <th>Dest</th>\n",
       "      <th>num</th>\n",
       "      <th>mean</th>\n",
       "      <th>min</th>\n",
       "      <th>max</th>\n",
       "      <th>dif</th>\n",
       "      <th>stdev</th>\n",
       "    </tr>\n",
       "  </thead>\n",
       "  <tbody>\n",
       "    <tr>\n",
       "      <th>0</th>\n",
       "      <td>LAS</td>\n",
       "      <td>ORD</td>\n",
       "      <td>302</td>\n",
       "      <td>1514.0</td>\n",
       "      <td>1514.0</td>\n",
       "      <td>1514.0</td>\n",
       "      <td>0.0</td>\n",
       "      <td>0.000000e+00</td>\n",
       "    </tr>\n",
       "    <tr>\n",
       "      <th>1</th>\n",
       "      <td>PHX</td>\n",
       "      <td>DFW</td>\n",
       "      <td>380</td>\n",
       "      <td>868.0</td>\n",
       "      <td>868.0</td>\n",
       "      <td>868.0</td>\n",
       "      <td>0.0</td>\n",
       "      <td>3.274623e-14</td>\n",
       "    </tr>\n",
       "    <tr>\n",
       "      <th>2</th>\n",
       "      <td>LAX</td>\n",
       "      <td>DFW</td>\n",
       "      <td>531</td>\n",
       "      <td>1235.0</td>\n",
       "      <td>1235.0</td>\n",
       "      <td>1235.0</td>\n",
       "      <td>0.0</td>\n",
       "      <td>0.000000e+00</td>\n",
       "    </tr>\n",
       "    <tr>\n",
       "      <th>3</th>\n",
       "      <td>PHX</td>\n",
       "      <td>ATL</td>\n",
       "      <td>312</td>\n",
       "      <td>1587.0</td>\n",
       "      <td>1587.0</td>\n",
       "      <td>1587.0</td>\n",
       "      <td>0.0</td>\n",
       "      <td>0.000000e+00</td>\n",
       "    </tr>\n",
       "    <tr>\n",
       "      <th>4</th>\n",
       "      <td>ATL</td>\n",
       "      <td>ORD</td>\n",
       "      <td>530</td>\n",
       "      <td>606.0</td>\n",
       "      <td>606.0</td>\n",
       "      <td>606.0</td>\n",
       "      <td>0.0</td>\n",
       "      <td>0.000000e+00</td>\n",
       "    </tr>\n",
       "    <tr>\n",
       "      <th>5</th>\n",
       "      <td>DFW</td>\n",
       "      <td>ORD</td>\n",
       "      <td>578</td>\n",
       "      <td>802.0</td>\n",
       "      <td>802.0</td>\n",
       "      <td>802.0</td>\n",
       "      <td>0.0</td>\n",
       "      <td>0.000000e+00</td>\n",
       "    </tr>\n",
       "    <tr>\n",
       "      <th>6</th>\n",
       "      <td>DEN</td>\n",
       "      <td>SFO</td>\n",
       "      <td>674</td>\n",
       "      <td>967.0</td>\n",
       "      <td>967.0</td>\n",
       "      <td>967.0</td>\n",
       "      <td>0.0</td>\n",
       "      <td>0.000000e+00</td>\n",
       "    </tr>\n",
       "    <tr>\n",
       "      <th>7</th>\n",
       "      <td>DFW</td>\n",
       "      <td>DEN</td>\n",
       "      <td>423</td>\n",
       "      <td>641.0</td>\n",
       "      <td>641.0</td>\n",
       "      <td>641.0</td>\n",
       "      <td>0.0</td>\n",
       "      <td>7.761115e-14</td>\n",
       "    </tr>\n",
       "    <tr>\n",
       "      <th>8</th>\n",
       "      <td>PHX</td>\n",
       "      <td>ORD</td>\n",
       "      <td>439</td>\n",
       "      <td>1440.0</td>\n",
       "      <td>1440.0</td>\n",
       "      <td>1440.0</td>\n",
       "      <td>0.0</td>\n",
       "      <td>0.000000e+00</td>\n",
       "    </tr>\n",
       "    <tr>\n",
       "      <th>9</th>\n",
       "      <td>SFO</td>\n",
       "      <td>ORD</td>\n",
       "      <td>667</td>\n",
       "      <td>1846.0</td>\n",
       "      <td>1846.0</td>\n",
       "      <td>1846.0</td>\n",
       "      <td>0.0</td>\n",
       "      <td>0.000000e+00</td>\n",
       "    </tr>\n",
       "    <tr>\n",
       "      <th>10</th>\n",
       "      <td>ATL</td>\n",
       "      <td>DEN</td>\n",
       "      <td>486</td>\n",
       "      <td>1199.0</td>\n",
       "      <td>1199.0</td>\n",
       "      <td>1199.0</td>\n",
       "      <td>0.0</td>\n",
       "      <td>0.000000e+00</td>\n",
       "    </tr>\n",
       "    <tr>\n",
       "      <th>11</th>\n",
       "      <td>SFO</td>\n",
       "      <td>DFW</td>\n",
       "      <td>403</td>\n",
       "      <td>1464.0</td>\n",
       "      <td>1464.0</td>\n",
       "      <td>1464.0</td>\n",
       "      <td>0.0</td>\n",
       "      <td>0.000000e+00</td>\n",
       "    </tr>\n",
       "    <tr>\n",
       "      <th>12</th>\n",
       "      <td>DEN</td>\n",
       "      <td>LAS</td>\n",
       "      <td>559</td>\n",
       "      <td>628.0</td>\n",
       "      <td>628.0</td>\n",
       "      <td>628.0</td>\n",
       "      <td>0.0</td>\n",
       "      <td>0.000000e+00</td>\n",
       "    </tr>\n",
       "    <tr>\n",
       "      <th>13</th>\n",
       "      <td>ATL</td>\n",
       "      <td>SFO</td>\n",
       "      <td>278</td>\n",
       "      <td>2139.0</td>\n",
       "      <td>2139.0</td>\n",
       "      <td>2139.0</td>\n",
       "      <td>0.0</td>\n",
       "      <td>0.000000e+00</td>\n",
       "    </tr>\n",
       "    <tr>\n",
       "      <th>14</th>\n",
       "      <td>ORD</td>\n",
       "      <td>DEN</td>\n",
       "      <td>566</td>\n",
       "      <td>888.0</td>\n",
       "      <td>888.0</td>\n",
       "      <td>888.0</td>\n",
       "      <td>0.0</td>\n",
       "      <td>0.000000e+00</td>\n",
       "    </tr>\n",
       "    <tr>\n",
       "      <th>15</th>\n",
       "      <td>ATL</td>\n",
       "      <td>LAS</td>\n",
       "      <td>368</td>\n",
       "      <td>1747.0</td>\n",
       "      <td>1747.0</td>\n",
       "      <td>1747.0</td>\n",
       "      <td>0.0</td>\n",
       "      <td>0.000000e+00</td>\n",
       "    </tr>\n",
       "    <tr>\n",
       "      <th>16</th>\n",
       "      <td>LAS</td>\n",
       "      <td>PHX</td>\n",
       "      <td>451</td>\n",
       "      <td>255.0</td>\n",
       "      <td>255.0</td>\n",
       "      <td>255.0</td>\n",
       "      <td>0.0</td>\n",
       "      <td>0.000000e+00</td>\n",
       "    </tr>\n",
       "    <tr>\n",
       "      <th>17</th>\n",
       "      <td>ATL</td>\n",
       "      <td>PHX</td>\n",
       "      <td>311</td>\n",
       "      <td>1587.0</td>\n",
       "      <td>1587.0</td>\n",
       "      <td>1587.0</td>\n",
       "      <td>0.0</td>\n",
       "      <td>0.000000e+00</td>\n",
       "    </tr>\n",
       "    <tr>\n",
       "      <th>18</th>\n",
       "      <td>SFO</td>\n",
       "      <td>DEN</td>\n",
       "      <td>670</td>\n",
       "      <td>967.0</td>\n",
       "      <td>967.0</td>\n",
       "      <td>967.0</td>\n",
       "      <td>0.0</td>\n",
       "      <td>0.000000e+00</td>\n",
       "    </tr>\n",
       "    <tr>\n",
       "      <th>19</th>\n",
       "      <td>PHX</td>\n",
       "      <td>LAS</td>\n",
       "      <td>457</td>\n",
       "      <td>255.0</td>\n",
       "      <td>255.0</td>\n",
       "      <td>255.0</td>\n",
       "      <td>0.0</td>\n",
       "      <td>0.000000e+00</td>\n",
       "    </tr>\n",
       "    <tr>\n",
       "      <th>20</th>\n",
       "      <td>ORD</td>\n",
       "      <td>ATL</td>\n",
       "      <td>541</td>\n",
       "      <td>606.0</td>\n",
       "      <td>606.0</td>\n",
       "      <td>606.0</td>\n",
       "      <td>0.0</td>\n",
       "      <td>0.000000e+00</td>\n",
       "    </tr>\n",
       "    <tr>\n",
       "      <th>21</th>\n",
       "      <td>LAX</td>\n",
       "      <td>PHX</td>\n",
       "      <td>605</td>\n",
       "      <td>370.0</td>\n",
       "      <td>370.0</td>\n",
       "      <td>370.0</td>\n",
       "      <td>0.0</td>\n",
       "      <td>0.000000e+00</td>\n",
       "    </tr>\n",
       "    <tr>\n",
       "      <th>22</th>\n",
       "      <td>LAS</td>\n",
       "      <td>DEN</td>\n",
       "      <td>560</td>\n",
       "      <td>628.0</td>\n",
       "      <td>628.0</td>\n",
       "      <td>628.0</td>\n",
       "      <td>0.0</td>\n",
       "      <td>0.000000e+00</td>\n",
       "    </tr>\n",
       "    <tr>\n",
       "      <th>23</th>\n",
       "      <td>SFO</td>\n",
       "      <td>LAS</td>\n",
       "      <td>689</td>\n",
       "      <td>414.0</td>\n",
       "      <td>414.0</td>\n",
       "      <td>414.0</td>\n",
       "      <td>0.0</td>\n",
       "      <td>1.633325e-14</td>\n",
       "    </tr>\n",
       "    <tr>\n",
       "      <th>24</th>\n",
       "      <td>DEN</td>\n",
       "      <td>LAX</td>\n",
       "      <td>609</td>\n",
       "      <td>862.0</td>\n",
       "      <td>862.0</td>\n",
       "      <td>862.0</td>\n",
       "      <td>0.0</td>\n",
       "      <td>0.000000e+00</td>\n",
       "    </tr>\n",
       "    <tr>\n",
       "      <th>25</th>\n",
       "      <td>SFO</td>\n",
       "      <td>ATL</td>\n",
       "      <td>280</td>\n",
       "      <td>2139.0</td>\n",
       "      <td>2139.0</td>\n",
       "      <td>2139.0</td>\n",
       "      <td>0.0</td>\n",
       "      <td>0.000000e+00</td>\n",
       "    </tr>\n",
       "    <tr>\n",
       "      <th>26</th>\n",
       "      <td>ORD</td>\n",
       "      <td>DFW</td>\n",
       "      <td>564</td>\n",
       "      <td>802.0</td>\n",
       "      <td>802.0</td>\n",
       "      <td>802.0</td>\n",
       "      <td>0.0</td>\n",
       "      <td>0.000000e+00</td>\n",
       "    </tr>\n",
       "    <tr>\n",
       "      <th>27</th>\n",
       "      <td>DFW</td>\n",
       "      <td>ATL</td>\n",
       "      <td>585</td>\n",
       "      <td>731.0</td>\n",
       "      <td>731.0</td>\n",
       "      <td>731.0</td>\n",
       "      <td>0.0</td>\n",
       "      <td>0.000000e+00</td>\n",
       "    </tr>\n",
       "    <tr>\n",
       "      <th>28</th>\n",
       "      <td>DFW</td>\n",
       "      <td>PHX</td>\n",
       "      <td>385</td>\n",
       "      <td>868.0</td>\n",
       "      <td>868.0</td>\n",
       "      <td>868.0</td>\n",
       "      <td>0.0</td>\n",
       "      <td>0.000000e+00</td>\n",
       "    </tr>\n",
       "    <tr>\n",
       "      <th>29</th>\n",
       "      <td>DEN</td>\n",
       "      <td>ORD</td>\n",
       "      <td>535</td>\n",
       "      <td>888.0</td>\n",
       "      <td>888.0</td>\n",
       "      <td>888.0</td>\n",
       "      <td>0.0</td>\n",
       "      <td>2.738839e-14</td>\n",
       "    </tr>\n",
       "    <tr>\n",
       "      <th>30</th>\n",
       "      <td>LAX</td>\n",
       "      <td>DEN</td>\n",
       "      <td>578</td>\n",
       "      <td>862.0</td>\n",
       "      <td>862.0</td>\n",
       "      <td>862.0</td>\n",
       "      <td>0.0</td>\n",
       "      <td>0.000000e+00</td>\n",
       "    </tr>\n",
       "    <tr>\n",
       "      <th>31</th>\n",
       "      <td>LAX</td>\n",
       "      <td>SFO</td>\n",
       "      <td>1285</td>\n",
       "      <td>337.0</td>\n",
       "      <td>337.0</td>\n",
       "      <td>337.0</td>\n",
       "      <td>0.0</td>\n",
       "      <td>0.000000e+00</td>\n",
       "    </tr>\n",
       "    <tr>\n",
       "      <th>32</th>\n",
       "      <td>LAS</td>\n",
       "      <td>ATL</td>\n",
       "      <td>366</td>\n",
       "      <td>1747.0</td>\n",
       "      <td>1747.0</td>\n",
       "      <td>1747.0</td>\n",
       "      <td>0.0</td>\n",
       "      <td>0.000000e+00</td>\n",
       "    </tr>\n",
       "    <tr>\n",
       "      <th>33</th>\n",
       "      <td>LAS</td>\n",
       "      <td>DFW</td>\n",
       "      <td>359</td>\n",
       "      <td>1055.0</td>\n",
       "      <td>1055.0</td>\n",
       "      <td>1055.0</td>\n",
       "      <td>0.0</td>\n",
       "      <td>0.000000e+00</td>\n",
       "    </tr>\n",
       "    <tr>\n",
       "      <th>34</th>\n",
       "      <td>DFW</td>\n",
       "      <td>LAS</td>\n",
       "      <td>360</td>\n",
       "      <td>1055.0</td>\n",
       "      <td>1055.0</td>\n",
       "      <td>1055.0</td>\n",
       "      <td>0.0</td>\n",
       "      <td>0.000000e+00</td>\n",
       "    </tr>\n",
       "    <tr>\n",
       "      <th>35</th>\n",
       "      <td>DEN</td>\n",
       "      <td>ATL</td>\n",
       "      <td>473</td>\n",
       "      <td>1199.0</td>\n",
       "      <td>1199.0</td>\n",
       "      <td>1199.0</td>\n",
       "      <td>0.0</td>\n",
       "      <td>0.000000e+00</td>\n",
       "    </tr>\n",
       "    <tr>\n",
       "      <th>36</th>\n",
       "      <td>PHX</td>\n",
       "      <td>DEN</td>\n",
       "      <td>684</td>\n",
       "      <td>602.0</td>\n",
       "      <td>602.0</td>\n",
       "      <td>602.0</td>\n",
       "      <td>0.0</td>\n",
       "      <td>0.000000e+00</td>\n",
       "    </tr>\n",
       "    <tr>\n",
       "      <th>37</th>\n",
       "      <td>DFW</td>\n",
       "      <td>LAX</td>\n",
       "      <td>531</td>\n",
       "      <td>1235.0</td>\n",
       "      <td>1235.0</td>\n",
       "      <td>1235.0</td>\n",
       "      <td>0.0</td>\n",
       "      <td>0.000000e+00</td>\n",
       "    </tr>\n",
       "    <tr>\n",
       "      <th>38</th>\n",
       "      <td>LAX</td>\n",
       "      <td>ATL</td>\n",
       "      <td>537</td>\n",
       "      <td>1946.0</td>\n",
       "      <td>1946.0</td>\n",
       "      <td>1946.0</td>\n",
       "      <td>0.0</td>\n",
       "      <td>0.000000e+00</td>\n",
       "    </tr>\n",
       "    <tr>\n",
       "      <th>39</th>\n",
       "      <td>LAS</td>\n",
       "      <td>LAX</td>\n",
       "      <td>998</td>\n",
       "      <td>236.0</td>\n",
       "      <td>236.0</td>\n",
       "      <td>236.0</td>\n",
       "      <td>0.0</td>\n",
       "      <td>2.207188e-14</td>\n",
       "    </tr>\n",
       "    <tr>\n",
       "      <th>40</th>\n",
       "      <td>ORD</td>\n",
       "      <td>PHX</td>\n",
       "      <td>439</td>\n",
       "      <td>1440.0</td>\n",
       "      <td>1440.0</td>\n",
       "      <td>1440.0</td>\n",
       "      <td>0.0</td>\n",
       "      <td>0.000000e+00</td>\n",
       "    </tr>\n",
       "    <tr>\n",
       "      <th>41</th>\n",
       "      <td>ATL</td>\n",
       "      <td>LAX</td>\n",
       "      <td>541</td>\n",
       "      <td>1946.0</td>\n",
       "      <td>1946.0</td>\n",
       "      <td>1946.0</td>\n",
       "      <td>0.0</td>\n",
       "      <td>4.543000e-14</td>\n",
       "    </tr>\n",
       "    <tr>\n",
       "      <th>42</th>\n",
       "      <td>LAS</td>\n",
       "      <td>SFO</td>\n",
       "      <td>692</td>\n",
       "      <td>414.0</td>\n",
       "      <td>414.0</td>\n",
       "      <td>414.0</td>\n",
       "      <td>0.0</td>\n",
       "      <td>0.000000e+00</td>\n",
       "    </tr>\n",
       "    <tr>\n",
       "      <th>43</th>\n",
       "      <td>ORD</td>\n",
       "      <td>SFO</td>\n",
       "      <td>666</td>\n",
       "      <td>1846.0</td>\n",
       "      <td>1846.0</td>\n",
       "      <td>1846.0</td>\n",
       "      <td>0.0</td>\n",
       "      <td>0.000000e+00</td>\n",
       "    </tr>\n",
       "    <tr>\n",
       "      <th>44</th>\n",
       "      <td>DFW</td>\n",
       "      <td>SFO</td>\n",
       "      <td>402</td>\n",
       "      <td>1464.0</td>\n",
       "      <td>1464.0</td>\n",
       "      <td>1464.0</td>\n",
       "      <td>0.0</td>\n",
       "      <td>0.000000e+00</td>\n",
       "    </tr>\n",
       "    <tr>\n",
       "      <th>45</th>\n",
       "      <td>PHX</td>\n",
       "      <td>LAX</td>\n",
       "      <td>597</td>\n",
       "      <td>370.0</td>\n",
       "      <td>370.0</td>\n",
       "      <td>370.0</td>\n",
       "      <td>0.0</td>\n",
       "      <td>0.000000e+00</td>\n",
       "    </tr>\n",
       "    <tr>\n",
       "      <th>46</th>\n",
       "      <td>DEN</td>\n",
       "      <td>DFW</td>\n",
       "      <td>453</td>\n",
       "      <td>641.0</td>\n",
       "      <td>641.0</td>\n",
       "      <td>641.0</td>\n",
       "      <td>0.0</td>\n",
       "      <td>0.000000e+00</td>\n",
       "    </tr>\n",
       "    <tr>\n",
       "      <th>47</th>\n",
       "      <td>SFO</td>\n",
       "      <td>LAX</td>\n",
       "      <td>1324</td>\n",
       "      <td>337.0</td>\n",
       "      <td>337.0</td>\n",
       "      <td>337.0</td>\n",
       "      <td>0.0</td>\n",
       "      <td>0.000000e+00</td>\n",
       "    </tr>\n",
       "    <tr>\n",
       "      <th>48</th>\n",
       "      <td>DEN</td>\n",
       "      <td>PHX</td>\n",
       "      <td>680</td>\n",
       "      <td>602.0</td>\n",
       "      <td>602.0</td>\n",
       "      <td>602.0</td>\n",
       "      <td>0.0</td>\n",
       "      <td>0.000000e+00</td>\n",
       "    </tr>\n",
       "    <tr>\n",
       "      <th>49</th>\n",
       "      <td>SFO</td>\n",
       "      <td>PHX</td>\n",
       "      <td>431</td>\n",
       "      <td>651.0</td>\n",
       "      <td>651.0</td>\n",
       "      <td>651.0</td>\n",
       "      <td>0.0</td>\n",
       "      <td>0.000000e+00</td>\n",
       "    </tr>\n",
       "    <tr>\n",
       "      <th>50</th>\n",
       "      <td>LAX</td>\n",
       "      <td>ORD</td>\n",
       "      <td>778</td>\n",
       "      <td>1744.0</td>\n",
       "      <td>1744.0</td>\n",
       "      <td>1744.0</td>\n",
       "      <td>0.0</td>\n",
       "      <td>0.000000e+00</td>\n",
       "    </tr>\n",
       "    <tr>\n",
       "      <th>51</th>\n",
       "      <td>LAX</td>\n",
       "      <td>LAS</td>\n",
       "      <td>994</td>\n",
       "      <td>236.0</td>\n",
       "      <td>236.0</td>\n",
       "      <td>236.0</td>\n",
       "      <td>0.0</td>\n",
       "      <td>0.000000e+00</td>\n",
       "    </tr>\n",
       "    <tr>\n",
       "      <th>52</th>\n",
       "      <td>ORD</td>\n",
       "      <td>LAS</td>\n",
       "      <td>299</td>\n",
       "      <td>1514.0</td>\n",
       "      <td>1514.0</td>\n",
       "      <td>1514.0</td>\n",
       "      <td>0.0</td>\n",
       "      <td>0.000000e+00</td>\n",
       "    </tr>\n",
       "    <tr>\n",
       "      <th>53</th>\n",
       "      <td>ATL</td>\n",
       "      <td>DFW</td>\n",
       "      <td>585</td>\n",
       "      <td>731.0</td>\n",
       "      <td>731.0</td>\n",
       "      <td>731.0</td>\n",
       "      <td>0.0</td>\n",
       "      <td>0.000000e+00</td>\n",
       "    </tr>\n",
       "    <tr>\n",
       "      <th>54</th>\n",
       "      <td>PHX</td>\n",
       "      <td>SFO</td>\n",
       "      <td>433</td>\n",
       "      <td>651.0</td>\n",
       "      <td>651.0</td>\n",
       "      <td>651.0</td>\n",
       "      <td>0.0</td>\n",
       "      <td>0.000000e+00</td>\n",
       "    </tr>\n",
       "    <tr>\n",
       "      <th>55</th>\n",
       "      <td>ORD</td>\n",
       "      <td>LAX</td>\n",
       "      <td>742</td>\n",
       "      <td>1744.0</td>\n",
       "      <td>1744.0</td>\n",
       "      <td>1744.0</td>\n",
       "      <td>0.0</td>\n",
       "      <td>0.000000e+00</td>\n",
       "    </tr>\n",
       "  </tbody>\n",
       "</table>\n",
       "</div>"
      ],
      "text/plain": [
       "   Origin Dest   num    mean     min     max  dif         stdev\n",
       "0     LAS  ORD   302  1514.0  1514.0  1514.0  0.0  0.000000e+00\n",
       "1     PHX  DFW   380   868.0   868.0   868.0  0.0  3.274623e-14\n",
       "2     LAX  DFW   531  1235.0  1235.0  1235.0  0.0  0.000000e+00\n",
       "3     PHX  ATL   312  1587.0  1587.0  1587.0  0.0  0.000000e+00\n",
       "4     ATL  ORD   530   606.0   606.0   606.0  0.0  0.000000e+00\n",
       "5     DFW  ORD   578   802.0   802.0   802.0  0.0  0.000000e+00\n",
       "6     DEN  SFO   674   967.0   967.0   967.0  0.0  0.000000e+00\n",
       "7     DFW  DEN   423   641.0   641.0   641.0  0.0  7.761115e-14\n",
       "8     PHX  ORD   439  1440.0  1440.0  1440.0  0.0  0.000000e+00\n",
       "9     SFO  ORD   667  1846.0  1846.0  1846.0  0.0  0.000000e+00\n",
       "10    ATL  DEN   486  1199.0  1199.0  1199.0  0.0  0.000000e+00\n",
       "11    SFO  DFW   403  1464.0  1464.0  1464.0  0.0  0.000000e+00\n",
       "12    DEN  LAS   559   628.0   628.0   628.0  0.0  0.000000e+00\n",
       "13    ATL  SFO   278  2139.0  2139.0  2139.0  0.0  0.000000e+00\n",
       "14    ORD  DEN   566   888.0   888.0   888.0  0.0  0.000000e+00\n",
       "15    ATL  LAS   368  1747.0  1747.0  1747.0  0.0  0.000000e+00\n",
       "16    LAS  PHX   451   255.0   255.0   255.0  0.0  0.000000e+00\n",
       "17    ATL  PHX   311  1587.0  1587.0  1587.0  0.0  0.000000e+00\n",
       "18    SFO  DEN   670   967.0   967.0   967.0  0.0  0.000000e+00\n",
       "19    PHX  LAS   457   255.0   255.0   255.0  0.0  0.000000e+00\n",
       "20    ORD  ATL   541   606.0   606.0   606.0  0.0  0.000000e+00\n",
       "21    LAX  PHX   605   370.0   370.0   370.0  0.0  0.000000e+00\n",
       "22    LAS  DEN   560   628.0   628.0   628.0  0.0  0.000000e+00\n",
       "23    SFO  LAS   689   414.0   414.0   414.0  0.0  1.633325e-14\n",
       "24    DEN  LAX   609   862.0   862.0   862.0  0.0  0.000000e+00\n",
       "25    SFO  ATL   280  2139.0  2139.0  2139.0  0.0  0.000000e+00\n",
       "26    ORD  DFW   564   802.0   802.0   802.0  0.0  0.000000e+00\n",
       "27    DFW  ATL   585   731.0   731.0   731.0  0.0  0.000000e+00\n",
       "28    DFW  PHX   385   868.0   868.0   868.0  0.0  0.000000e+00\n",
       "29    DEN  ORD   535   888.0   888.0   888.0  0.0  2.738839e-14\n",
       "30    LAX  DEN   578   862.0   862.0   862.0  0.0  0.000000e+00\n",
       "31    LAX  SFO  1285   337.0   337.0   337.0  0.0  0.000000e+00\n",
       "32    LAS  ATL   366  1747.0  1747.0  1747.0  0.0  0.000000e+00\n",
       "33    LAS  DFW   359  1055.0  1055.0  1055.0  0.0  0.000000e+00\n",
       "34    DFW  LAS   360  1055.0  1055.0  1055.0  0.0  0.000000e+00\n",
       "35    DEN  ATL   473  1199.0  1199.0  1199.0  0.0  0.000000e+00\n",
       "36    PHX  DEN   684   602.0   602.0   602.0  0.0  0.000000e+00\n",
       "37    DFW  LAX   531  1235.0  1235.0  1235.0  0.0  0.000000e+00\n",
       "38    LAX  ATL   537  1946.0  1946.0  1946.0  0.0  0.000000e+00\n",
       "39    LAS  LAX   998   236.0   236.0   236.0  0.0  2.207188e-14\n",
       "40    ORD  PHX   439  1440.0  1440.0  1440.0  0.0  0.000000e+00\n",
       "41    ATL  LAX   541  1946.0  1946.0  1946.0  0.0  4.543000e-14\n",
       "42    LAS  SFO   692   414.0   414.0   414.0  0.0  0.000000e+00\n",
       "43    ORD  SFO   666  1846.0  1846.0  1846.0  0.0  0.000000e+00\n",
       "44    DFW  SFO   402  1464.0  1464.0  1464.0  0.0  0.000000e+00\n",
       "45    PHX  LAX   597   370.0   370.0   370.0  0.0  0.000000e+00\n",
       "46    DEN  DFW   453   641.0   641.0   641.0  0.0  0.000000e+00\n",
       "47    SFO  LAX  1324   337.0   337.0   337.0  0.0  0.000000e+00\n",
       "48    DEN  PHX   680   602.0   602.0   602.0  0.0  0.000000e+00\n",
       "49    SFO  PHX   431   651.0   651.0   651.0  0.0  0.000000e+00\n",
       "50    LAX  ORD   778  1744.0  1744.0  1744.0  0.0  0.000000e+00\n",
       "51    LAX  LAS   994   236.0   236.0   236.0  0.0  0.000000e+00\n",
       "52    ORD  LAS   299  1514.0  1514.0  1514.0  0.0  0.000000e+00\n",
       "53    ATL  DFW   585   731.0   731.0   731.0  0.0  0.000000e+00\n",
       "54    PHX  SFO   433   651.0   651.0   651.0  0.0  0.000000e+00\n",
       "55    ORD  LAX   742  1744.0  1744.0  1744.0  0.0  0.000000e+00"
      ]
     },
     "execution_count": 19,
     "metadata": {},
     "output_type": "execute_result"
    }
   ],
   "source": [
    "sqlc.sql(\"select Origin, Dest, count(*) as num, mean(Distance) as mean, \\\n",
    "                min(Distance) as min , max(Distance) as max,  \\\n",
    "                max(Distance) - min(Distance) as dif, \\\n",
    "                stddev(Distance) as stdev \\\n",
    "                from bd2 \\\n",
    "                group by Origin, Dest\" ).toPandas()"
   ]
  },
  {
   "cell_type": "markdown",
   "metadata": {},
   "source": [
    "<div id=\"faltantes\" />\n",
    "\n",
    "### Valores faltantes\n",
    "\n",
    "Podemos ver que algunos de nuestras variables contienen valores nulos:"
   ]
  },
  {
   "cell_type": "code",
   "execution_count": 20,
   "metadata": {},
   "outputs": [
    {
     "data": {
      "text/plain": [
       "summary              count\n",
       "Year                 30965\n",
       "Month                30965\n",
       "DayofMonth           30965\n",
       "DayOfWeek            30965\n",
       "CRSDepTime           30965\n",
       "UniqueCarrier        30965\n",
       "TailNum              30820\n",
       "ArrDelay             30466\n",
       "DepDelay             30501\n",
       "Origin               30965\n",
       "Dest                 30965\n",
       "Distance             30965\n",
       "Cancelled            30965\n",
       "Diverted             30965\n",
       "CarrierDelay          8401\n",
       "WeatherDelay          8401\n",
       "NASDelay              8401\n",
       "SecurityDelay         8401\n",
       "LateAircraftDelay     8401\n",
       "Name: 0, dtype: object"
      ]
     },
     "execution_count": 20,
     "metadata": {},
     "output_type": "execute_result"
    }
   ],
   "source": [
    "bd2.describe().toPandas().transpose()[0]"
   ]
  },
  {
   "cell_type": "markdown",
   "metadata": {},
   "source": [
    "##### Valores faltantes en *ArrDelay*"
   ]
  },
  {
   "cell_type": "code",
   "execution_count": 21,
   "metadata": {},
   "outputs": [
    {
     "data": {
      "text/plain": [
       "[Row(summary='count', Year='30965', ArrDelay='30466')]"
      ]
     },
     "execution_count": 21,
     "metadata": {},
     "output_type": "execute_result"
    }
   ],
   "source": [
    "#from pyspark.sql.functions import col\n",
    "\n",
    "bd2.describe(\"Year\", \"ArrDelay\").filter(col(\"summary\") == \"count\").collect()"
   ]
  },
  {
   "cell_type": "markdown",
   "metadata": {},
   "source": [
    "La mayoría de *ArrDelay* son valores vacíos:"
   ]
  },
  {
   "cell_type": "code",
   "execution_count": 22,
   "metadata": {},
   "outputs": [
    {
     "data": {
      "text/plain": [
       "499"
      ]
     },
     "execution_count": 22,
     "metadata": {},
     "output_type": "execute_result"
    }
   ],
   "source": [
    "bd2.select(\"ArrDelay\").count() - bd2.select(\"ArrDelay\").dropna().count()"
   ]
  },
  {
   "cell_type": "markdown",
   "metadata": {},
   "source": [
    "Los valores faltantes en *ArrDelay* son causados por vuelos cancelados o desviados:"
   ]
  },
  {
   "cell_type": "code",
   "execution_count": 23,
   "metadata": {},
   "outputs": [
    {
     "name": "stdout",
     "output_type": "stream",
     "text": [
      "+--------------+-------------+\n",
      "|sum(Cancelled)|sum(Diverted)|\n",
      "+--------------+-------------+\n",
      "|         481.0|         18.0|\n",
      "+--------------+-------------+\n",
      "\n"
     ]
    }
   ],
   "source": [
    "bd2.select(\"Cancelled\", \"ArrDelay\").groupBy().sum().show()"
   ]
  },
  {
   "cell_type": "markdown",
   "metadata": {},
   "source": [
    "Eliminamos estos vuelos y construimos un nuevo dataset:"
   ]
  },
  {
   "cell_type": "code",
   "execution_count": 24,
   "metadata": {},
   "outputs": [],
   "source": [
    "bd3 = bd2.filter(bd2.Cancelled == 0).filter(bd2.Diverted == 0)"
   ]
  },
  {
   "cell_type": "code",
   "execution_count": 25,
   "metadata": {},
   "outputs": [
    {
     "data": {
      "text/plain": [
       "summary              count\n",
       "Year                 30466\n",
       "Month                30466\n",
       "DayofMonth           30466\n",
       "DayOfWeek            30466\n",
       "CRSDepTime           30466\n",
       "UniqueCarrier        30466\n",
       "TailNum              30466\n",
       "ArrDelay             30466\n",
       "DepDelay             30466\n",
       "Origin               30466\n",
       "Dest                 30466\n",
       "Distance             30466\n",
       "Cancelled            30466\n",
       "Diverted             30466\n",
       "CarrierDelay          8401\n",
       "WeatherDelay          8401\n",
       "NASDelay              8401\n",
       "SecurityDelay         8401\n",
       "LateAircraftDelay     8401\n",
       "Name: 0, dtype: object"
      ]
     },
     "execution_count": 25,
     "metadata": {},
     "output_type": "execute_result"
    }
   ],
   "source": [
    "bd3.describe().toPandas().transpose()[0]"
   ]
  },
  {
   "cell_type": "markdown",
   "metadata": {},
   "source": [
    "##### Valores faltantes en tipos de *Delay*."
   ]
  },
  {
   "cell_type": "markdown",
   "metadata": {},
   "source": [
    "Parece que para valores de *ArrDelay* menores que 15 tenemos valores nulos en otras variables."
   ]
  },
  {
   "cell_type": "code",
   "execution_count": 26,
   "metadata": {},
   "outputs": [
    {
     "name": "stdout",
     "output_type": "stream",
     "text": [
      "+--------+------------+------------+--------+-------------+-----------------+\n",
      "|ArrDelay|CarrierDelay|WeatherDelay|NASDelay|SecurityDelay|LateAircraftDelay|\n",
      "+--------+------------+------------+--------+-------------+-----------------+\n",
      "|    -7.0|        null|        null|    null|         null|             null|\n",
      "|    -3.0|        null|        null|    null|         null|             null|\n",
      "+--------+------------+------------+--------+-------------+-----------------+\n",
      "only showing top 2 rows\n",
      "\n",
      "+--------+------------+------------+--------+-------------+-----------------+\n",
      "|ArrDelay|CarrierDelay|WeatherDelay|NASDelay|SecurityDelay|LateAircraftDelay|\n",
      "+--------+------------+------------+--------+-------------+-----------------+\n",
      "|    51.0|         0.0|         0.0|    51.0|          0.0|              0.0|\n",
      "|    16.0|         0.0|         0.0|    16.0|          0.0|              0.0|\n",
      "+--------+------------+------------+--------+-------------+-----------------+\n",
      "only showing top 2 rows\n",
      "\n"
     ]
    }
   ],
   "source": [
    "bd3.filter(bd3.ArrDelay < 15).select(\"ArrDelay\", \"CarrierDelay\", \"WeatherDelay\",\n",
    "                                  \"NASDelay\", \"SecurityDelay\", \"LateAircraftDelay\").show(2)\n",
    "\n",
    "bd3.filter(bd3.ArrDelay > 15).select(\"ArrDelay\", \"CarrierDelay\", \"WeatherDelay\",\n",
    "                                  \"NASDelay\", \"SecurityDelay\", \"LateAircraftDelay\").show(2)"
   ]
  },
  {
   "cell_type": "code",
   "execution_count": 27,
   "metadata": {},
   "outputs": [
    {
     "name": "stdout",
     "output_type": "stream",
     "text": [
      "Vuelos atrasados en nuevo dataset (sin vuelos cancelados): \n"
     ]
    },
    {
     "data": {
      "text/plain": [
       "14686"
      ]
     },
     "execution_count": 27,
     "metadata": {},
     "output_type": "execute_result"
    }
   ],
   "source": [
    "print(\"Vuelos atrasados en nuevo dataset (sin vuelos cancelados): \")\n",
    "bd3.filter(bd3.ArrDelay >= 0).select(\"ArrDelay\", \"CarrierDelay\", \"WeatherDelay\",\n",
    "                                  \"NASDelay\", \"SecurityDelay\", \"LateAircraftDelay\").count()"
   ]
  },
  {
   "cell_type": "markdown",
   "metadata": {},
   "source": [
    "Rellenamos los valores *null* con ceros:"
   ]
  },
  {
   "cell_type": "code",
   "execution_count": 28,
   "metadata": {},
   "outputs": [],
   "source": [
    "bd4 = bd3.na.fill({\"CarrierDelay\": 0, \"WeatherDelay\": 0, \"NASDelay\": 0, \"SecurityDelay\": 0, \"LateAircraftDelay\": 0})\n",
    "#bd4 = bd3.na.fill(0)\n",
    "#bd4 = bd3.na.drop()"
   ]
  },
  {
   "cell_type": "code",
   "execution_count": 29,
   "metadata": {},
   "outputs": [
    {
     "data": {
      "text/plain": [
       "summary              count\n",
       "Year                 30466\n",
       "Month                30466\n",
       "DayofMonth           30466\n",
       "DayOfWeek            30466\n",
       "CRSDepTime           30466\n",
       "UniqueCarrier        30466\n",
       "TailNum              30466\n",
       "ArrDelay             30466\n",
       "DepDelay             30466\n",
       "Origin               30466\n",
       "Dest                 30466\n",
       "Distance             30466\n",
       "Cancelled            30466\n",
       "Diverted             30466\n",
       "CarrierDelay         30466\n",
       "WeatherDelay         30466\n",
       "NASDelay             30466\n",
       "SecurityDelay        30466\n",
       "LateAircraftDelay    30466\n",
       "Name: 0, dtype: object"
      ]
     },
     "execution_count": 29,
     "metadata": {},
     "output_type": "execute_result"
    }
   ],
   "source": [
    "bd4.describe().toPandas().transpose()[0]"
   ]
  },
  {
   "cell_type": "markdown",
   "metadata": {},
   "source": [
    "<div id=\"transformacion\" />\n",
    "\n",
    "### Transformación y creación de variables"
   ]
  },
  {
   "cell_type": "markdown",
   "metadata": {},
   "source": [
    "La nueva variable más significativa y que usaremos en algunos de nuestros modelos de machine learning es *Retraso*. Se tratará de una variable binaria sieno 1 si existe un retraso en el vuelo superior a 15 minutos."
   ]
  },
  {
   "cell_type": "code",
   "execution_count": 30,
   "metadata": {},
   "outputs": [
    {
     "name": "stdout",
     "output_type": "stream",
     "text": [
      "+-------+------------------+-------------------+-------------------+------------------+\n",
      "|summary|          ArrDelay|               LogD|            Retraso|       RetrasoNeto|\n",
      "+-------+------------------+-------------------+-------------------+------------------+\n",
      "|  count|             30466|              30466|              30466|             30466|\n",
      "|   mean|13.300695857677411|  2.886007454172149| 0.2757500164117377|-3.919680955819602|\n",
      "| stddev| 53.50946738163754|0.28179267734674984|0.44689875846318483|15.560721063721331|\n",
      "|    min|             -53.0| 2.3729120029701067|                  0|             -48.0|\n",
      "|    max|            2028.0|  3.330210784571528|                  1|             229.0|\n",
      "+-------+------------------+-------------------+-------------------+------------------+\n",
      "\n"
     ]
    }
   ],
   "source": [
    "#from pyspark.sql.functions import log\n",
    "\n",
    "bd4 = bd4.withColumn(\"LogD\", log(10.0, \"Distance\"))\n",
    "bd4 = bd4.withColumn(\"Retraso\", (bd4.ArrDelay >= 15).cast(\"int\"))\n",
    "bd4 = bd4.withColumn(\"RetrasoNeto\", bd4.ArrDelay - bd4.DepDelay)\n",
    "bd4.describe(\"ArrDelay\", \"LogD\", \"Retraso\", \"RetrasoNeto\").show(5)"
   ]
  },
  {
   "cell_type": "code",
   "execution_count": 31,
   "metadata": {},
   "outputs": [
    {
     "data": {
      "text/html": [
       "<div>\n",
       "<style scoped>\n",
       "    .dataframe tbody tr th:only-of-type {\n",
       "        vertical-align: middle;\n",
       "    }\n",
       "\n",
       "    .dataframe tbody tr th {\n",
       "        vertical-align: top;\n",
       "    }\n",
       "\n",
       "    .dataframe thead th {\n",
       "        text-align: right;\n",
       "    }\n",
       "</style>\n",
       "<table border=\"1\" class=\"dataframe\">\n",
       "  <thead>\n",
       "    <tr style=\"text-align: right;\">\n",
       "      <th></th>\n",
       "      <th>summary</th>\n",
       "      <th>ArrDelay</th>\n",
       "      <th>LogD</th>\n",
       "      <th>Retraso</th>\n",
       "      <th>RetrasoNeto</th>\n",
       "    </tr>\n",
       "  </thead>\n",
       "  <tbody>\n",
       "    <tr>\n",
       "      <th>0</th>\n",
       "      <td>count</td>\n",
       "      <td>30466</td>\n",
       "      <td>30466</td>\n",
       "      <td>30466</td>\n",
       "      <td>30466</td>\n",
       "    </tr>\n",
       "    <tr>\n",
       "      <th>1</th>\n",
       "      <td>mean</td>\n",
       "      <td>13.300695857677411</td>\n",
       "      <td>2.886007454172149</td>\n",
       "      <td>0.2757500164117377</td>\n",
       "      <td>-3.919680955819602</td>\n",
       "    </tr>\n",
       "    <tr>\n",
       "      <th>2</th>\n",
       "      <td>stddev</td>\n",
       "      <td>53.50946738163754</td>\n",
       "      <td>0.28179267734674984</td>\n",
       "      <td>0.44689875846318483</td>\n",
       "      <td>15.560721063721331</td>\n",
       "    </tr>\n",
       "    <tr>\n",
       "      <th>3</th>\n",
       "      <td>min</td>\n",
       "      <td>-53.0</td>\n",
       "      <td>2.3729120029701067</td>\n",
       "      <td>0</td>\n",
       "      <td>-48.0</td>\n",
       "    </tr>\n",
       "    <tr>\n",
       "      <th>4</th>\n",
       "      <td>max</td>\n",
       "      <td>2028.0</td>\n",
       "      <td>3.330210784571528</td>\n",
       "      <td>1</td>\n",
       "      <td>229.0</td>\n",
       "    </tr>\n",
       "  </tbody>\n",
       "</table>\n",
       "</div>"
      ],
      "text/plain": [
       "  summary            ArrDelay                 LogD              Retraso  \\\n",
       "0   count               30466                30466                30466   \n",
       "1    mean  13.300695857677411    2.886007454172149   0.2757500164117377   \n",
       "2  stddev   53.50946738163754  0.28179267734674984  0.44689875846318483   \n",
       "3     min               -53.0   2.3729120029701067                    0   \n",
       "4     max              2028.0    3.330210784571528                    1   \n",
       "\n",
       "          RetrasoNeto  \n",
       "0               30466  \n",
       "1  -3.919680955819602  \n",
       "2  15.560721063721331  \n",
       "3               -48.0  \n",
       "4               229.0  "
      ]
     },
     "execution_count": 31,
     "metadata": {},
     "output_type": "execute_result"
    }
   ],
   "source": [
    "bd4.describe(\"ArrDelay\", \"LogD\", \"Retraso\", \"RetrasoNeto\").toPandas()"
   ]
  },
  {
   "cell_type": "markdown",
   "metadata": {},
   "source": [
    "Definimos una variable *Horario* según el vuelo se efectúe en horario de mañana, medio día, tarde y noche:"
   ]
  },
  {
   "cell_type": "code",
   "execution_count": 32,
   "metadata": {},
   "outputs": [],
   "source": [
    "sqlc.registerDataFrameAsTable(bd4, \"bd4\")\n",
    "\n",
    "bd5 = sqlc.sql(\"select *, case \\\n",
    "               when CRSDepTime <= 800 then 1 \\\n",
    "               when 800 < CRSDepTime and CRSDepTime <= 1200 then 2 \\\n",
    "               when 1200 < CRSDepTime and CRSDepTime <= 1600 then 3 \\\n",
    "               when 1600 < CRSDepTime and CRSDepTime <= 2100 then 4 \\\n",
    "               else 1 end as Horario \\\n",
    "               from bd4\")\n",
    "sqlc.registerDataFrameAsTable(bd5, \"bd5\")"
   ]
  },
  {
   "cell_type": "code",
   "execution_count": 33,
   "metadata": {},
   "outputs": [
    {
     "name": "stdout",
     "output_type": "stream",
     "text": [
      "+-------+------------------+\n",
      "|summary|           Horario|\n",
      "+-------+------------------+\n",
      "|  count|             30466|\n",
      "|   mean| 2.539322523468785|\n",
      "| stddev|1.1369016091531157|\n",
      "|    min|                 1|\n",
      "|    max|                 4|\n",
      "+-------+------------------+\n",
      "\n"
     ]
    }
   ],
   "source": [
    "bd5.select(\"Horario\").describe().show()"
   ]
  },
  {
   "cell_type": "code",
   "execution_count": 34,
   "metadata": {},
   "outputs": [
    {
     "name": "stdout",
     "output_type": "stream",
     "text": [
      "+-------+-----+\n",
      "|Horario|count|\n",
      "+-------+-----+\n",
      "|      1| 7519|\n",
      "|      3| 7180|\n",
      "|      4| 8385|\n",
      "|      2| 7382|\n",
      "+-------+-----+\n",
      "\n"
     ]
    }
   ],
   "source": [
    "bd5.select(\"Horario\").groupBy(\"Horario\").count().show()"
   ]
  },
  {
   "cell_type": "markdown",
   "metadata": {},
   "source": [
    "<div id=\"visualizacion\" />\n",
    "\n",
    "## Visualización\n",
    "\n",
    "Veamos algunas gráficas a partir de nuestros datos."
   ]
  },
  {
   "cell_type": "code",
   "execution_count": 35,
   "metadata": {},
   "outputs": [
    {
     "data": {
      "text/plain": [
       "<matplotlib.axes._subplots.AxesSubplot at 0x7faa90cb8b10>"
      ]
     },
     "execution_count": 35,
     "metadata": {},
     "output_type": "execute_result"
    },
    {
     "data": {
      "image/png": "[encoded data removed]",
      "text/plain": [
       "<Figure size 432x288 with 1 Axes>"
      ]
     },
     "metadata": {
      "needs_background": "light"
     },
     "output_type": "display_data"
    }
   ],
   "source": [
    "g1 = sqlc.sql(\"select Dest, count(*) as num from bd2 group by Dest\")\n",
    "df1 = g1.toPandas()\n",
    "df1.plot(kind=\"bar\", x=\"Dest\", y=\"num\")"
   ]
  },
  {
   "cell_type": "code",
   "execution_count": 36,
   "metadata": {},
   "outputs": [
    {
     "data": {
      "text/plain": [
       "<matplotlib.axes._subplots.AxesSubplot at 0x7faa9135da50>"
      ]
     },
     "execution_count": 36,
     "metadata": {},
     "output_type": "execute_result"
    },
    {
     "data": {
      "image/png": "[encoded data removed]",
      "text/plain": [
       "<Figure size 432x288 with 1 Axes>"
      ]
     },
     "metadata": {
      "needs_background": "light"
     },
     "output_type": "display_data"
    }
   ],
   "source": [
    "df1.plot(kind=\"bar\", x=\"Dest\", y=\"num\")"
   ]
  },
  {
   "cell_type": "code",
   "execution_count": 37,
   "metadata": {},
   "outputs": [
    {
     "data": {
      "text/plain": [
       "<matplotlib.axes._subplots.AxesSubplot at 0x7faa912d4a50>"
      ]
     },
     "execution_count": 37,
     "metadata": {},
     "output_type": "execute_result"
    },
    {
     "data": {
      "image/png": "[encoded data removed]",
      "text/plain": [
       "<Figure size 432x288 with 1 Axes>"
      ]
     },
     "metadata": {},
     "output_type": "display_data"
    }
   ],
   "source": [
    "explode = list(np.zeros(8))\n",
    "explode[1] = 0.1\n",
    "explode = tuple(explode)\n",
    "\n",
    "df1.plot.pie(y=\"num\", explode=explode,\n",
    "             labels=df1[\"Dest\"], autopct=\"%1.1f%%\",\n",
    "             shadow=True, legend=False)"
   ]
  },
  {
   "cell_type": "code",
   "execution_count": 38,
   "metadata": {},
   "outputs": [
    {
     "name": "stdout",
     "output_type": "stream",
     "text": [
      "Tabla de resumen numérico: \n",
      "+----+----+------------------+------------------+\n",
      "|Dest| num|              mean|               std|\n",
      "+----+----+------------------+------------------+\n",
      "| LAS|3675|14.813877551020408|  46.3175023214435|\n",
      "| DEN|3889|12.572897917202365| 50.46850865749088|\n",
      "| PHX|3243|11.315757015109467|43.220567769891666|\n",
      "| DFW|3248| 6.710591133004926|63.411867733155056|\n",
      "| SFO|4343| 20.50448998388211|50.348151476304565|\n",
      "| ATL|3081|3.1830574488802337| 44.70609198877388|\n",
      "| ORD|3734| 7.260846277450455|63.067425163254285|\n",
      "| LAX|5253| 22.35275080906149| 56.97652432880392|\n",
      "+----+----+------------------+------------------+\n",
      "\n"
     ]
    }
   ],
   "source": [
    "g2 = sqlc.sql(\"select Dest, count(*) as num, \\\n",
    "               avg(ArrDelay) as mean, \\\n",
    "               stddev(ArrDelay) as std \\\n",
    "               from bd5 group by Dest\")\n",
    "print(\"Tabla de resumen numérico: \")\n",
    "g2.show()"
   ]
  },
  {
   "cell_type": "code",
   "execution_count": 39,
   "metadata": {},
   "outputs": [
    {
     "name": "stdout",
     "output_type": "stream",
     "text": [
      "Tabla de resumen numérico: \n"
     ]
    },
    {
     "data": {
      "text/html": [
       "<div>\n",
       "<style scoped>\n",
       "    .dataframe tbody tr th:only-of-type {\n",
       "        vertical-align: middle;\n",
       "    }\n",
       "\n",
       "    .dataframe tbody tr th {\n",
       "        vertical-align: top;\n",
       "    }\n",
       "\n",
       "    .dataframe thead th {\n",
       "        text-align: right;\n",
       "    }\n",
       "</style>\n",
       "<table border=\"1\" class=\"dataframe\">\n",
       "  <thead>\n",
       "    <tr style=\"text-align: right;\">\n",
       "      <th></th>\n",
       "      <th>Dest</th>\n",
       "      <th>num</th>\n",
       "      <th>mean</th>\n",
       "      <th>std</th>\n",
       "    </tr>\n",
       "  </thead>\n",
       "  <tbody>\n",
       "    <tr>\n",
       "      <th>0</th>\n",
       "      <td>LAS</td>\n",
       "      <td>3675</td>\n",
       "      <td>14.813878</td>\n",
       "      <td>46.317502</td>\n",
       "    </tr>\n",
       "    <tr>\n",
       "      <th>1</th>\n",
       "      <td>DEN</td>\n",
       "      <td>3889</td>\n",
       "      <td>12.572898</td>\n",
       "      <td>50.468509</td>\n",
       "    </tr>\n",
       "    <tr>\n",
       "      <th>2</th>\n",
       "      <td>PHX</td>\n",
       "      <td>3243</td>\n",
       "      <td>11.315757</td>\n",
       "      <td>43.220568</td>\n",
       "    </tr>\n",
       "    <tr>\n",
       "      <th>3</th>\n",
       "      <td>DFW</td>\n",
       "      <td>3248</td>\n",
       "      <td>6.710591</td>\n",
       "      <td>63.411868</td>\n",
       "    </tr>\n",
       "    <tr>\n",
       "      <th>4</th>\n",
       "      <td>SFO</td>\n",
       "      <td>4343</td>\n",
       "      <td>20.504490</td>\n",
       "      <td>50.348151</td>\n",
       "    </tr>\n",
       "    <tr>\n",
       "      <th>5</th>\n",
       "      <td>ATL</td>\n",
       "      <td>3081</td>\n",
       "      <td>3.183057</td>\n",
       "      <td>44.706092</td>\n",
       "    </tr>\n",
       "    <tr>\n",
       "      <th>6</th>\n",
       "      <td>ORD</td>\n",
       "      <td>3734</td>\n",
       "      <td>7.260846</td>\n",
       "      <td>63.067425</td>\n",
       "    </tr>\n",
       "    <tr>\n",
       "      <th>7</th>\n",
       "      <td>LAX</td>\n",
       "      <td>5253</td>\n",
       "      <td>22.352751</td>\n",
       "      <td>56.976524</td>\n",
       "    </tr>\n",
       "  </tbody>\n",
       "</table>\n",
       "</div>"
      ],
      "text/plain": [
       "  Dest   num       mean        std\n",
       "0  LAS  3675  14.813878  46.317502\n",
       "1  DEN  3889  12.572898  50.468509\n",
       "2  PHX  3243  11.315757  43.220568\n",
       "3  DFW  3248   6.710591  63.411868\n",
       "4  SFO  4343  20.504490  50.348151\n",
       "5  ATL  3081   3.183057  44.706092\n",
       "6  ORD  3734   7.260846  63.067425\n",
       "7  LAX  5253  22.352751  56.976524"
      ]
     },
     "execution_count": 39,
     "metadata": {},
     "output_type": "execute_result"
    }
   ],
   "source": [
    "df2 = g2.toPandas()\n",
    "print(\"Tabla de resumen numérico: \")\n",
    "df2"
   ]
  },
  {
   "cell_type": "markdown",
   "metadata": {},
   "source": [
    "Representación gráfica de la información agregada:"
   ]
  },
  {
   "cell_type": "code",
   "execution_count": 40,
   "metadata": {},
   "outputs": [
    {
     "data": {
      "text/plain": [
       "<matplotlib.axes._subplots.AxesSubplot at 0x7faa911bd750>"
      ]
     },
     "execution_count": 40,
     "metadata": {},
     "output_type": "execute_result"
    },
    {
     "data": {
      "image/png": "[encoded data removed]",
      "text/plain": [
       "<Figure size 432x288 with 1 Axes>"
      ]
     },
     "metadata": {
      "needs_background": "light"
     },
     "output_type": "display_data"
    }
   ],
   "source": [
    "df2.plot(kind=\"bar\", x=\"Dest\", y=\"mean\", yerr=\"std\")"
   ]
  },
  {
   "cell_type": "markdown",
   "metadata": {},
   "source": [
    "Representación gráfica de una muestra de datos:"
   ]
  },
  {
   "cell_type": "code",
   "execution_count": 41,
   "metadata": {},
   "outputs": [
    {
     "data": {
      "text/html": [
       "<div>\n",
       "<style scoped>\n",
       "    .dataframe tbody tr th:only-of-type {\n",
       "        vertical-align: middle;\n",
       "    }\n",
       "\n",
       "    .dataframe tbody tr th {\n",
       "        vertical-align: top;\n",
       "    }\n",
       "\n",
       "    .dataframe thead th {\n",
       "        text-align: right;\n",
       "    }\n",
       "</style>\n",
       "<table border=\"1\" class=\"dataframe\">\n",
       "  <thead>\n",
       "    <tr style=\"text-align: right;\">\n",
       "      <th></th>\n",
       "      <th>Dest</th>\n",
       "      <th>Horario</th>\n",
       "      <th>ArrDelay</th>\n",
       "      <th>DepDelay</th>\n",
       "      <th>RetrasoNeto</th>\n",
       "    </tr>\n",
       "  </thead>\n",
       "  <tbody>\n",
       "    <tr>\n",
       "      <th>1</th>\n",
       "      <td>LAX</td>\n",
       "      <td>4</td>\n",
       "      <td>-20.0</td>\n",
       "      <td>9.0</td>\n",
       "      <td>-29.0</td>\n",
       "    </tr>\n",
       "    <tr>\n",
       "      <th>2</th>\n",
       "      <td>LAX</td>\n",
       "      <td>4</td>\n",
       "      <td>30.0</td>\n",
       "      <td>40.0</td>\n",
       "      <td>-10.0</td>\n",
       "    </tr>\n",
       "    <tr>\n",
       "      <th>3</th>\n",
       "      <td>LAX</td>\n",
       "      <td>4</td>\n",
       "      <td>-11.0</td>\n",
       "      <td>-5.0</td>\n",
       "      <td>-6.0</td>\n",
       "    </tr>\n",
       "    <tr>\n",
       "      <th>4</th>\n",
       "      <td>LAX</td>\n",
       "      <td>4</td>\n",
       "      <td>-4.0</td>\n",
       "      <td>10.0</td>\n",
       "      <td>-14.0</td>\n",
       "    </tr>\n",
       "    <tr>\n",
       "      <th>5</th>\n",
       "      <td>LAX</td>\n",
       "      <td>4</td>\n",
       "      <td>7.0</td>\n",
       "      <td>2.0</td>\n",
       "      <td>5.0</td>\n",
       "    </tr>\n",
       "    <tr>\n",
       "      <th>6</th>\n",
       "      <td>LAS</td>\n",
       "      <td>2</td>\n",
       "      <td>2.0</td>\n",
       "      <td>-1.0</td>\n",
       "      <td>3.0</td>\n",
       "    </tr>\n",
       "    <tr>\n",
       "      <th>7</th>\n",
       "      <td>LAS</td>\n",
       "      <td>2</td>\n",
       "      <td>1.0</td>\n",
       "      <td>4.0</td>\n",
       "      <td>-3.0</td>\n",
       "    </tr>\n",
       "    <tr>\n",
       "      <th>8</th>\n",
       "      <td>LAX</td>\n",
       "      <td>4</td>\n",
       "      <td>1.0</td>\n",
       "      <td>22.0</td>\n",
       "      <td>-21.0</td>\n",
       "    </tr>\n",
       "    <tr>\n",
       "      <th>9</th>\n",
       "      <td>LAX</td>\n",
       "      <td>4</td>\n",
       "      <td>74.0</td>\n",
       "      <td>90.0</td>\n",
       "      <td>-16.0</td>\n",
       "    </tr>\n",
       "  </tbody>\n",
       "</table>\n",
       "</div>"
      ],
      "text/plain": [
       "  Dest  Horario  ArrDelay  DepDelay  RetrasoNeto\n",
       "1  LAX        4     -20.0       9.0        -29.0\n",
       "2  LAX        4      30.0      40.0        -10.0\n",
       "3  LAX        4     -11.0      -5.0         -6.0\n",
       "4  LAX        4      -4.0      10.0        -14.0\n",
       "5  LAX        4       7.0       2.0          5.0\n",
       "6  LAS        2       2.0      -1.0          3.0\n",
       "7  LAS        2       1.0       4.0         -3.0\n",
       "8  LAX        4       1.0      22.0        -21.0\n",
       "9  LAX        4      74.0      90.0        -16.0"
      ]
     },
     "execution_count": 41,
     "metadata": {},
     "output_type": "execute_result"
    }
   ],
   "source": [
    "df3 = bd5.sample(False, 0.1, 0).select(\"Dest\", \"Horario\", \"ArrDelay\", \"DepDelay\", \"RetrasoNeto\").toPandas()\n",
    "df3[1:10]"
   ]
  },
  {
   "cell_type": "code",
   "execution_count": 42,
   "metadata": {},
   "outputs": [
    {
     "data": {
      "text/plain": [
       "<matplotlib.axes._subplots.AxesSubplot at 0x7faa91154190>"
      ]
     },
     "execution_count": 42,
     "metadata": {},
     "output_type": "execute_result"
    },
    {
     "data": {
      "image/png": "[encoded data removed]",
      "text/plain": [
       "<Figure size 432x288 with 1 Axes>"
      ]
     },
     "metadata": {
      "needs_background": "light"
     },
     "output_type": "display_data"
    }
   ],
   "source": [
    "#import seaborn as sb\n",
    "sb.boxplot(x=\"Dest\", y=\"ArrDelay\", data=df3)"
   ]
  },
  {
   "cell_type": "markdown",
   "metadata": {},
   "source": [
    "En el siguiente gráfico podemos ver el comportamiento de la variable *ArrDelay* en función del horario:"
   ]
  },
  {
   "cell_type": "code",
   "execution_count": 43,
   "metadata": {},
   "outputs": [
    {
     "data": {
      "text/plain": [
       "<matplotlib.axes._subplots.AxesSubplot at 0x7faa90f676d0>"
      ]
     },
     "execution_count": 43,
     "metadata": {},
     "output_type": "execute_result"
    },
    {
     "data": {
      "image/png": "[encoded data removed]",
      "text/plain": [
       "<Figure size 432x288 with 1 Axes>"
      ]
     },
     "metadata": {
      "needs_background": "light"
     },
     "output_type": "display_data"
    }
   ],
   "source": [
    "sb.barplot(x=\"Dest\", y=\"ArrDelay\", hue=\"Horario\", data=df3)"
   ]
  },
  {
   "cell_type": "markdown",
   "metadata": {},
   "source": [
    "Resumen numérico de retrasos:"
   ]
  },
  {
   "cell_type": "code",
   "execution_count": 44,
   "metadata": {},
   "outputs": [
    {
     "data": {
      "text/html": [
       "<div>\n",
       "<style scoped>\n",
       "    .dataframe tbody tr th:only-of-type {\n",
       "        vertical-align: middle;\n",
       "    }\n",
       "\n",
       "    .dataframe tbody tr th {\n",
       "        vertical-align: top;\n",
       "    }\n",
       "\n",
       "    .dataframe thead th {\n",
       "        text-align: right;\n",
       "    }\n",
       "</style>\n",
       "<table border=\"1\" class=\"dataframe\">\n",
       "  <thead>\n",
       "    <tr style=\"text-align: right;\">\n",
       "      <th></th>\n",
       "      <th>Dest</th>\n",
       "      <th>Retraso</th>\n",
       "      <th>num</th>\n",
       "    </tr>\n",
       "  </thead>\n",
       "  <tbody>\n",
       "    <tr>\n",
       "      <th>0</th>\n",
       "      <td>ATL</td>\n",
       "      <td>0</td>\n",
       "      <td>2527</td>\n",
       "    </tr>\n",
       "    <tr>\n",
       "      <th>1</th>\n",
       "      <td>ATL</td>\n",
       "      <td>1</td>\n",
       "      <td>554</td>\n",
       "    </tr>\n",
       "    <tr>\n",
       "      <th>2</th>\n",
       "      <td>DEN</td>\n",
       "      <td>0</td>\n",
       "      <td>2885</td>\n",
       "    </tr>\n",
       "    <tr>\n",
       "      <th>3</th>\n",
       "      <td>DEN</td>\n",
       "      <td>1</td>\n",
       "      <td>1004</td>\n",
       "    </tr>\n",
       "    <tr>\n",
       "      <th>4</th>\n",
       "      <td>DFW</td>\n",
       "      <td>0</td>\n",
       "      <td>2647</td>\n",
       "    </tr>\n",
       "    <tr>\n",
       "      <th>5</th>\n",
       "      <td>DFW</td>\n",
       "      <td>1</td>\n",
       "      <td>601</td>\n",
       "    </tr>\n",
       "    <tr>\n",
       "      <th>6</th>\n",
       "      <td>LAS</td>\n",
       "      <td>0</td>\n",
       "      <td>2620</td>\n",
       "    </tr>\n",
       "    <tr>\n",
       "      <th>7</th>\n",
       "      <td>LAS</td>\n",
       "      <td>1</td>\n",
       "      <td>1055</td>\n",
       "    </tr>\n",
       "    <tr>\n",
       "      <th>8</th>\n",
       "      <td>LAX</td>\n",
       "      <td>0</td>\n",
       "      <td>3229</td>\n",
       "    </tr>\n",
       "    <tr>\n",
       "      <th>9</th>\n",
       "      <td>LAX</td>\n",
       "      <td>1</td>\n",
       "      <td>2024</td>\n",
       "    </tr>\n",
       "    <tr>\n",
       "      <th>10</th>\n",
       "      <td>ORD</td>\n",
       "      <td>0</td>\n",
       "      <td>2984</td>\n",
       "    </tr>\n",
       "    <tr>\n",
       "      <th>11</th>\n",
       "      <td>ORD</td>\n",
       "      <td>1</td>\n",
       "      <td>750</td>\n",
       "    </tr>\n",
       "    <tr>\n",
       "      <th>12</th>\n",
       "      <td>PHX</td>\n",
       "      <td>0</td>\n",
       "      <td>2420</td>\n",
       "    </tr>\n",
       "    <tr>\n",
       "      <th>13</th>\n",
       "      <td>PHX</td>\n",
       "      <td>1</td>\n",
       "      <td>823</td>\n",
       "    </tr>\n",
       "    <tr>\n",
       "      <th>14</th>\n",
       "      <td>SFO</td>\n",
       "      <td>0</td>\n",
       "      <td>2753</td>\n",
       "    </tr>\n",
       "    <tr>\n",
       "      <th>15</th>\n",
       "      <td>SFO</td>\n",
       "      <td>1</td>\n",
       "      <td>1590</td>\n",
       "    </tr>\n",
       "  </tbody>\n",
       "</table>\n",
       "</div>"
      ],
      "text/plain": [
       "   Dest  Retraso   num\n",
       "0   ATL        0  2527\n",
       "1   ATL        1   554\n",
       "2   DEN        0  2885\n",
       "3   DEN        1  1004\n",
       "4   DFW        0  2647\n",
       "5   DFW        1   601\n",
       "6   LAS        0  2620\n",
       "7   LAS        1  1055\n",
       "8   LAX        0  3229\n",
       "9   LAX        1  2024\n",
       "10  ORD        0  2984\n",
       "11  ORD        1   750\n",
       "12  PHX        0  2420\n",
       "13  PHX        1   823\n",
       "14  SFO        0  2753\n",
       "15  SFO        1  1590"
      ]
     },
     "execution_count": 44,
     "metadata": {},
     "output_type": "execute_result"
    }
   ],
   "source": [
    "df4 = sqlc.sql(\"select Dest, Retraso, count(*) as num \\\n",
    "               from bd5 group by Dest, Retraso \\\n",
    "               order by Dest, Retraso\").toPandas()\n",
    "df4"
   ]
  },
  {
   "cell_type": "code",
   "execution_count": 45,
   "metadata": {},
   "outputs": [
    {
     "data": {
      "text/plain": [
       "<matplotlib.axes._subplots.AxesSubplot at 0x7faa90e4a890>"
      ]
     },
     "execution_count": 45,
     "metadata": {},
     "output_type": "execute_result"
    },
    {
     "data": {
      "image/png": "[encoded data removed]",
      "text/plain": [
       "<Figure size 432x288 with 1 Axes>"
      ]
     },
     "metadata": {
      "needs_background": "light"
     },
     "output_type": "display_data"
    }
   ],
   "source": [
    "sb.barplot(x=\"Dest\", y=\"num\", hue=\"Retraso\", data=df4)"
   ]
  },
  {
   "cell_type": "code",
   "execution_count": 46,
   "metadata": {},
   "outputs": [
    {
     "data": {
      "text/plain": [
       "<matplotlib.axes._subplots.AxesSubplot at 0x7faa9142ce50>"
      ]
     },
     "execution_count": 46,
     "metadata": {},
     "output_type": "execute_result"
    },
    {
     "data": {
      "image/png": "[encoded data removed]",
      "text/plain": [
       "<Figure size 432x288 with 1 Axes>"
      ]
     },
     "metadata": {
      "needs_background": "light"
     },
     "output_type": "display_data"
    }
   ],
   "source": [
    "df5 = bd5.groupBy(\"Dest\").mean(\"Retraso\").toPandas()\n",
    "sb.barplot(x=\"Dest\", y=\"avg(Retraso)\", data=df5)"
   ]
  },
  {
   "cell_type": "markdown",
   "metadata": {},
   "source": [
    "En función del día de la semana podemos ver el número de retrasos para cada destino:"
   ]
  },
  {
   "cell_type": "code",
   "execution_count": 47,
   "metadata": {},
   "outputs": [
    {
     "name": "stderr",
     "output_type": "stream",
     "text": [
      "/opt/conda/lib/python3.7/site-packages/seaborn/categorical.py:3669: UserWarning: The `factorplot` function has been renamed to `catplot`. The original name will be removed in a future release. Please update your code. Note that the default `kind` in `factorplot` (`'point'`) has changed `'strip'` in `catplot`.\n",
      "  warnings.warn(msg)\n"
     ]
    },
    {
     "data": {
      "text/plain": [
       "<seaborn.axisgrid.FacetGrid at 0x7faa90d7f610>"
      ]
     },
     "execution_count": 47,
     "metadata": {},
     "output_type": "execute_result"
    },
    {
     "data": {
      "image/png": "[encoded data removed]",
      "text/plain": [
       "<Figure size 1126.38x1080 with 8 Axes>"
      ]
     },
     "metadata": {
      "needs_background": "light"
     },
     "output_type": "display_data"
    }
   ],
   "source": [
    "df6 = sqlc.sql(\"select DayOfWeek, Dest, Retraso, count(*) as num \\\n",
    "               from bd5 group by DayOfWeek, Dest, Retraso \\\n",
    "               order by DayOfWeek, Dest, Retraso\").toPandas()\n",
    "\n",
    "sb.factorplot(x=\"DayOfWeek\", y=\"num\", col=\"Dest\", hue=\"Retraso\", data=df6, col_wrap=3,)"
   ]
  },
  {
   "cell_type": "markdown",
   "metadata": {},
   "source": [
    "Veamos ahora la relación entre los atrasos según la salida y llegada a los aeropuertos:"
   ]
  },
  {
   "cell_type": "code",
   "execution_count": 48,
   "metadata": {},
   "outputs": [
    {
     "data": {
      "text/html": [
       "<div>\n",
       "<style scoped>\n",
       "    .dataframe tbody tr th:only-of-type {\n",
       "        vertical-align: middle;\n",
       "    }\n",
       "\n",
       "    .dataframe tbody tr th {\n",
       "        vertical-align: top;\n",
       "    }\n",
       "\n",
       "    .dataframe thead th {\n",
       "        text-align: right;\n",
       "    }\n",
       "</style>\n",
       "<table border=\"1\" class=\"dataframe\">\n",
       "  <thead>\n",
       "    <tr style=\"text-align: right;\">\n",
       "      <th></th>\n",
       "      <th>Horario</th>\n",
       "      <th>ArrDelay</th>\n",
       "      <th>DepDelay</th>\n",
       "      <th>RetrasoNeto</th>\n",
       "    </tr>\n",
       "  </thead>\n",
       "  <tbody>\n",
       "    <tr>\n",
       "      <th>Horario</th>\n",
       "      <td>1.000000</td>\n",
       "      <td>0.119875</td>\n",
       "      <td>0.109980</td>\n",
       "      <td>0.061252</td>\n",
       "    </tr>\n",
       "    <tr>\n",
       "      <th>ArrDelay</th>\n",
       "      <td>0.119875</td>\n",
       "      <td>1.000000</td>\n",
       "      <td>0.958098</td>\n",
       "      <td>0.379691</td>\n",
       "    </tr>\n",
       "    <tr>\n",
       "      <th>DepDelay</th>\n",
       "      <td>0.109980</td>\n",
       "      <td>0.958098</td>\n",
       "      <td>1.000000</td>\n",
       "      <td>0.098792</td>\n",
       "    </tr>\n",
       "    <tr>\n",
       "      <th>RetrasoNeto</th>\n",
       "      <td>0.061252</td>\n",
       "      <td>0.379691</td>\n",
       "      <td>0.098792</td>\n",
       "      <td>1.000000</td>\n",
       "    </tr>\n",
       "  </tbody>\n",
       "</table>\n",
       "</div>"
      ],
      "text/plain": [
       "              Horario  ArrDelay  DepDelay  RetrasoNeto\n",
       "Horario      1.000000  0.119875  0.109980     0.061252\n",
       "ArrDelay     0.119875  1.000000  0.958098     0.379691\n",
       "DepDelay     0.109980  0.958098  1.000000     0.098792\n",
       "RetrasoNeto  0.061252  0.379691  0.098792     1.000000"
      ]
     },
     "execution_count": 48,
     "metadata": {},
     "output_type": "execute_result"
    }
   ],
   "source": [
    "df3.corr()"
   ]
  },
  {
   "cell_type": "code",
   "execution_count": 49,
   "metadata": {},
   "outputs": [
    {
     "data": {
      "text/plain": [
       "0.9571345646224717"
      ]
     },
     "execution_count": 49,
     "metadata": {},
     "output_type": "execute_result"
    }
   ],
   "source": [
    "bd5.corr(ArrDelay\", \"DepDelay\")"
   ]
  },
  {
   "cell_type": "code",
   "execution_count": 50,
   "metadata": {},
   "outputs": [
    {
     "data": {
      "text/plain": [
       "0.08921162142633976"
      ]
     },
     "execution_count": 50,
     "metadata": {},
     "output_type": "execute_result"
    }
   ],
   "source": [
    "bd5.corr(\"RetrasoNeto\", \"DepDelay\")"
   ]
  },
  {
   "cell_type": "markdown",
   "metadata": {},
   "source": [
    "Podemos ver la relación entre algunas variables de manera gráfica:"
   ]
  },
  {
   "cell_type": "code",
   "execution_count": 51,
   "metadata": {},
   "outputs": [
    {
     "data": {
      "text/plain": [
       "<seaborn.axisgrid.JointGrid at 0x7faa91057650>"
      ]
     },
     "execution_count": 51,
     "metadata": {},
     "output_type": "execute_result"
    },
    {
     "data": {
      "image/png": "[encoded data removed]",
      "text/plain": [
       "<Figure size 432x432 with 3 Axes>"
      ]
     },
     "metadata": {
      "needs_background": "light"
     },
     "output_type": "display_data"
    }
   ],
   "source": [
    "sb.jointplot(x=\"DepDelay\", y=\"ArrDelay\", data=df3)"
   ]
  },
  {
   "cell_type": "code",
   "execution_count": 52,
   "metadata": {},
   "outputs": [
    {
     "data": {
      "text/plain": [
       "<seaborn.axisgrid.JointGrid at 0x7faa642d8b50>"
      ]
     },
     "execution_count": 52,
     "metadata": {},
     "output_type": "execute_result"
    },
    {
     "data": {
      "image/png": "[encoded data removed]",
      "text/plain": [
       "<Figure size 432x432 with 3 Axes>"
      ]
     },
     "metadata": {
      "needs_background": "light"
     },
     "output_type": "display_data"
    }
   ],
   "source": [
    "sb.jointplot(x=\"DepDelay\", y=\"RetrasoNeto\", data=df3)"
   ]
  },
  {
   "cell_type": "markdown",
   "metadata": {},
   "source": [
    "<div id=\"ml\" />\n",
    "\n",
    "## Machine Learninig\n",
    "\n",
    "[Documentación Sparkml](https://spark.apache.org/docs/2.1.0/ml-guide.html)"
   ]
  },
  {
   "cell_type": "markdown",
   "metadata": {},
   "source": [
    "<div id=\"manipulacion\" />\n",
    "\n",
    "### Manipulación de variables (Feature Extraction)\n",
    "\n",
    "[Extracción, transformación y selección de caracteríticas (features)](https://spark.apache.org/docs/2.1.0/ml-features.html)"
   ]
  },
  {
   "cell_type": "markdown",
   "metadata": {},
   "source": [
    "<div id=\"dummy\" />\n",
    "\n",
    "#### Variables \"dummy\"\n",
    "\n",
    "Creamos variable \"dummy\" a partir de variable *Horario*:"
   ]
  },
  {
   "cell_type": "code",
   "execution_count": 53,
   "metadata": {},
   "outputs": [
    {
     "data": {
      "text/html": [
       "<div>\n",
       "<style scoped>\n",
       "    .dataframe tbody tr th:only-of-type {\n",
       "        vertical-align: middle;\n",
       "    }\n",
       "\n",
       "    .dataframe tbody tr th {\n",
       "        vertical-align: top;\n",
       "    }\n",
       "\n",
       "    .dataframe thead th {\n",
       "        text-align: right;\n",
       "    }\n",
       "</style>\n",
       "<table border=\"1\" class=\"dataframe\">\n",
       "  <thead>\n",
       "    <tr style=\"text-align: right;\">\n",
       "      <th></th>\n",
       "      <th>Horario</th>\n",
       "      <th>Horario1</th>\n",
       "      <th>Horario2</th>\n",
       "      <th>Horario3</th>\n",
       "    </tr>\n",
       "  </thead>\n",
       "  <tbody>\n",
       "    <tr>\n",
       "      <th>0</th>\n",
       "      <td>2</td>\n",
       "      <td>False</td>\n",
       "      <td>True</td>\n",
       "      <td>False</td>\n",
       "    </tr>\n",
       "    <tr>\n",
       "      <th>1</th>\n",
       "      <td>2</td>\n",
       "      <td>False</td>\n",
       "      <td>True</td>\n",
       "      <td>False</td>\n",
       "    </tr>\n",
       "    <tr>\n",
       "      <th>2</th>\n",
       "      <td>2</td>\n",
       "      <td>False</td>\n",
       "      <td>True</td>\n",
       "      <td>False</td>\n",
       "    </tr>\n",
       "  </tbody>\n",
       "</table>\n",
       "</div>"
      ],
      "text/plain": [
       "   Horario  Horario1  Horario2  Horario3\n",
       "0        2     False      True     False\n",
       "1        2     False      True     False\n",
       "2        2     False      True     False"
      ]
     },
     "execution_count": 53,
     "metadata": {},
     "output_type": "execute_result"
    }
   ],
   "source": [
    "dummy = bd5.withColumn(\"Horario1\", (bd5.Horario == 1)).withColumn(\"Horario2\", (bd5.Horario == 2)).withColumn(\"Horario3\", (bd5.Horario == 3))\n",
    "dummy.select(\"Horario\", \"Horario1\", \"Horario2\", \"Horario3\").toPandas().head(3)"
   ]
  },
  {
   "cell_type": "markdown",
   "metadata": {},
   "source": [
    "<div id=\"binarias\" />\n",
    "\n",
    "#### Variables discretas binarias\n",
    "\n",
    "Creamos variable binaria cuyo valor será 0 o 1 a partir de la variable *DepDelay*, siendo 15 el valor de corte:"
   ]
  },
  {
   "cell_type": "code",
   "execution_count": 54,
   "metadata": {},
   "outputs": [
    {
     "name": "stdout",
     "output_type": "stream",
     "text": [
      "+--------+---------+\n",
      "|DepDelay|SalidaBin|\n",
      "+--------+---------+\n",
      "|    98.0|      1.0|\n",
      "|    38.0|      1.0|\n",
      "|   -15.0|      0.0|\n",
      "|   304.0|      1.0|\n",
      "|   108.0|      1.0|\n",
      "|     2.0|      0.0|\n",
      "+--------+---------+\n",
      "only showing top 6 rows\n",
      "\n",
      "+---------+\n",
      "|SalidaBin|\n",
      "+---------+\n",
      "|      0.0|\n",
      "|      1.0|\n",
      "+---------+\n",
      "\n"
     ]
    }
   ],
   "source": [
    "from pyspark.ml.feature import Binarizer\n",
    "\n",
    "binarizer = Binarizer(threshold=15.0, inputCol=\"DepDelay\", outputCol=\"SalidaBin\")\n",
    "binarizer.transform(bd5).select(\"DepDelay\", \"SalidaBin\").distinct().show(6)\n",
    "binarizer.transform(bd5).select(\"SalidaBin\").distinct().show()"
   ]
  },
  {
   "cell_type": "markdown",
   "metadata": {},
   "source": [
    "<div id=\"buckets\" />\n",
    "\n",
    "#### Variables discretizadas en buckets\n",
    "\n",
    "Creamos un \"bucket\" con tres valores posibles a partir de la variable *DepDelay*:"
   ]
  },
  {
   "cell_type": "code",
   "execution_count": 55,
   "metadata": {},
   "outputs": [
    {
     "name": "stdout",
     "output_type": "stream",
     "text": [
      "+---------+\n",
      "|SalidaCat|\n",
      "+---------+\n",
      "|      0.0|\n",
      "|      1.0|\n",
      "|      2.0|\n",
      "+---------+\n",
      "\n"
     ]
    }
   ],
   "source": [
    "from pyspark.ml.feature import Bucketizer\n",
    "\n",
    "bucketizer = Bucketizer(splits=[-float(\"inf\"), 0.0, 15.0, float(\"inf\")],\n",
    "                        inputCol=\"DepDelay\", outputCol=\"SalidaBin\")\n",
    "\n",
    "bucketizer.transform(bd5).select(\"SalidaCat\").distinct().show()"
   ]
  },
  {
   "cell_type": "markdown",
   "metadata": {},
   "source": [
    "Pyspark incluye otras transformaciones, por ejemplo *QuantileDiscretizer* que se pueden consultar en la [documentación oficial](https://spark.apache.org/docs/2.1.0/ml-features.html)."
   ]
  },
  {
   "cell_type": "markdown",
   "metadata": {},
   "source": [
    "<div id=\"polinomica\" />\n",
    "\n",
    "#### Expansión polinómica de variables\n",
    "\n",
    " Consiste en expandir las variables en un espacio polinómico, el cual será una combinación n-dimensional de las variables originales. La expansión puede ser en términos cuadráticos, productos, etc)"
   ]
  },
  {
   "cell_type": "code",
   "execution_count": 56,
   "metadata": {},
   "outputs": [
    {
     "data": {
      "text/plain": [
       "[Row(DepDelay=-5.0, Distance=1235.0, Polyn=DenseVector([-5.0, 25.0, 1235.0, -6175.0, 1525225.0])),\n",
       " Row(DepDelay=5.0, Distance=1235.0, Polyn=DenseVector([5.0, 25.0, 1235.0, 6175.0, 1525225.0])),\n",
       " Row(DepDelay=-3.0, Distance=1235.0, Polyn=DenseVector([-3.0, 9.0, 1235.0, -3705.0, 1525225.0])),\n",
       " Row(DepDelay=-7.0, Distance=1235.0, Polyn=DenseVector([-7.0, 49.0, 1235.0, -8645.0, 1525225.0])),\n",
       " Row(DepDelay=-6.0, Distance=1235.0, Polyn=DenseVector([-6.0, 36.0, 1235.0, -7410.0, 1525225.0]))]"
      ]
     },
     "execution_count": 56,
     "metadata": {},
     "output_type": "execute_result"
    }
   ],
   "source": [
    "from pyspark.ml.feature import VectorAssembler as VA\n",
    "from pyspark.ml.feature import PolynomialExpansion\n",
    "\n",
    "assembler = VA(inputCols=[\"DepDelay\", \"Distance\"],\n",
    "               outputCol=\"features\")\n",
    "\n",
    "px = PolynomialExpansion(degree=2,\n",
    "                         inputCol=\"features\",\n",
    "                         outputCol=\"Polyn\")\n",
    "\n",
    "bd51 = px.transform(assembler.transform(bd5))\n",
    "\n",
    "bd51.select(\"DepDelay\", \"Distance\", \"Polyn\").head(5)"
   ]
  },
  {
   "cell_type": "markdown",
   "metadata": {},
   "source": [
    "Donde nuestro vector *Polyn* está compuesto por los valores de nuestros vectores de entrada, su producto y su valor al cuadrado."
   ]
  },
  {
   "cell_type": "markdown",
   "metadata": {},
   "source": [
    "<div id=\"scaler\" />\n",
    "\n",
    "#### Normalización de variables\n",
    "\n",
    "La normalización o estandarización garantiza que variables con valores situados muy en los extremos no tengan un peso excesivo en la función objetivo. En principio se desea que la media sea cero y la desviación estándar sea 1."
   ]
  },
  {
   "cell_type": "code",
   "execution_count": 57,
   "metadata": {},
   "outputs": [
    {
     "name": "stdout",
     "output_type": "stream",
     "text": [
      "+-------------+--------------------+\n",
      "|     features|         stdfeatures|\n",
      "+-------------+--------------------+\n",
      "|[-5.0,1235.0]|[-0.4459454808573...|\n",
      "| [5.0,1235.0]|[-0.2452533483159...|\n",
      "|[-3.0,1235.0]|[-0.4058070543490...|\n",
      "|[-7.0,1235.0]|[-0.4860839073656...|\n",
      "|[-6.0,1235.0]|[-0.4660146941114...|\n",
      "|[-1.0,1235.0]|[-0.3656686278407...|\n",
      "| [0.0,1235.0]|[-0.3455994145866...|\n",
      "| [0.0,1235.0]|[-0.3455994145866...|\n",
      "|[-1.0,1235.0]|[-0.3656686278407...|\n",
      "|[-1.0,1235.0]|[-0.3656686278407...|\n",
      "| [1.0,1235.0]|[-0.3255302013325...|\n",
      "|[-2.0,1235.0]|[-0.3857378410949...|\n",
      "|[-4.0,1235.0]|[-0.4258762676032...|\n",
      "|[-1.0,1235.0]|[-0.3656686278407...|\n",
      "| [0.0,1235.0]|[-0.3455994145866...|\n",
      "| [0.0,1235.0]|[-0.3455994145866...|\n",
      "|[13.0,1235.0]|[-0.0846996422828...|\n",
      "|[17.0,1235.0]|[-0.0044227892663...|\n",
      "|[12.0,1235.0]|[-0.1047688555370...|\n",
      "|[19.0,1235.0]|[0.03571563724193...|\n",
      "+-------------+--------------------+\n",
      "only showing top 20 rows\n",
      "\n"
     ]
    }
   ],
   "source": [
    "from pyspark.ml.feature import StandardScaler\n",
    "\n",
    "scaler = StandardScaler(inputCol=\"features\", outputCol=\"stdfeatures\",\n",
    "                        withStd=True, withMean=True)\n",
    "scaler_model = scaler.fit(bd51)\n",
    "bd51std = scaler_model.transform(bd51)\n",
    "\n",
    "bd51std.select(\"features\", \"stdfeatures\").show()"
   ]
  },
  {
   "cell_type": "markdown",
   "metadata": {},
   "source": [
    "A pesar de las funciones implementadas por pyspark, siempre podremos hacer una transformación manual de los datos:"
   ]
  },
  {
   "cell_type": "code",
   "execution_count": 58,
   "metadata": {},
   "outputs": [],
   "source": [
    "# Transformación manual de ejemplo a partir del dataset de expansión polinómica\n",
    "\n",
    "manual = bd.withColumn(\"DepDelay2\", (bd51.DepDelay**2)).withColumn(\"DepD_Distance\", (bd51.DepDelay * bd51.Distance))"
   ]
  },
  {
   "cell_type": "markdown",
   "metadata": {},
   "source": [
    "<div id=\"lr\" />\n",
    "\n",
    "### Regresión lineal\n",
    "\n",
    "[Documentación Linear Regression](https://spark.apache.org/docs/2.1.0/ml-classification-regression.html#linear-regression)\n",
    "\n",
    "A partir del dataset *bd5* hemos visto que las variables *ArrDelay* y *DepDelay* se relacionan entre sí de forma lineal.\n",
    "\n",
    "**Modelo Teórico:**\n",
    "\n",
    "$Y_i = \\beta_0 + \\beta_1 X_{1}$\n",
    "<br>\n",
    "ArrDelay $=\\beta_0 + \\beta_1$DepDelay"
   ]
  },
  {
   "cell_type": "code",
   "execution_count": 59,
   "metadata": {},
   "outputs": [
    {
     "name": "stdout",
     "output_type": "stream",
     "text": [
      "+-----+--------+-------------------+\n",
      "|label|features|         prediction|\n",
      "+-----+--------+-------------------+\n",
      "|-53.0|  [-8.0]|-12.702316577102028|\n",
      "|-49.0|  [-4.0]| -8.589660127045981|\n",
      "|-48.0|  [-7.0]|-11.674152464588015|\n",
      "|-42.0|  [-3.0]|  -7.56149601453197|\n",
      "|-38.0|  [-8.0]|-12.702316577102028|\n",
      "+-----+--------+-------------------+\n",
      "only showing top 5 rows\n",
      "\n",
      "Intercept: -4.477003676989936\n",
      "Coefficients: [1.0281641125140115]\n",
      " \n",
      "RMSE test: 15.404711237704518\n",
      "MAE test: 10.752212057508162\n",
      "R2 test: 0.9098912259868307\n",
      "R2 training: 0.918469\n"
     ]
    }
   ],
   "source": [
    "#from pyspark.ml.feature import VectorAssembler as VA\n",
    "from pyspark.ml.regression import LinearRegression\n",
    "from pyspark.ml.evaluation import RegressionEvaluator\n",
    "#from pyspark.sql.functions import col\n",
    "\n",
    "# Creamos un VectorAssembler (vector de características)\n",
    "\n",
    "assembler = VA(inputCols=[\"DepDelay\"], outputCol=\"features\")\n",
    "bd6 = assembler.transform(bd5).select(col(\"ArrDelay\").alias(\"label\"), \"features\")\n",
    "#bd6.show(3)\n",
    "\n",
    "# Creamos conjunto entrenamiento y test.\n",
    "\n",
    "splits = bd6.randomSplit([0.7, 0.3], 1234)\n",
    "train = splits[0]\n",
    "test = splits[1]\n",
    "\n",
    "# Definimos los algoritmos de regresión indicando la columna target=eruptions.\n",
    "# Aplicamos el modelo sobre el conjunto de entrenamiento.\n",
    "\n",
    "lr = LinearRegression(maxIter=5, regParam=0.0, solver=\"normal\", labelCol=\"label\", featuresCol=\"features\")\n",
    "lr_model = lr.fit(train)\n",
    "\n",
    "predict_train = lr_model.transform(train)\n",
    "predict_test = lr_model.transform(test)\n",
    "predict_test.show(5)\n",
    "\n",
    "# Obtenemos algunos parámetros del modelo.\n",
    "\n",
    "print(\"Intercept: {0}\".format(lr_model.intercept))\n",
    "print(\"Coefficients: {0}\".format(lr_model.coefficients))\n",
    "print(\" \")\n",
    "\n",
    "# Usamos un evaluador para conocer el error de entrenamiento y test.\n",
    "\n",
    "ev = RegressionEvaluator(labelCol = \"label\")\n",
    "print(\"RMSE test: {0}\".format(ev.evaluate(predict_test, {ev.metricName: \"rmse\"})))\n",
    "print(\"MAE test: {0}\".format(ev.evaluate(predict_test, {ev.metricName: \"mae\"})))\n",
    "print(\"R2 test: {0}\".format(ev.evaluate(predict_test, {ev.metricName: \"r2\"})))\n",
    "\n",
    "trainingSummary = lr_model.summary\n",
    "print(\"R2 training: %f\" % trainingSummary.r2)\n",
    "\n",
    "#print(RegressionEvaluator(metricName=\"rmse\").evaluate(predict_train))\n",
    "#print(RegressionEvaluator(metricName=\"r2\").evaluate(predict_train))\n",
    "#print(RegressionEvaluator(metricName=\"mae\").evaluate(predict_train))"
   ]
  },
  {
   "cell_type": "code",
   "execution_count": 60,
   "metadata": {},
   "outputs": [
    {
     "data": {
      "text/plain": [
       "<seaborn.axisgrid.JointGrid at 0x7faa5cccf4d0>"
      ]
     },
     "execution_count": 60,
     "metadata": {},
     "output_type": "execute_result"
    },
    {
     "data": {
      "image/png": "[encoded data removed]",
      "text/plain": [
       "<Figure size 432x432 with 3 Axes>"
      ]
     },
     "metadata": {
      "needs_background": "light"
     },
     "output_type": "display_data"
    }
   ],
   "source": [
    "pdpred = predict_test.toPandas()\n",
    "sb.jointplot(x=\"prediction\", y=\"label\", data=pdpred, kind=\"reg\")"
   ]
  },
  {
   "cell_type": "markdown",
   "metadata": {},
   "source": [
    "<div id=\"lrg\" />\n",
    "\n",
    "### Regresión lineal generalizada\n",
    "\n",
    "Usaremos el mismo método del punto anterior pero esta vez sobre un dataset con varias variables.\n",
    "\n",
    "**Modelo Teórico:**\n",
    "\n",
    "$Y_i = \\beta_0 + \\beta_1 X_{1} + ... \\beta_p X_{p}$"
   ]
  },
  {
   "cell_type": "code",
   "execution_count": 61,
   "metadata": {},
   "outputs": [
    {
     "data": {
      "text/plain": [
       "['Year',\n",
       " 'Month',\n",
       " 'DayofMonth',\n",
       " 'DayOfWeek',\n",
       " 'CRSDepTime',\n",
       " 'UniqueCarrier',\n",
       " 'TailNum',\n",
       " 'ArrDelay',\n",
       " 'DepDelay',\n",
       " 'Origin',\n",
       " 'Dest',\n",
       " 'Distance',\n",
       " 'Cancelled',\n",
       " 'Diverted',\n",
       " 'CarrierDelay',\n",
       " 'WeatherDelay',\n",
       " 'NASDelay',\n",
       " 'SecurityDelay',\n",
       " 'LateAircraftDelay',\n",
       " 'LogD',\n",
       " 'Retraso',\n",
       " 'RetrasoNeto',\n",
       " 'Horario',\n",
       " 'Horario1',\n",
       " 'Horario2',\n",
       " 'Horario3',\n",
       " 'DepDelay2',\n",
       " 'DepD_Distance']"
      ]
     },
     "execution_count": 61,
     "metadata": {},
     "output_type": "execute_result"
    }
   ],
   "source": [
    "# Construimos nuevo dataset bd5 a partir del dataset dummy y una transformación \"manual\" de variables\n",
    "\n",
    "bd5 = dummy.withColumn(\"DepDelay2\", (dummy.DepDelay**2)).withColumn(\"DepD_Distance\", (dummy.DepDelay * dummy.Distance))\n",
    "bd5.columns"
   ]
  },
  {
   "cell_type": "markdown",
   "metadata": {},
   "source": [
    "Veamos como se relacionan algunas de las variables:"
   ]
  },
  {
   "cell_type": "code",
   "execution_count": 62,
   "metadata": {},
   "outputs": [
    {
     "data": {
      "text/html": [
       "<div>\n",
       "<style scoped>\n",
       "    .dataframe tbody tr th:only-of-type {\n",
       "        vertical-align: middle;\n",
       "    }\n",
       "\n",
       "    .dataframe tbody tr th {\n",
       "        vertical-align: top;\n",
       "    }\n",
       "\n",
       "    .dataframe thead th {\n",
       "        text-align: right;\n",
       "    }\n",
       "</style>\n",
       "<table border=\"1\" class=\"dataframe\">\n",
       "  <thead>\n",
       "    <tr style=\"text-align: right;\">\n",
       "      <th></th>\n",
       "      <th>ArrDelay</th>\n",
       "      <th>DepDelay</th>\n",
       "      <th>DayOfWeek</th>\n",
       "      <th>CRSDepTime</th>\n",
       "      <th>Retraso</th>\n",
       "      <th>DepDelay2</th>\n",
       "      <th>DepD_Distance</th>\n",
       "    </tr>\n",
       "  </thead>\n",
       "  <tbody>\n",
       "    <tr>\n",
       "      <th>ArrDelay</th>\n",
       "      <td>1.000000</td>\n",
       "      <td>0.958098</td>\n",
       "      <td>0.060976</td>\n",
       "      <td>0.135245</td>\n",
       "      <td>0.651387</td>\n",
       "      <td>0.726085</td>\n",
       "      <td>0.820244</td>\n",
       "    </tr>\n",
       "    <tr>\n",
       "      <th>DepDelay</th>\n",
       "      <td>0.958098</td>\n",
       "      <td>1.000000</td>\n",
       "      <td>0.062613</td>\n",
       "      <td>0.132016</td>\n",
       "      <td>0.570681</td>\n",
       "      <td>0.764839</td>\n",
       "      <td>0.867182</td>\n",
       "    </tr>\n",
       "    <tr>\n",
       "      <th>DayOfWeek</th>\n",
       "      <td>0.060976</td>\n",
       "      <td>0.062613</td>\n",
       "      <td>1.000000</td>\n",
       "      <td>-0.018397</td>\n",
       "      <td>0.017620</td>\n",
       "      <td>0.035459</td>\n",
       "      <td>0.050611</td>\n",
       "    </tr>\n",
       "    <tr>\n",
       "      <th>CRSDepTime</th>\n",
       "      <td>0.135245</td>\n",
       "      <td>0.132016</td>\n",
       "      <td>-0.018397</td>\n",
       "      <td>1.000000</td>\n",
       "      <td>0.142320</td>\n",
       "      <td>0.048386</td>\n",
       "      <td>0.090008</td>\n",
       "    </tr>\n",
       "    <tr>\n",
       "      <th>Retraso</th>\n",
       "      <td>0.651387</td>\n",
       "      <td>0.570681</td>\n",
       "      <td>0.017620</td>\n",
       "      <td>0.142320</td>\n",
       "      <td>1.000000</td>\n",
       "      <td>0.202895</td>\n",
       "      <td>0.426554</td>\n",
       "    </tr>\n",
       "    <tr>\n",
       "      <th>DepDelay2</th>\n",
       "      <td>0.726085</td>\n",
       "      <td>0.764839</td>\n",
       "      <td>0.035459</td>\n",
       "      <td>0.048386</td>\n",
       "      <td>0.202895</td>\n",
       "      <td>1.000000</td>\n",
       "      <td>0.807317</td>\n",
       "    </tr>\n",
       "    <tr>\n",
       "      <th>DepD_Distance</th>\n",
       "      <td>0.820244</td>\n",
       "      <td>0.867182</td>\n",
       "      <td>0.050611</td>\n",
       "      <td>0.090008</td>\n",
       "      <td>0.426554</td>\n",
       "      <td>0.807317</td>\n",
       "      <td>1.000000</td>\n",
       "    </tr>\n",
       "  </tbody>\n",
       "</table>\n",
       "</div>"
      ],
      "text/plain": [
       "               ArrDelay  DepDelay  DayOfWeek  CRSDepTime   Retraso  DepDelay2  \\\n",
       "ArrDelay       1.000000  0.958098   0.060976    0.135245  0.651387   0.726085   \n",
       "DepDelay       0.958098  1.000000   0.062613    0.132016  0.570681   0.764839   \n",
       "DayOfWeek      0.060976  0.062613   1.000000   -0.018397  0.017620   0.035459   \n",
       "CRSDepTime     0.135245  0.132016  -0.018397    1.000000  0.142320   0.048386   \n",
       "Retraso        0.651387  0.570681   0.017620    0.142320  1.000000   0.202895   \n",
       "DepDelay2      0.726085  0.764839   0.035459    0.048386  0.202895   1.000000   \n",
       "DepD_Distance  0.820244  0.867182   0.050611    0.090008  0.426554   0.807317   \n",
       "\n",
       "               DepD_Distance  \n",
       "ArrDelay            0.820244  \n",
       "DepDelay            0.867182  \n",
       "DayOfWeek           0.050611  \n",
       "CRSDepTime          0.090008  \n",
       "Retraso             0.426554  \n",
       "DepDelay2           0.807317  \n",
       "DepD_Distance       1.000000  "
      ]
     },
     "execution_count": 62,
     "metadata": {},
     "output_type": "execute_result"
    }
   ],
   "source": [
    "pdf5 = bd5.sample(False, 0.1, 0).select(\"ArrDelay\", \"DepDelay\", \"DayOfWeek\", \"CRSDepTime\", \"Retraso\", \"DepDelay2\", \"DepD_Distance\").toPandas()\n",
    "pdf5.corr()"
   ]
  },
  {
   "cell_type": "markdown",
   "metadata": {},
   "source": [
    "Ahora entrenaremos un modelo de regresión lineal:"
   ]
  },
  {
   "cell_type": "code",
   "execution_count": 63,
   "metadata": {
    "scrolled": true
   },
   "outputs": [
    {
     "name": "stdout",
     "output_type": "stream",
     "text": [
      "Intercept: -4.58593197411666\n",
      "Coefficients: [1.058901192293857,-0.0027942886404939437,0.1353545617326008,0.0014577574612006884,-0.3699415183823557,1.2926438703537513,-0.14448431954187826,-1.4205638849480756e-05,-2.4059953721582202e-05]\n",
      " \n",
      "RMSE test: 15.245728436982661\n",
      "MAE test: 10.69176455845243\n",
      "R2 test: 0.9151017108987907\n",
      "R2 training: 0.918879\n"
     ]
    }
   ],
   "source": [
    "#from pyspark.ml.feature import VectorAssembler\n",
    "#from pyspark.sql.functions import col\n",
    "#from pyspark.ml.regression import LinearRegression\n",
    "\n",
    "# Baseremos nuestro modelo de acuerdo a las siguientes variables\n",
    "\n",
    "a1 = VA(inputCols=[\"DepDelay\", \"Distance\", \"DayOfWeek\", \n",
    "                   \"CRSDepTime\", \"Horario1\", \"Horario2\", \n",
    "                   \"Horario3\", \"DepDelay2\", \"DepD_Distance\"],\n",
    "        outputCol=\"features\")\n",
    "\n",
    "bd6 = a1.transform(bd5).select(col(\"ArrDelay\").alias(\"label\"), \"features\")\n",
    "#bd6.show(3)\n",
    "\n",
    "splits = bd6.randomSplit([0.7, 0.3], 8557)\n",
    "train = splits[0]\n",
    "test = splits[1]\n",
    "\n",
    "lr = LinearRegression(maxIter=5, regParam=0.0, solver=\"normal\", labelCol=\"label\", featuresCol=\"features\")\n",
    "lr_model = lr.fit(train)\n",
    "\n",
    "predict_train = lr_model.transform(train)\n",
    "predict_test = lr_model.transform(test)\n",
    "#predict_test.show(3)\n",
    "\n",
    "print(\"Intercept: {0}\".format(lr_model.intercept))\n",
    "print(\"Coefficients: {0}\".format(lr_model.coefficients))\n",
    "print(\" \")\n",
    "\n",
    "ev = RegressionEvaluator(labelCol = \"label\")\n",
    "print(\"RMSE test: {0}\".format(ev.evaluate(predict_test, {ev.metricName: \"rmse\"})))\n",
    "print(\"MAE test: {0}\".format(ev.evaluate(predict_test, {ev.metricName: \"mae\"})))\n",
    "print(\"R2 test: {0}\".format(ev.evaluate(predict_test, {ev.metricName: \"r2\"})))\n",
    "\n",
    "trainingSummary = lr_model.summary\n",
    "print(\"R2 training: %f\" % trainingSummary.r2)"
   ]
  },
  {
   "cell_type": "code",
   "execution_count": 64,
   "metadata": {},
   "outputs": [
    {
     "data": {
      "text/plain": [
       "<seaborn.axisgrid.JointGrid at 0x7faa5adb8090>"
      ]
     },
     "execution_count": 64,
     "metadata": {},
     "output_type": "execute_result"
    },
    {
     "data": {
      "image/png": "[encoded data removed]",
      "text/plain": [
       "<Figure size 432x432 with 3 Axes>"
      ]
     },
     "metadata": {
      "needs_background": "light"
     },
     "output_type": "display_data"
    }
   ],
   "source": [
    "pred = predict_test.withColumn(\"residual\", predict_test.label - predict_test.prediction)\n",
    "\n",
    "pdpred = pred.toPandas()\n",
    "sb.jointplot(x=\"prediction\", y=\"residual\", data=pdpred)"
   ]
  },
  {
   "cell_type": "markdown",
   "metadata": {},
   "source": [
    "A partir de aquí, un paso que puede ser interesante, sobre todo, cuando el conjunto de variables explicativas es muy elevado y existen muchas variables cuyo sentido no queda claro del todo, es filtrar aquellos coeficientes para eliminar aquellas variables del modelo que no contribuyen especialmente a la predicción de los casos. Tendría sentido eliminar coeficientes de magnitud relativamente pequeña.\n",
    "\n",
    "No obstante, los coeficientes también tienen relación con la magnitud de la variable explicativa en cuestión: variables expresadas en magnitudes elevadas normalmente conllevarán coeficientes pequeños y viceversa. Por lo tanto, necesitamos alguna herramienta que sepa distinguir cuando coeficientes de cierta magnitud no contribuyen especialmente a la predicción. \n",
    "\n",
    "Para ello, se aplican técnicas de regularización con el objetivo de seleccionar las variables de interés."
   ]
  },
  {
   "cell_type": "markdown",
   "metadata": {},
   "source": [
    "<div id=\"regularizacion\" />\n",
    "\n",
    "#### Selección de variables y regularización\n",
    "\n",
    "Esta estrategia se basa en obtener la función de interés\n",
    "penalizando según su complejidad. Ya que se trata de un modelo de regresión, la complejidad solo se puede obtener a partir de los coeficientes del modelo. \n",
    "\n",
    "La función a optimizar es la siguiente:\n",
    "\n",
    "$\\sum{V(Y_i,f(X_i))} +\\lambda C(f)$\n",
    "\n",
    "La complejidad del modelo se va a obtener a partir de una transformación de una función que pondere el peso de todos estos coeficientes. En regresión lineal se desarrolla tal que:\n",
    "\n",
    "$\\sum{(Y_i - f(X_i))^2} +\\lambda \\sum{\\beta^\\alpha}$\n",
    "\n",
    "Siendo el parámetro $\\lambda$ el que va a penalizar el criterio de maximización. Cuando $\\lambda=0$ no hay penalización y se aplica el modelo de regresión estándar. La penalización en norma L2 se llama penalización Ridge o regresión Ridge, la penalización en norma L1 se llama regresión Lasso.\n",
    "\n",
    "- **Ordinary Least Squares (OLS)** (ninguna regularización): `regParam = 0`\n",
    "    \n",
    "- **L2 (ridge regression)**: `elasticNetParam = 0, regParam > 0`\n",
    "\n",
    "- **L1 (lasso)**: `elasticNetParam = 1, regParam > 0`\n",
    "\n",
    "- **L2+L1 (elastic net)**: `0 < elasticNetParam < 1, regParam > 0`\n",
    "\n",
    "El parámetro `regParam` es arbitrario y tendríamos que analizar propuestas para encontrar el más óptimo.\n",
    "\n",
    "Lasso se corresponde con una penalización en valor absoluto, mientras que Ridge se corresponde con una penalización en términos cuadráticos de los coeficientes."
   ]
  },
  {
   "cell_type": "markdown",
   "metadata": {},
   "source": [
    "Veamos unos ejemplos de regularización y comparemos con nuestro modelo anterior."
   ]
  },
  {
   "cell_type": "markdown",
   "metadata": {},
   "source": [
    "<div id=\"ridge\" />\n",
    "\n",
    "##### Ridge Regression"
   ]
  },
  {
   "cell_type": "code",
   "execution_count": 65,
   "metadata": {},
   "outputs": [
    {
     "name": "stdout",
     "output_type": "stream",
     "text": [
      "Intercept: -1.7209018610029796\n",
      "Coefficients: [0.7875398888352265,-0.0052980192691535815,0.24366810346305534,0.0023879126258369875,-1.146780690462629,0.8538081104201649,-0.1689963353576372,5.609588535428105e-05,0.0001383731086805366]\n",
      " \n",
      "RMSE test: 16.303241079892214\n",
      "MAE test: 11.484935309295937\n",
      "R2 test: 0.9029153699224923\n",
      "R2 training: 0.904506\n"
     ]
    }
   ],
   "source": [
    "lr = LinearRegression(maxIter=5, regParam=5.0, elasticNetParam=0.0, solver=\"normal\", labelCol=\"label\", featuresCol=\"features\")\n",
    "lr_model = lr.fit(train)\n",
    "\n",
    "predict_train = lr_model.transform(train)\n",
    "predict_test = lr_model.transform(test)\n",
    "#predict_test.show(3)\n",
    "\n",
    "print(\"Intercept: {0}\".format(lr_model.intercept))\n",
    "print(\"Coefficients: {0}\".format(lr_model.coefficients))\n",
    "print(\" \")\n",
    "\n",
    "ev = RegressionEvaluator(labelCol=\"label\")\n",
    "print(\"RMSE test: {0}\".format(ev.evaluate(predict_test, {ev.metricName: \"rmse\"})))\n",
    "print(\"MAE test: {0}\".format(ev.evaluate(predict_test, {ev.metricName: \"mae\"})))\n",
    "print(\"R2 test: {0}\".format(ev.evaluate(predict_test, {ev.metricName: \"r2\"})))\n",
    "\n",
    "trainingSummary = lr_model.summary\n",
    "print(\"R2 training: %f\" % trainingSummary.r2)"
   ]
  },
  {
   "cell_type": "markdown",
   "metadata": {},
   "source": [
    "La penalización ha provocado un menor ajuste. Esto es natural puesto que estamos encogiendo la magnitud de los coeficientes para satisfacer la propuesta de modelización. \n",
    "\n",
    "Vemos así algunos coeficientes que prácticamente son 0 y el término R2 es sensiblemente menor. "
   ]
  },
  {
   "cell_type": "markdown",
   "metadata": {},
   "source": [
    "<div id=\"lasso\" />\n",
    "\n",
    "##### Lasso Regression"
   ]
  },
  {
   "cell_type": "code",
   "execution_count": 66,
   "metadata": {},
   "outputs": [
    {
     "name": "stdout",
     "output_type": "stream",
     "text": [
      "Intercept: -2.1850292998620024\n",
      "Coefficients: [0.8683895520579525,0.0,0.0,0.0,0.0,0.0,0.0,0.0,3.49941879183081e-05]\n",
      " \n",
      "RMSE test: 16.57068808543913\n",
      "MAE test: 11.600896514501981\n",
      "R2 test: 0.8997039881822201\n",
      "R2 training: 0.902058\n"
     ]
    }
   ],
   "source": [
    "lr = LinearRegression(maxIter=5, regParam=5, elasticNetParam=1.0, solver=\"normal\", labelCol=\"label\", featuresCol=\"features\")\n",
    "lr_model = lr.fit(train)\n",
    "\n",
    "predict_train = lr_model.transform(train)\n",
    "predict_test = lr_model.transform(test)\n",
    "#predict_test.show(3)\n",
    "\n",
    "print(\"Intercept: {0}\".format(lr_model.intercept))\n",
    "print(\"Coefficients: {0}\".format(lr_model.coefficients))\n",
    "print(\" \")\n",
    "\n",
    "ev = RegressionEvaluator(labelCol=\"label\")\n",
    "print(\"RMSE test: {0}\".format(ev.evaluate(predict_test, {ev.metricName: \"rmse\"})))\n",
    "print(\"MAE test: {0}\".format(ev.evaluate(predict_test, {ev.metricName: \"mae\"})))\n",
    "print(\"R2 test: {0}\".format(ev.evaluate(predict_test, {ev.metricName: \"r2\"})))\n",
    "\n",
    "trainingSummary = lr_model.summary\n",
    "print(\"R2 training: %f\" % trainingSummary.r2)"
   ]
  },
  {
   "cell_type": "markdown",
   "metadata": {},
   "source": [
    "Algunos de los coeficientes han sido transformados a 0. En este caso sí desaparecen del modelo algunas variables."
   ]
  },
  {
   "cell_type": "markdown",
   "metadata": {},
   "source": [
    "##### ¿La estandaricación de las variables es necesaria?\n",
    "\n",
    "Puesto que la regularización se aplica a los coeficientes, esto genera alguna duda. Genera la duda sobre si la regularización que se aplica a los coeficientes y la magnitud en la que se han medido las variables, puesto que determina también la magnitud de los coeficientes, puede tener algún tipo de efecto.\n",
    "\n",
    "La pregunta es qué pasa si las variables introducidas en el modelo son estandarizadas. Tenemos una opción en la definición del modelo donde, por defecto, está activada el valor True: la estrategia de regularización se basará siempre en los coeficientes de las variables estandarizadas de forma que las magnitudes en las que se miden las variables no va a afectar el resultado.\n",
    "\n",
    "Podemos comprobarlo simplemente modificando este valor a **False**:"
   ]
  },
  {
   "cell_type": "code",
   "execution_count": 67,
   "metadata": {},
   "outputs": [
    {
     "name": "stdout",
     "output_type": "stream",
     "text": [
      "Intercept: -0.12661689248616387\n",
      "Coefficients: [0.8732716821567875,-0.007830170064533288,0.0,0.0031773586744864918,0.0,0.0,0.0,-7.5704711452818e-05,0.0001040158058753625]\n",
      " \n",
      "RMSE test: 16.065368462905937\n",
      "MAE test: 11.304993714503995\n",
      "R2 test: 0.9057277309646932\n",
      "R2 training: 0.906826\n"
     ]
    }
   ],
   "source": [
    "lr = LinearRegression(maxIter=5,\n",
    "                      regParam=5,\n",
    "                      elasticNetParam=1.0,\n",
    "                      solver=\"normal\",\n",
    "                      standardization=False,\n",
    "                      labelCol=\"label\",\n",
    "                      featuresCol=\"features\")\n",
    "lr_model = lr.fit(train)\n",
    "\n",
    "predict_train = lr_model.transform(train)\n",
    "predict_test = lr_model.transform(test)\n",
    "#predict_test.show(3)\n",
    "\n",
    "print(\"Intercept: {0}\".format(lr_model.intercept))\n",
    "print(\"Coefficients: {0}\".format(lr_model.coefficients))\n",
    "print(\" \")\n",
    "\n",
    "ev = RegressionEvaluator(labelCol=\"label\")\n",
    "print(\"RMSE test: {0}\".format(ev.evaluate(predict_test, {ev.metricName: \"rmse\"})))\n",
    "print(\"MAE test: {0}\".format(ev.evaluate(predict_test, {ev.metricName: \"mae\"})))\n",
    "print(\"R2 test: {0}\".format(ev.evaluate(predict_test, {ev.metricName: \"r2\"})))\n",
    "\n",
    "trainingSummary = lr_model.summary\n",
    "print(\"R2 training: %f\" % trainingSummary.r2)"
   ]
  },
  {
   "cell_type": "markdown",
   "metadata": {},
   "source": [
    "Los coeficientes son regularizados sin ningún tipo de estandarización y podemos comprobar cómo el resultado es sensiblemente diferente.\n",
    "\n",
    "En definitiva, estandarizar las variables nos ayuda a escalar los coeficientes del modelo a magnitudes comparables. Sin la estandarización la penalización se basa en los coeficientes brutos."
   ]
  },
  {
   "cell_type": "markdown",
   "metadata": {},
   "source": [
    "<div id=\"rlog\" />\n",
    "\n",
    "### Regresión logística (binaria)\n",
    "\n",
    "La regresión logística es el modelo más empleado en estadística para intentar explicar variables que son binarias a diferencia del modelo de regresión lineal que pretende explicar variables de naturaleza puramente cuantitativa.\n",
    "\n",
    "Los valores predichos se obtinen de\n",
    "\n",
    "$p_i = \\frac{e^{X_i\\beta}}{1+e^{X_i\\beta}}$\n",
    "\n",
    "Siendo $X_i\\beta  = \\beta_0 + \\beta_1 X_{1i} + ... \\beta_p X_{pi}$ los valores de *rawPrediction* obtenidos tras entrenar el modelo."
   ]
  },
  {
   "cell_type": "markdown",
   "metadata": {},
   "source": [
    "A continuación basaremos nuestro análisis en el estudio de la variable binaria de interés *Retraso*, la cual tiene valores 0 o 1:"
   ]
  },
  {
   "cell_type": "code",
   "execution_count": 68,
   "metadata": {},
   "outputs": [
    {
     "name": "stdout",
     "output_type": "stream",
     "text": [
      "+-------+\n",
      "|Retraso|\n",
      "+-------+\n",
      "|      1|\n",
      "|      0|\n",
      "+-------+\n",
      "\n"
     ]
    }
   ],
   "source": [
    "bd5.select(\"Retraso\").distinct().show()"
   ]
  },
  {
   "cell_type": "markdown",
   "metadata": {},
   "source": [
    "Podemos calcular las correlaciones e intentar medir qué tipo de asociación existe entre esta variable y el resto:"
   ]
  },
  {
   "cell_type": "code",
   "execution_count": 69,
   "metadata": {},
   "outputs": [
    {
     "data": {
      "text/plain": [
       "ArrDelay         0.651387\n",
       "DepDelay         0.570681\n",
       "DayOfWeek        0.017620\n",
       "CRSDepTime       0.142320\n",
       "Retraso          1.000000\n",
       "DepDelay2        0.202895\n",
       "DepD_Distance    0.426554\n",
       "Name: Retraso, dtype: float64"
      ]
     },
     "execution_count": 69,
     "metadata": {},
     "output_type": "execute_result"
    }
   ],
   "source": [
    "#pdf5.corr()\n",
    "pdf5.corr()[\"Retraso\"]"
   ]
  },
  {
   "cell_type": "markdown",
   "metadata": {},
   "source": [
    "También podemos representar en términos gráficos la relación entre nuestra variable de interés y otras variables, por ejemplo, el retraso en la salida. Podemos ver cómo, cuando se produce retraso en la llegada, efectivamente hay un gran retraso en la salida, mientras que si no se produce retraso en la llagada, raras veces se produce un retraso en la salida:"
   ]
  },
  {
   "cell_type": "code",
   "execution_count": 70,
   "metadata": {},
   "outputs": [
    {
     "data": {
      "text/plain": [
       "<matplotlib.axes._subplots.AxesSubplot at 0x7faa642b4210>"
      ]
     },
     "execution_count": 70,
     "metadata": {},
     "output_type": "execute_result"
    },
    {
     "data": {
      "image/png": "[encoded data removed]",
      "text/plain": [
       "<Figure size 432x288 with 1 Axes>"
      ]
     },
     "metadata": {
      "needs_background": "light"
     },
     "output_type": "display_data"
    }
   ],
   "source": [
    "sb.boxplot(x=\"Retraso\", y=\"DepDelay\", data=pdf5)"
   ]
  },
  {
   "cell_type": "code",
   "execution_count": 71,
   "metadata": {},
   "outputs": [
    {
     "name": "stdout",
     "output_type": "stream",
     "text": [
      "Intercept: -1.3450531370092904\n",
      "Coefficients: [0.08284955214456273,-0.0007888438911716956,-0.030571612581089133,-0.0001693606600094812,-0.23422732556266226,-0.06621206204052073,-0.1721927046181513,2.188932709797137e-05,4.6186204973628255e-05]\n",
      " \n",
      "areaUnderROC test: 0.9055385631395803\n",
      "areaUnderROC training: 0.9139355503796955\n"
     ]
    }
   ],
   "source": [
    "from pyspark.ml.classification import LogisticRegression\n",
    "from pyspark.ml.evaluation import BinaryClassificationEvaluator as BCE\n",
    "\n",
    "\"\"\"\n",
    "a1 = VA(inputCols=[\"DepDelay\", \"Distance\", \"DayOfWeek\", \n",
    "                   \"CRSDepTime\", \"Horario1\", \"Horario2\", \n",
    "                   \"Horario3\", \"DepDelay2\", \"DepD_Distance\"],\n",
    "        outputCol=\"features\")\n",
    "\"\"\"\n",
    "bd6 = a1.transform(bd5).select(col(\"Retraso\").alias(\"label\"), \"features\")\n",
    "\n",
    "# Al modificar bd6 también debemos actualizar nuestros datos de entrenamiento y test\n",
    "\n",
    "splits = bd6.randomSplit([0.7, 0.3], 1234)\n",
    "train = splits[0]\n",
    "test = splits[1]\n",
    "\n",
    "logr = LogisticRegression(maxIter=10, labelCol=\"label\", featuresCol=\"features\", threshold=0.5)                  \n",
    "logr_model = logr.fit(bd6)\n",
    "\n",
    "predict_train = logr_model.transform(train)\n",
    "predict_test = logr_model.transform(test)\n",
    "#predict_test.show(3)\n",
    "\n",
    "print(\"Intercept: {0}\".format(logr_model.intercept))\n",
    "print(\"Coefficients: {0}\".format(logr_model.coefficients))\n",
    "print(\" \")\n",
    "\n",
    "ev = BCE(rawPredictionCol=\"rawPrediction\", labelCol=\"label\")\n",
    "print(\"areaUnderROC test: {0}\".format(ev.evaluate(predict_test, {ev.metricName: \"areaUnderROC\"})))\n",
    "print(\"areaUnderROC training: {0}\".format(ev.evaluate(predict_train, {ev.metricName: \"areaUnderROC\"})))\n"
   ]
  },
  {
   "cell_type": "markdown",
   "metadata": {},
   "source": [
    "Los valores de *rawPrediction* se obtienen a partir de los coeficientes del modelo y las correspondientes variables explicativas.\n",
    "\n",
    "Los valores de *probability* son transformados a *prediction* empleando un punto de corte (`threshold`) que es un parámetro de `LogisticRegression` y que por defecto es 0.5. Variando este parámetro podemos conseguir mejores resultados del modelo."
   ]
  },
  {
   "cell_type": "code",
   "execution_count": 72,
   "metadata": {},
   "outputs": [
    {
     "name": "stdout",
     "output_type": "stream",
     "text": [
      "+-----+----------+--------------------+--------------------+\n",
      "|label|prediction|       rawPrediction|         probability|\n",
      "+-----+----------+--------------------+--------------------+\n",
      "|    0|       0.0|[1.86918150582410...|[0.86636354246195...|\n",
      "|    0|       0.0|[1.95641029952650...|[0.87614393912271...|\n",
      "|    0|       0.0|[1.96352344724690...|[0.87691376462451...|\n",
      "|    0|       0.0|[2.06584131546371...|[0.88753853549623...|\n",
      "|    0|       0.0|[2.32881929515337...|[0.91123588173431...|\n",
      "+-----+----------+--------------------+--------------------+\n",
      "only showing top 5 rows\n",
      "\n"
     ]
    }
   ],
   "source": [
    "predict_test.select(\"label\", \"prediction\", \"rawPrediction\", \"probability\").show(5)"
   ]
  },
  {
   "cell_type": "code",
   "execution_count": 73,
   "metadata": {},
   "outputs": [
    {
     "name": "stdout",
     "output_type": "stream",
     "text": [
      "+-------+------------------+-------------------+\n",
      "|summary|             label|         prediction|\n",
      "+-------+------------------+-------------------+\n",
      "|  count|              9134|               9134|\n",
      "|   mean| 0.281585285745566|0.23177140354718634|\n",
      "| stddev|0.4497968013386877|0.42198686668719587|\n",
      "|    min|                 0|                0.0|\n",
      "|    max|                 1|                1.0|\n",
      "+-------+------------------+-------------------+\n",
      "\n"
     ]
    }
   ],
   "source": [
    "predict_test.describe().show()"
   ]
  },
  {
   "cell_type": "markdown",
   "metadata": {},
   "source": [
    "A este modelo de regresión logística le podemos aplicar las técnicas de normalización **Ridge** o **Lasso** vistas en el apartedo anterior. Esto nos permite seleccionar variables o despreciar algunas que no son de interés o que no contribuyen en exceso a la predicción."
   ]
  },
  {
   "cell_type": "markdown",
   "metadata": {},
   "source": [
    "<div id=\"cm\" />\n",
    "\n",
    "#### Matriz de confusión (Confussion Matrix)\n",
    "\n",
    "Las predicciones siendo binarias se pueden comparar con los valores originales a través de lo que se llama la matriz de confusión. Este método consiste en generar una serie de [índices](https://es.wikipedia.org/wiki/Sensibilidad_y_especificidad_(estad%C3%ADstica)) que permiten interpretar la capacidad predictiva del modelo:\n",
    "\n",
    "- Prevalencia: el número de positivos respecto al total.\n",
    "- Sensibilidad: tasa de acierto cuando la variable respuesta es uno.\n",
    "- Especificidad: la tasa de acierto cuando la variable respuesta es cero.\n",
    "- Precision\n",
    "- Accuracy"
   ]
  },
  {
   "cell_type": "code",
   "execution_count": 74,
   "metadata": {},
   "outputs": [
    {
     "name": "stdout",
     "output_type": "stream",
     "text": [
      "+-----+----------+-----+\n",
      "|label|prediction|count|\n",
      "+-----+----------+-----+\n",
      "|    0|       0.0| 6315|\n",
      "|    0|       1.0|  247|\n",
      "|    1|       0.0|  702|\n",
      "|    1|       1.0| 1870|\n",
      "+-----+----------+-----+\n",
      "\n",
      "Prevalencia:  0.281585285745566\n",
      "Sensibilidad:  0.7270606531881804\n",
      "Especificidad:  0.9623590368790003\n",
      "Precision:  0.8833254605573926\n",
      "Accuracy:  0.896102474271951\n",
      "Accuracy (librería):  0.896102474271951\n"
     ]
    }
   ],
   "source": [
    "from pyspark.ml.evaluation import MulticlassClassificationEvaluator as MCE\n",
    "\n",
    "cm = predict_test.groupBy(\"label\", \"prediction\").count().sort(\"label\", \"prediction\")\n",
    "cm.show()\n",
    "\n",
    "TN = cm.filter((cm.label == 0) & (cm.prediction == 0)).collect()[0][2]\n",
    "FP = cm.filter((cm.label == 0) & (cm.prediction == 1)).collect()[0][2]\n",
    "FN = cm.filter((cm.label == 1) & (cm.prediction == 0)).collect()[0][2]\n",
    "TP = cm.filter((cm.label == 1) & (cm.prediction == 1)).collect()[0][2]\n",
    "\n",
    "N = TN + FP + TP + FN\n",
    "\n",
    "prevalencia = (TP + FN) / N\n",
    "sensibilidad = TP / (TP + FN)\n",
    "especificidad  = TN / (TN + FP)\n",
    "precision = TP / (TP + FP)\n",
    "accuracy = (TP + TN) / N\n",
    "\n",
    "print(\"Prevalencia: \", prevalencia)\n",
    "print(\"Sensibilidad: \", sensibilidad)\n",
    "print(\"Especificidad: \", especificidad)\n",
    "print(\"Precision: \", precision)\n",
    "print(\"Accuracy: \", accuracy)\n",
    "print(\"Accuracy (librería): \", MCE(metricName=\"weightedRecall\").evaluate(predict_test))"
   ]
  },
  {
   "cell_type": "markdown",
   "metadata": {},
   "source": [
    "Modificando el punto de corte obviamente generaremos tablas de clasificación y matrices de confusión distintas, de hecho, el punto de corte tiene un papel muy importante para llevar a cabo las predicciones del modelo. \n",
    "\n",
    "Si bien es verdad que en base a distintos puntos de corte conseguiríamos distintos niveles de accuracy, necesitamos un índice resumen que vaya un poco más allá de los puntos de corte, una especie de índice resumen global. Esto se conseguirá a partir de la curva ROC. "
   ]
  },
  {
   "cell_type": "markdown",
   "metadata": {},
   "source": [
    "<div id=\"roc\" />\n",
    "\n",
    "#### Curva ROC\n",
    "\n",
    "La [curva ROC](https://es.wikipedia.org/wiki/Curva_ROC) permitirá representar para cualquier punto de corte simultáneamente las sensibilidad y la especificidad conseguida. Este índice es un índice global que no va a depender del punto de corte que se haya especificado en la construcción del modelo. \n",
    "\n",
    "Para conseguir este tipo de representación necesitamos capturar las probabilidades de ser positivo en una única columna"
   ]
  },
  {
   "cell_type": "code",
   "execution_count": 75,
   "metadata": {},
   "outputs": [
    {
     "name": "stdout",
     "output_type": "stream",
     "text": [
      "+-----+--------------------+--------------------+--------------------+----------+-----------+\n",
      "|label|            features|       rawPrediction|         probability|prediction|      probs|\n",
      "+-----+--------------------+--------------------+--------------------+----------+-----------+\n",
      "|    0|(9,[1,2,3],[236.0...|[1.86918150582410...|[0.86636354246195...|       0.0| 0.13363646|\n",
      "|    0|(9,[1,2,3],[236.0...|[1.95641029952650...|[0.87614393912271...|       0.0| 0.12385606|\n",
      "|    0|(9,[1,2,3],[236.0...|[1.96352344724690...|[0.87691376462451...|       0.0| 0.12308624|\n",
      "|    0|(9,[1,2,3],[370.0...|[2.06584131546371...|[0.88753853549623...|       0.0| 0.11246146|\n",
      "|    0|(9,[1,2,3],[641.0...|[2.32881929515337...|[0.91123588173431...|       0.0|0.088764116|\n",
      "|    0|(9,[1,2,3],[651.0...|[2.36389213344599...|[0.91403213245409...|       0.0| 0.08596787|\n",
      "|    0|(9,[1,2,3],[731.0...|[2.38033876945774...|[0.91531569695764...|       0.0|0.084684305|\n",
      "|    0|(9,[1,2,3],[731.0...|[2.44241146480059...|[0.92000474187783...|       0.0| 0.07999526|\n",
      "|    0|(9,[1,2,3],[802.0...|[2.44464133117264...|[0.92016869753947...|       0.0|  0.0798313|\n",
      "|    0|(9,[1,2,3],[868.0...|[2.33216510644262...|[0.91150613574693...|       0.0| 0.08849386|\n",
      "+-----+--------------------+--------------------+--------------------+----------+-----------+\n",
      "only showing top 10 rows\n",
      "\n"
     ]
    },
    {
     "data": {
      "image/png": "[encoded data removed]",
      "text/plain": [
       "<Figure size 432x288 with 1 Axes>"
      ]
     },
     "metadata": {
      "needs_background": "light"
     },
     "output_type": "display_data"
    },
    {
     "name": "stdout",
     "output_type": "stream",
     "text": [
      "areaUnderROC test: 0.9055385631395803\n"
     ]
    }
   ],
   "source": [
    "from pyspark.sql.functions import udf\n",
    "from pyspark.sql.types import FloatType\n",
    "from sklearn.metrics import roc_curve\n",
    "\n",
    "second_element = udf(lambda v: float(v[1]), FloatType())\n",
    "pred2 = predict_test.withColumn(\"probs\", second_element(\"probability\"))\n",
    "\n",
    "pred2.show(10)\n",
    "\n",
    "# Gráfica\n",
    "\n",
    "pred2 = pred2.sample(False,0.1).select(\"label\", \"probs\").toPandas()\n",
    "fpr, tpr, _ = roc_curve(pred2[\"label\"], pred2[\"probs\"])\n",
    "\n",
    "plt.plot(fpr, tpr)\n",
    "plt.plot([0, 1], [0, 1], color=\"navy\", linestyle=\"--\")\n",
    "plt.xlabel(\"1 - especificidad (FPR)\")\n",
    "plt.ylabel(\"Sensibilidad recall (TPR)\")\n",
    "plt.title(\"Curva ROC\")\n",
    "plt.show()\n",
    "\n",
    "print(\"areaUnderROC test: {0}\".format(ev.evaluate(predict_test, {ev.metricName: \"areaUnderROC\"})))"
   ]
  },
  {
   "cell_type": "markdown",
   "metadata": {},
   "source": [
    "<div id=\"tuneado\" />\n",
    "\n",
    "#### Tuneado Automático de parámetros\n",
    "\n",
    "El tuneado de parámetros tan solo se referiere a que los metaparámetros de interés pueden ser evaluados considerando una rejilla de posibles valores, es decir, establecemos la combinación de valores que queremos evaluar y el mismo software se encargará de ejecutar el modelo para cada combinación de metaparámetros hasta escoger qué combinación particular es la más eficiente. A partir de aquí, validaríamos y llevaríamos a cabo las tareas habituales para los modelos."
   ]
  },
  {
   "cell_type": "code",
   "execution_count": 76,
   "metadata": {},
   "outputs": [
    {
     "name": "stdout",
     "output_type": "stream",
     "text": [
      "areaUnderROC test: 0.9131972967028695\n"
     ]
    }
   ],
   "source": [
    "from pyspark.ml.tuning import ParamGridBuilder,TrainValidationSplit\n",
    "#from pyspark.ml.classification import LogisticRegression\n",
    "#from pyspark.ml.evaluation import BinaryClassificationEvaluator as BCE\n",
    "\n",
    "logr = LogisticRegression(maxIter=10, labelCol=\"label\", featuresCol=\"features\")\n",
    "\n",
    "paramGrid = ParamGridBuilder().addGrid(logr.regParam, [1, 0.1]).addGrid(logr.elasticNetParam, [0.0, 1.0]).build()\n",
    "    \n",
    "tvs = TrainValidationSplit(estimator=logr, estimatorParamMaps=paramGrid,\n",
    "                           evaluator=BCE(metricName=\"areaUnderROC\"), trainRatio=0.8)   \n",
    "\n",
    "logr_model = tvs.fit(train)\n",
    "\n",
    "predict_test = logr_model.transform(test)\n",
    "#pred.select(\"features\", \"label\").show()\n",
    "\n",
    "ev = BCE(rawPredictionCol=\"rawPrediction\", labelCol=\"label\")\n",
    "print(\"areaUnderROC test: {0}\".format(ev.evaluate(predict_test, {ev.metricName: \"areaUnderROC\"})))"
   ]
  },
  {
   "cell_type": "markdown",
   "metadata": {},
   "source": [
    "<div id=\"dt\" />\n",
    "\n",
    "### Decision Trees\n",
    "\n",
    "En primer lugar, cada vez que pensemos en el concepto de [árbol](https://es.wikipedia.org/wiki/Aprendizaje_basado_en_%C3%A1rboles_de_decisi%C3%B3n) tenemos que tener en cuenta que:\n",
    "\n",
    "- Cada vértice representa una partición de nuestro conjunto de datos. Cuando partimos, estamos partiendo el conjunto de datos.\n",
    "- Cada nodo terminal representa una componente del modelo.\n",
    "- La predicción se realiza recorriendo el árbol, convenientemente, hasta llegar a un nodo terminal."
   ]
  },
  {
   "cell_type": "markdown",
   "metadata": {},
   "source": [
    "<div id=\"dtr\" />\n",
    "\n",
    "#### Regresión"
   ]
  },
  {
   "cell_type": "markdown",
   "metadata": {},
   "source": [
    "Nuestro objetivo será entrenar un modelo de regresión basado en árboles para la variable *ArrDelay*. Primero que nada convertimos la variable *UniqueCarrier* a tipo numérico e incluirla en nuestro dataset:"
   ]
  },
  {
   "cell_type": "code",
   "execution_count": 77,
   "metadata": {},
   "outputs": [
    {
     "name": "stdout",
     "output_type": "stream",
     "text": [
      "+-------------+------------------+-----+\n",
      "|UniqueCarrier|IndexUniqueCarrier|count|\n",
      "+-------------+------------------+-----+\n",
      "|           AA|               0.0| 8853|\n",
      "|           UA|               1.0| 6112|\n",
      "|           WN|               2.0| 5395|\n",
      "|           DL|               3.0| 4239|\n",
      "|           VX|               4.0| 1703|\n",
      "|           NK|               5.0| 1581|\n",
      "|           F9|               6.0| 1295|\n",
      "|           OO|               7.0| 1166|\n",
      "|           B6|               8.0|  121|\n",
      "|           EV|               9.0|    1|\n",
      "+-------------+------------------+-----+\n",
      "\n"
     ]
    }
   ],
   "source": [
    "from pyspark.ml.feature import StringIndexer\n",
    "\n",
    "indexer = StringIndexer(inputCol=\"UniqueCarrier\", outputCol=\"IndexUniqueCarrier\") # el índice empieza en el 0!\n",
    "bd66 = indexer.fit(bd5).transform(bd5)\n",
    "\n",
    "bd66.groupBy(\"UniqueCarrier\", \"IndexUniqueCarrier\").count().sort(\"IndexUniqueCarrier\").show()\n"
   ]
  },
  {
   "cell_type": "code",
   "execution_count": 78,
   "metadata": {},
   "outputs": [
    {
     "name": "stdout",
     "output_type": "stream",
     "text": [
      "RMSE test: 25.809620869606025\n",
      "MAE test: 12.848381342755502\n",
      "R2 test: 0.8083735998562241\n",
      "R2 training: 0.906826\n"
     ]
    }
   ],
   "source": [
    "from pyspark.ml.regression import DecisionTreeRegressor\n",
    "\n",
    "a1 = VA(inputCols = [\"DepDelay\", \"Distance\", \"DayOfWeek\",\n",
    "                     \"CRSDepTime\", \"Horario1\", \"Horario2\",\n",
    "                     \"Horario3\", \"DepDelay2\", \"DepD_Distance\",\n",
    "                     \"IndexUniqueCarrier\"],\n",
    "        outputCol=\"features\")\n",
    "\n",
    "bd6 = a1.transform(bd66).select(col(\"ArrDelay\").alias(\"label\"), \"features\")\n",
    "\n",
    "splits = bd6.randomSplit([0.7, 0.3], 1234)\n",
    "train = splits[0]\n",
    "test = splits[1]\n",
    "\n",
    "dtr = DecisionTreeRegressor(maxDepth=20, minInstancesPerNode=10, maxBins=50, labelCol=\"label\", featuresCol=\"features\")\n",
    "dtr_model = dtr.fit(train)\n",
    "\n",
    "predict_train = dtr_model.transform(train)\n",
    "predict_test = dtr_model.transform(test)\n",
    "#predict_test.show(3)\n",
    "\n",
    "ev = RegressionEvaluator(labelCol=\"label\")\n",
    "print(\"RMSE test: {0}\".format(ev.evaluate(predict_test, {ev.metricName: \"rmse\"})))\n",
    "print(\"MAE test: {0}\".format(ev.evaluate(predict_test, {ev.metricName: \"mae\"})))\n",
    "print(\"R2 test: {0}\".format(ev.evaluate(predict_train, {ev.metricName: \"r2\"})))\n",
    "\n",
    "trainingSummary = lr_model.summary\n",
    "print(\"R2 training: %f\" % trainingSummary.r2)"
   ]
  },
  {
   "cell_type": "markdown",
   "metadata": {},
   "source": [
    "Podemos variar los parámetros del método `DecisionTreeRegressor` con el objetivo de obtener mejores medidas de error."
   ]
  },
  {
   "cell_type": "markdown",
   "metadata": {},
   "source": [
    "<div id=\"dtc\" />\n",
    "\n",
    "#### Clasificación\n",
    "\n",
    "Ahora vamos a hacer lo mismo, pero con los árboles de clasificación. Remarcar que básicamente las dos metodologías son las mismas, simplemente la diferencia está en que el objetivo está medido de forma cualitativa.\n",
    "\n",
    "Para poder definir qué opciones tenemos como criterio de partición en un árbol de clasificación es necesario introducir el concepto de **pureza de un nodo**. La pureza de un nodo viene a decir que si en un nodo terminal el número de clases que hay representadas es pequeño, es decir cuanto más homogeneidad observemos en un nodo, entonces mejor será el modelo, puesto que dará menos incertidumbre. Hay que tener en cuenta que la creación de subnodos incrementa la homogeneidad de los subnodos resultantes. Es decir, la pureza del nodo se incrementa respecto a la variable objetivo.\n",
    "\n",
    "Así que, una manera de cuantificar cuál es el nivel de incertidumbre cada vez que hacemos una partición a fin de evaluar el método y utilizarlo como criterio de partición es utilizar alguna manera de medir esta pureza. Para hacer esta medición de la pureza existen varias maneras, pero la principal es la del **índice de Gini**.\n",
    "\n",
    "El índice de Gini se calcula para cada nodo y parte de la idea de que en cada nodo el modelo predice una estimación de la proporción que representa cada clase. Pues bien, este índice es 1 menos la suma del cuadrado de dichas proporciones: $Gini = 1 - \\sum w_{i}²$\n",
    "\n",
    "Otros métodos de pureza se basan en el cálculo Chi Cuadrado, ganancia de información, reducción de varianza y cálculo de entropía.\n",
    "\n",
    "Por último, se define la **pureza de un árbol** como la suma de pureza de cada nodo ponderado por el peso de cada nodo."
   ]
  },
  {
   "cell_type": "code",
   "execution_count": 79,
   "metadata": {},
   "outputs": [
    {
     "name": "stdout",
     "output_type": "stream",
     "text": [
      "+-----+--------------------+------+--------------+--------------------+----------+\n",
      "|label|            features|label2| rawPrediction|         probability|prediction|\n",
      "+-----+--------------------+------+--------------+--------------------+----------+\n",
      "|  0.0|(10,[1,2,3],[236....|   0.0|[8414.0,354.0]|[0.95962591240875...|       0.0|\n",
      "|  0.0|(10,[1,2,3],[236....|   0.0|[8414.0,354.0]|[0.95962591240875...|       0.0|\n",
      "|  0.0|(10,[1,2,3],[236....|   0.0|[8414.0,354.0]|[0.95962591240875...|       0.0|\n",
      "+-----+--------------------+------+--------------+--------------------+----------+\n",
      "only showing top 3 rows\n",
      "\n",
      "areaUnderROC test: 0.6985066595313135\n",
      "areaUnderROC training: 0.7077169232166609\n"
     ]
    }
   ],
   "source": [
    "from pyspark.ml.classification import DecisionTreeClassifier\n",
    "#from pyspark.ml.evaluation import BinaryClassificationEvaluator as BCE\n",
    "\n",
    "# En DecisionTreeClassifier debemos transformar la variable objetivo a tipo double\n",
    "\n",
    "bd6 = a1.transform(bd66).select(col(\"Retraso\").cast(\"double\").alias(\"label\"), \"features\")\n",
    "\n",
    "stringIndexer = StringIndexer(inputCol=\"label\", outputCol=\"label2\")\n",
    "sI = stringIndexer.fit(bd6)\n",
    "bd6 = sI.transform(bd6)\n",
    "\n",
    "splits = bd6.randomSplit([0.7, 0.3], 1234)\n",
    "train = splits[0]\n",
    "test = splits[1]\n",
    "\n",
    "dtc = DecisionTreeClassifier(maxDepth=20, minInstancesPerNode=10, maxBins=50, labelCol=\"label2\", featuresCol=\"features\")\n",
    "dtc_model = dtc.fit(train)\n",
    "\n",
    "predict_train = dtc_model.transform(train)\n",
    "predict_test = dtc_model.transform(test)\n",
    "predict_test.show(3)\n",
    "\n",
    "ev = BCE(rawPredictionCol=\"rawPrediction\", labelCol=\"label2\")\n",
    "print(\"areaUnderROC test: {0}\".format(ev.evaluate(predict_test, {ev.metricName: \"areaUnderROC\"})))\n",
    "print(\"areaUnderROC training: {0}\".format(ev.evaluate(predict_train, {ev.metricName: \"areaUnderROC\"})))"
   ]
  },
  {
   "cell_type": "code",
   "execution_count": 80,
   "metadata": {},
   "outputs": [
    {
     "name": "stdout",
     "output_type": "stream",
     "text": [
      "+------+----------+-----+\n",
      "|label2|prediction|count|\n",
      "+------+----------+-----+\n",
      "|   1.0|       1.0| 1849|\n",
      "|   0.0|       1.0|  273|\n",
      "|   1.0|       0.0|  723|\n",
      "|   0.0|       0.0| 6289|\n",
      "+------+----------+-----+\n",
      "\n"
     ]
    }
   ],
   "source": [
    "predict_test.groupBy(\"label2\", \"prediction\").count().show()"
   ]
  },
  {
   "cell_type": "markdown",
   "metadata": {},
   "source": [
    "Podemos también inspeccionar un poco la naturaleza del árbol generando una tabla de frecuencias de las distintas probabilidades asignadas, es decir, de los distintos nodos terminales. Aquí vemos, para cada una de las combinaciones de estas probabilidades, el número de casos que han sido reflejados:"
   ]
  },
  {
   "cell_type": "code",
   "execution_count": 81,
   "metadata": {},
   "outputs": [
    {
     "name": "stdout",
     "output_type": "stream",
     "text": [
      "+--------------------+-----+\n",
      "|         probability|count|\n",
      "+--------------------+-----+\n",
      "|[0.80582524271844...|   49|\n",
      "|[0.71428571428571...|   37|\n",
      "|[0.58823529411764...|   15|\n",
      "|[0.26315789473684...|    9|\n",
      "|           [0.9,0.1]|    6|\n",
      "|[0.74725274725274...|   34|\n",
      "|[0.41666666666666...|   20|\n",
      "|     [0.4375,0.5625]|   13|\n",
      "|[0.95962591240875...| 3724|\n",
      "|[0.69230769230769...|    5|\n",
      "|[0.57142857142857...|   12|\n",
      "|[0.63636363636363...|    3|\n",
      "|     [0.6875,0.3125]|   17|\n",
      "|[0.34782608695652...|    5|\n",
      "|[0.82142857142857...|   18|\n",
      "|[0.89473684210526...|   51|\n",
      "|           [0.7,0.3]|   16|\n",
      "|[0.84615384615384...|    5|\n",
      "|[0.82857142857142...|    9|\n",
      "|           [1.0,0.0]|   21|\n",
      "|         [0.75,0.25]|   44|\n",
      "|[0.14285714285714...|   18|\n",
      "|[0.11312217194570...|   92|\n",
      "|[0.95918367346938...|   16|\n",
      "|           [0.5,0.5]|   41|\n",
      "|[0.92307692307692...|   11|\n",
      "|           [0.2,0.8]|   32|\n",
      "|[0.72727272727272...|    4|\n",
      "|[0.94155844155844...|   58|\n",
      "|[0.68571428571428...|   12|\n",
      "|[0.70833333333333...|    2|\n",
      "|           [0.0,1.0]|   12|\n",
      "|[0.57894736842105...|    3|\n",
      "|[0.00625205659756...| 1319|\n",
      "|[0.87362637362637...|  158|\n",
      "|[0.45454545454545...|   34|\n",
      "|           [0.6,0.4]|   12|\n",
      "|[0.38461538461538...|    8|\n",
      "|[0.13333333333333...|   12|\n",
      "|[0.06109979633401...|  189|\n",
      "|     [0.8125,0.1875]|   16|\n",
      "|[0.58333333333333...|   20|\n",
      "|[0.76470588235294...|    7|\n",
      "|[0.54545454545454...|   13|\n",
      "|[0.85714285714285...|   10|\n",
      "|[0.05555555555555...|    4|\n",
      "|[0.19672131147540...|   31|\n",
      "|[0.82432432432432...|   65|\n",
      "|[0.36363636363636...|    9|\n",
      "|[0.33333333333333...|   19|\n",
      "+--------------------+-----+\n",
      "only showing top 50 rows\n",
      "\n"
     ]
    }
   ],
   "source": [
    "predict_test.groupBy(\"probability\").count().show(50)"
   ]
  },
  {
   "cell_type": "markdown",
   "metadata": {},
   "source": [
    "<div id=\"rf\" />\n",
    "\n",
    "### Random Forest\n",
    "\n",
    "Podemos pensar en este modelo como un conjunto de árboles seleccionados de manera aleatoria. ¿Cómo podríamos obtener un árbol diferente de los anteriores pero proveniendo del mismo dataset? De tres maneras:\n",
    "\n",
    "La primera va a ser considerar sólo un conjunto de nuestro dataset. Si cada vez que se construye un árbol,\n",
    "el punto de partida es un dataset diferente al original, sea más pequeño u obtenido por **bootstrap**, el árbol que se producirá será diferente.\n",
    "\n",
    "Otra manera de producir los árboles aleatorios sería la siguiente: en cada paso recursivo del árbol, cuando se hace la selección de la mejor variable con la mejor partición, es decir, cuando escogíamos cuál era la variable que tenía un mejor punto de corte para que la partición propuesta tuviera un error menor, podríamos hacer ese mismo paso pero en lugar de tener en cuenta todo el conjunto de variables solo tomar una selección aleatoria de estas variables.\n",
    "\n",
    "Y, por último, otra manera de añadir aleatoriedad sería añadir incertidumbre a la medida de error mediante el análisis del conjunto de datos de training y de test.\n",
    "\n",
    "##### Metaparámetros de Random Forest:\n",
    "\n",
    "Random Forest nos permite identificar el número de árboles que queremos construir, la tasa de remuestreo en la que se va a basar cada subárbol y la estrategia de selección de variables que van a contribuir a cada partición dentro de cada árbol. \n",
    "\n",
    "- Número de árboles, lo cual repercute en mayor coste computacional.\n",
    "- Número de variables explicativas en cada iteración. En problemas de clasificación $\\sqrt{p}$ suele ser una buena aproximación mientras que en problemas de regresión $\\frac{p}{3}$\n",
    "- Criterio de parada, que en clasificación necesita un mínimo de un caso en cada nodo terminal mientras que en regresión un mínimo de 5 casos en un nodo terminal.\n",
    "\n",
    "La complejidad de este método permite introducir dos conceptos que son muy relevantes en el mundo del aprendizaje automático, uno es el concepto de **importancia**, y otro es el concepto de **proximidad**.\n",
    "\n",
    "- **Importancia**: radica, esencialmente, en poder ver cuál es la importancia marginal de cada una de las variables explicativas. Random Forest nos devuelve una medida que nos sirve para entender o promediar en la mayoría de los casos cuál es el descenso del error en el árbol cada vez que aparece.\n",
    "\n",
    "- **Proximidad**: se hace una proporción cuando dos casos aparecen en el mismo nodo terminal. Si esta proporción es muy elevada en los árboles del bosque entonces es que están más próximos. Esto se traslada en una medida de similitud y se puede tratar con técnicas habituales en este contexto.\n",
    "\n",
    "Random Forest puede aplicar tanto a problemas de clasificación, como a problemas de regresión."
   ]
  },
  {
   "cell_type": "markdown",
   "metadata": {},
   "source": [
    "<div id=\"rfr\" />\n",
    "\n",
    "#### Regresión"
   ]
  },
  {
   "cell_type": "code",
   "execution_count": 82,
   "metadata": {},
   "outputs": [
    {
     "name": "stdout",
     "output_type": "stream",
     "text": [
      "Tiempo de entrenamiento: 19.888 seconds\n",
      "+-----+--------------------+-------------------+\n",
      "|label|            features|         prediction|\n",
      "+-----+--------------------+-------------------+\n",
      "|-53.0|[-8.0,1744.0,2.0,...|-3.7006597987710137|\n",
      "|-49.0|[-4.0,1744.0,3.0,...|-3.5862398936363897|\n",
      "|-48.0|[-7.0,1514.0,5.0,...| -7.918837694260949|\n",
      "|-42.0|[-3.0,1744.0,2.0,...| -2.323641899163063|\n",
      "|-38.0|[-8.0,1235.0,5.0,...| -7.703753750169123|\n",
      "+-----+--------------------+-------------------+\n",
      "only showing top 5 rows\n",
      "\n",
      "RMSE test: 26.74961237458299\n",
      "MAE test: 14.036875981944968\n",
      "R2 test: 0.6891666843401345\n"
     ]
    }
   ],
   "source": [
    "from pyspark.ml.regression import RandomForestRegressor\n",
    "from time import time\n",
    "\n",
    "a1 = VA(inputCols=[\"DepDelay\", \"Distance\", \"DayOfWeek\", \n",
    "                   \"CRSDepTime\", \"IndexUniqueCarrier\"], \n",
    "        outputCol=\"features\")\n",
    "\n",
    "bd6 = a1.transform(bd66).select(col(\"ArrDelay\").alias(\"label\"), \"features\")\n",
    "\n",
    "splits = bd6.randomSplit([0.7, 0.3], 1234)\n",
    "train = splits[0]\n",
    "test = splits[1]\n",
    "\n",
    "start_time = time()\n",
    "\n",
    "rfr = RandomForestRegressor(labelCol=\"label\", featuresCol=\"features\", numTrees=500, maxDepth=5,\n",
    "                           seed=1, subsamplingRate=1.0, featureSubsetStrategy=\"auto\")\n",
    "# featureSubsetStrategy=\"auto\"  / \"sqrt\" / \"onethird\" / \"log2\" / \"all\"\n",
    "     \n",
    "rfr_model = rfr.fit(train)\n",
    "\n",
    "end_time = time()\n",
    "elapsed_time = end_time - start_time\n",
    "print(\"Tiempo de entrenamiento: %.3f seconds\" % elapsed_time)\n",
    "\n",
    "predict_train = rfr_model.transform(train)\n",
    "predict_test = rfr_model.transform(test)\n",
    "predict_test.show(5)\n",
    "\n",
    "ev = RegressionEvaluator(labelCol=\"label\")\n",
    "print(\"RMSE test: {0}\".format(ev.evaluate(predict_test, {ev.metricName: \"rmse\"})))\n",
    "print(\"MAE test: {0}\".format(ev.evaluate(predict_test, {ev.metricName: \"mae\"})))\n",
    "print(\"R2 test: {0}\".format(ev.evaluate(predict_train, {ev.metricName: \"r2\"})))"
   ]
  },
  {
   "cell_type": "markdown",
   "metadata": {},
   "source": [
    "En total, el tiempo de ejecución de entrenamiento para este caso particular ha sido considerable. Hemos comentado que este problema particular tiene una componente lineal muy importante que estos métodos, quizás, no acaben de capturar o de afinar. "
   ]
  },
  {
   "cell_type": "markdown",
   "metadata": {},
   "source": [
    "<div id=\"rfc\" />\n",
    "\n",
    "#### Clasificación"
   ]
  },
  {
   "cell_type": "code",
   "execution_count": 83,
   "metadata": {},
   "outputs": [
    {
     "name": "stdout",
     "output_type": "stream",
     "text": [
      "Tiempo de entrenamiento: 18.944 seconds\n",
      "+------+--------------------+-------+--------------------+--------------------+----------+\n",
      "|label2|            features|indexed|       rawPrediction|         probability|prediction|\n",
      "+------+--------------------+-------+--------------------+--------------------+----------+\n",
      "|   0.0|[-17.0,1744.0,1.0...|    0.0|[469.090090910950...|[0.93818018182190...|       0.0|\n",
      "|   0.0|[-15.0,337.0,7.0,...|    0.0|[469.685225847134...|[0.93937045169427...|       0.0|\n",
      "|   0.0|[-14.0,255.0,3.0,...|    0.0|[458.485234401306...|[0.91697046880261...|       0.0|\n",
      "|   0.0|[-12.0,651.0,7.0,...|    0.0|[460.405328023252...|[0.92081065604650...|       0.0|\n",
      "|   0.0|[-11.0,602.0,4.0,...|    0.0|[460.372490579526...|[0.92074498115905...|       0.0|\n",
      "+------+--------------------+-------+--------------------+--------------------+----------+\n",
      "only showing top 5 rows\n",
      "\n",
      "areaUnderROC test: 0.9105274939410337\n",
      "areaUnderROC training: 0.921386700654299\n"
     ]
    }
   ],
   "source": [
    "from pyspark.ml.classification import RandomForestClassifier\n",
    "#from pyspark.ml.feature import VectorAssembler, StringIndexer\n",
    "#from pyspark.ml.evaluation import BinaryClassificationEvaluator as BCE\n",
    "\n",
    "# En RandomForestClassifier debemos transformar la variable objetivo a tipo double\n",
    "\n",
    "a1 = VA(inputCols=[\"DepDelay\", \"Distance\", \"DayOfWeek\", \n",
    "                   \"CRSDepTime\", \"IndexUniqueCarrier\"], \n",
    "        outputCol=\"features\")\n",
    "\n",
    "bd6 = a1.transform(bd66).select(col(\"Retraso\").cast(\"double\").alias(\"label2\"), \"features\")\n",
    "\n",
    "stringIndexer = StringIndexer(inputCol=\"label2\", outputCol=\"indexed\")\n",
    "sI = stringIndexer.fit(bd6)\n",
    "bd6 = sI.transform(bd6)\n",
    "\n",
    "splits = bd6.randomSplit([0.7, 0.3], 1234)\n",
    "train = splits[0]\n",
    "test = splits[1]\n",
    "\n",
    "start_time = time()\n",
    "\n",
    "rfc = RandomForestClassifier(labelCol=\"indexed\", featuresCol=\"features\", numTrees=500, maxDepth=5,\n",
    "                           seed=1, impurity=\"gini\", featureSubsetStrategy=\"sqrt\")\n",
    "     \n",
    "rfc_model = rfc.fit(train)\n",
    "\n",
    "end_time = time()\n",
    "elapsed_time = end_time - start_time\n",
    "print(\"Tiempo de entrenamiento: %.3f seconds\" % elapsed_time)\n",
    "\n",
    "predict_train = rfc_model.transform(train)\n",
    "predict_test = rfc_model.transform(test)\n",
    "predict_test.show(5)\n",
    "\n",
    "ev = BCE(rawPredictionCol=\"rawPrediction\", labelCol=\"indexed\")\n",
    "print(\"areaUnderROC test: {0}\".format(ev.evaluate(predict_test, {ev.metricName: \"areaUnderROC\"})))\n",
    "print(\"areaUnderROC training: {0}\".format(ev.evaluate(predict_train, {ev.metricName: \"areaUnderROC\"})))"
   ]
  },
  {
   "cell_type": "code",
   "execution_count": 84,
   "metadata": {},
   "outputs": [
    {
     "name": "stdout",
     "output_type": "stream",
     "text": [
      "+-------+----------+\n",
      "|indexed|prediction|\n",
      "+-------+----------+\n",
      "|    0.0|       0.0|\n",
      "|    0.0|       0.0|\n",
      "|    0.0|       0.0|\n",
      "+-------+----------+\n",
      "only showing top 3 rows\n",
      "\n"
     ]
    }
   ],
   "source": [
    "predict_test.select(\"indexed\", \"prediction\").show(3)"
   ]
  },
  {
   "cell_type": "code",
   "execution_count": 85,
   "metadata": {},
   "outputs": [
    {
     "name": "stdout",
     "output_type": "stream",
     "text": [
      "+-------+----------+-----+\n",
      "|indexed|prediction|count|\n",
      "+-------+----------+-----+\n",
      "|    1.0|       1.0| 1869|\n",
      "|    0.0|       1.0|  239|\n",
      "|    1.0|       0.0|  703|\n",
      "|    0.0|       0.0| 6323|\n",
      "+-------+----------+-----+\n",
      "\n"
     ]
    }
   ],
   "source": [
    "predict_test.groupBy(\"indexed\", \"prediction\").count().show()"
   ]
  },
  {
   "cell_type": "markdown",
   "metadata": {},
   "source": [
    "<div id=\"perceptron\" />\n",
    "\n",
    "### Perceptrón multicapa\n",
    "\n",
    "Las redes neuronales implementadas en pyspark permiten tan solo modelos de clasificación, así bien, se trata de un clasificador basado en una red neuronal [feedforward](https://en.wikipedia.org/wiki/Feedforward_neural_network)"
   ]
  },
  {
   "cell_type": "markdown",
   "metadata": {},
   "source": [
    "Seguiremos tabajando con nuestro conjunto de datos correspondiente al apartado clasificación Random Forest. Debemos tener en cuenta el siguiente criterio antes de construir nuestro modelo:\n",
    "\n",
    "- Numéro de neuronas de la primera capa = al número de elementos feature.\n",
    "- Numéro de neuronas de la última capa = al número de labels\n",
    "- Las neuronas internas tienen función de activación sigmoide. Se puede interpretar como que midiesen probabildiades.\n",
    "- Las neuronas de la última capa tienen función de activación softmax (el resultado será 0/1)."
   ]
  },
  {
   "cell_type": "code",
   "execution_count": 86,
   "metadata": {},
   "outputs": [
    {
     "name": "stdout",
     "output_type": "stream",
     "text": [
      "+-----+--------------------+--------------------+--------------------+----------+\n",
      "|label|            features|       rawPrediction|         probability|prediction|\n",
      "+-----+--------------------+--------------------+--------------------+----------+\n",
      "|  0.0|[-17.0,1744.0,1.0...|[1.58549552044188...|[0.93294153455584...|       0.0|\n",
      "|  0.0|[-15.0,337.0,7.0,...|[1.52985248321218...|[0.89936621645854...|       0.0|\n",
      "|  0.0|[-14.0,255.0,3.0,...|[1.52985248321218...|[0.89936621645854...|       0.0|\n",
      "|  0.0|[-12.0,651.0,7.0,...|[1.52985248321218...|[0.89936621645854...|       0.0|\n",
      "|  0.0|[-11.0,602.0,4.0,...|[1.52985248321218...|[0.89936621645854...|       0.0|\n",
      "+-----+--------------------+--------------------+--------------------+----------+\n",
      "only showing top 5 rows\n",
      "\n",
      "Accuracy:  0.8941318151959711\n"
     ]
    }
   ],
   "source": [
    "from pyspark.ml.classification import MultilayerPerceptronClassifier\n",
    "#from pyspark.ml.evaluation import MulticlassClassificationEvaluator as MCE\n",
    "\n",
    "bd6 = a1.transform(bd66).select(col(\"Retraso\").cast(\"double\").alias(\"label\"), \"features\")\n",
    "\n",
    "splits = bd6.randomSplit([0.7, 0.3], 1234)\n",
    "train = splits[0]\n",
    "test = splits[1]\n",
    "\n",
    "perceptron = MultilayerPerceptronClassifier(labelCol=\"label\", featuresCol=\"features\", \n",
    "                                            maxIter=100, layers=[5, 5, 2], seed=1234)\n",
    "perceptron_model = perceptron.fit(train)\n",
    "\n",
    "predict_train = perceptron_model.transform(train)\n",
    "predict_test = perceptron_model.transform(test)\n",
    "predict_test.show(5)\n",
    "\n",
    "print(\"Accuracy: \", MCE(metricName=\"weightedRecall\").evaluate(predict_test))"
   ]
  },
  {
   "cell_type": "markdown",
   "metadata": {},
   "source": [
    "A continuación podemos comprobar el número de neuronas que han sido ajustadas:"
   ]
  },
  {
   "cell_type": "code",
   "execution_count": 87,
   "metadata": {},
   "outputs": [
    {
     "data": {
      "text/plain": [
       "42"
      ]
     },
     "execution_count": 87,
     "metadata": {},
     "output_type": "execute_result"
    }
   ],
   "source": [
    "perceptron_model.weights.size"
   ]
  },
  {
   "cell_type": "code",
   "execution_count": 88,
   "metadata": {},
   "outputs": [
    {
     "name": "stdout",
     "output_type": "stream",
     "text": [
      "+-----+----------+-----+\n",
      "|label|prediction|count|\n",
      "+-----+----------+-----+\n",
      "|  1.0|       1.0| 1797|\n",
      "|  0.0|       1.0|  192|\n",
      "|  1.0|       0.0|  775|\n",
      "|  0.0|       0.0| 6370|\n",
      "+-----+----------+-----+\n",
      "\n"
     ]
    }
   ],
   "source": [
    "predict_test.groupBy(\"label\", \"prediction\").count().show()"
   ]
  },
  {
   "cell_type": "markdown",
   "metadata": {},
   "source": [
    "<div id=\"pca\" />\n",
    "\n",
    "### Reducción de dimensionalidad: PCA\n",
    "\n",
    "Este es un ejemplo, más bien de \"juguete\", porque en el fondo sólo tenemos seis variables. "
   ]
  },
  {
   "cell_type": "markdown",
   "metadata": {},
   "source": [
    "<div id=\"pca_sin\" />\n",
    "\n",
    "#### PCA sin estandarización"
   ]
  },
  {
   "cell_type": "code",
   "execution_count": 89,
   "metadata": {},
   "outputs": [
    {
     "name": "stdout",
     "output_type": "stream",
     "text": [
      "+-------+------------------+-------------------+\n",
      "|summary|              pca1|               pca2|\n",
      "+-------+------------------+-------------------+\n",
      "|  count|             30466|              30466|\n",
      "|   mean|300.93254488836146|-1601.4748862329209|\n",
      "| stddev| 557.2501211351522| 495.72119764116985|\n",
      "|    min|        -731.57623|         -2935.9211|\n",
      "|    max|          1751.152|         -487.57773|\n",
      "+-------+------------------+-------------------+\n",
      "\n"
     ]
    }
   ],
   "source": [
    "from pyspark.ml.feature import PCA\n",
    "#from pyspark.ml.feature import VectorAssembleras as VA\n",
    "#from pyspark.sql.functions import udf\n",
    "#from pyspark.sql.types import FloatType\n",
    "\n",
    "a1 = VA(inputCols=[\"DepDelay\", \"Distance\", \"DayOfWeek\",\n",
    "                   \"CRSDepTime\",\"Horario\", \"LogD\"], \n",
    "        outputCol=\"features\")\n",
    "\n",
    "bd6 = a1.transform(bd5)\n",
    "\n",
    "# 2 componentes\n",
    "\n",
    "pca = PCA(k=2, inputCol=\"features\", outputCol=\"pca_features\")\n",
    "pca_model = pca.fit(bd6)\n",
    "\n",
    "pca_data = pca_model.transform(bd6)\n",
    "#pca_data.select(\"features\", \"pca_features\").show(3)\n",
    "\n",
    "# Extraemos la primera y segunda componente\n",
    "\n",
    "p1 = udf(lambda v:float(v[0]), FloatType())\n",
    "p2 = udf(lambda v:float(v[1]), FloatType())\n",
    "\n",
    "pca_data = pca_data.withColumn(\"pca1\", p1(\"pca_features\")).withColumn(\"pca2\", p2(\"pca_features\"))\n",
    "\n",
    "pca_data.select(\"pca1\", \"pca2\").describe().show()"
   ]
  },
  {
   "cell_type": "markdown",
   "metadata": {},
   "source": [
    "Vemos que la primera componente tiene un valor promedio de 300 y una desviación estándar considerablemente elevada mientras que la segunda componente tiene un valor promedio de -1600. Estos valores son difícilmente interpretables y son consecuencia de las unidades (escala) en las que se han medido las variables."
   ]
  },
  {
   "cell_type": "code",
   "execution_count": 90,
   "metadata": {},
   "outputs": [
    {
     "data": {
      "text/html": [
       "<div>\n",
       "<style scoped>\n",
       "    .dataframe tbody tr th:only-of-type {\n",
       "        vertical-align: middle;\n",
       "    }\n",
       "\n",
       "    .dataframe tbody tr th {\n",
       "        vertical-align: top;\n",
       "    }\n",
       "\n",
       "    .dataframe thead th {\n",
       "        text-align: right;\n",
       "    }\n",
       "</style>\n",
       "<table border=\"1\" class=\"dataframe\">\n",
       "  <thead>\n",
       "    <tr style=\"text-align: right;\">\n",
       "      <th></th>\n",
       "      <th>DepDelay</th>\n",
       "      <th>Distance</th>\n",
       "      <th>DayOfWeek</th>\n",
       "      <th>CRSDepTime</th>\n",
       "      <th>Horario</th>\n",
       "      <th>LogD</th>\n",
       "      <th>pca1</th>\n",
       "      <th>pca2</th>\n",
       "    </tr>\n",
       "  </thead>\n",
       "  <tbody>\n",
       "    <tr>\n",
       "      <th>DepDelay</th>\n",
       "      <td>1.000000</td>\n",
       "      <td>-0.001564</td>\n",
       "      <td>0.069371</td>\n",
       "      <td>0.086390</td>\n",
       "      <td>0.084262</td>\n",
       "      <td>-0.008252</td>\n",
       "      <td>-0.034017</td>\n",
       "      <td>-0.080797</td>\n",
       "    </tr>\n",
       "    <tr>\n",
       "      <th>Distance</th>\n",
       "      <td>-0.001564</td>\n",
       "      <td>1.000000</td>\n",
       "      <td>0.005463</td>\n",
       "      <td>-0.081507</td>\n",
       "      <td>-0.050619</td>\n",
       "      <td>0.957419</td>\n",
       "      <td>0.928473</td>\n",
       "      <td>-0.379842</td>\n",
       "    </tr>\n",
       "    <tr>\n",
       "      <th>DayOfWeek</th>\n",
       "      <td>0.069371</td>\n",
       "      <td>0.005463</td>\n",
       "      <td>1.000000</td>\n",
       "      <td>-0.013947</td>\n",
       "      <td>-0.002861</td>\n",
       "      <td>-0.000997</td>\n",
       "      <td>0.010073</td>\n",
       "      <td>0.010362</td>\n",
       "    </tr>\n",
       "    <tr>\n",
       "      <th>CRSDepTime</th>\n",
       "      <td>0.086390</td>\n",
       "      <td>-0.081507</td>\n",
       "      <td>-0.013947</td>\n",
       "      <td>1.000000</td>\n",
       "      <td>0.587051</td>\n",
       "      <td>-0.082834</td>\n",
       "      <td>-0.445841</td>\n",
       "      <td>-0.891012</td>\n",
       "    </tr>\n",
       "    <tr>\n",
       "      <th>Horario</th>\n",
       "      <td>0.084262</td>\n",
       "      <td>-0.050619</td>\n",
       "      <td>-0.002861</td>\n",
       "      <td>0.587051</td>\n",
       "      <td>1.000000</td>\n",
       "      <td>-0.038826</td>\n",
       "      <td>-0.264235</td>\n",
       "      <td>-0.521855</td>\n",
       "    </tr>\n",
       "    <tr>\n",
       "      <th>LogD</th>\n",
       "      <td>-0.008252</td>\n",
       "      <td>0.957419</td>\n",
       "      <td>-0.000997</td>\n",
       "      <td>-0.082834</td>\n",
       "      <td>-0.038826</td>\n",
       "      <td>1.000000</td>\n",
       "      <td>0.890728</td>\n",
       "      <td>-0.359207</td>\n",
       "    </tr>\n",
       "    <tr>\n",
       "      <th>pca1</th>\n",
       "      <td>-0.034017</td>\n",
       "      <td>0.928473</td>\n",
       "      <td>0.010073</td>\n",
       "      <td>-0.445841</td>\n",
       "      <td>-0.264235</td>\n",
       "      <td>0.890728</td>\n",
       "      <td>1.000000</td>\n",
       "      <td>-0.009109</td>\n",
       "    </tr>\n",
       "    <tr>\n",
       "      <th>pca2</th>\n",
       "      <td>-0.080797</td>\n",
       "      <td>-0.379842</td>\n",
       "      <td>0.010362</td>\n",
       "      <td>-0.891012</td>\n",
       "      <td>-0.521855</td>\n",
       "      <td>-0.359207</td>\n",
       "      <td>-0.009109</td>\n",
       "      <td>1.000000</td>\n",
       "    </tr>\n",
       "  </tbody>\n",
       "</table>\n",
       "</div>"
      ],
      "text/plain": [
       "            DepDelay  Distance  DayOfWeek  CRSDepTime   Horario      LogD  \\\n",
       "DepDelay    1.000000 -0.001564   0.069371    0.086390  0.084262 -0.008252   \n",
       "Distance   -0.001564  1.000000   0.005463   -0.081507 -0.050619  0.957419   \n",
       "DayOfWeek   0.069371  0.005463   1.000000   -0.013947 -0.002861 -0.000997   \n",
       "CRSDepTime  0.086390 -0.081507  -0.013947    1.000000  0.587051 -0.082834   \n",
       "Horario     0.084262 -0.050619  -0.002861    0.587051  1.000000 -0.038826   \n",
       "LogD       -0.008252  0.957419  -0.000997   -0.082834 -0.038826  1.000000   \n",
       "pca1       -0.034017  0.928473   0.010073   -0.445841 -0.264235  0.890728   \n",
       "pca2       -0.080797 -0.379842   0.010362   -0.891012 -0.521855 -0.359207   \n",
       "\n",
       "                pca1      pca2  \n",
       "DepDelay   -0.034017 -0.080797  \n",
       "Distance    0.928473 -0.379842  \n",
       "DayOfWeek   0.010073  0.010362  \n",
       "CRSDepTime -0.445841 -0.891012  \n",
       "Horario    -0.264235 -0.521855  \n",
       "LogD        0.890728 -0.359207  \n",
       "pca1        1.000000 -0.009109  \n",
       "pca2       -0.009109  1.000000  "
      ]
     },
     "execution_count": 90,
     "metadata": {},
     "output_type": "execute_result"
    }
   ],
   "source": [
    "pdf6 = pca_data.sample(False,0.1).select(\"DepDelay\", \"Distance\", \"DayOfWeek\",\n",
    "                                         \"CRSDepTime\", \"Horario\", \"LogD\", \"pca1\", \"pca2\").toPandas()\n",
    "\n",
    "pdf6.corr()"
   ]
  },
  {
   "cell_type": "markdown",
   "metadata": {},
   "source": [
    "La reducción de dimensionalidad de estas seis variables a tan solo estas dos, en realidad, está representando una agrupación de los conceptos relacionados a la distancia (pca1) y una agrupación de los conceptos relacionados con el horario (pca2). "
   ]
  },
  {
   "cell_type": "markdown",
   "metadata": {},
   "source": [
    "<div id=\"pca_con\" />\n",
    "\n",
    "#### PCA con estandarización\n",
    "\n",
    "Quizás tiene más sentido llevar a cabo la reducción de dimensionalidad con las variables previamente estandarizadas, es decir, con las variables escaladas para que tengan promedio cero y desviación estándar uno."
   ]
  },
  {
   "cell_type": "code",
   "execution_count": 91,
   "metadata": {},
   "outputs": [
    {
     "name": "stdout",
     "output_type": "stream",
     "text": [
      "Conjunto de datos estandarizados: \n",
      "+--------------------+--------------------+\n",
      "|            features|      scaledFeatures|\n",
      "+--------------------+--------------------+\n",
      "|[-5.0,1235.0,4.0,...|[-0.4459454808573...|\n",
      "|[5.0,1235.0,5.0,8...|[-0.2452533483159...|\n",
      "|[-3.0,1235.0,6.0,...|[-0.4058070543490...|\n",
      "+--------------------+--------------------+\n",
      "only showing top 3 rows\n",
      "\n"
     ]
    },
    {
     "data": {
      "text/html": [
       "<div>\n",
       "<style scoped>\n",
       "    .dataframe tbody tr th:only-of-type {\n",
       "        vertical-align: middle;\n",
       "    }\n",
       "\n",
       "    .dataframe tbody tr th {\n",
       "        vertical-align: top;\n",
       "    }\n",
       "\n",
       "    .dataframe thead th {\n",
       "        text-align: right;\n",
       "    }\n",
       "</style>\n",
       "<table border=\"1\" class=\"dataframe\">\n",
       "  <thead>\n",
       "    <tr style=\"text-align: right;\">\n",
       "      <th></th>\n",
       "      <th>summary</th>\n",
       "      <th>pca1</th>\n",
       "      <th>pca2</th>\n",
       "    </tr>\n",
       "  </thead>\n",
       "  <tbody>\n",
       "    <tr>\n",
       "      <th>0</th>\n",
       "      <td>count</td>\n",
       "      <td>30466</td>\n",
       "      <td>30466</td>\n",
       "    </tr>\n",
       "    <tr>\n",
       "      <th>1</th>\n",
       "      <td>mean</td>\n",
       "      <td>1.4992589980211245E-10</td>\n",
       "      <td>-2.386263811770431E-11</td>\n",
       "    </tr>\n",
       "    <tr>\n",
       "      <th>2</th>\n",
       "      <td>stddev</td>\n",
       "      <td>1.4247512515634908</td>\n",
       "      <td>1.2476208654224727</td>\n",
       "    </tr>\n",
       "    <tr>\n",
       "      <th>3</th>\n",
       "      <td>min</td>\n",
       "      <td>-3.9466622</td>\n",
       "      <td>-9.316214</td>\n",
       "    </tr>\n",
       "    <tr>\n",
       "      <th>4</th>\n",
       "      <td>max</td>\n",
       "      <td>3.2699375</td>\n",
       "      <td>2.831249</td>\n",
       "    </tr>\n",
       "  </tbody>\n",
       "</table>\n",
       "</div>"
      ],
      "text/plain": [
       "  summary                    pca1                    pca2\n",
       "0   count                   30466                   30466\n",
       "1    mean  1.4992589980211245E-10  -2.386263811770431E-11\n",
       "2  stddev      1.4247512515634908      1.2476208654224727\n",
       "3     min              -3.9466622               -9.316214\n",
       "4     max               3.2699375                2.831249"
      ]
     },
     "execution_count": 91,
     "metadata": {},
     "output_type": "execute_result"
    }
   ],
   "source": [
    "#from pyspark.ml.feature import PCA\n",
    "#from pyspark.ml.feature import StandardScaler\n",
    "\n",
    "scaler = StandardScaler(inputCol=\"features\", outputCol=\"scaledFeatures\", withStd=True, withMean=True)\n",
    "scalerModel = scaler.fit(bd6)\n",
    "bd6_scaled = scalerModel.transform(bd6)\n",
    "\n",
    "print(\"Conjunto de datos estandarizados: \")\n",
    "bd6_scaled.select(\"features\", \"scaledFeatures\").show(3)\n",
    "\n",
    "# 2 componentes\n",
    "\n",
    "pca = PCA(k=2, inputCol=\"scaledFeatures\", outputCol=\"pca_scaled_features\")\n",
    "pca_model = pca.fit(bd6_scaled)\n",
    "\n",
    "pca_data_scaled = pca_model.transform(bd6_scaled)\n",
    "#pca_data_scaled.select(\"scaledFeatures\", \"pca_scaled_features\").show(5)\n",
    "\n",
    "# Extraemos la primera y segunda componente\n",
    "\n",
    "pca_data_scaled = pca_data_scaled.withColumn(\"pca1\", p1(\"pca_scaled_features\")).withColumn(\"pca2\", p2(\"pca_scaled_features\"))\n",
    "pca_data_scaled.select(\"pca1\", \"pca2\").describe().toPandas()"
   ]
  },
  {
   "cell_type": "code",
   "execution_count": 92,
   "metadata": {},
   "outputs": [
    {
     "data": {
      "text/html": [
       "<div>\n",
       "<style scoped>\n",
       "    .dataframe tbody tr th:only-of-type {\n",
       "        vertical-align: middle;\n",
       "    }\n",
       "\n",
       "    .dataframe tbody tr th {\n",
       "        vertical-align: top;\n",
       "    }\n",
       "\n",
       "    .dataframe thead th {\n",
       "        text-align: right;\n",
       "    }\n",
       "</style>\n",
       "<table border=\"1\" class=\"dataframe\">\n",
       "  <thead>\n",
       "    <tr style=\"text-align: right;\">\n",
       "      <th></th>\n",
       "      <th>DepDelay</th>\n",
       "      <th>Distance</th>\n",
       "      <th>DayOfWeek</th>\n",
       "      <th>CRSDepTime</th>\n",
       "      <th>Horario</th>\n",
       "      <th>LogD</th>\n",
       "      <th>pca1</th>\n",
       "      <th>pca2</th>\n",
       "    </tr>\n",
       "  </thead>\n",
       "  <tbody>\n",
       "    <tr>\n",
       "      <th>DepDelay</th>\n",
       "      <td>1.000000</td>\n",
       "      <td>0.008607</td>\n",
       "      <td>0.074938</td>\n",
       "      <td>0.098794</td>\n",
       "      <td>0.069384</td>\n",
       "      <td>-0.006964</td>\n",
       "      <td>-0.072393</td>\n",
       "      <td>-0.264816</td>\n",
       "    </tr>\n",
       "    <tr>\n",
       "      <th>Distance</th>\n",
       "      <td>0.008607</td>\n",
       "      <td>1.000000</td>\n",
       "      <td>0.007021</td>\n",
       "      <td>-0.078257</td>\n",
       "      <td>-0.083654</td>\n",
       "      <td>0.957894</td>\n",
       "      <td>0.927934</td>\n",
       "      <td>-0.348950</td>\n",
       "    </tr>\n",
       "    <tr>\n",
       "      <th>DayOfWeek</th>\n",
       "      <td>0.074938</td>\n",
       "      <td>0.007021</td>\n",
       "      <td>1.000000</td>\n",
       "      <td>0.000236</td>\n",
       "      <td>0.018242</td>\n",
       "      <td>0.001541</td>\n",
       "      <td>-0.011673</td>\n",
       "      <td>-0.045978</td>\n",
       "    </tr>\n",
       "    <tr>\n",
       "      <th>CRSDepTime</th>\n",
       "      <td>0.098794</td>\n",
       "      <td>-0.078257</td>\n",
       "      <td>0.000236</td>\n",
       "      <td>1.000000</td>\n",
       "      <td>0.576819</td>\n",
       "      <td>-0.087533</td>\n",
       "      <td>-0.382467</td>\n",
       "      <td>-0.785300</td>\n",
       "    </tr>\n",
       "    <tr>\n",
       "      <th>Horario</th>\n",
       "      <td>0.069384</td>\n",
       "      <td>-0.083654</td>\n",
       "      <td>0.018242</td>\n",
       "      <td>0.576819</td>\n",
       "      <td>1.000000</td>\n",
       "      <td>-0.082432</td>\n",
       "      <td>-0.378443</td>\n",
       "      <td>-0.782339</td>\n",
       "    </tr>\n",
       "    <tr>\n",
       "      <th>LogD</th>\n",
       "      <td>-0.006964</td>\n",
       "      <td>0.957894</td>\n",
       "      <td>0.001541</td>\n",
       "      <td>-0.087533</td>\n",
       "      <td>-0.082432</td>\n",
       "      <td>1.000000</td>\n",
       "      <td>0.930209</td>\n",
       "      <td>-0.341800</td>\n",
       "    </tr>\n",
       "    <tr>\n",
       "      <th>pca1</th>\n",
       "      <td>-0.072393</td>\n",
       "      <td>0.927934</td>\n",
       "      <td>-0.011673</td>\n",
       "      <td>-0.382467</td>\n",
       "      <td>-0.378443</td>\n",
       "      <td>0.930209</td>\n",
       "      <td>1.000000</td>\n",
       "      <td>-0.006371</td>\n",
       "    </tr>\n",
       "    <tr>\n",
       "      <th>pca2</th>\n",
       "      <td>-0.264816</td>\n",
       "      <td>-0.348950</td>\n",
       "      <td>-0.045978</td>\n",
       "      <td>-0.785300</td>\n",
       "      <td>-0.782339</td>\n",
       "      <td>-0.341800</td>\n",
       "      <td>-0.006371</td>\n",
       "      <td>1.000000</td>\n",
       "    </tr>\n",
       "  </tbody>\n",
       "</table>\n",
       "</div>"
      ],
      "text/plain": [
       "            DepDelay  Distance  DayOfWeek  CRSDepTime   Horario      LogD  \\\n",
       "DepDelay    1.000000  0.008607   0.074938    0.098794  0.069384 -0.006964   \n",
       "Distance    0.008607  1.000000   0.007021   -0.078257 -0.083654  0.957894   \n",
       "DayOfWeek   0.074938  0.007021   1.000000    0.000236  0.018242  0.001541   \n",
       "CRSDepTime  0.098794 -0.078257   0.000236    1.000000  0.576819 -0.087533   \n",
       "Horario     0.069384 -0.083654   0.018242    0.576819  1.000000 -0.082432   \n",
       "LogD       -0.006964  0.957894   0.001541   -0.087533 -0.082432  1.000000   \n",
       "pca1       -0.072393  0.927934  -0.011673   -0.382467 -0.378443  0.930209   \n",
       "pca2       -0.264816 -0.348950  -0.045978   -0.785300 -0.782339 -0.341800   \n",
       "\n",
       "                pca1      pca2  \n",
       "DepDelay   -0.072393 -0.264816  \n",
       "Distance    0.927934 -0.348950  \n",
       "DayOfWeek  -0.011673 -0.045978  \n",
       "CRSDepTime -0.382467 -0.785300  \n",
       "Horario    -0.378443 -0.782339  \n",
       "LogD        0.930209 -0.341800  \n",
       "pca1        1.000000 -0.006371  \n",
       "pca2       -0.006371  1.000000  "
      ]
     },
     "execution_count": 92,
     "metadata": {},
     "output_type": "execute_result"
    }
   ],
   "source": [
    "pdf6 = pca_data.sample(False,0.1).select(\"DepDelay\", \"Distance\", \"DayOfWeek\",\n",
    "                                         \"CRSDepTime\", \"Horario\", \"LogD\", \"pca1\", \"pca2\").toPandas()\n",
    "\n",
    "pdf6.corr()"
   ]
  },
  {
   "cell_type": "markdown",
   "metadata": {},
   "source": [
    "Las componentes obtenidas se pueden estandarizar de nuevo."
   ]
  },
  {
   "cell_type": "markdown",
   "metadata": {},
   "source": [
    "<div id=\"kmeans\" />\n",
    "\n",
    "### Clusters K-Means"
   ]
  },
  {
   "cell_type": "markdown",
   "metadata": {},
   "source": [
    "Haremos una agrupación en clúster automática a partir de los datos estandarizados y reducidos con PCA:"
   ]
  },
  {
   "cell_type": "code",
   "execution_count": 93,
   "metadata": {},
   "outputs": [
    {
     "name": "stdout",
     "output_type": "stream",
     "text": [
      "Número de clústers: \n",
      "+-------+-----+\n",
      "|Cluster|count|\n",
      "+-------+-----+\n",
      "|      1| 4907|\n",
      "|      3| 7545|\n",
      "|      2| 6616|\n",
      "|      0|11398|\n",
      "+-------+-----+\n",
      "\n",
      "Localización de los centroides: \n"
     ]
    },
    {
     "data": {
      "text/plain": [
       "[array([-1.32616167, -0.46973861]),\n",
       " array([1.99111472, 0.6064121 ]),\n",
       " array([ 0.94260261, -1.30667959]),\n",
       " array([-0.24845657,  1.5094349 ])]"
      ]
     },
     "execution_count": 93,
     "metadata": {},
     "output_type": "execute_result"
    }
   ],
   "source": [
    "from pyspark.ml.clustering import KMeans\n",
    "\n",
    "# 4 clústers\n",
    "\n",
    "km = KMeans(k=4, featuresCol=\"pca_scaled_features\", maxIter=10, predictionCol=\"cluster\", seed=1234)\n",
    "km_model = km.fit(pca_data_scaled)\n",
    "\n",
    "km_data = km_model.transform(pca_data_scaled)\n",
    "#km_data.select(\"pca_scaled_features\", \"cluster\").show(5)\n",
    "\n",
    "print(\"Número de clústers: \")\n",
    "km_data.groupBy(\"Cluster\").count().show()\n",
    "\n",
    "print(\"Localización de los centroides: \")\n",
    "km_model.clusterCenters()"
   ]
  },
  {
   "cell_type": "markdown",
   "metadata": {},
   "source": [
    "Hacemos una tabla resumen de las variables de interés con objeto de intentar interpretar los resultados:"
   ]
  },
  {
   "cell_type": "code",
   "execution_count": 94,
   "metadata": {},
   "outputs": [
    {
     "data": {
      "text/html": [
       "<div>\n",
       "<style scoped>\n",
       "    .dataframe tbody tr th:only-of-type {\n",
       "        vertical-align: middle;\n",
       "    }\n",
       "\n",
       "    .dataframe tbody tr th {\n",
       "        vertical-align: top;\n",
       "    }\n",
       "\n",
       "    .dataframe thead th {\n",
       "        text-align: right;\n",
       "    }\n",
       "</style>\n",
       "<table border=\"1\" class=\"dataframe\">\n",
       "  <thead>\n",
       "    <tr style=\"text-align: right;\">\n",
       "      <th></th>\n",
       "      <th>cluster</th>\n",
       "      <th>num</th>\n",
       "      <th>DepDelay</th>\n",
       "      <th>Distance</th>\n",
       "      <th>DayOfWeek</th>\n",
       "      <th>CRSDepTime</th>\n",
       "      <th>Horario</th>\n",
       "      <th>LogD</th>\n",
       "    </tr>\n",
       "  </thead>\n",
       "  <tbody>\n",
       "    <tr>\n",
       "      <th>0</th>\n",
       "      <td>1</td>\n",
       "      <td>4907</td>\n",
       "      <td>8.197065</td>\n",
       "      <td>1578.958631</td>\n",
       "      <td>3.994701</td>\n",
       "      <td>809.326065</td>\n",
       "      <td>1.589566</td>\n",
       "      <td>3.189925</td>\n",
       "    </tr>\n",
       "    <tr>\n",
       "      <th>1</th>\n",
       "      <td>3</td>\n",
       "      <td>7545</td>\n",
       "      <td>6.838701</td>\n",
       "      <td>596.341683</td>\n",
       "      <td>3.981047</td>\n",
       "      <td>846.181047</td>\n",
       "      <td>1.568721</td>\n",
       "      <td>2.734120</td>\n",
       "    </tr>\n",
       "    <tr>\n",
       "      <th>2</th>\n",
       "      <td>2</td>\n",
       "      <td>6616</td>\n",
       "      <td>27.548368</td>\n",
       "      <td>1514.976421</td>\n",
       "      <td>3.993954</td>\n",
       "      <td>1667.787636</td>\n",
       "      <td>3.163241</td>\n",
       "      <td>3.168176</td>\n",
       "    </tr>\n",
       "    <tr>\n",
       "      <th>3</th>\n",
       "      <td>0</td>\n",
       "      <td>11398</td>\n",
       "      <td>21.982365</td>\n",
       "      <td>539.936656</td>\n",
       "      <td>4.002895</td>\n",
       "      <td>1693.994911</td>\n",
       "      <td>3.228549</td>\n",
       "      <td>2.691925</td>\n",
       "    </tr>\n",
       "  </tbody>\n",
       "</table>\n",
       "</div>"
      ],
      "text/plain": [
       "   cluster    num   DepDelay     Distance  DayOfWeek   CRSDepTime   Horario  \\\n",
       "0        1   4907   8.197065  1578.958631   3.994701   809.326065  1.589566   \n",
       "1        3   7545   6.838701   596.341683   3.981047   846.181047  1.568721   \n",
       "2        2   6616  27.548368  1514.976421   3.993954  1667.787636  3.163241   \n",
       "3        0  11398  21.982365   539.936656   4.002895  1693.994911  3.228549   \n",
       "\n",
       "       LogD  \n",
       "0  3.189925  \n",
       "1  2.734120  \n",
       "2  3.168176  \n",
       "3  2.691925  "
      ]
     },
     "execution_count": 94,
     "metadata": {},
     "output_type": "execute_result"
    }
   ],
   "source": [
    "sqlc.registerDataFrameAsTable(km_data, \"km_data\")\n",
    "\n",
    "g3 = sqlc.sql(\"select cluster, count(*) as num, \\\n",
    "               avg(DepDelay) as DepDelay, \\\n",
    "               avg(Distance) as Distance, \\\n",
    "               avg(DayOfWeek) as DayOfWeek, \\\n",
    "               avg(CRSDepTime) as CRSDepTime, \\\n",
    "               avg(Horario) as Horario, \\\n",
    "               avg(LogD) as LogD \\\n",
    "               from km_data group by cluster\")\n",
    "g3.toPandas()"
   ]
  },
  {
   "cell_type": "markdown",
   "metadata": {},
   "source": [
    "Esta clusterización se puede representar gráficamente empleando las variables de especial interés, en nuestro caso, las columnas correspondientes a las componentes principales."
   ]
  },
  {
   "cell_type": "code",
   "execution_count": 95,
   "metadata": {},
   "outputs": [
    {
     "data": {
      "text/plain": [
       "<seaborn.axisgrid.FacetGrid at 0x7faa5a842750>"
      ]
     },
     "execution_count": 95,
     "metadata": {},
     "output_type": "execute_result"
    },
    {
     "data": {
      "image/png": "[encoded data removed]",
      "text/plain": [
       "<Figure size 402.375x360 with 1 Axes>"
      ]
     },
     "metadata": {
      "needs_background": "light"
     },
     "output_type": "display_data"
    }
   ],
   "source": [
    "# Extraemos las componentes\n",
    "km_data = km_data.withColumn(\"pca1\", p1(\"pca_scaled_features\")).withColumn(\"pca2\", p2(\"pca_scaled_features\"))\n",
    "\n",
    "pdf6 = km_data.sample(False, 0.1, 0).select(\"pca1\", \"pca2\", \"cluster\").toPandas()\n",
    "pdf6\n",
    "\n",
    "sb.lmplot(x=\"pca1\", y=\"pca2\", hue=\"cluster\", fit_reg=False, data=pdf6)"
   ]
  }
 ],
 "metadata": {
  "kernelspec": {
   "display_name": "Python 3",
   "language": "python",
   "name": "python3"
  },
  "language_info": {
   "codemirror_mode": {
    "name": "ipython",
    "version": 3
   },
   "file_extension": ".py",
   "mimetype": "text/x-python",
   "name": "python",
   "nbconvert_exporter": "python",
   "pygments_lexer": "ipython3",
   "version": "3.7.6"
  }
 },
 "nbformat": 4,
 "nbformat_minor": 4
}
