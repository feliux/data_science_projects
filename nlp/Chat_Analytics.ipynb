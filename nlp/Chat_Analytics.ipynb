{
 "cells": [
  {
   "cell_type": "code",
   "execution_count": null,
   "metadata": {},
   "outputs": [],
   "source": [
    "#!pip install emoji plotly wordcloud nltk"
   ]
  },
  {
   "cell_type": "code",
   "execution_count": null,
   "metadata": {},
   "outputs": [],
   "source": [
    "import nltk\n",
    "nltk.download(\"stopwords\")"
   ]
  },
  {
   "cell_type": "code",
   "execution_count": null,
   "metadata": {},
   "outputs": [],
   "source": [
    "import plotly.express as px\n",
    "import os\n",
    "import pandas as pd\n",
    "import re\n",
    "import datetime as time\n",
    "import numpy as np\n",
    "import matplotlib.pyplot as plt\n",
    "import matplotlib\n",
    "import seaborn as sns\n",
    "import emoji\n",
    "import re\n",
    "\n",
    "from collections import Counter\n",
    "from wordcloud import WordCloud, STOPWORDS\n",
    "from nltk.corpus import stopwords"
   ]
  },
  {
   "cell_type": "code",
   "execution_count": null,
   "metadata": {},
   "outputs": [],
   "source": [
    "_CHAT = \"_chat.txt\"\n",
    "\n",
    "whatsapp_df = pd.read_fwf(_CHAT, header=None)\n",
    "whatsapp_df"
   ]
  },
  {
   "cell_type": "code",
   "execution_count": null,
   "metadata": {},
   "outputs": [],
   "source": [
    "whatsapp_df.info()"
   ]
  },
  {
   "cell_type": "code",
   "execution_count": null,
   "metadata": {},
   "outputs": [],
   "source": [
    "user = []\n",
    "date = []\n",
    "message = []\n",
    "\n",
    "for line in enumerate(open(_CHAT, \"r\")):\n",
    "    #print(line)\n",
    "    try:\n",
    "        d = re.search(\"\\[(.*?)\\]\\s\", line[1]).group(1)\n",
    "        date.append(d)\n",
    "    except:\n",
    "        date.append(\"1/1/90 01:01:01\") # dummy date\n",
    "    \n",
    "    try:\n",
    "        u = re.search(\"\\]\\s(.*?):\", line[1]).group(1)\n",
    "        user.append(u)\n",
    "    except:\n",
    "        user.append(\"\")\n",
    "        \n",
    "    try:\n",
    "        message.append(line[1].split(\": \", 1)[1].split(\"\\n\", 1)[0])#.encode(\"ascii\", \"ignore\").decode())\n",
    "    except:\n",
    "        message.append(\"\")\n",
    "        \n",
    "print(line)"
   ]
  },
  {
   "cell_type": "code",
   "execution_count": null,
   "metadata": {},
   "outputs": [],
   "source": [
    "df = pd.DataFrame(zip(date, user, message), columns=[\"date\", \"user\", \"message\"])\n",
    "df[\"date\"] = pd.to_datetime(df.date, format=\"%d/%m/%y %H:%M:%S\")\n",
    "\n",
    "# Remove events not associated with a sender\n",
    "df = df[df.user != \"\"].reset_index(drop=True)\n",
    "df"
   ]
  },
  {
   "cell_type": "code",
   "execution_count": null,
   "metadata": {},
   "outputs": [],
   "source": [
    "delete_audio = df[df[\"message\"].apply(lambda x: x.encode(\"ascii\", \"ignore\").decode()) == \"audio omitido\"]\n",
    "delete_audio.tail()"
   ]
  },
  {
   "cell_type": "code",
   "execution_count": null,
   "metadata": {},
   "outputs": [],
   "source": [
    "df.drop(delete_audio.index, inplace=True)\n",
    "df.tail()"
   ]
  },
  {
   "cell_type": "markdown",
   "metadata": {},
   "source": [
    "##### Which users have the most Chat/messages in the group?"
   ]
  },
  {
   "cell_type": "code",
   "execution_count": null,
   "metadata": {},
   "outputs": [],
   "source": [
    "# Creating a new dataframe by copying the old dataframe\n",
    "whatsapp_df1 = df.copy()\n",
    "whatsapp_df1[\"Number_of_messages\"] = [1]*whatsapp_df1.shape[0]\n",
    "whatsapp_df1.drop(columns=\"date\", inplace=True)\n",
    "\n",
    "# We are groupby the user and messages together then we will use count() to count the messages for each of user\n",
    "whatsapp_df1 = whatsapp_df1.groupby(\"user\")[\"Number_of_messages\"].count().sort_values(ascending=False).reset_index() \n",
    "whatsapp_df1"
   ]
  },
  {
   "cell_type": "code",
   "execution_count": null,
   "metadata": {},
   "outputs": [],
   "source": [
    "# Using seaborn for Styles \n",
    "sns.set_style(\"darkgrid\")\n",
    "\n",
    "# Resize the  figure size\n",
    "plt.figure(figsize=(12, 9))\n",
    "\n",
    "# Here we are ploting the line chart using plt.plot \n",
    "plt.plot(whatsapp_df1.user, whatsapp_df1.Number_of_messages, \"o--c\")  \n",
    "\n",
    "# In here we are writing the Labels and Title for the plot chart\n",
    "plt.xlabel(\"Users\")\n",
    "plt.ylabel(\"Total number of messages\")\n",
    "\n",
    "plt.title(\"The highest number of messages send by the user\")\n",
    "plt.legend([\"Messages send\"]);"
   ]
  },
  {
   "cell_type": "code",
   "execution_count": null,
   "metadata": {},
   "outputs": [],
   "source": [
    "# Formating\n",
    "sns.set_style(\"darkgrid\")\n",
    "\n",
    "# The background of the chart\n",
    "matplotlib.rcParams[\"font.size\"] = 12\n",
    "matplotlib.rcParams[\"figure.figsize\"] = (12, 9)\n",
    "matplotlib.rcParams[\"figure.facecolor\"] = \"#00000000\"\n",
    "fig, ax = plt.subplots()\n",
    "\n",
    "# Creating a bar chart\n",
    "sns.barplot(whatsapp_df1.user,\n",
    "            whatsapp_df1.Number_of_messages,\n",
    "            hue=\"user\",\n",
    "            data=whatsapp_df1,\n",
    "            dodge=False,\n",
    "            palette=\"CMRmap\")\n",
    "\n",
    "# The title of our charts\n",
    "plt.title(\"The highest number of messages\")\n",
    "\n",
    "# Change the width of the bar chart plot\n",
    "def change_width(ax, new_value):\n",
    "    for patch in ax.patches:\n",
    "        current_width = patch.get_width()\n",
    "        diff = current_width - new_value\n",
    "        # we change the bar width\n",
    "        patch.set_width(new_value)\n",
    "        # we recenter the bar\n",
    "        patch.set_x(patch.get_x() + diff * .5)\n",
    "\n",
    "change_width(ax, .35)\n",
    "plt.show()"
   ]
  },
  {
   "cell_type": "markdown",
   "metadata": {},
   "source": [
    "##### Which emojis use the most by which users?"
   ]
  },
  {
   "cell_type": "code",
   "execution_count": null,
   "metadata": {},
   "outputs": [],
   "source": [
    "# Copy a dataset\n",
    "whatsapp_df2 = df.copy()\n",
    "\n",
    "# Count the number of emoji\n",
    "emoji_ctr = Counter()\n",
    "emojis_list = map(lambda x: \"\".join(x.split()), emoji.UNICODE_EMOJI.keys()) #UNICODE_EMOJI class have a thee emoji code inside\n",
    "r = re.compile(\"|\".join(re.escape(p) for p in emojis_list))\n",
    "for idx, row in whatsapp_df2.iterrows():\n",
    "    emojis_found = r.findall(row[\"message\"]) #The findall() is a functions for regex that help to find a matches \n",
    "    for emoji_found in emojis_found:\n",
    "        emoji_ctr[emoji_found] += 1"
   ]
  },
  {
   "cell_type": "code",
   "execution_count": null,
   "metadata": {},
   "outputs": [],
   "source": [
    "# This will help to create or rendered the emoji \n",
    "emojis_df = pd.DataFrame() #The reason to use pd.dataframe is we want to put the emojis_df into the dataframe tables\n",
    "emojis_df[\"emoji\"] = [\"\"] * 10\n",
    "emojis_df[\"number_of_Emoji\"] = [0] * 10\n",
    "\n",
    "i = 0\n",
    "for item in emoji_ctr.most_common(10):\n",
    "    emojis_df.emoji[i] = item[0]\n",
    "    emojis_df.number_of_Emoji[i] = int(item[1])\n",
    "    i += 1\n",
    "\n",
    "emojis_df"
   ]
  },
  {
   "cell_type": "code",
   "execution_count": null,
   "metadata": {},
   "outputs": [],
   "source": [
    "# This pei chart give us and ideas the overall view of which emoji use the most\n",
    "fig = px.pie(emojis_df, values=\"number_of_Emoji\", names=\"emoji\", title=\"Emoji percentage used in chat group\")\n",
    "fig.update_traces(textposition=\"inside\", textinfo=\"percent+label\")\n",
    "fig.show()"
   ]
  },
  {
   "cell_type": "code",
   "execution_count": null,
   "metadata": {},
   "outputs": [],
   "source": [
    "# Now we want to know which emoji is use the most by each of the users. But since the first results only create \n",
    "# emoji and number_emoji in the dataframe now we need to create a dataframe contain user and emoji they use\n",
    "\n",
    "emoji_ctr = {}#Counter()\n",
    "for user in whatsapp_df2[\"user\"].unique():\n",
    "    emoji_ctr[user] = Counter()\n",
    "    \n",
    "emojis_list = map(lambda x: \"\".join(x.split()), emoji.UNICODE_EMOJI.keys())\n",
    "r = re.compile(\"|\".join(re.escape(p) for p in emojis_list))\n",
    "for idx, row in whatsapp_df2.iterrows():\n",
    "    emojis_found = r.findall(row[\"message\"])\n",
    "    for emoji_found in emojis_found:\n",
    "        emoji_ctr[row[\"user\"]][emoji_found] += 1\n",
    "        \n",
    "#emoji_ctr"
   ]
  },
  {
   "cell_type": "code",
   "execution_count": null,
   "metadata": {},
   "outputs": [],
   "source": [
    "user_emoji_df = pd.DataFrame(emoji_ctr)\n",
    "\n",
    "for user in emoji_ctr.keys():\n",
    "    ordered_user_df = user_emoji_df.copy()\n",
    "    ordered_user_df = ordered_user_df.sort_values(by=user, ascending=False).head(10)\n",
    "    fig = px.pie(ordered_user_df, names=ordered_user_df.index, values=user, title=\"Emoji percentage for \" + user)\n",
    "    fig.update_traces(textposition=\"inside\", textinfo=\"percent+label\")\n",
    "    fig.show()"
   ]
  },
  {
   "cell_type": "code",
   "execution_count": null,
   "metadata": {},
   "outputs": [],
   "source": [
    "## nooooo\n",
    "emojis_df = whatsapp_df2.copy()\n",
    "n = whatsapp_df2.message.count()\n",
    "\n",
    "emojis_df[\"emoji\"] = [\"\"] * n\n",
    "emojis_df[\"number_of_Emoji\"] = [0] * n\n",
    "\n",
    "i = 0\n",
    "for user in whatsapp_df2[\"user\"].unique():\n",
    "    for item in emoji_ctr[user].most_common(n):\n",
    "        emojis_df.emoji[i] = item[0]\n",
    "        emojis_df.number_of_Emoji[i] = int(item[1])\n",
    "        i += 1\n",
    "\n",
    "emojis_df"
   ]
  },
  {
   "cell_type": "code",
   "execution_count": null,
   "metadata": {},
   "outputs": [],
   "source": [
    "### noooo\n",
    "l = emojis_df.user.unique()\n",
    "for i in range(len(l)):\n",
    "    dummy_df = emojis_df[emojis_df[\"user\"] == l[i]]\n",
    "    emojis_list = list([a for b in dummy_df.emoji for a in b])\n",
    "    emoji_dict = dict(Counter(emojis_list))\n",
    "    emoji_dict = sorted(emoji_dict.items(), key=lambda x: x[1], reverse=True)\n",
    "    print(\"Emoji Distribution for\", l[i])\n",
    "    user_emoji_df = pd.DataFrame(emoji_dict, columns=[\"emoji\", \"count\"])\n",
    "    fig = px.pie(user_emoji_df, values=\"count\", names=\"emoji\")\n",
    "    fig.update_traces(textposition=\"inside\", textinfo=\"percent+label\")\n",
    "    fig.show()"
   ]
  },
  {
   "cell_type": "markdown",
   "metadata": {},
   "source": [
    "##### Most active hour in whatsapps"
   ]
  },
  {
   "cell_type": "code",
   "execution_count": null,
   "metadata": {},
   "outputs": [],
   "source": [
    "# Copy a dataframe\n",
    "whatsapp_df3 = df.copy()\n",
    "\n",
    "whatsapp_df3[\"number_of_message\"] = [1] * whatsapp_df3.shape[0]\n",
    "whatsapp_df3[\"hours\"] = whatsapp_df3[\"date\"].apply(lambda x: x.hour)\n",
    "\n",
    "time_df = whatsapp_df3.groupby(\"hours\").count().reset_index().sort_values(by = \"hours\")\n",
    "time_df[[\"hours\", \"number_of_message\"]]"
   ]
  },
  {
   "cell_type": "code",
   "execution_count": null,
   "metadata": {},
   "outputs": [],
   "source": [
    "#Create the formatting of the graph \n",
    "matplotlib.rcParams[\"font.size\"] = 20\n",
    "matplotlib.rcParams[\"figure.figsize\"] = (20, 8)\n",
    "\n",
    "# Using the seaborn style \n",
    "sns.set_style(\"darkgrid\")\n",
    "plt.title(\"Most active hour in whatsapps\");\n",
    "sns.barplot(time_df.hours, time_df.number_of_message,data=time_df, dodge=False)"
   ]
  },
  {
   "cell_type": "markdown",
   "metadata": {},
   "source": [
    "##### Which month have the highest messages and also the busiest month?"
   ]
  },
  {
   "cell_type": "code",
   "execution_count": null,
   "metadata": {},
   "outputs": [],
   "source": [
    "whatsapp_df4 = df.copy()\n",
    "whatsapp_df4[\"Number_of_messages\"] = [1] * whatsapp_df4.shape[0]\n",
    "\n",
    "whatsapp_df4[\"month\"] = whatsapp_df4[\"date\"].apply(lambda x: x.month)  \n",
    "\n",
    "df_month = whatsapp_df4.groupby(\"month\")[\"Number_of_messages\"].count().sort_values(ascending=False).reset_index()\n",
    "df_month"
   ]
  },
  {
   "cell_type": "code",
   "execution_count": null,
   "metadata": {},
   "outputs": [],
   "source": [
    "#Formating\n",
    "sns.set_style(\"darkgrid\")\n",
    "\n",
    "#The background of the chart\n",
    "matplotlib.rcParams[\"font.size\"] = 12\n",
    "matplotlib.rcParams[\"figure.figsize\"] = (12, 9)\n",
    "matplotlib.rcParams[\"figure.facecolor\"] = \"#00000000\"\n",
    "fig, ax = plt.subplots()\n",
    "\n",
    "#Creating a bar chart\n",
    "sns.barplot(x=df_month.month,\n",
    "            y=df_month.Number_of_messages,\n",
    "            hue=\"month\",\n",
    "            data=df_month,\n",
    "            dodge=False,\n",
    "            palette=\"pastel\")\n",
    "\n",
    "plt.title(\"Month that have the highest messages and the busiest month?\")"
   ]
  },
  {
   "cell_type": "markdown",
   "metadata": {},
   "source": [
    "##### Determine which word or text did the user use the most?"
   ]
  },
  {
   "cell_type": "code",
   "execution_count": null,
   "metadata": {},
   "outputs": [],
   "source": [
    "whatsapp_df5 = df.copy()\n",
    "#Each of the word in the message will be review\n",
    "word = \" \".join(review for review in whatsapp_df5.message)\n",
    "\n",
    "stop_words = set(stopwords.words(\"spanish\"))\n",
    "\n",
    "#delete the word/text that are commonly used(eg.the,yes,no,bye,or and is)\n",
    "#stopwords.update([\"the\",\"is\",\"yea\",\"ok\",\"okay\",\"or\",\"bye\",\"no\",\"will\",\"yeah\",\"I\",\"almost\",\"if\",\"me\",\"you\",\"done\",\"want\",\"Ya\"])\n",
    "\n",
    "#Creating a word cloud \n",
    "wordcloud = WordCloud(width=500,\n",
    "                      height =500,\n",
    "                      stopwords=stop_words,\n",
    "                      background_color=\"black\",\n",
    "                      min_font_size=10).generate(word)\n",
    "\n",
    "plt.figure(figsize=(10, 5))\n",
    "plt.imshow(wordcloud, interpolation=\"bilinear\")\n",
    "plt.axis(\"off\")\n",
    "plt.show()"
   ]
  },
  {
   "cell_type": "code",
   "execution_count": null,
   "metadata": {},
   "outputs": [],
   "source": [
    "wordcloud.to_image()"
   ]
  }
 ],
 "metadata": {
  "kernelspec": {
   "display_name": "Python 3",
   "language": "python",
   "name": "python3"
  },
  "language_info": {
   "codemirror_mode": {
    "name": "ipython",
    "version": 3
   },
   "file_extension": ".py",
   "mimetype": "text/x-python",
   "name": "python",
   "nbconvert_exporter": "python",
   "pygments_lexer": "ipython3",
   "version": "3.7.6"
  }
 },
 "nbformat": 4,
 "nbformat_minor": 4
}
