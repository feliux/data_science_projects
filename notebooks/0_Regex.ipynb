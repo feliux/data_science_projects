{
 "cells": [
  {
   "cell_type": "markdown",
   "metadata": {},
   "source": [
    "<br><br><br>\n",
    "\n",
    "<h1><font color=\"#004D7F\" size=6>Expresiones regulares</font></h1>\n",
    "\n",
    "<a id=\"indice\"></a>\n",
    "<h2><font color=\"#004D7F\" size=5>Índice</font></h2>\n",
    "\n",
    "\n",
    "* [1. Introducción](#section1)\n",
    "* [2. *Matching* con expresiones regulares en Python](#section2)\n",
    "* [3. Patrones básicos](#section3)\n",
    "* [4. Repeticiones](#section4)\n",
    "* [5. Grupos](#section5)\n",
    "* [6. Otras operaciones con expresiones regulares](#section6)\n",
    "* [7. Parseo de logs con expresiones regulares](#section7)\n",
    "* [Referencias](#referencias)"
   ]
  },
  {
   "cell_type": "markdown",
   "metadata": {},
   "source": [
    "---\n",
    "\n",
    "<a id=\"section1\"></a>\n",
    "# <font color=\"#004D7F\"> 1. Introducción</font>\n",
    "\n",
    "Una expresión regular, también conocida como regex, es una secuencia de caracteres que forma un patrón de búsqueda, principalmente utilizada para la **búsqueda de patrones de cadenas de caracteres u operaciones de sustituciones**.\n",
    "\n",
    "Las expresiones regulares son básicamente un pequeño lenguaje de programación, altamente especializado, incluído dentro de Python (y muchos otros lenguajes de programación) a través del **modulo re**. Mediante este lenguaje especificamos conjuntos de cadenas de caracteres, como podrían ser palabras en español, direcciones de email, comandos de python, etc."
   ]
  },
  {
   "cell_type": "code",
   "execution_count": 1,
   "metadata": {},
   "outputs": [],
   "source": [
    "import re"
   ]
  },
  {
   "cell_type": "markdown",
   "metadata": {},
   "source": [
    "Las expressiones regulares se compilan en pequeños \"bytecodes\" y se ejecutan con un eficiente algoritmo de \"*matching*\" escrito en C.\n",
    "\n",
    "<div class=\"alert alert-block alert-info\">\n",
    "    \n",
    "<i class=\"fa fa-info-circle\" aria-hidden=\"true\"></i> __IMPORTANTE!__ No todas las tareas de procesamiento de cadenas de caracteres pueden realizarse con expresiones regulares o, si pueden hacerse, las expresiones resultantes pueden ser demasiado complicadas.\n",
    "</div>\n",
    "\n",
    "Podéis comprobar la extensa documentación del módulo en la siguiente dirección:\n",
    "\n",
    "* [Documentación oficial python.org módulo re](https://docs.python.org/3.6/library/re.html#module-re)\n",
    "* [HOW-TO oficial python.org](https://docs.python.org/3.6/howto/regex.html)\n",
    "\n",
    "La curva de aprendizaje de las expresiones regulares es alta y por ello es recomendable practicarlas a menudo. La mayor complejidad es aprender a interpretar la sintaxis, para ello es interesante disponer de un depurador o herramienta de edición gráfica de expresiones regulares.\n",
    "\n",
    "* [pythex.org](http://pythex.org)\n",
    "\n",
    "Adicionalmente a esta práctica recomendamos extender o refrescar este tema con ejercicios y tutoriales que podemos encontrar online.\n",
    "\n",
    "* [Tutorial interactivo de regexone.com](http://regexone.com)\n",
    "\n",
    "<div style=\"text-align: right\"> <font size=5>\n",
    "    <a href=\"#indice\"><i class=\"fa fa-arrow-circle-up\" aria-hidden=\"true\" style=\"color:#004D7F\"></i></a>\n",
    "</font></div>"
   ]
  },
  {
   "cell_type": "markdown",
   "metadata": {},
   "source": [
    "---\n",
    "\n",
    "<a id=\"section2\"></a>\n",
    "# <font color=\"#004D7F\"> 2. *Matching* con expresiones regulares en Python</font>\n",
    "\n",
    "En Python, una expression regular suele utilizarse de una de las dos siguientes formas:\n",
    "```python\n",
    "match = re.match(patron, cadena)\n",
    "```\n",
    "\n",
    "```python\n",
    "match = re.search(patron, cadena)\n",
    "```\n",
    "\n",
    "Los métodos `re.search()` y `re.match()` toman como argumento un patrón y una cadena de caracteres y buscan un *match* del patrón dentro de la cadena de caracteres. Si la búsqueda encuentra un match devolverá un objeto match, en caso contrario devolverá *None*.\n",
    "\n",
    "<div class=\"alert alert-block alert-info\">\n",
    "    \n",
    "<i class=\"fa fa-info-circle\" aria-hidden=\"true\"></i> __IMPORTANTE!__ El método `re.match()` busca un match al principio de la cadena de caracteres, mientras que el método `re.search()` busca un match en cualquier posición de la cadena de caracteres.\n",
    "</div>"
   ]
  },
  {
   "cell_type": "code",
   "execution_count": 2,
   "metadata": {
    "scrolled": false
   },
   "outputs": [
    {
     "name": "stdout",
     "output_type": "stream",
     "text": [
      "match no encontrado\n"
     ]
    }
   ],
   "source": [
    "cadena = \"Un ejemplo de cadena de caracteres!!\"\n",
    "match = re.match(\"caracter\", cadena)\n",
    "if match:                      \n",
    "    print(match)\n",
    "else:\n",
    "    print(\"match no encontrado\")"
   ]
  },
  {
   "cell_type": "code",
   "execution_count": 3,
   "metadata": {
    "scrolled": false
   },
   "outputs": [
    {
     "name": "stdout",
     "output_type": "stream",
     "text": [
      "<re.Match object; span=(24, 32), match='caracter'>\n"
     ]
    }
   ],
   "source": [
    "cadena = \"Un ejemplo de cadena de caracteres!!\"\n",
    "match = re.search(\"caracter\", cadena)\n",
    "if match:                      \n",
    "    print(match)\n",
    "else:\n",
    "    print(\"match no encontrado\")"
   ]
  },
  {
   "cell_type": "markdown",
   "metadata": {},
   "source": [
    "El objeto match contiene información sobre el patrón encontrado."
   ]
  },
  {
   "cell_type": "code",
   "execution_count": 4,
   "metadata": {},
   "outputs": [
    {
     "name": "stdout",
     "output_type": "stream",
     "text": [
      "Patron 'caracter' encontrado en posiciones 24:32 \n"
     ]
    }
   ],
   "source": [
    "start = match.start()\n",
    "end = match.end()\n",
    "\n",
    "pattern = cadena[start:end]\n",
    "\n",
    "print(f\"Patron '{pattern}' encontrado en posiciones {start}:{end} \")"
   ]
  },
  {
   "cell_type": "markdown",
   "metadata": {},
   "source": [
    "## <font color=\"#004D7F\">Otros métodos de *matching*</font>\n",
    "\n",
    "Otros métodos de matching del módulo re son los siguientes\n",
    "* `re.findall()`: Devuelve todos las substrings donde la expresión regular ha hecho *match* y las devuelve como una lista.\n",
    "* `re.finditer()`: Devuelve todos las substrings donde la expresión regular ha hecho *match* y las devuelve como un iterador (de objetos match)."
   ]
  },
  {
   "cell_type": "code",
   "execution_count": 5,
   "metadata": {},
   "outputs": [
    {
     "name": "stdout",
     "output_type": "stream",
     "text": [
      "['de', 'de', 'de']\n"
     ]
    }
   ],
   "source": [
    "cadena = \"Un ejemplo de cadena de caracteres!!\"\n",
    "res = re.findall(\"de\", cadena)\n",
    "print(res)"
   ]
  },
  {
   "cell_type": "code",
   "execution_count": 6,
   "metadata": {},
   "outputs": [
    {
     "name": "stdout",
     "output_type": "stream",
     "text": [
      "<re.Match object; span=(11, 13), match='de'>\n",
      "<re.Match object; span=(16, 18), match='de'>\n",
      "<re.Match object; span=(21, 23), match='de'>\n"
     ]
    }
   ],
   "source": [
    "cadena = \"Un ejemplo de cadena de caracteres!!\"\n",
    "for match in re.finditer(\"de\", cadena):\n",
    "    print(match)"
   ]
  },
  {
   "cell_type": "markdown",
   "metadata": {},
   "source": [
    "<div style=\"text-align: right\"> <font size=5>\n",
    "    <a href=\"#indice\"><i class=\"fa fa-arrow-circle-up\" aria-hidden=\"true\" style=\"color:#004D7F\"></i></a>\n",
    "</font></div>"
   ]
  },
  {
   "cell_type": "markdown",
   "metadata": {},
   "source": [
    "---\n",
    "\n",
    "<a id=\"section3\"></a> \n",
    "# <font color=\"#004D7F\">3. Patrones básicos</font>\n",
    "\n",
    "La mayoría de los caracteres simplemente emparejan con ellos mismos. Por ejemplo, la expresión regular \"test\" haría match con la cadena \"test\".\n",
    "\n",
    "Hay excepciones a esta regla; algunos caracteres, llamados metacaracteres, son especiales y no hacen match con ellos mismos. En su lugar, los metacaracteres afectan a porciones de las expresiones regulares repitiéndolas o cambiando su significado.\n",
    "\n",
    "La lista de metacaracteres es la siguiente: `. ^ $ * + ? { } [ ] \\ | ( )`"
   ]
  },
  {
   "cell_type": "markdown",
   "metadata": {},
   "source": [
    "## <font color=\"#004D7F\">Anclas</font>\n",
    "\n",
    "Indican que lo que queremos encontrar se encuentra al principio o al final de la cadena. Combinándolas, podemos buscar algo que represente a la cadena entera:\n",
    "* ^cadena: coincide con cualquier cadena que comience con \"cadena\".\n",
    "* cadena$: coincide con cualquier cadena que termine con \"cadena\".\n",
    "* ^cadena\\$: coincide con la cadena exacta \"cadena\"."
   ]
  },
  {
   "cell_type": "code",
   "execution_count": 7,
   "metadata": {},
   "outputs": [
    {
     "data": {
      "text/plain": [
       "<re.Match object; span=(3, 10), match='ejemplo'>"
      ]
     },
     "execution_count": 7,
     "metadata": {},
     "output_type": "execute_result"
    }
   ],
   "source": [
    "cadena = \"Un ejemplo de cadena de caracteres!!\"\n",
    "re.search(\"ejemplo\", cadena)"
   ]
  },
  {
   "cell_type": "code",
   "execution_count": 8,
   "metadata": {},
   "outputs": [
    {
     "data": {
      "text/plain": [
       "<re.Match object; span=(0, 7), match='Ejemplo'>"
      ]
     },
     "execution_count": 8,
     "metadata": {},
     "output_type": "execute_result"
    }
   ],
   "source": [
    "cadena = \"Ejemplo de cadena de caracteres!!\"\n",
    "re.search(\"^Ejemplo\", cadena)"
   ]
  },
  {
   "cell_type": "code",
   "execution_count": 9,
   "metadata": {},
   "outputs": [
    {
     "data": {
      "text/plain": [
       "<re.Match object; span=(31, 33), match='!!'>"
      ]
     },
     "execution_count": 9,
     "metadata": {},
     "output_type": "execute_result"
    }
   ],
   "source": [
    "cadena = \"Ejemplo de cadena de caracteres!!\"\n",
    "re.search(\"!!$\", cadena)"
   ]
  },
  {
   "cell_type": "markdown",
   "metadata": {},
   "source": [
    "## <font color=\"#004D7F\">Clases de caracteres</font>\n",
    "\n",
    "Se utilizan cuando se quiere buscar un caracter dentro de varias posibles opciones. Una clase se delimita entre corchetes y lista posibles opciones para el caracter que representa:\n",
    "* [abc]: coincide con a, b, o c\n",
    "* [387ab]: coincide con 3, 8, a o b\n",
    "* niñ[oa]s: coincide con niños o niñas.\n",
    "\n",
    "Para evitar errores, en caso de que queramos crear una clase de caracteres que contenga un corchete, debemos escribir una barra \\ delante, para que el motor de expresiones regulares lo considere un caracter normal: la clase [ab\\\\[] coincide con a, b y [."
   ]
  },
  {
   "cell_type": "code",
   "execution_count": 10,
   "metadata": {},
   "outputs": [
    {
     "data": {
      "text/plain": [
       "['niños', 'niñas']"
      ]
     },
     "execution_count": 10,
     "metadata": {},
     "output_type": "execute_result"
    }
   ],
   "source": [
    "cadena = \"En esta clase hay niños y niñas\"\n",
    "re.findall(\"ni[ñnm][oa]s\", cadena)"
   ]
  },
  {
   "cell_type": "markdown",
   "metadata": {},
   "source": [
    "## <font color=\"#004D7F\">Rangos</font>\n",
    "\n",
    "Si queremos encontrar un número, podemos usar una clase como [0123456789], o podemos utilizar un rango. Un rango es una clase de caracteres abreviada que se crea escribiendo el primer caracter del rango, un guión y el último caracter del rango. Múltiples rangos pueden definirse en la misma clase de caracteres.\n",
    "\n",
    "* [a-c]: equivale a [abc]\n",
    "* [0-9]: equivale a [0123456789]\n",
    "* [a-d5-8]: equivale a [abcd5678]\n",
    "\n",
    "&nbsp;\n",
    "<div class=\"alert alert-block alert-warning\">\n",
    "    \n",
    "<i class=\"fa fa-info-circle\" aria-hidden=\"true\"></i>\n",
    "__IMPORTANTE!__ Si se quiere utilizar el guión como parte de una clase de caracteres debe colocarse al principio o al final para evitar ser confundido con un rango ([01-], [-1234567890])\n",
    "</div>\n",
    "\n",
    "Al igual que podemos listar los caracteres posibles en cierta posición de la cadena, también podemos listar caracteres que no deben aparecer. Para ello, podemos negar la clase colocando el caracter ^ justo detrás del operador de apertura de la clase ([).\n",
    "\n",
    "* [^abc]: coincide con cualquier caracter distinto a a, b y c"
   ]
  },
  {
   "cell_type": "code",
   "execution_count": 11,
   "metadata": {},
   "outputs": [
    {
     "data": {
      "text/plain": [
       "['0xAB']"
      ]
     },
     "execution_count": 11,
     "metadata": {},
     "output_type": "execute_result"
    }
   ],
   "source": [
    "uuid = \"Value=0xAB\"\n",
    "re.findall(\"0x[0-9a-fA-F][0-9a-fA-F]\", uuid)"
   ]
  },
  {
   "cell_type": "markdown",
   "metadata": {},
   "source": [
    "## <font color=\"#004D7F\">Clases predefinidas</font>\n",
    "\n",
    "Existen algunas clases que se usan frecuentemente y por eso existen formas abreviadas para ellas. En Python, así como en otros lenguajes, se soportan las clases predefinidas de Perl y de POSIX. Algunos ejemplos son:\n",
    "\n",
    "* `\\d`: Cualquier digito decimal; es equivalente a la clase [0-9].\n",
    "* `\\D`: Cualquier digito no decimal; es equivalente a la clase [^0-9].\n",
    "* `\\s`: Cualquier caracter de espacio; es equivalente a la clase [ \\t\\n\\r\\f\\v].\n",
    "* `\\S`: Cualquier caracter no de espacio; es equivalente a la clase [^ \\t\\n\\r\\f\\v].\n",
    "* `\\w`: Cualquier caracter alfanumérico; es equivalente a la clase [a-zA-Z0-9_].\n",
    "* `\\W`: Cualquier caracter no alfanumérico; es equivalente a la clase [^a-zA-Z0-9_].\n",
    "\n",
    "Además existe una clase de caracteres que coincide con cualquier otro caracter. Ya sea letra, número, o un caracter especial. Esta clase es el punto:\n",
    "\n",
    "* `.` : coincide con cualquier caracter."
   ]
  },
  {
   "cell_type": "code",
   "execution_count": 12,
   "metadata": {},
   "outputs": [
    {
     "data": {
      "text/plain": [
       "['0xA3']"
      ]
     },
     "execution_count": 12,
     "metadata": {},
     "output_type": "execute_result"
    }
   ],
   "source": [
    "uuid = \"Value=0xA3\"\n",
    "re.findall(\"0x\\w{2}\", uuid)"
   ]
  },
  {
   "cell_type": "markdown",
   "metadata": {},
   "source": [
    "## <font color=\"#004D7F\">Alternativas</font>\n",
    "\n",
    "Usando el caracter \"|\" podemos unir varios patrones, de forma que queremos que el patrón completo pueda hacer match con cualquiera de ellos.\n",
    "\n",
    "Por ejemplo, el patrón (foo|bar)$ haría match con cualquier cadena que acabase en foo o en bar."
   ]
  },
  {
   "cell_type": "code",
   "execution_count": 13,
   "metadata": {},
   "outputs": [
    {
     "data": {
      "text/plain": [
       "['niños', 'niñas']"
      ]
     },
     "execution_count": 13,
     "metadata": {},
     "output_type": "execute_result"
    }
   ],
   "source": [
    "cadena = \"En esta clase hay niños y niñas\"\n",
    "re.findall(\"niños|niñas\", cadena)"
   ]
  },
  {
   "cell_type": "markdown",
   "metadata": {},
   "source": [
    "<div style=\"text-align: right\"> <font size=5>\n",
    "    <a href=\"#indice\"><i class=\"fa fa-arrow-circle-up\" aria-hidden=\"true\" style=\"color:#004D7F\"></i></a>\n",
    "</font></div>"
   ]
  },
  {
   "cell_type": "markdown",
   "metadata": {},
   "source": [
    "---\n",
    "\n",
    "<a id=\"section4\"></a> \n",
    "# <font color=\"#004D7F\">4. Repeticiones</font>\n",
    "Cualquier elemento de una expresion regular puede ser seguido por otro tipo de metacaracteres, los iteradores. Usando estos metacaracteres se puede especificar el número de ocurrencias del caracter previo, de un metacaracter o de una subexpresión. Ellos son:\n",
    "\n",
    "* `+`: 1 o más ocurrencias del patrón a la izquierda, ejemplo: \"i+\" = una o más ies.\n",
    "* `*`: 0 o más ocurrencias del patrón a la izquierda.\n",
    "* `?`: 0 o 1 ocurrencia del patrón a la izquierda.\n",
    "* `{n}`: exactamente n veces.\n",
    "* `{n, m}`: por lo menos n pero no más de m veces.\n",
    "\n",
    "&nbsp;\n",
    "<div class=\"alert alert-block alert-info\">\n",
    "<i class=\"fa fa-info-circle\" aria-hidden=\"true\"></i>\n",
    "Si se omite n, el mínimo es cero, y si se omite m, no hay máximo. Esto permite especificar a los otros como casos particulares: ? es {0,1}, + es {1,} y * es {,} o {0,}.\n",
    "</div>"
   ]
  },
  {
   "cell_type": "markdown",
   "metadata": {},
   "source": [
    "## <font color=\"#004D7F\">Voraz vs. no voraz</font>\n",
    "\n",
    "Los patrones de repetición + y \\* son voraces. Esto significa que siempre intentarán consumir la mayor parte de caracteres posibles de la cadena. Utilizando el metacaracter ? justo después de ellos (+? y \\*?) podemos conseguir que el metacaracter se comporte de forma no voraz y consuma el menor número de caracterres posible.\n",
    "\n",
    "<div style=\"text-align: right\"> <font size=5>\n",
    "    <a href=\"#indice\"><i class=\"fa fa-arrow-circle-up\" aria-hidden=\"true\" style=\"color:#004D7F\"></i></a>\n",
    "</font></div>"
   ]
  },
  {
   "cell_type": "markdown",
   "metadata": {},
   "source": [
    "---\n",
    "\n",
    "### <font color=\"#004D7F\"> <i class=\"fa fa-pencil-square-o\" aria-hidden=\"true\" style=\"color:#004D7F\"></i> Ejercicio</font>\n",
    "\n",
    "Utilizar una expresión regular para obtener todas las direcciones de email del siguiente texto.\n",
    "\n",
    "<div class=\"alert alert-block alert-info\">\n",
    "    \n",
    "<i class=\"fa fa-info-circle\" aria-hidden=\"true\"></i>\n",
    "__NOTA!__ Podéis considerar como email una cadena de caracteres que contenga:\n",
    "<ul>\n",
    "    <li> Una o más letras, números, caracteres punto ( . ), guión ( - ) o barra baja ( \\_ )</li>\n",
    "    <li> El carácter arroba ( @ )</li>\n",
    "    <li> Una o más letras, números, caracteres punto ( . ), guión ( - ) o barra baja ( \\_ )</li>\n",
    "    <li> El caracter punto ( . )</li>\n",
    "    <li> Dos o más letras</li>\n",
    "</ul>"
   ]
  },
  {
   "cell_type": "code",
   "execution_count": 14,
   "metadata": {},
   "outputs": [],
   "source": [
    "email_uai = \"\"\"\n",
    "de:\tPatrick Göttsch <Patrick.Goettsch@tuhh.de> a través de uclm.es \n",
    "para:\tuai@engr.orst.edu\n",
    "fecha:\t22 de enero de 2018, 9:19\n",
    "asunto:\t[UAI] Call for Applications for Participation\n",
    "lista de distribución:\tAssociation for Uncertainty in AI <uai.ENGR.ORST.EDU> Filtrar los mensajes de esta lista de distribución\n",
    "enviado por:\tgmail.com\n",
    "firmado por:\tuclm.es\n",
    "seguridad:\t Cifrado estándar (TLS) Más información\n",
    "\n",
    "Call for Applications for Participation\n",
    "RoboCup 2018 Standard Platform League\n",
    "spl.robocup.org\n",
    "Saturday 16th June through Friday 22nd June 2018 (Montréal, Canada)\n",
    "http://www.robocup2018.com\n",
    "RoboCup is an international initiative that fosters research and education in Robotics and Artificial Intelligence through a variety of competitions (RoboCupSoccer, RoboCupRescue, RoboCup@Home, RoboCupJunior) involving mostly multi-robot systems. RoboCup currently includes a number of different robot soccer leagues that focus on different research challenges.\n",
    "\n",
    "The Standard Platform League (SPL) is characterized using an identical robot platform by all the teams. Participating researchers focus on algorithmic development for fully autonomous robots, i.e., robots that operate with no external control. The SPL at RoboCup 2018 will use V5 (Maybe also V6, but currently no final decision has been made) or older versions of the NAO humanoid robot manufactured by SoftBank Robotics. The SPL robot soccer team competition games at RoboCup 2018 will be played indoor and outdoor between teams of five robots on a 6m x 9m playing surface. Teams should be able to play on a randomly assigned indoor or outdoor field within one hour.\n",
    "\n",
    "The RoboCup 2018 SPL will host both a team competition and a mixed teams competition.\n",
    "\n",
    "The team competition will consist of more games for most teams than in recent years. We expect to qualify 24 teams. The structure from 2017 will be used and extended in the team competition to allow all teams to play more games and against teams with similar skill levels. See Appendix A.3 of the preliminary rulebook for more details.\n",
    "\n",
    "Teams applying for the team competition may also apply for the mixed team competition. Each mixed team will consist of two teams. Mixed teams will play 6v6 games on the normal SPL field. Only 4 or 6 mixed teams will be selected to compete at RoboCup 2018. Teams, who participated in 2017, are encouraged to select another partner then in 2017. See Appendix B of the preliminary rulebook for more details.\n",
    "\n",
    "[...]\n",
    "\n",
    "Submission and Evaluation\n",
    "All applications with the (pre-)qualification material must be submitted by 31st of January 2018, by email to rc-spl-tc@lists.robocup.org and to rc.spl.tc@lists.robocup.org.\n",
    "\n",
    "[...]\n",
    "\n",
    "_______________________________________________\n",
    "uai mailing list\n",
    "uai@ENGR.ORST.EDU\n",
    "https://secure.engr.oregonstate.edu/mailman/listinfo/uai\n",
    "\"\"\""
   ]
  },
  {
   "cell_type": "code",
   "execution_count": 15,
   "metadata": {
    "scrolled": true
   },
   "outputs": [
    {
     "data": {
      "text/plain": [
       "['Patrick.Goettsch@tuhh.de',\n",
       " 'uai@engr.orst.edu',\n",
       " 'rc-spl-tc@lists.robocup.org',\n",
       " 'rc.spl.tc@lists.robocup.org',\n",
       " 'uai@ENGR.ORST.EDU']"
      ]
     },
     "execution_count": 15,
     "metadata": {},
     "output_type": "execute_result"
    }
   ],
   "source": [
    "def list_emails(text):\n",
    "    # Debe devolver todos los emails encontrados en cadena\n",
    "    return re.findall(\"\\w*[-.\\w]*@[\\w\\.]+\\.\\w+\", text)\n",
    "    \n",
    "list_emails(email_uai)"
   ]
  },
  {
   "cell_type": "markdown",
   "metadata": {},
   "source": [
    "<div style=\"text-align: right\"> <font size=5>\n",
    "    <a href=\"#indice\"><i class=\"fa fa-arrow-circle-up\" aria-hidden=\"true\" style=\"color:#004D7F\"></i></a>\n",
    "</font></div>"
   ]
  },
  {
   "cell_type": "markdown",
   "metadata": {},
   "source": [
    "---\n",
    "\n",
    "<a id=\"section5\"></a> \n",
    "# <font color=\"#004D7F\">5. Grupos</font>\n",
    "\n",
    "Los grupos en una expresión regular nos van a permitir coger partes de un match. Por ejemplo, supongamos que queremos utilizar una expresión regular para detectar emails, pero además queremos que nos separe la parte del usuario y la del host. Para ello, podemos añadir paréntesis ( ) alrededor del nombre de usuario y del host: \"([\\w\\.-]+)@([\\w\\.-]+)\". \n",
    "\n",
    "Los paréntesis no cambian la forma en la que el patrón hace match, en su lugar lo que establece son grupos dentro del match a los que podemos acceder con la sintaxis `match.group(index)`. Sobre el objeto match, la instrucción match.group(1) nos devolvería el texto correspondiente entre el primer paréntesis, y match.group(2) devolvería el texto correspondiente al segundo paréntesis.\n",
    "\n",
    "Una forma habitual de trabajar con expresiones regulares consiste en escribir un patrón para las cosas que estamos buscando, añadiendo paréntesis para extraer grupos con las partes que queremos."
   ]
  },
  {
   "cell_type": "code",
   "execution_count": 16,
   "metadata": {},
   "outputs": [],
   "source": [
    "m1 = \"(\\w*[-.\\w]*)\"\n",
    "m2 = \"([\\w\\.]+\\.\\w+)\""
   ]
  },
  {
   "cell_type": "code",
   "execution_count": 17,
   "metadata": {
    "scrolled": true
   },
   "outputs": [
    {
     "name": "stdout",
     "output_type": "stream",
     "text": [
      "('Patrick.Goettsch', 'tuhh.de')\n",
      "('uai', 'engr.orst.edu')\n",
      "('rc-spl-tc', 'lists.robocup.org')\n",
      "('rc.spl.tc', 'lists.robocup.org')\n",
      "('uai', 'ENGR.ORST.EDU')\n"
     ]
    }
   ],
   "source": [
    "for m in re.findall(f\"{m1}@{m2}\", email_uai):\n",
    "    print(m)"
   ]
  },
  {
   "cell_type": "code",
   "execution_count": 18,
   "metadata": {},
   "outputs": [
    {
     "name": "stdout",
     "output_type": "stream",
     "text": [
      "tuhh.de\n",
      "engr.orst.edu\n",
      "lists.robocup.org\n",
      "lists.robocup.org\n",
      "ENGR.ORST.EDU\n"
     ]
    }
   ],
   "source": [
    "for m in re.finditer(f\"{m1}@{m2}\", email_uai):\n",
    "    print(m.group(2))"
   ]
  },
  {
   "cell_type": "markdown",
   "metadata": {},
   "source": [
    "## <font color=\"#004D7F\">Grupos con nombre</font>\n",
    "\n",
    "De la misma forma en la que podemos usar grupos numerados, también podemos usar grupos con nombre. Esto hace más cómodo el manejo de patrones complejos; ya que siempre es más natural manejar un nombre que un número. \n",
    "\n",
    "Los nombres de grupo se definen agregando ?P&lt;nombre&gt; al paréntesis de apertura del grupo:"
   ]
  },
  {
   "cell_type": "code",
   "execution_count": 19,
   "metadata": {
    "scrolled": true
   },
   "outputs": [
    {
     "name": "stdout",
     "output_type": "stream",
     "text": [
      "USER: Patrick.Goettsch \n",
      "DOMAIN: tuhh.de\n",
      "\n",
      "USER: uai \n",
      "DOMAIN: engr.orst.edu\n",
      "\n",
      "USER: rc-spl-tc \n",
      "DOMAIN: lists.robocup.org\n",
      "\n",
      "USER: rc.spl.tc \n",
      "DOMAIN: lists.robocup.org\n",
      "\n",
      "USER: uai \n",
      "DOMAIN: ENGR.ORST.EDU\n",
      "\n"
     ]
    }
   ],
   "source": [
    "m1 = \"(?P<user>\\w*[-.\\w]*)\"\n",
    "m2 = \"(?P<domain>[\\w\\.]+\\.\\w+)\"\n",
    "for m in re.finditer(\"(?P<user>\\w*[-.\\w]*)@(?P<domain>[\\w\\.]+\\.\\w+)\", email_uai):\n",
    "    print(f\"USER: {m.group('user')} \\nDOMAIN: {m.group('domain')}\\n\")\n"
   ]
  },
  {
   "cell_type": "markdown",
   "metadata": {},
   "source": [
    "## <font color=\"#004D7F\">Referenciando grupos</font>\n",
    "\n",
    "En un patrón también podemos referenciar a grupos que han sido capturados previamente por el propio patrón. Por ejemplo \\1 hara match con la misma cadena que fue capturada por el primer grupo definido en el patrón."
   ]
  },
  {
   "cell_type": "code",
   "execution_count": 20,
   "metadata": {},
   "outputs": [
    {
     "name": "stdout",
     "output_type": "stream",
     "text": [
      "<re.Match object; span=(0, 4), match='coco'>\n",
      "<re.Match object; span=(5, 9), match='bebe'>\n"
     ]
    }
   ],
   "source": [
    "cadena = \"coco bebe casa\"\n",
    "for m in re.finditer(r\"(\\w+)\\1\", cadena):\n",
    "    print(m)"
   ]
  },
  {
   "cell_type": "markdown",
   "metadata": {},
   "source": [
    "<div style=\"text-align: right\"> <font size=5>\n",
    "    <a href=\"#indice\"><i class=\"fa fa-arrow-circle-up\" aria-hidden=\"true\" style=\"color:#004D7F\"></i></a>\n",
    "</font></div>"
   ]
  },
  {
   "cell_type": "markdown",
   "metadata": {},
   "source": [
    "---\n",
    "\n",
    "<a id=\"section6\"></a> \n",
    "# <font color=\"#004D7F\">6. Otras operaciones con expresiones regulares</font>"
   ]
  },
  {
   "cell_type": "markdown",
   "metadata": {
    "collapsed": true
   },
   "source": [
    "## <font color=\"#004D7F\">Compilación</font>\n",
    "\n",
    "Como hemos dicho anteriormente, las expresiones regulares son compiladas antes de ejecutarse. El módulo re cachea las últimas expresiones regulares utilizadas posteriormente, de forma que si se vuelven a utilizar no necesitan volver a ser compiladas.\n",
    "\n",
    "También es posible compilar las expresiones regulares de forma forzada utilizando la siguiente sintaxis:\n",
    "\n",
    "```python\n",
    "regex = re.compile(pattern)\n",
    "```\n",
    "\n",
    "Una vez compilada una expresión regular, podemos utilizar el objeto resultante para hacer las mismas operaciones que realizaríamos sobre el módulo. Es decir, los 2 siguientes bloques de código son equivalentes:\n",
    "```python\n",
    "re.search(pattern, cadena)\n",
    "\n",
    "regex = re.compile(pattern, cadena)\n",
    "regex.search(cadena)\n",
    "```\n",
    "\n",
    "La compilación de expresiones regulares permite además definir los siguientes flags de compilación.\n",
    "* `IGNORECASE, I`: Ignora mayúsculas/minúsculas\n",
    "* `MULTILINE, M`: Math multi-línea: Los operadores $ y ^ matchean con el principio y el final de la linea.\n",
    "* `DOTALL, S`: Hace que el operador punto ( . ) haga match con cualquier caracter, incluído el salto de línea."
   ]
  },
  {
   "cell_type": "code",
   "execution_count": 21,
   "metadata": {},
   "outputs": [
    {
     "data": {
      "text/plain": [
       "['Esto', 'es', 'una', 'cadena']"
      ]
     },
     "execution_count": 21,
     "metadata": {},
     "output_type": "execute_result"
    }
   ],
   "source": [
    "cadena = \"Esto es una cadena\"\n",
    "myreg = re.compile(r\"[a-z]+\", re.I) # para incluir mayúxculas\n",
    "myreg.findall(cadena)"
   ]
  },
  {
   "cell_type": "markdown",
   "metadata": {},
   "source": [
    "## <font color=\"#004D7F\">Separar cadenas de caracteres</font>\n",
    "\n",
    "El método `.split(cadena)` nos permite separar un string por una expresión regular definida."
   ]
  },
  {
   "cell_type": "code",
   "execution_count": 22,
   "metadata": {},
   "outputs": [
    {
     "data": {
      "text/plain": [
       "['Esto', 'es', 'una', 'cadena']"
      ]
     },
     "execution_count": 22,
     "metadata": {},
     "output_type": "execute_result"
    }
   ],
   "source": [
    "cadena = \"Esto es una cadena\"\n",
    "re.split(\" \", cadena)"
   ]
  },
  {
   "cell_type": "markdown",
   "metadata": {},
   "source": [
    "## <font color=\"#004D7F\">Reemplazar en cadenas de caracteres</font>\n",
    "\n",
    "El método `.sub(reemplazo, cadena)` nos permite reemplazar en la cadena \"cadena\" todos los match no solapados de la expresión regular por el texto reemplazo.\n"
   ]
  },
  {
   "cell_type": "code",
   "execution_count": 23,
   "metadata": {},
   "outputs": [
    {
     "data": {
      "text/plain": [
       "'Esto.es.una.cadena'"
      ]
     },
     "execution_count": 23,
     "metadata": {},
     "output_type": "execute_result"
    }
   ],
   "source": [
    "cadena = \"Esto es una cadena\"\n",
    "re.sub(\"\\s+\", \".\", cadena)"
   ]
  },
  {
   "cell_type": "markdown",
   "metadata": {},
   "source": [
    "<div style=\"text-align: right\"> <font size=5>\n",
    "    <a href=\"#indice\"><i class=\"fa fa-arrow-circle-up\" aria-hidden=\"true\" style=\"color:#004D7F\"></i></a>\n",
    "</font></div>"
   ]
  },
  {
   "cell_type": "markdown",
   "metadata": {},
   "source": [
    "<a id=\"section7\"></a> \n",
    "# <font color=\"#004D7F\">7. Ejercicios"
   ]
  },
  {
   "cell_type": "markdown",
   "metadata": {},
   "source": [
    "### <font color=\"#004D7F\"> <i class=\"fa fa-pencil-square-o\" aria-hidden=\"true\" style=\"color:#004D7F\"></i> Extraer palabras</font> \n",
    "\n",
    "Extrae todas las palabras que empiecen por b o B "
   ]
  },
  {
   "cell_type": "code",
   "execution_count": 24,
   "metadata": {},
   "outputs": [
    {
     "name": "stdout",
     "output_type": "stream",
     "text": [
      "['Betty', 'bought', 'bit', 'butter', 'But', 'butter', 'bitter', 'bought', 'better', 'butter', 'bitter', 'butter', 'better']\n"
     ]
    }
   ],
   "source": [
    "text = \"\"\"Betty bought a bit of butter, \n",
    "But the butter was so bitter, \n",
    "So she bought some better butter, \n",
    "To make the bitter butter better.\"\"\" \n",
    "\n",
    "res = re.findall(\"[Bb]\\w+\", text, flags=re.IGNORECASE)\n",
    "\n",
    "print(res)\n",
    "assert(res==[\"Betty\", \"bought\", \"bit\", \"butter\", \"But\", \"butter\", \"bitter\", \"bought\", \"better\", \"butter\", \"bitter\", \"butter\", \"better\"])"
   ]
  },
  {
   "cell_type": "markdown",
   "metadata": {},
   "source": [
    "### <font color=\"#004D7F\"> <i class=\"fa fa-pencil-square-o\" aria-hidden=\"true\" style=\"color:#004D7F\"></i> Limpiar texto y obtener palabras</font> \n",
    "\n",
    "Elimina todos los signos de puntuacion y espacios y separa la sentencia en una lista de palabras"
   ]
  },
  {
   "cell_type": "code",
   "execution_count": 25,
   "metadata": {},
   "outputs": [
    {
     "name": "stdout",
     "output_type": "stream",
     "text": [
      "['Esta', 'frase', 'esta', 'muy', 'muy', 'mal', 'escrita']\n"
     ]
    }
   ],
   "source": [
    "text = \"\"\"Esta.    frase esta muy;  muy, mal escrita\"\"\" \n",
    "\n",
    "res = re.split(\"\\W+\", text)\n",
    "\n",
    "print(res) # Concatenamos la lista de palabras en una sola frase\n",
    "assert(res==[\"Esta\", \"frase\", \"esta\", \"muy\", \"muy\", \"mal\", \"escrita\"])"
   ]
  },
  {
   "cell_type": "markdown",
   "metadata": {},
   "source": [
    "### <font color=\"#00586D\"> <i class=\"fa fa-pencil-square-o\" aria-hidden=\"true\" style=\"color:#00586D\"></i> Limpiar tweet</font>\n",
    "\n",
    "Elimina las url, hashtags, menciones del tweet y signos de puntuacion deja solo el texto del usuario. Elimina también espacio en blanco redundante.\n",
    "\n",
    "- URls son links que empiezan con http\n",
    "- Hashtags empiezan con #\n",
    "- Menciones empiezan con @"
   ]
  },
  {
   "cell_type": "code",
   "execution_count": 26,
   "metadata": {},
   "outputs": [
    {
     "name": "stdout",
     "output_type": "stream",
     "text": [
      "Good advice What I would do differently if I was learning to code today \n"
     ]
    }
   ],
   "source": [
    "tweet = \"\"\"Good advice! @TheNextWeb: What I would do differently \\\n",
    "if I was learning to code today http://t.co/lbwej0pxOd @garybernhardt #rstats\"\"\"\n",
    "\n",
    "def clean_tweet(tweet):\n",
    "    tweet = re.sub(\"http:\\/\\/.*\\/\\w+\", \"\", tweet)  # remove URLs\n",
    "    tweet = re.sub(\"#\\w*\", \"\", tweet)  # remove hashtags\n",
    "    tweet = re.sub(\"@\\w*\", \"\", tweet)  # remove mentions\n",
    "    tweet = re.sub(\"[:\\.!]\", \"\", tweet)  # remove punctuations\n",
    "    tweet = re.sub(r\"\\s+\", \" \", tweet)  # remove extra whitespace\n",
    "    return tweet\n",
    "\n",
    "res = clean_tweet(tweet)\n",
    "\n",
    "print(res)\n",
    "assert(res==\"Good advice What I would do differently if I was learning to code today \")"
   ]
  },
  {
   "cell_type": "markdown",
   "metadata": {},
   "source": [
    "### <font color=\"#00586D\"> <i class=\"fa fa-pencil-square-o\" aria-hidden=\"true\" style=\"color:#00586D\"></i> Obtén el texto interno de las siguientes tags html</font>\n",
    "\n",
    "Una tag de HTML empieza con `<tag>` y termina con `</tag>`"
   ]
  },
  {
   "cell_type": "code",
   "execution_count": 27,
   "metadata": {},
   "outputs": [
    {
     "name": "stdout",
     "output_type": "stream",
     "text": [
      "['Your Title Here', 'Link Name', 'This is a Header', 'This is a Medium Header', 'This is a new paragraph! ', 'This is a another paragraph!', 'This is a new sentence without a paragraph break, in bold italics.']\n"
     ]
    }
   ],
   "source": [
    "html = \"\"\"\n",
    "<HTML>\n",
    "    <HEAD>\n",
    "        <TITLE>Your Title Here</TITLE>\n",
    "    </HEAD>\n",
    "    <BODY>\n",
    "        <HR>\n",
    "        <a href=\"http://someurl.com\">Link Name</a>\n",
    "        <H1>This is a Header</H1>\n",
    "        <H2>This is a Medium Header</H2>\n",
    "        <P>This is a new paragraph! </P>\n",
    "        <P>This is a another paragraph!</P>\n",
    "        <B>This is a new sentence without a paragraph break, in bold italics.</B>\n",
    "        <HR>\n",
    "    </BODY>\n",
    "</HTML>\n",
    "\"\"\"\n",
    "\n",
    "res = re.findall(\"<.*>(.*?)<\\/.*>\", html) \n",
    "\n",
    "print(res)\n",
    "assert(res==[\n",
    " \"Your Title Here\",\n",
    " \"Link Name\",\n",
    " \"This is a Header\",\n",
    " \"This is a Medium Header\",\n",
    " \"This is a new paragraph! \",\n",
    " \"This is a another paragraph!\",\n",
    " \"This is a new sentence without a paragraph break, in bold italics.\"\n",
    "])"
   ]
  },
  {
   "cell_type": "markdown",
   "metadata": {},
   "source": [
    "### <font color=\"#00586D\"> <i class=\"fa fa-pencil-square-o\" aria-hidden=\"true\" style=\"color:#00586D\"></i> Cuenta bancaria</font>\n",
    "\n",
    "Escribe una función que determine si una cadena contiene un número de cuenta y limpie los espacios. Los formatos válidos que consideraremos son un código IBAN formado por dos letras mayúsculas y dos dígitos de control seguido de 20 dígitos. Aceptaremos cualquier número de espacios en blanco entre cada caracter.\n",
    "\n",
    "La función deberá obtener un matching, eliminar los espacios y separar la secuencia en varios grupos:\n",
    "\n",
    "- Código IBAN\n",
    "- Primeros 4 digitos (entidad)\n",
    "- Segundos 4 dígitos (oficina)\n",
    "- Siguientes 2 dígitos (control)\n",
    "- Siguientes 10 dígitos (cuenta)\n",
    "\n",
    "* Los números de cuenta son aleatorios y en la práctica existen más restricciones al contenido de los códigos"
   ]
  },
  {
   "cell_type": "code",
   "execution_count": 28,
   "metadata": {},
   "outputs": [],
   "source": [
    "def validate_account(code):\n",
    "    clean = re.sub(\"\\s+\", \"\", code)\n",
    "    # \\Z final de string\n",
    "    m = re.match(\"^(?P<iban>\\w{2}\\d{2})(?P<entidad>\\d{4})(?P<oficina>\\d{4})(?P<control>\\d{2})(?P<cuenta>\\d{10})\\Z\", clean)\n",
    "    if m:\n",
    "        return {\n",
    "            \"iban\": m.group(\"iban\"),\n",
    "            \"entidad\": m.group(\"entidad\"),        \n",
    "            \"oficina\": m.group(\"oficina\"),\n",
    "            \"control\": m.group(\"control\"),\n",
    "            \"cuenta\": m.group(\"cuenta\"),\n",
    "        }\n",
    "    else:\n",
    "        return None"
   ]
  },
  {
   "cell_type": "code",
   "execution_count": 29,
   "metadata": {},
   "outputs": [
    {
     "name": "stdout",
     "output_type": "stream",
     "text": [
      "{'iban': 'ES56', 'entidad': '8493', 'oficina': '2093', 'control': '03', 'cuenta': '2039573048'}\n"
     ]
    }
   ],
   "source": [
    "res = validate_account(\"ES56 8493 2093 03 2039573048\")\n",
    "print(res)\n",
    "assert(res=={\"iban\": \"ES56\",\"entidad\": \"8493\",\"oficina\": \"2093\",\"control\": \"03\",\"cuenta\": \"2039573048\"})"
   ]
  },
  {
   "cell_type": "code",
   "execution_count": 30,
   "metadata": {},
   "outputs": [
    {
     "name": "stdout",
     "output_type": "stream",
     "text": [
      "{'iban': 'ES56', 'entidad': '8493', 'oficina': '2093', 'control': '03', 'cuenta': '2039573048'}\n"
     ]
    }
   ],
   "source": [
    "res = validate_account(\"ES5684932093032039573048\")\n",
    "print(res)\n",
    "assert(res=={\"iban\": \"ES56\",\"entidad\": \"8493\",\"oficina\": \"2093\",\"control\": \"03\",\"cuenta\": \"2039573048\"})"
   ]
  },
  {
   "cell_type": "code",
   "execution_count": 31,
   "metadata": {},
   "outputs": [
    {
     "name": "stdout",
     "output_type": "stream",
     "text": [
      "{'iban': 'ES56', 'entidad': '8493', 'oficina': '2093', 'control': '03', 'cuenta': '2039573048'}\n"
     ]
    }
   ],
   "source": [
    "res = validate_account(\"ES56  8493  2093    03  2039573048\")\n",
    "print(res)\n",
    "assert(res=={\"iban\": \"ES56\",\"entidad\": \"8493\",\"oficina\": \"2093\",\"control\": \"03\",\"cuenta\": \"2039573048\"})"
   ]
  },
  {
   "cell_type": "code",
   "execution_count": 32,
   "metadata": {},
   "outputs": [
    {
     "name": "stdout",
     "output_type": "stream",
     "text": [
      "{'iban': 'ES56', 'entidad': '8493', 'oficina': '2093', 'control': '03', 'cuenta': '2039573048'}\n"
     ]
    }
   ],
   "source": [
    "res = validate_account(\"ES56\\t8493\\t2093\\t03\\t2039573048\")\n",
    "print(res)\n",
    "assert(res=={\"iban\": \"ES56\",\"entidad\": \"8493\",\"oficina\": \"2093\",\"control\": \"03\",\"cuenta\": \"2039573048\"})"
   ]
  },
  {
   "cell_type": "code",
   "execution_count": 33,
   "metadata": {},
   "outputs": [
    {
     "name": "stdout",
     "output_type": "stream",
     "text": [
      "None\n"
     ]
    }
   ],
   "source": [
    "res = validate_account(\"ES56 8493 2093 03 2039573048 67\")\n",
    "print(res)\n",
    "assert(res==None)"
   ]
  },
  {
   "cell_type": "code",
   "execution_count": 34,
   "metadata": {},
   "outputs": [
    {
     "name": "stdout",
     "output_type": "stream",
     "text": [
      "None\n"
     ]
    }
   ],
   "source": [
    "res = validate_account(\"ES56 8493 2093 2039573048\")\n",
    "print(res)\n",
    "assert(res==None)"
   ]
  },
  {
   "cell_type": "markdown",
   "metadata": {},
   "source": [
    "<div style=\"text-align: right\"><font size=4> <i class=\"fa fa-check-square-o\" aria-hidden=\"true\" style=\"color:#004D7F\"></i>\n",
    " </font></div>"
   ]
  },
  {
   "cell_type": "markdown",
   "metadata": {},
   "source": [
    "### <font color=\"#00586D\"> <i class=\"fa fa-pencil-square-o\" aria-hidden=\"true\" style=\"color:#00586D\"></i> Parseo de log de Apache</font>\n",
    "\n",
    "Escribir una expresión regular que sea capaz de extraer para cada línea de un fichero de log de Apache los campos hostname/IP, fecha y hora (ignorando zona horaria), tipo de petición (GET, POST...), recurso y código de estado.\n",
    "\n",
    "El siguiente fichero contiene lineas de log en formato estandar de log de apache que de manera genérica contiene:\n",
    "\n",
    "`<host ip> - - [<fecha> <zona horaria>] \"<tipo> <URL recurso>\" <código> <tamaño>`"
   ]
  },
  {
   "cell_type": "markdown",
   "metadata": {},
   "source": [
    "```\n",
    "64.242.88.10 - - [07/Mar/2004:16:05:49 -0800] \"GET /twiki/bin/edit/Main/Double_bounce_sender?topicparent=Main.ConfigurationVariables HTTP/1.1\" 401 12846\n",
    "\n",
    "64.242.88.10 - - [07/Mar/2004:16:06:51 -0800] \"GET /twiki/bin/rdiff/TWiki/NewUserTemplate?rev1=1.3&rev2=1.2 HTTP/1.1\" 200 4523\n",
    "\n",
    "64.242.88.10 - - [07/Mar/2004:16:10:02 -0800] \"GET /mailman/listinfo/hsdivision HTTP/1.1\" 200 6291\n",
    "```"
   ]
  },
  {
   "cell_type": "code",
   "execution_count": 35,
   "metadata": {},
   "outputs": [],
   "source": [
    "import re\n",
    "file = open(\"../data/access_log\", \"r\")\n",
    "content = file.read()"
   ]
  },
  {
   "cell_type": "code",
   "execution_count": 36,
   "metadata": {},
   "outputs": [],
   "source": [
    "patron = \"^(?P<host>^\\d{1,3}\\.\\d{1,3}\\.\\d{1,3}\\.\\d{1,3}).*\\[(?P<fecha>\\d{1,2}\\/\\w{3}\\/\\d{4}):(?P<hora>\\d{2}:\\d{2}:\\d{2}).*\\\"(?P<tipo>\\w{3})\\s(?P<recurso>.*)\\sHTTP\\/\\d\\.\\d\\\"\\s(?P<codigo>\\d{3})\\s\\d.*\"\n",
    "regex = re.compile(patron, re.MULTILINE)"
   ]
  },
  {
   "cell_type": "code",
   "execution_count": 37,
   "metadata": {},
   "outputs": [],
   "source": [
    "data = []\n",
    "\n",
    "for match in regex.finditer(content):\n",
    "    data.append({\n",
    "        \"host\": match.group(\"host\"),\n",
    "        \"fecha\": match.group(\"fecha\"),\n",
    "        \"hora\": match.group(\"hora\"),\n",
    "        \"tipo\": match.group(\"tipo\"),\n",
    "        \"recurso\": match.group(\"recurso\"),\n",
    "        \"codigo\": match.group(\"codigo\")\n",
    "    })"
   ]
  },
  {
   "cell_type": "code",
   "execution_count": 38,
   "metadata": {},
   "outputs": [
    {
     "name": "stdout",
     "output_type": "stream",
     "text": [
      "{'host': '64.242.88.10', 'fecha': '07/Mar/2004', 'hora': '16:05:49', 'tipo': 'GET', 'recurso': '/twiki/bin/edit/Main/Double_bounce_sender?topicparent=Main.ConfigurationVariables', 'codigo': '401'}\n"
     ]
    }
   ],
   "source": [
    "print(data[0])\n",
    "assert(data[0]=={\"host\": \"64.242.88.10\", \"fecha\": \"07/Mar/2004\", \"hora\": \"16:05:49\", \"tipo\": \"GET\", \"recurso\": \"/twiki/bin/edit/Main/Double_bounce_sender?topicparent=Main.ConfigurationVariables\", \"codigo\": \"401\"})"
   ]
  },
  {
   "cell_type": "code",
   "execution_count": 39,
   "metadata": {},
   "outputs": [
    {
     "name": "stdout",
     "output_type": "stream",
     "text": [
      "{'host': '64.242.88.10', 'fecha': '07/Mar/2004', 'hora': '16:06:51', 'tipo': 'GET', 'recurso': '/twiki/bin/rdiff/TWiki/NewUserTemplate?rev1=1.3&rev2=1.2', 'codigo': '200'}\n"
     ]
    }
   ],
   "source": [
    "print(data[1])\n",
    "assert(data[1]=={\"host\": \"64.242.88.10\", \"fecha\": \"07/Mar/2004\", \"hora\": \"16:06:51\", \"tipo\": \"GET\", \"recurso\": \"/twiki/bin/rdiff/TWiki/NewUserTemplate?rev1=1.3&rev2=1.2\", \"codigo\": \"200\"})"
   ]
  },
  {
   "cell_type": "code",
   "execution_count": 40,
   "metadata": {},
   "outputs": [
    {
     "name": "stdout",
     "output_type": "stream",
     "text": [
      "{'host': '64.242.88.10', 'fecha': '07/Mar/2004', 'hora': '16:10:02', 'tipo': 'GET', 'recurso': '/mailman/listinfo/hsdivision', 'codigo': '200'}\n"
     ]
    }
   ],
   "source": [
    "print(data[2])\n",
    "assert(data[2]=={\"host\": \"64.242.88.10\", \"fecha\": \"07/Mar/2004\", \"hora\": \"16:10:02\", \"tipo\": \"GET\", \"recurso\": \"/mailman/listinfo/hsdivision\", \"codigo\": \"200\"})"
   ]
  },
  {
   "cell_type": "markdown",
   "metadata": {},
   "source": [
    "---\n",
    "\n",
    "<a id=\"referencias\"></a>\n",
    "# <font color=\"#004D7F\"> Referencias</font>\n",
    "\n",
    "* [pythex.org](http://pythex.org)\n",
    "* [HOW-TO oficial python.org](https://docs.python.org/3.6/howto/regex.html)\n",
    "* [Documentación oficial python.org módulo re](https://docs.python.org/3.6/library/re.html#module-re)\n",
    "* [Tutorial interactivo de regexone.com](http://regexone.com)\n",
    "\n",
    "\n",
    "<div style=\"text-align: right\"> <font size=5>\n",
    "    <a href=\"#indice\"><i class=\"fa fa-arrow-circle-up\" aria-hidden=\"true\" style=\"color:#004D7F\"></i></a>\n",
    "</font></div>"
   ]
  }
 ],
 "metadata": {
  "celltoolbar": "Raw Cell Format",
  "kernelspec": {
   "display_name": "Python 3",
   "language": "python",
   "name": "python3"
  },
  "language_info": {
   "codemirror_mode": {
    "name": "ipython",
    "version": 3
   },
   "file_extension": ".py",
   "mimetype": "text/x-python",
   "name": "python",
   "nbconvert_exporter": "python",
   "pygments_lexer": "ipython3",
   "version": "3.8.8"
  }
 },
 "nbformat": 4,
 "nbformat_minor": 2
}
