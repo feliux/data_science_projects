{
 "cells": [
  {
   "cell_type": "markdown",
   "metadata": {},
   "source": [
    "## Pandas III: Datos categóricos y temporales\n",
    "\n",
    "<a id=\"indice\"></a>\n",
    "# Índice\n",
    "\n",
    "\n",
    "* [1. Datos categóricos](#categoricos) \n",
    "  * [Categorías con orden](#categoricos-orden) \n",
    "  * [Manipulación de las categorías](#categoricos-manipulacion)\n",
    "* [2. Datos temporales](#temporales) \n",
    "  * [Timestamp](#temporales-timestamp)\n",
    "    * [Localizando los objetos timezone](#temporales-localize)\n",
    "    * [Atributos y funciones](#temporales-atributos)\n",
    "    * [Timestamps en series](#temporales-series)\n",
    "  * [DatetimeIndex](#temporales-datetimeindex)\n",
    "    * [Creación de DatetimeIndex](#temporales-datetimeindex-creacion)\n",
    "  * [Period](#temporales-period)\n",
    "  * [PeriodIndex](#temporales-PeriodIndex)\n",
    "  * [Función `resample`](#temporales-resample)"
   ]
  },
  {
   "cell_type": "markdown",
   "metadata": {},
   "source": [
    "# DataFrame\n",
    "\n",
    "En esta libreta vamos a trabajar con dos `DataFrames`. El primero, \"MQTT-Events.csv\", contiene datos de monitorización de una red en la que se genera tráfico MQTT. En el segundo, \"packetLengthPrediction.csv\", disponemos datos de predicción del tamaño de los paquetes en función del resto de columnas en el primer `DataFrame`. Los datos fueron tomados el día 3 de febrero de 2018, desde las 9PM hasta las 11PM."
   ]
  },
  {
   "cell_type": "code",
   "execution_count": 1,
   "metadata": {},
   "outputs": [],
   "source": [
    "import pandas as pd\n",
    "\n",
    "df_events = pd.read_csv(\"../data/MQTT-events.csv\")\n",
    "df_predictions = pd.read_csv(\"../data/packetLengthPrediction.csv\")"
   ]
  },
  {
   "cell_type": "code",
   "execution_count": 2,
   "metadata": {},
   "outputs": [
    {
     "data": {
      "text/html": [
       "<div>\n",
       "<style scoped>\n",
       "    .dataframe tbody tr th:only-of-type {\n",
       "        vertical-align: middle;\n",
       "    }\n",
       "\n",
       "    .dataframe tbody tr th {\n",
       "        vertical-align: top;\n",
       "    }\n",
       "\n",
       "    .dataframe thead th {\n",
       "        text-align: right;\n",
       "    }\n",
       "</style>\n",
       "<table border=\"1\" class=\"dataframe\">\n",
       "  <thead>\n",
       "    <tr style=\"text-align: right;\">\n",
       "      <th></th>\n",
       "      <th>timestamp</th>\n",
       "      <th>packetLength</th>\n",
       "      <th>info</th>\n",
       "      <th>networkInterface.sourceMAC</th>\n",
       "      <th>networkInterface.destinationMAC</th>\n",
       "      <th>internet.sourceIP</th>\n",
       "      <th>internet.destinationIP</th>\n",
       "      <th>internet.protocol</th>\n",
       "      <th>TCP.sourcePort</th>\n",
       "      <th>TCP.destinationPort</th>\n",
       "      <th>TCP.flags</th>\n",
       "      <th>TCP.calculatedWindowSize</th>\n",
       "      <th>UDP.sourcePort</th>\n",
       "      <th>UDP.destinationPort</th>\n",
       "      <th>MQTT.flags</th>\n",
       "      <th>MQTT.message</th>\n",
       "      <th>MQTT.topic</th>\n",
       "      <th>MQTT.messageLength</th>\n",
       "      <th>MQTT.frameCounter</th>\n",
       "    </tr>\n",
       "  </thead>\n",
       "  <tbody>\n",
       "    <tr>\n",
       "      <th>0</th>\n",
       "      <td>1517688352799319</td>\n",
       "      <td>100</td>\n",
       "      <td>Publish Message</td>\n",
       "      <td>08:00:27:71:f1:05</td>\n",
       "      <td>08:00:27:53:41:85</td>\n",
       "      <td>192.168.1.7</td>\n",
       "      <td>192.168.1.5</td>\n",
       "      <td>MQTT</td>\n",
       "      <td>52588</td>\n",
       "      <td>1883</td>\n",
       "      <td>0x018</td>\n",
       "      <td>229</td>\n",
       "      <td>-1</td>\n",
       "      <td>-1</td>\n",
       "      <td>0x30</td>\n",
       "      <td>62.7216410003</td>\n",
       "      <td>fakeSensor2/sound</td>\n",
       "      <td>32</td>\n",
       "      <td>1</td>\n",
       "    </tr>\n",
       "    <tr>\n",
       "      <th>1</th>\n",
       "      <td>1517688352837583</td>\n",
       "      <td>66</td>\n",
       "      <td>1883  &gt;  52588 [ACK] Seq=1 Ack=35 Win=227 Len=...</td>\n",
       "      <td>08:00:27:53:41:85</td>\n",
       "      <td>08:00:27:71:f1:05</td>\n",
       "      <td>192.168.1.5</td>\n",
       "      <td>192.168.1.7</td>\n",
       "      <td>TCP</td>\n",
       "      <td>1883</td>\n",
       "      <td>52588</td>\n",
       "      <td>0x010</td>\n",
       "      <td>227</td>\n",
       "      <td>-1</td>\n",
       "      <td>-1</td>\n",
       "      <td>-1</td>\n",
       "      <td>-1</td>\n",
       "      <td>-1</td>\n",
       "      <td>-1</td>\n",
       "      <td>1</td>\n",
       "    </tr>\n",
       "    <tr>\n",
       "      <th>2</th>\n",
       "      <td>1517688352965108</td>\n",
       "      <td>100</td>\n",
       "      <td>Publish Message</td>\n",
       "      <td>08:00:27:0e:06:81</td>\n",
       "      <td>08:00:27:53:41:85</td>\n",
       "      <td>192.168.1.4</td>\n",
       "      <td>192.168.1.5</td>\n",
       "      <td>MQTT</td>\n",
       "      <td>59662</td>\n",
       "      <td>1883</td>\n",
       "      <td>0x018</td>\n",
       "      <td>229</td>\n",
       "      <td>-1</td>\n",
       "      <td>-1</td>\n",
       "      <td>0x30</td>\n",
       "      <td>46.1680763098</td>\n",
       "      <td>fakeSensor3/sound</td>\n",
       "      <td>32</td>\n",
       "      <td>1</td>\n",
       "    </tr>\n",
       "    <tr>\n",
       "      <th>3</th>\n",
       "      <td>1517688352965147</td>\n",
       "      <td>66</td>\n",
       "      <td>1883  &gt;  59662 [ACK] Seq=1 Ack=35 Win=227 Len=...</td>\n",
       "      <td>08:00:27:53:41:85</td>\n",
       "      <td>08:00:27:0e:06:81</td>\n",
       "      <td>192.168.1.5</td>\n",
       "      <td>192.168.1.4</td>\n",
       "      <td>TCP</td>\n",
       "      <td>1883</td>\n",
       "      <td>59662</td>\n",
       "      <td>0x010</td>\n",
       "      <td>227</td>\n",
       "      <td>-1</td>\n",
       "      <td>-1</td>\n",
       "      <td>-1</td>\n",
       "      <td>-1</td>\n",
       "      <td>-1</td>\n",
       "      <td>-1</td>\n",
       "      <td>1</td>\n",
       "    </tr>\n",
       "    <tr>\n",
       "      <th>4</th>\n",
       "      <td>1517688354027486</td>\n",
       "      <td>100</td>\n",
       "      <td>Publish Message</td>\n",
       "      <td>08:00:27:0e:06:81</td>\n",
       "      <td>08:00:27:53:41:85</td>\n",
       "      <td>192.168.1.4</td>\n",
       "      <td>192.168.1.5</td>\n",
       "      <td>MQTT</td>\n",
       "      <td>59662</td>\n",
       "      <td>1883</td>\n",
       "      <td>0x018</td>\n",
       "      <td>229</td>\n",
       "      <td>-1</td>\n",
       "      <td>-1</td>\n",
       "      <td>0x30</td>\n",
       "      <td>31.8849343769</td>\n",
       "      <td>fakeSensor3/sound</td>\n",
       "      <td>32</td>\n",
       "      <td>1</td>\n",
       "    </tr>\n",
       "  </tbody>\n",
       "</table>\n",
       "</div>"
      ],
      "text/plain": [
       "          timestamp  packetLength  \\\n",
       "0  1517688352799319           100   \n",
       "1  1517688352837583            66   \n",
       "2  1517688352965108           100   \n",
       "3  1517688352965147            66   \n",
       "4  1517688354027486           100   \n",
       "\n",
       "                                                info  \\\n",
       "0                                    Publish Message   \n",
       "1  1883  >  52588 [ACK] Seq=1 Ack=35 Win=227 Len=...   \n",
       "2                                    Publish Message   \n",
       "3  1883  >  59662 [ACK] Seq=1 Ack=35 Win=227 Len=...   \n",
       "4                                    Publish Message   \n",
       "\n",
       "  networkInterface.sourceMAC  networkInterface.destinationMAC  \\\n",
       "0          08:00:27:71:f1:05                08:00:27:53:41:85   \n",
       "1          08:00:27:53:41:85                08:00:27:71:f1:05   \n",
       "2          08:00:27:0e:06:81                08:00:27:53:41:85   \n",
       "3          08:00:27:53:41:85                08:00:27:0e:06:81   \n",
       "4          08:00:27:0e:06:81                08:00:27:53:41:85   \n",
       "\n",
       "  internet.sourceIP internet.destinationIP internet.protocol  TCP.sourcePort  \\\n",
       "0       192.168.1.7            192.168.1.5              MQTT           52588   \n",
       "1       192.168.1.5            192.168.1.7               TCP            1883   \n",
       "2       192.168.1.4            192.168.1.5              MQTT           59662   \n",
       "3       192.168.1.5            192.168.1.4               TCP            1883   \n",
       "4       192.168.1.4            192.168.1.5              MQTT           59662   \n",
       "\n",
       "   TCP.destinationPort TCP.flags  TCP.calculatedWindowSize  UDP.sourcePort  \\\n",
       "0                 1883     0x018                       229              -1   \n",
       "1                52588     0x010                       227              -1   \n",
       "2                 1883     0x018                       229              -1   \n",
       "3                59662     0x010                       227              -1   \n",
       "4                 1883     0x018                       229              -1   \n",
       "\n",
       "   UDP.destinationPort MQTT.flags   MQTT.message         MQTT.topic  \\\n",
       "0                   -1       0x30  62.7216410003  fakeSensor2/sound   \n",
       "1                   -1         -1             -1                 -1   \n",
       "2                   -1       0x30  46.1680763098  fakeSensor3/sound   \n",
       "3                   -1         -1             -1                 -1   \n",
       "4                   -1       0x30  31.8849343769  fakeSensor3/sound   \n",
       "\n",
       "   MQTT.messageLength  MQTT.frameCounter  \n",
       "0                  32                  1  \n",
       "1                  -1                  1  \n",
       "2                  32                  1  \n",
       "3                  -1                  1  \n",
       "4                  32                  1  "
      ]
     },
     "execution_count": 2,
     "metadata": {},
     "output_type": "execute_result"
    }
   ],
   "source": [
    "df_events.head()"
   ]
  },
  {
   "cell_type": "markdown",
   "metadata": {},
   "source": [
    "<div style=\"text-align: right\">\n",
    "<a href=\"#indice\"><font size=5><i class=\"fa fa-arrow-circle-up\" aria-hidden=\"true\" style=\"color:#000000\"></i></font></a></div>\n",
    "<a id=\"categoricos\"></a>\n",
    "\n",
    "# 1. Datos categóricos"
   ]
  },
  {
   "cell_type": "markdown",
   "metadata": {},
   "source": [
    "_Pandas_ implementa un tipo de datos específico para el trabajo con datos categóricos, es decir, variables que pueden tomar un número finito de valores. Aunque éstos se visualizan generalmente como Strings, internamente se representan mediante enteros, lo cual permite tratarlos eficientemente."
   ]
  },
  {
   "cell_type": "markdown",
   "metadata": {},
   "source": [
    "<div style=\"text-align: right\">\n",
    "<a href=\"#indice\"><font size=5><i class=\"fa fa-arrow-circle-up\" aria-hidden=\"true\" style=\"color:#000000\"></i></font></a></div>\n",
    "\n",
    "## Objetos `pd.Categorical`\n",
    "\n",
    "El objeto `pd.Categorical` permite representar **una colección** (_no una serie_) de datos relativos a categorías. Por defecto, considera tantas categorías como detecta en los datos, pero éstas se pueden especificar mediante el argumento `categories`."
   ]
  },
  {
   "cell_type": "code",
   "execution_count": 3,
   "metadata": {},
   "outputs": [
    {
     "name": "stdout",
     "output_type": "stream",
     "text": [
      "['DEBUG', 'DEBUG', 'INFO', 'DEBUG', 'ERROR']\n",
      "Categories (3, object): ['DEBUG', 'ERROR', 'INFO']\n",
      "\n",
      "\n",
      "['DEBUG', 'DEBUG', 'INFO', 'DEBUG', 'ERROR']\n",
      "Categories (5, object): ['DEBUG', 'INFO', 'WARNING', 'ERROR', 'CRITICAL']\n"
     ]
    }
   ],
   "source": [
    "log_levels = pd.Categorical([\"DEBUG\",\"DEBUG\",\"INFO\",\"DEBUG\", \"ERROR\"])\n",
    "print(log_levels)\n",
    "\n",
    "print(\"\\n\")\n",
    "\n",
    "# Solo considera tres categorías. \n",
    "log_levels = pd.Categorical([\"DEBUG\",\"DEBUG\",\"INFO\",\"DEBUG\", \"ERROR\"],\n",
    "                           categories=[\"DEBUG\",\"INFO\", \"WARNING\",\"ERROR\", \"CRITICAL\"])\n",
    "print(log_levels)"
   ]
  },
  {
   "cell_type": "markdown",
   "metadata": {},
   "source": [
    "<div class=\"alert alert-block alert-info\">\n",
    "\n",
    "<i class=\"fa fa-info-circle\" aria-hidden=\"true\"></i> En una colección de valores categóricos, aquellos cuya categoría no ha sido especificada se codifican como `np.NaN`.\n",
    "</div>"
   ]
  },
  {
   "cell_type": "code",
   "execution_count": 4,
   "metadata": {
    "tags": []
   },
   "outputs": [
    {
     "name": "stdout",
     "output_type": "stream",
     "text": [
      "['DEBUG', 'DEBUG', 'INFO', 'DEBUG', NaN]\n",
      "Categories (2, object): ['DEBUG', 'INFO']\n"
     ]
    }
   ],
   "source": [
    "log_levels = pd.Categorical([\"DEBUG\",\"DEBUG\",\"INFO\",\"DEBUG\", \"ERROR\"],\n",
    "                           categories=[\"DEBUG\",\"INFO\"])\n",
    "print(log_levels)"
   ]
  },
  {
   "cell_type": "markdown",
   "metadata": {},
   "source": [
    "<div class=\"alert alert-block alert-info\">\n",
    "\n",
    "<i class=\"fa fa-info-circle\" aria-hidden=\"true\"></i> Si disponemos de una serie creada, podemos acceder a las categorías, al igual que en los `DataFrames` accedemos a `columns` o `index`, como `log_levels.categories`.\n",
    "</div>"
   ]
  },
  {
   "cell_type": "markdown",
   "metadata": {},
   "source": [
    "<div style=\"text-align: right\">\n",
    "<a href=\"#indice\"><font size=5><i class=\"fa fa-arrow-circle-up\" aria-hidden=\"true\" style=\"color:#000000\"></i></font></a></div>\n",
    "<a id=\"categoricos-orden\"></a>\n",
    "\n",
    "## Categorías con orden\n",
    "\n",
    "Cuando se comparan `Series` numéricas, se aplica la comparación entre los valores numéricos. Cuando se comparan `Series` que son cadenas de texto, se aplica la comparación entre los strings (por órden alfabético).\n",
    "\n",
    "Cuando se comparan `Series` categoricas, por defecto no existe un órden, por lo que la comparación causaría una **excepción** (_solo se permitiría la comparación `==`_). Existe un argumento `ordered=True` que se especifica en la creación del objeto `pd.Category`, y sirve paa indicar que la lista de categorías tiene el orden especificado. En este caso, sí se podría comparar y se seguiría este orden de las categorías."
   ]
  },
  {
   "cell_type": "code",
   "execution_count": 5,
   "metadata": {},
   "outputs": [],
   "source": [
    "# Fallaría la comparación\n",
    "log_levels_jan = pd.Categorical([\"debug\",\"debug\",\"info\",\"info\", \"error\", \"debug\"],\n",
    "                          categories=[\"debug\",\"info\", \"warning\",\"error\", \"critical\"])\n",
    "log_levels_feb = pd.Categorical([\"debug\",\"info\",\"debug\",\"warning\", \"debug\", \"info\"],\n",
    "                          categories=[\"debug\", \"info\", \"warning\",\"error\", \"critical\"])\n",
    "\n",
    "# Causa una excepción\n",
    "# log_levels_jan < log_levels_feb"
   ]
  },
  {
   "cell_type": "code",
   "execution_count": 6,
   "metadata": {
    "scrolled": true
   },
   "outputs": [
    {
     "data": {
      "text/plain": [
       "array([ True,  True, False,  True, False,  True])"
      ]
     },
     "execution_count": 6,
     "metadata": {},
     "output_type": "execute_result"
    }
   ],
   "source": [
    "log_levels_jan = pd.Categorical([\"debug\",\"debug\",\"info\",\"info\", \"error\", \"debug\"],\n",
    "                          categories=[\"debug\",\"info\", \"warning\",\"error\", \"critical\"], ordered=True)\n",
    "log_levels_feb = pd.Categorical([\"error\",\"info\",\"debug\",\"warning\", \"debug\", \"info\"],\n",
    "                          categories=[\"debug\",\"info\", \"warning\",\"error\", \"critical\"], ordered=True)\n",
    "\n",
    "log_levels_jan < log_levels_feb"
   ]
  },
  {
   "cell_type": "markdown",
   "metadata": {},
   "source": [
    "### Reordenación de categorías\n",
    "\n",
    "También es posible cambiar solamente el orden entre las categorías mediante `reorder_categories()`."
   ]
  },
  {
   "cell_type": "code",
   "execution_count": 7,
   "metadata": {},
   "outputs": [
    {
     "data": {
      "text/plain": [
       "['error', 'info', 'debug', 'warning', 'debug', 'info']\n",
       "Categories (5, object): ['critical', 'error', 'warning', 'info', 'debug']"
      ]
     },
     "execution_count": 7,
     "metadata": {},
     "output_type": "execute_result"
    }
   ],
   "source": [
    "log_levels_feb = log_levels_feb.reorder_categories([\"critical\",\"error\",\"warning\", \"info\", \"debug\"], ordered=False)\n",
    "log_levels_feb"
   ]
  },
  {
   "cell_type": "markdown",
   "metadata": {},
   "source": [
    "<div style=\"text-align: right\">\n",
    "<a href=\"#indice\"><font size=5><i class=\"fa fa-arrow-circle-up\" aria-hidden=\"true\" style=\"color:#000000\"></i></font></a></div>\n",
    "<a id=\"categoricos-manipulacion\"></a>\n",
    "\n",
    "## Manipulación de las categorías\n",
    "\n",
    "En series categóricas, es posible acceder a las propiedades de las categorías a través del atributo `cat`."
   ]
  },
  {
   "cell_type": "code",
   "execution_count": 8,
   "metadata": {},
   "outputs": [],
   "source": [
    "# leer las categorias de una serie\n",
    "serie_jan = pd.Series(log_levels_jan)\n"
   ]
  },
  {
   "cell_type": "code",
   "execution_count": 9,
   "metadata": {},
   "outputs": [
    {
     "data": {
      "text/plain": [
       "Index(['debug', 'info', 'warning', 'error', 'critical'], dtype='object')"
      ]
     },
     "execution_count": 9,
     "metadata": {},
     "output_type": "execute_result"
    }
   ],
   "source": [
    "# accedemos a las categorias\n",
    "serie_jan.cat.categories"
   ]
  },
  {
   "cell_type": "code",
   "execution_count": 10,
   "metadata": {},
   "outputs": [
    {
     "data": {
      "text/plain": [
       "0    0\n",
       "1    0\n",
       "2    1\n",
       "3    1\n",
       "4    3\n",
       "5    0\n",
       "dtype: int8"
      ]
     },
     "execution_count": 10,
     "metadata": {},
     "output_type": "execute_result"
    }
   ],
   "source": [
    "# accedemos a los codigos de cada categoria\n",
    "serie_jan.cat.codes"
   ]
  },
  {
   "cell_type": "markdown",
   "metadata": {},
   "source": [
    "# Ejercicio\n",
    "\n",
    "1. Vamos a transformar la columna \"internet.protocol\" del `DataFrame` `df_events` en una de tipo Categorical, donde las categorías son las siguientes (ordenadas): \n",
    "`[\"TCP\", \"DNS\", \"ARP\", \"DHCP\", \"ICMP\", \"MDNS\", \"NTP\", \"ICMPv6\", \"IGMPv3\", \"MQTT\"]`\n",
    "2. Ordenar el `DataFrame` en primer lugar por \"internet.sourceIP\", y en segundo órden de prioridad \"internet.protocol\"."
   ]
  },
  {
   "cell_type": "code",
   "execution_count": 11,
   "metadata": {},
   "outputs": [
    {
     "data": {
      "text/html": [
       "<div>\n",
       "<style scoped>\n",
       "    .dataframe tbody tr th:only-of-type {\n",
       "        vertical-align: middle;\n",
       "    }\n",
       "\n",
       "    .dataframe tbody tr th {\n",
       "        vertical-align: top;\n",
       "    }\n",
       "\n",
       "    .dataframe thead th {\n",
       "        text-align: right;\n",
       "    }\n",
       "</style>\n",
       "<table border=\"1\" class=\"dataframe\">\n",
       "  <thead>\n",
       "    <tr style=\"text-align: right;\">\n",
       "      <th></th>\n",
       "      <th>timestamp</th>\n",
       "      <th>packetLength</th>\n",
       "      <th>info</th>\n",
       "      <th>networkInterface.sourceMAC</th>\n",
       "      <th>networkInterface.destinationMAC</th>\n",
       "      <th>internet.sourceIP</th>\n",
       "      <th>internet.destinationIP</th>\n",
       "      <th>internet.protocol</th>\n",
       "      <th>TCP.sourcePort</th>\n",
       "      <th>TCP.destinationPort</th>\n",
       "      <th>TCP.flags</th>\n",
       "      <th>TCP.calculatedWindowSize</th>\n",
       "      <th>UDP.sourcePort</th>\n",
       "      <th>UDP.destinationPort</th>\n",
       "      <th>MQTT.flags</th>\n",
       "      <th>MQTT.message</th>\n",
       "      <th>MQTT.topic</th>\n",
       "      <th>MQTT.messageLength</th>\n",
       "      <th>MQTT.frameCounter</th>\n",
       "    </tr>\n",
       "  </thead>\n",
       "  <tbody>\n",
       "    <tr>\n",
       "      <th>6537</th>\n",
       "      <td>1517690254695551</td>\n",
       "      <td>342</td>\n",
       "      <td>DHCP Discover - Transaction ID 0x66adbe61</td>\n",
       "      <td>08:00:27:71:f1:05</td>\n",
       "      <td>ff:ff:ff:ff:ff:ff</td>\n",
       "      <td>0.0.0.0</td>\n",
       "      <td>255.255.255.255</td>\n",
       "      <td>DHCP</td>\n",
       "      <td>68</td>\n",
       "      <td>67</td>\n",
       "      <td>-1</td>\n",
       "      <td>-1</td>\n",
       "      <td>-1</td>\n",
       "      <td>-1</td>\n",
       "      <td>-1</td>\n",
       "      <td>-1</td>\n",
       "      <td>-1</td>\n",
       "      <td>-1</td>\n",
       "      <td>1</td>\n",
       "    </tr>\n",
       "    <tr>\n",
       "      <th>6539</th>\n",
       "      <td>1517690254696277</td>\n",
       "      <td>342</td>\n",
       "      <td>DHCP Request  - Transaction ID 0x66adbe61</td>\n",
       "      <td>08:00:27:71:f1:05</td>\n",
       "      <td>ff:ff:ff:ff:ff:ff</td>\n",
       "      <td>0.0.0.0</td>\n",
       "      <td>255.255.255.255</td>\n",
       "      <td>DHCP</td>\n",
       "      <td>68</td>\n",
       "      <td>67</td>\n",
       "      <td>-1</td>\n",
       "      <td>-1</td>\n",
       "      <td>-1</td>\n",
       "      <td>-1</td>\n",
       "      <td>-1</td>\n",
       "      <td>-1</td>\n",
       "      <td>-1</td>\n",
       "      <td>-1</td>\n",
       "      <td>1</td>\n",
       "    </tr>\n",
       "    <tr>\n",
       "      <th>9867</th>\n",
       "      <td>1517691203808573</td>\n",
       "      <td>342</td>\n",
       "      <td>DHCP Discover - Transaction ID 0x94a05351</td>\n",
       "      <td>08:00:27:0e:06:81</td>\n",
       "      <td>ff:ff:ff:ff:ff:ff</td>\n",
       "      <td>0.0.0.0</td>\n",
       "      <td>255.255.255.255</td>\n",
       "      <td>DHCP</td>\n",
       "      <td>68</td>\n",
       "      <td>67</td>\n",
       "      <td>-1</td>\n",
       "      <td>-1</td>\n",
       "      <td>-1</td>\n",
       "      <td>-1</td>\n",
       "      <td>-1</td>\n",
       "      <td>-1</td>\n",
       "      <td>-1</td>\n",
       "      <td>-1</td>\n",
       "      <td>1</td>\n",
       "    </tr>\n",
       "    <tr>\n",
       "      <th>9869</th>\n",
       "      <td>1517691203809336</td>\n",
       "      <td>342</td>\n",
       "      <td>DHCP Request  - Transaction ID 0x94a05351</td>\n",
       "      <td>08:00:27:0e:06:81</td>\n",
       "      <td>ff:ff:ff:ff:ff:ff</td>\n",
       "      <td>0.0.0.0</td>\n",
       "      <td>255.255.255.255</td>\n",
       "      <td>DHCP</td>\n",
       "      <td>68</td>\n",
       "      <td>67</td>\n",
       "      <td>-1</td>\n",
       "      <td>-1</td>\n",
       "      <td>-1</td>\n",
       "      <td>-1</td>\n",
       "      <td>-1</td>\n",
       "      <td>-1</td>\n",
       "      <td>-1</td>\n",
       "      <td>-1</td>\n",
       "      <td>1</td>\n",
       "    </tr>\n",
       "    <tr>\n",
       "      <th>11889</th>\n",
       "      <td>1517691775759842</td>\n",
       "      <td>342</td>\n",
       "      <td>DHCP Discover - Transaction ID 0x4db24846</td>\n",
       "      <td>08:00:27:05:7a:7e</td>\n",
       "      <td>ff:ff:ff:ff:ff:ff</td>\n",
       "      <td>0.0.0.0</td>\n",
       "      <td>255.255.255.255</td>\n",
       "      <td>DHCP</td>\n",
       "      <td>68</td>\n",
       "      <td>67</td>\n",
       "      <td>-1</td>\n",
       "      <td>-1</td>\n",
       "      <td>-1</td>\n",
       "      <td>-1</td>\n",
       "      <td>-1</td>\n",
       "      <td>-1</td>\n",
       "      <td>-1</td>\n",
       "      <td>-1</td>\n",
       "      <td>1</td>\n",
       "    </tr>\n",
       "    <tr>\n",
       "      <th>...</th>\n",
       "      <td>...</td>\n",
       "      <td>...</td>\n",
       "      <td>...</td>\n",
       "      <td>...</td>\n",
       "      <td>...</td>\n",
       "      <td>...</td>\n",
       "      <td>...</td>\n",
       "      <td>...</td>\n",
       "      <td>...</td>\n",
       "      <td>...</td>\n",
       "      <td>...</td>\n",
       "      <td>...</td>\n",
       "      <td>...</td>\n",
       "      <td>...</td>\n",
       "      <td>...</td>\n",
       "      <td>...</td>\n",
       "      <td>...</td>\n",
       "      <td>...</td>\n",
       "      <td>...</td>\n",
       "    </tr>\n",
       "    <tr>\n",
       "      <th>11911</th>\n",
       "      <td>1517691777184097</td>\n",
       "      <td>110</td>\n",
       "      <td>Multicast Listener Report Message v2</td>\n",
       "      <td>08:00:27:05:7a:7e</td>\n",
       "      <td>33:33:00:00:00:16</td>\n",
       "      <td>fe80::e6fe:3566:a5e3:9b6f</td>\n",
       "      <td>ff02::16</td>\n",
       "      <td>ICMPv6</td>\n",
       "      <td>-1</td>\n",
       "      <td>-1</td>\n",
       "      <td>-1</td>\n",
       "      <td>-1</td>\n",
       "      <td>-1</td>\n",
       "      <td>-1</td>\n",
       "      <td>-1</td>\n",
       "      <td>-1</td>\n",
       "      <td>-1</td>\n",
       "      <td>-1</td>\n",
       "      <td>1</td>\n",
       "    </tr>\n",
       "    <tr>\n",
       "      <th>11923</th>\n",
       "      <td>1517691777591992</td>\n",
       "      <td>90</td>\n",
       "      <td>Multicast Listener Report Message v2</td>\n",
       "      <td>08:00:27:05:7a:7e</td>\n",
       "      <td>33:33:00:00:00:16</td>\n",
       "      <td>fe80::e6fe:3566:a5e3:9b6f</td>\n",
       "      <td>ff02::16</td>\n",
       "      <td>ICMPv6</td>\n",
       "      <td>-1</td>\n",
       "      <td>-1</td>\n",
       "      <td>-1</td>\n",
       "      <td>-1</td>\n",
       "      <td>-1</td>\n",
       "      <td>-1</td>\n",
       "      <td>-1</td>\n",
       "      <td>-1</td>\n",
       "      <td>-1</td>\n",
       "      <td>-1</td>\n",
       "      <td>1</td>\n",
       "    </tr>\n",
       "    <tr>\n",
       "      <th>11924</th>\n",
       "      <td>1517691777600901</td>\n",
       "      <td>62</td>\n",
       "      <td>Router Solicitation</td>\n",
       "      <td>08:00:27:05:7a:7e</td>\n",
       "      <td>33:33:00:00:00:02</td>\n",
       "      <td>fe80::e6fe:3566:a5e3:9b6f</td>\n",
       "      <td>ff02::2</td>\n",
       "      <td>ICMPv6</td>\n",
       "      <td>-1</td>\n",
       "      <td>-1</td>\n",
       "      <td>-1</td>\n",
       "      <td>-1</td>\n",
       "      <td>-1</td>\n",
       "      <td>-1</td>\n",
       "      <td>-1</td>\n",
       "      <td>-1</td>\n",
       "      <td>-1</td>\n",
       "      <td>-1</td>\n",
       "      <td>1</td>\n",
       "    </tr>\n",
       "    <tr>\n",
       "      <th>11951</th>\n",
       "      <td>1517691781601812</td>\n",
       "      <td>62</td>\n",
       "      <td>Router Solicitation</td>\n",
       "      <td>08:00:27:05:7a:7e</td>\n",
       "      <td>33:33:00:00:00:02</td>\n",
       "      <td>fe80::e6fe:3566:a5e3:9b6f</td>\n",
       "      <td>ff02::2</td>\n",
       "      <td>ICMPv6</td>\n",
       "      <td>-1</td>\n",
       "      <td>-1</td>\n",
       "      <td>-1</td>\n",
       "      <td>-1</td>\n",
       "      <td>-1</td>\n",
       "      <td>-1</td>\n",
       "      <td>-1</td>\n",
       "      <td>-1</td>\n",
       "      <td>-1</td>\n",
       "      <td>-1</td>\n",
       "      <td>1</td>\n",
       "    </tr>\n",
       "    <tr>\n",
       "      <th>11962</th>\n",
       "      <td>1517691785600122</td>\n",
       "      <td>62</td>\n",
       "      <td>Router Solicitation</td>\n",
       "      <td>08:00:27:05:7a:7e</td>\n",
       "      <td>33:33:00:00:00:02</td>\n",
       "      <td>fe80::e6fe:3566:a5e3:9b6f</td>\n",
       "      <td>ff02::2</td>\n",
       "      <td>ICMPv6</td>\n",
       "      <td>-1</td>\n",
       "      <td>-1</td>\n",
       "      <td>-1</td>\n",
       "      <td>-1</td>\n",
       "      <td>-1</td>\n",
       "      <td>-1</td>\n",
       "      <td>-1</td>\n",
       "      <td>-1</td>\n",
       "      <td>-1</td>\n",
       "      <td>-1</td>\n",
       "      <td>1</td>\n",
       "    </tr>\n",
       "  </tbody>\n",
       "</table>\n",
       "<p>17040 rows × 19 columns</p>\n",
       "</div>"
      ],
      "text/plain": [
       "              timestamp  packetLength  \\\n",
       "6537   1517690254695551           342   \n",
       "6539   1517690254696277           342   \n",
       "9867   1517691203808573           342   \n",
       "9869   1517691203809336           342   \n",
       "11889  1517691775759842           342   \n",
       "...                 ...           ...   \n",
       "11911  1517691777184097           110   \n",
       "11923  1517691777591992            90   \n",
       "11924  1517691777600901            62   \n",
       "11951  1517691781601812            62   \n",
       "11962  1517691785600122            62   \n",
       "\n",
       "                                            info networkInterface.sourceMAC  \\\n",
       "6537   DHCP Discover - Transaction ID 0x66adbe61          08:00:27:71:f1:05   \n",
       "6539   DHCP Request  - Transaction ID 0x66adbe61          08:00:27:71:f1:05   \n",
       "9867   DHCP Discover - Transaction ID 0x94a05351          08:00:27:0e:06:81   \n",
       "9869   DHCP Request  - Transaction ID 0x94a05351          08:00:27:0e:06:81   \n",
       "11889  DHCP Discover - Transaction ID 0x4db24846          08:00:27:05:7a:7e   \n",
       "...                                          ...                        ...   \n",
       "11911       Multicast Listener Report Message v2          08:00:27:05:7a:7e   \n",
       "11923       Multicast Listener Report Message v2          08:00:27:05:7a:7e   \n",
       "11924                        Router Solicitation          08:00:27:05:7a:7e   \n",
       "11951                        Router Solicitation          08:00:27:05:7a:7e   \n",
       "11962                        Router Solicitation          08:00:27:05:7a:7e   \n",
       "\n",
       "       networkInterface.destinationMAC          internet.sourceIP  \\\n",
       "6537                 ff:ff:ff:ff:ff:ff                    0.0.0.0   \n",
       "6539                 ff:ff:ff:ff:ff:ff                    0.0.0.0   \n",
       "9867                 ff:ff:ff:ff:ff:ff                    0.0.0.0   \n",
       "9869                 ff:ff:ff:ff:ff:ff                    0.0.0.0   \n",
       "11889                ff:ff:ff:ff:ff:ff                    0.0.0.0   \n",
       "...                                ...                        ...   \n",
       "11911                33:33:00:00:00:16  fe80::e6fe:3566:a5e3:9b6f   \n",
       "11923                33:33:00:00:00:16  fe80::e6fe:3566:a5e3:9b6f   \n",
       "11924                33:33:00:00:00:02  fe80::e6fe:3566:a5e3:9b6f   \n",
       "11951                33:33:00:00:00:02  fe80::e6fe:3566:a5e3:9b6f   \n",
       "11962                33:33:00:00:00:02  fe80::e6fe:3566:a5e3:9b6f   \n",
       "\n",
       "      internet.destinationIP internet.protocol  TCP.sourcePort  \\\n",
       "6537         255.255.255.255              DHCP              68   \n",
       "6539         255.255.255.255              DHCP              68   \n",
       "9867         255.255.255.255              DHCP              68   \n",
       "9869         255.255.255.255              DHCP              68   \n",
       "11889        255.255.255.255              DHCP              68   \n",
       "...                      ...               ...             ...   \n",
       "11911               ff02::16            ICMPv6              -1   \n",
       "11923               ff02::16            ICMPv6              -1   \n",
       "11924                ff02::2            ICMPv6              -1   \n",
       "11951                ff02::2            ICMPv6              -1   \n",
       "11962                ff02::2            ICMPv6              -1   \n",
       "\n",
       "       TCP.destinationPort TCP.flags  TCP.calculatedWindowSize  \\\n",
       "6537                    67        -1                        -1   \n",
       "6539                    67        -1                        -1   \n",
       "9867                    67        -1                        -1   \n",
       "9869                    67        -1                        -1   \n",
       "11889                   67        -1                        -1   \n",
       "...                    ...       ...                       ...   \n",
       "11911                   -1        -1                        -1   \n",
       "11923                   -1        -1                        -1   \n",
       "11924                   -1        -1                        -1   \n",
       "11951                   -1        -1                        -1   \n",
       "11962                   -1        -1                        -1   \n",
       "\n",
       "       UDP.sourcePort  UDP.destinationPort MQTT.flags MQTT.message MQTT.topic  \\\n",
       "6537               -1                   -1         -1           -1         -1   \n",
       "6539               -1                   -1         -1           -1         -1   \n",
       "9867               -1                   -1         -1           -1         -1   \n",
       "9869               -1                   -1         -1           -1         -1   \n",
       "11889              -1                   -1         -1           -1         -1   \n",
       "...               ...                  ...        ...          ...        ...   \n",
       "11911              -1                   -1         -1           -1         -1   \n",
       "11923              -1                   -1         -1           -1         -1   \n",
       "11924              -1                   -1         -1           -1         -1   \n",
       "11951              -1                   -1         -1           -1         -1   \n",
       "11962              -1                   -1         -1           -1         -1   \n",
       "\n",
       "       MQTT.messageLength  MQTT.frameCounter  \n",
       "6537                   -1                  1  \n",
       "6539                   -1                  1  \n",
       "9867                   -1                  1  \n",
       "9869                   -1                  1  \n",
       "11889                  -1                  1  \n",
       "...                   ...                ...  \n",
       "11911                  -1                  1  \n",
       "11923                  -1                  1  \n",
       "11924                  -1                  1  \n",
       "11951                  -1                  1  \n",
       "11962                  -1                  1  \n",
       "\n",
       "[17040 rows x 19 columns]"
      ]
     },
     "execution_count": 11,
     "metadata": {},
     "output_type": "execute_result"
    }
   ],
   "source": [
    "# Completar\n",
    "from pandas.api.types import CategoricalDtype\n",
    "\n",
    "categories = [\"TCP\", \"DNS\", \"ARP\", \"DHCP\", \"ICMP\", \"MDNS\", \"NTP\", \"ICMPv6\", \"IGMPv3\", \"MQTT\"]\n",
    "cat_type = CategoricalDtype(categories=categories, ordered=True)\n",
    "df_events[\"internet.protocol\"] = df_events[\"internet.protocol\"].astype(cat_type)\n",
    "\n",
    "# o bien\n",
    "#df_events[\"internet.protocol\"] = pd.Categorical(df_events[\"internet.protocol\"], categories=categories, ordered=True)\n",
    "\n",
    "df_events.sort_values(by=[\"internet.sourceIP\", \"internet.protocol\"])"
   ]
  },
  {
   "cell_type": "markdown",
   "metadata": {},
   "source": [
    "<div style=\"text-align: right\">\n",
    "<a href=\"#indice\"><font size=5><i class=\"fa fa-arrow-circle-up\" aria-hidden=\"true\" style=\"color:#000000\"></i></font></a></div>\n",
    "<a id=\"temporales\"></a>\n",
    "\n",
    "# 2. Datos temporales"
   ]
  },
  {
   "cell_type": "markdown",
   "metadata": {},
   "source": [
    "_Pandas_ proporciona objetos y una gran cantidad de funcionalidades para el manejo de datos relativos a fechas y horas. \n",
    "Una descripción detallada puede encontrarse en la [(documentación)](http://pandas.pydata.org/pandas-docs/stable/timeseries.html#).\n",
    "\n",
    "Los objetos utilizados en la representación de datos temporales son:\n",
    "\n",
    "* `Timestamp`. Que representa marcas de tiempo (en concreto, nanosegundos desde el primer instante del 01/01/1970), y que pueden ser convertidas a distintos formatos.\n",
    "\n",
    "* `DatetimeIndex`. Que permite construir índices con marcas de tiempo (`TimeStamp`).\n",
    "\n",
    "* `Period`. Representa periodos de tiempo (rangos de tiempo con un inicio y un final).\n",
    "\n",
    "* `PeriodIndex`. Permite construir índices con periodos de tiempo.\n",
    "\n",
    "* `Timedelta`. Permite representar intervalos de tiempo. \n",
    "\n",
    "A continuación se describen éstos, así como las principales funciones para su manejo."
   ]
  },
  {
   "cell_type": "markdown",
   "metadata": {},
   "source": [
    "<div style=\"text-align: right\">\n",
    "<a href=\"#indice\"><font size=5><i class=\"fa fa-arrow-circle-up\" aria-hidden=\"true\" style=\"color:#000000\"></i></font></a></div>\n",
    "<a id=\"temporales-timestamp\"></a>\n",
    "\n",
    "## `pd.Timestamp`\n",
    "\n",
    "El objeto `Timestamp` se puede crear a partir de un timestamp, de un string con un formato de fecha, o directamente especificando los campos de la fecha (año, mes día, hora, minutos, segundos, milisegundos, microsegundos y nanosegundos)."
   ]
  },
  {
   "cell_type": "markdown",
   "metadata": {},
   "source": [
    "### A partir de un timestamp"
   ]
  },
  {
   "cell_type": "code",
   "execution_count": 12,
   "metadata": {},
   "outputs": [
    {
     "data": {
      "text/plain": [
       "1682530068.7040517"
      ]
     },
     "execution_count": 12,
     "metadata": {},
     "output_type": "execute_result"
    }
   ],
   "source": [
    "# Calcuamos el timestamp que es ahora (segundos transcurridos desde 1-1-1970)\n",
    "import time\n",
    "now = time.time()\n",
    "now"
   ]
  },
  {
   "cell_type": "code",
   "execution_count": 13,
   "metadata": {},
   "outputs": [
    {
     "data": {
      "text/plain": [
       "Timestamp('2023-04-26 17:27:48.704051712')"
      ]
     },
     "execution_count": 13,
     "metadata": {},
     "output_type": "execute_result"
    }
   ],
   "source": [
    "# Podemos crear la fecha especificando un stamp pero con precisión de nanosegundos!\n",
    "pd.Timestamp(now * 1e9)"
   ]
  },
  {
   "cell_type": "code",
   "execution_count": 14,
   "metadata": {},
   "outputs": [
    {
     "data": {
      "text/plain": [
       "Timestamp('2023-04-26 17:27:48.704051733')"
      ]
     },
     "execution_count": 14,
     "metadata": {},
     "output_type": "execute_result"
    }
   ],
   "source": [
    "# También podemos especificar la unidad, indicando que son segundos\n",
    "pd.Timestamp(now, unit=\"s\")"
   ]
  },
  {
   "cell_type": "markdown",
   "metadata": {},
   "source": [
    "<div class=\"alert alert-block alert-info\">\n",
    "\n",
    "<i class=\"fa fa-info-circle\" aria-hidden=\"true\"></i> El timestamp se refiere a los segundos desde el 1-1-1970, en la zona horaria UTC (o GMT).\n",
    "\n",
    "Podemos especificar un timezone al construir el objeto Timestamp a través de tz, e indicando un string. La lista de timezones se puede consultar [aquí](https://en.wikipedia.org/wiki/List_of_tz_database_time_zones) (columna _TZ database name_).\n",
    "\n",
    "</div>"
   ]
  },
  {
   "cell_type": "code",
   "execution_count": 15,
   "metadata": {},
   "outputs": [
    {
     "data": {
      "text/plain": [
       "Timestamp('2023-04-26 17:27:48.704051733+0000', tz='UTC')"
      ]
     },
     "metadata": {},
     "output_type": "display_data"
    },
    {
     "data": {
      "text/plain": [
       "Timestamp('2023-04-26 19:27:48.704051733+0200', tz='Europe/Madrid')"
      ]
     },
     "metadata": {},
     "output_type": "display_data"
    },
    {
     "data": {
      "text/plain": [
       "Timestamp('2023-04-26 12:27:48.704051733-0500', tz='America/Chicago')"
      ]
     },
     "metadata": {},
     "output_type": "display_data"
    }
   ],
   "source": [
    "# El timestamp se refiere a los segundos desde el 1-1-1970, en la zona horaria UTC (o GMT).\n",
    "display(pd.Timestamp(now, unit=\"s\", tz=\"UTC\"))\n",
    "display(pd.Timestamp(now, unit=\"s\", tz=\"Europe/Madrid\"))\n",
    "display(pd.Timestamp(now, unit=\"s\", tz=\"America/Chicago\"))"
   ]
  },
  {
   "cell_type": "markdown",
   "metadata": {},
   "source": [
    "### A partir de una fecha especificando los campos\n",
    "\n",
    "El orden:\n",
    "\n",
    "* Campos obligatorios: año, mes día \n",
    "* Campos opcionales (por defecto 0): hora, minuto, segundo, microsegundo y nanosegundo (desde la versión 0.23.0)"
   ]
  },
  {
   "cell_type": "code",
   "execution_count": 16,
   "metadata": {
    "tags": []
   },
   "outputs": [
    {
     "data": {
      "text/plain": [
       "Timestamp('2019-02-01 12:05:01.000002003')"
      ]
     },
     "execution_count": 16,
     "metadata": {},
     "output_type": "execute_result"
    }
   ],
   "source": [
    "# Podemos especificar todos los campos\n",
    "pd.Timestamp(2019, 2, 1, 12, 5, 1, 2, 3)"
   ]
  },
  {
   "cell_type": "code",
   "execution_count": 17,
   "metadata": {},
   "outputs": [
    {
     "data": {
      "text/plain": [
       "Timestamp('2019-02-01 00:00:00')"
      ]
     },
     "execution_count": 17,
     "metadata": {},
     "output_type": "execute_result"
    }
   ],
   "source": [
    "# O solo los obligatorios\n",
    "pd.Timestamp(2019, 2, 1)"
   ]
  },
  {
   "cell_type": "markdown",
   "metadata": {},
   "source": [
    "### A partir de una fecha en formato string\n",
    "\n",
    "Como puede apreciarse en la documentación, _Pandas_ acepta multitud de formatos para especificar el `Timestamp` [(documentación)](https://pandas.pydata.org/pandas-docs/version/0.23.4/generated/pandas.Timestamp.html).\n",
    "\n",
    "Un formato muy extendido es el [ISO FORMAT](https://es.wikipedia.org/wiki/ISO_8601). De forma simplificada, el formato que sigue es YYYY/MM/DDTHH:MM:SS. Si termina en la letra Z, quiere decir que la hora está en UTC."
   ]
  },
  {
   "cell_type": "code",
   "execution_count": 18,
   "metadata": {},
   "outputs": [
    {
     "data": {
      "text/plain": [
       "'2019-05-16T17:00:00'"
      ]
     },
     "execution_count": 18,
     "metadata": {},
     "output_type": "execute_result"
    }
   ],
   "source": [
    "pd.Timestamp(\"2019/05/16/17:00:00\").isoformat()"
   ]
  },
  {
   "cell_type": "code",
   "execution_count": 19,
   "metadata": {},
   "outputs": [
    {
     "data": {
      "text/plain": [
       "Timestamp('2019-05-16 17:00:00')"
      ]
     },
     "metadata": {},
     "output_type": "display_data"
    },
    {
     "data": {
      "text/plain": [
       "Timestamp('2019-05-16 17:00:00+0000', tz='UTC')"
      ]
     },
     "metadata": {},
     "output_type": "display_data"
    }
   ],
   "source": [
    "display(pd.Timestamp(\"2019-05-16T17:00:00\"))\n",
    "display(pd.Timestamp(\"2019-05-16T17:00:00Z\"))"
   ]
  },
  {
   "cell_type": "code",
   "execution_count": 20,
   "metadata": {},
   "outputs": [
    {
     "data": {
      "text/plain": [
       "Timestamp('2020-05-14 00:00:00')"
      ]
     },
     "execution_count": 20,
     "metadata": {},
     "output_type": "execute_result"
    }
   ],
   "source": [
    "pd.Timestamp(\"05-14-2020\")"
   ]
  },
  {
   "cell_type": "markdown",
   "metadata": {},
   "source": [
    "<div style=\"text-align: right\">\n",
    "<a href=\"#indice\"><font size=5><i class=\"fa fa-arrow-circle-up\" aria-hidden=\"true\" style=\"color:#000000\"></i></font></a></div>\n",
    "<a id=\"temporales-localize\"></a>\n",
    "\n",
    "## Localizando los objetos `timezone`\n",
    "\n",
    "Si no se especifica la zona horaria, se crean los denominados _naive_ Timestamps. Si se especifica, éstos se llaman _aware_ Timestamps, y llevan un ajuste (desfase horario).\n",
    "\n",
    "Podemos utilizar el paquete [`pytz`](http://pytz.sourceforge.net/) para transformar un `pd.Timestamp` _naive_ en _aware_ (consciente de su zona horaria). Para ello, y por centralizar en la forma más general, se puede:\n",
    "\n",
    "1. Construir un objeto de tipo `pytz.timezone`\n",
    "2. Utilizar la función `localize` del objeto anterior, pasando como argumento el objeto `pd.Timestamp`\n",
    "\n",
    "_NOTA: En este caso, la hora real no cambia, ya que se ha especificado con esos valores. Lo que cambia es el timestamp interno que representa los segundos desde 1-1-1970 (en UTC)._"
   ]
  },
  {
   "cell_type": "code",
   "execution_count": 21,
   "metadata": {},
   "outputs": [],
   "source": [
    "# !pip install pytz"
   ]
  },
  {
   "cell_type": "code",
   "execution_count": 22,
   "metadata": {},
   "outputs": [],
   "source": [
    "import time\n",
    "import pytz"
   ]
  },
  {
   "cell_type": "code",
   "execution_count": 23,
   "metadata": {},
   "outputs": [
    {
     "data": {
      "text/plain": [
       "Timestamp('2020-03-20 17:02:00')"
      ]
     },
     "execution_count": 23,
     "metadata": {},
     "output_type": "execute_result"
    }
   ],
   "source": [
    "pd.Timestamp(2020, 3, 20, 17, 2)"
   ]
  },
  {
   "cell_type": "code",
   "execution_count": 24,
   "metadata": {},
   "outputs": [
    {
     "data": {
      "text/plain": [
       "<DstTzInfo 'Europe/Madrid' LMT-1 day, 23:45:00 STD>"
      ]
     },
     "execution_count": 24,
     "metadata": {},
     "output_type": "execute_result"
    }
   ],
   "source": [
    "pytz.timezone(\"Europe/Madrid\")"
   ]
  },
  {
   "cell_type": "code",
   "execution_count": 25,
   "metadata": {},
   "outputs": [
    {
     "data": {
      "text/plain": [
       "Timestamp('2022-03-23 17:19:00+0100', tz='Europe/Madrid')"
      ]
     },
     "execution_count": 25,
     "metadata": {},
     "output_type": "execute_result"
    }
   ],
   "source": [
    "pytz.timezone(\"Europe/Madrid\").localize(pd.Timestamp(2022, 3, 23, 17, 19))"
   ]
  },
  {
   "cell_type": "code",
   "execution_count": 26,
   "metadata": {},
   "outputs": [
    {
     "name": "stdout",
     "output_type": "stream",
     "text": [
      "1648055940.0\n",
      "1648052340.0\n"
     ]
    }
   ],
   "source": [
    "print(pd.Timestamp(2022, 3, 23, 17, 19).timestamp())\n",
    "print(pytz.timezone(\"Europe/Madrid\").localize(pd.Timestamp(2022, 3, 23, 17, 19)).timestamp())"
   ]
  },
  {
   "cell_type": "code",
   "execution_count": 27,
   "metadata": {},
   "outputs": [
    {
     "data": {
      "text/plain": [
       "Timestamp('2023-04-26 17:27:48.704051733')"
      ]
     },
     "execution_count": 27,
     "metadata": {},
     "output_type": "execute_result"
    }
   ],
   "source": [
    "pd.Timestamp(now, unit=\"s\")"
   ]
  },
  {
   "cell_type": "code",
   "execution_count": 28,
   "metadata": {},
   "outputs": [
    {
     "data": {
      "text/plain": [
       "1682530068.8998048"
      ]
     },
     "execution_count": 28,
     "metadata": {},
     "output_type": "execute_result"
    }
   ],
   "source": [
    "time.time()"
   ]
  },
  {
   "cell_type": "code",
   "execution_count": 29,
   "metadata": {},
   "outputs": [
    {
     "data": {
      "text/plain": [
       "Timestamp('2023-04-26 19:27:48.909859896+0200', tz='Europe/Madrid')"
      ]
     },
     "metadata": {},
     "output_type": "display_data"
    },
    {
     "data": {
      "text/plain": [
       "Timestamp('2023-04-26 17:27:48.909859896+0200', tz='Europe/Madrid')"
      ]
     },
     "metadata": {},
     "output_type": "display_data"
    }
   ],
   "source": [
    "now = time.time()\n",
    "# El timestamp determina un instante en el tiempo (independiente de la zona horaria)\n",
    "# Al especificar el tz, lo que hacemos es construirlo localizado, por lo que representa la fecha en el instante\n",
    "# representado por now, y aplica el desfase con respecto a Europe/Madrid\n",
    "display(pd.Timestamp(now, unit=\"s\", tz=\"Europe/Madrid\"))\n",
    "\n",
    "# En este caso, se construye primero el objeto `pd.Timestamp` (naive), y después se localiza.\n",
    "# Como este objeto tiene una fecha (año, hora, minutos...), éstos no cambian, pero se aplica el desfase,\n",
    "# por lo que cambia el timestamp interno\n",
    "display(pytz.timezone(\"Europe/Madrid\").localize(pd.Timestamp(now, unit=\"s\")))"
   ]
  },
  {
   "cell_type": "code",
   "execution_count": 30,
   "metadata": {},
   "outputs": [
    {
     "name": "stdout",
     "output_type": "stream",
     "text": [
      "1682530068.90986\n",
      "1682530068.90986\n",
      "1682522868.90986\n"
     ]
    }
   ],
   "source": [
    "print(now)\n",
    "print(pd.Timestamp(now, unit=\"s\", tz=\"Europe/Madrid\").timestamp())\n",
    "print(pytz.timezone(\"Europe/Madrid\").localize(pd.Timestamp(now, unit=\"s\")).timestamp())"
   ]
  },
  {
   "cell_type": "markdown",
   "metadata": {},
   "source": [
    "<div style=\"text-align: right\">\n",
    "<a href=\"#indice\"><font size=5><i class=\"fa fa-arrow-circle-up\" aria-hidden=\"true\" style=\"color:#000000\"></i></font></a></div>\n",
    "<a id=\"temporales-atributos\"></a>\n",
    "\n",
    "## Atributos y funciones\n",
    "\n",
    "A veces es útil acceder a los campos del objeto `pd.Timestamp`, por ejemplo, en funciónes de transformación o agregación. Se puede acceder, entre otros, a los siguientes campos o funciones:\n",
    "\n",
    "- `year`\n",
    "- `month`\n",
    "- `day`\n",
    "- `hour`\n",
    "- `minute`\n",
    "- `second`\n",
    "- `microsecond`\n",
    "- `nanosecond`\n",
    "- `tzname()`\n",
    "- `day_name()`\n",
    "- `weekday()` (0 es lunes, y 6 es domingo)\n",
    "- `strftime()` (Permite formatear el objeto como un string. Más información en la [documentación](http://strftime.org/))"
   ]
  },
  {
   "cell_type": "code",
   "execution_count": 31,
   "metadata": {},
   "outputs": [
    {
     "data": {
      "text/plain": [
       "4"
      ]
     },
     "execution_count": 31,
     "metadata": {},
     "output_type": "execute_result"
    }
   ],
   "source": [
    "# Ejemplo para day_name\n",
    "pd.Timestamp(\"2020/03/20\").weekday()"
   ]
  },
  {
   "cell_type": "code",
   "execution_count": 32,
   "metadata": {},
   "outputs": [
    {
     "data": {
      "text/plain": [
       "'2019-Aug-16T00:00:00Z'"
      ]
     },
     "execution_count": 32,
     "metadata": {},
     "output_type": "execute_result"
    }
   ],
   "source": [
    "# Ejemplo para strftime\n",
    "pd.Timestamp(\"2019/08/16\").strftime(\"%Y-%b-%dT%H:%M:%SZ\")"
   ]
  },
  {
   "cell_type": "markdown",
   "metadata": {},
   "source": [
    "<div style=\"text-align: right\">\n",
    "<a href=\"#indice\"><font size=5><i class=\"fa fa-arrow-circle-up\" aria-hidden=\"true\" style=\"color:#000000\"></i></font></a></div>\n",
    "<a id=\"temporales-series\"></a>\n",
    "\n",
    "## Timestamps en series\n"
   ]
  },
  {
   "cell_type": "markdown",
   "metadata": {},
   "source": [
    "La función `pd.to_datetime` permite construir objetos de tipo `Timestamp` del mismo modo que el constructor de este tipo de objetos, pero es mucho más potente y flexible. La referencia completa de esta función puede encontrarse en la [(documentación)](https://pandas.pydata.org/pandas-docs/stable/generated/pandas.to_datetime.html).\n",
    "\n",
    "Una de las funcionalidades más utilizadas es la de aplicar esta función a `Series`, construyendo una `Serie` de tipo `Timestamp`."
   ]
  },
  {
   "cell_type": "code",
   "execution_count": 33,
   "metadata": {},
   "outputs": [
    {
     "name": "stdout",
     "output_type": "stream",
     "text": [
      "Serie de Strings\n",
      "0    01-01-2020\n",
      "1    02-01-2021\n",
      "2    29-02-2022\n",
      "dtype: object\n",
      "\n",
      "Serie de elementos datetime\n",
      "0   2020-01-01\n",
      "1   2021-01-02\n",
      "2          NaT\n",
      "dtype: datetime64[ns]\n"
     ]
    },
    {
     "data": {
      "text/plain": [
       "pandas._libs.tslibs.timestamps.Timestamp"
      ]
     },
     "execution_count": 33,
     "metadata": {},
     "output_type": "execute_result"
    }
   ],
   "source": [
    "# \"2 June 2013\", \"Aug 29, 2014\", \"2015-06-26\", \"7/12/16\", \"02/2/2017 10:05AM\", \n",
    "serie = pd.Series([1557955141, 1557957141, 1558955141])\n",
    "serie = pd.Series([\"01-01-2020\", \"02-01-2021\", \"29-02-2022\"])\n",
    "\n",
    "print(\"Serie de Strings\")\n",
    "print(serie)\n",
    "print()\n",
    "\n",
    "serie_dt = pd.to_datetime(serie, format=\"%d-%m-%Y\", errors=\"coerce\") \n",
    "print(\"Serie de elementos datetime\")\n",
    "print(serie_dt)\n",
    "\n",
    "type(serie_dt[0])"
   ]
  },
  {
   "cell_type": "markdown",
   "metadata": {},
   "source": [
    "# Ejercicio\n",
    "\n",
    "Vamos a crear varias columnas en un `DataFrame` a partir de la columna `timestamp` de `df_events`:\n",
    "\n",
    "- date: El contenido será un string con el formato `day/month/year`\n",
    "- day_name: El contenido será el día de la semana"
   ]
  },
  {
   "cell_type": "markdown",
   "metadata": {},
   "source": [
    "<div class=\"alert alert-block alert-info\">\n",
    "\n",
    "<i class=\"fa fa-info-circle\" aria-hidden=\"true\"></i> Las series de timpo datetime tienen un atributo, llamado `dt`, que permite vectorizar el acceso a atributos o funciones propias de un elemento individual. Esto resulta de enorme utilidad a la hora de realizar transformaciones, como `serie.dt.month` por ejemplo.\n",
    "\n",
    "</div>"
   ]
  },
  {
   "cell_type": "code",
   "execution_count": 34,
   "metadata": {},
   "outputs": [
    {
     "data": {
      "text/html": [
       "<div>\n",
       "<style scoped>\n",
       "    .dataframe tbody tr th:only-of-type {\n",
       "        vertical-align: middle;\n",
       "    }\n",
       "\n",
       "    .dataframe tbody tr th {\n",
       "        vertical-align: top;\n",
       "    }\n",
       "\n",
       "    .dataframe thead th {\n",
       "        text-align: right;\n",
       "    }\n",
       "</style>\n",
       "<table border=\"1\" class=\"dataframe\">\n",
       "  <thead>\n",
       "    <tr style=\"text-align: right;\">\n",
       "      <th></th>\n",
       "      <th>timestamp</th>\n",
       "      <th>packetLength</th>\n",
       "      <th>info</th>\n",
       "      <th>networkInterface.sourceMAC</th>\n",
       "      <th>networkInterface.destinationMAC</th>\n",
       "      <th>internet.sourceIP</th>\n",
       "      <th>internet.destinationIP</th>\n",
       "      <th>internet.protocol</th>\n",
       "      <th>TCP.sourcePort</th>\n",
       "      <th>TCP.destinationPort</th>\n",
       "      <th>...</th>\n",
       "      <th>TCP.calculatedWindowSize</th>\n",
       "      <th>UDP.sourcePort</th>\n",
       "      <th>UDP.destinationPort</th>\n",
       "      <th>MQTT.flags</th>\n",
       "      <th>MQTT.message</th>\n",
       "      <th>MQTT.topic</th>\n",
       "      <th>MQTT.messageLength</th>\n",
       "      <th>MQTT.frameCounter</th>\n",
       "      <th>date</th>\n",
       "      <th>day_name</th>\n",
       "    </tr>\n",
       "  </thead>\n",
       "  <tbody>\n",
       "    <tr>\n",
       "      <th>0</th>\n",
       "      <td>1517688352799319</td>\n",
       "      <td>100</td>\n",
       "      <td>Publish Message</td>\n",
       "      <td>08:00:27:71:f1:05</td>\n",
       "      <td>08:00:27:53:41:85</td>\n",
       "      <td>192.168.1.7</td>\n",
       "      <td>192.168.1.5</td>\n",
       "      <td>MQTT</td>\n",
       "      <td>52588</td>\n",
       "      <td>1883</td>\n",
       "      <td>...</td>\n",
       "      <td>229</td>\n",
       "      <td>-1</td>\n",
       "      <td>-1</td>\n",
       "      <td>0x30</td>\n",
       "      <td>62.7216410003</td>\n",
       "      <td>fakeSensor2/sound</td>\n",
       "      <td>32</td>\n",
       "      <td>1</td>\n",
       "      <td>03-02-2018</td>\n",
       "      <td>Saturday</td>\n",
       "    </tr>\n",
       "    <tr>\n",
       "      <th>1</th>\n",
       "      <td>1517688352837583</td>\n",
       "      <td>66</td>\n",
       "      <td>1883  &gt;  52588 [ACK] Seq=1 Ack=35 Win=227 Len=...</td>\n",
       "      <td>08:00:27:53:41:85</td>\n",
       "      <td>08:00:27:71:f1:05</td>\n",
       "      <td>192.168.1.5</td>\n",
       "      <td>192.168.1.7</td>\n",
       "      <td>TCP</td>\n",
       "      <td>1883</td>\n",
       "      <td>52588</td>\n",
       "      <td>...</td>\n",
       "      <td>227</td>\n",
       "      <td>-1</td>\n",
       "      <td>-1</td>\n",
       "      <td>-1</td>\n",
       "      <td>-1</td>\n",
       "      <td>-1</td>\n",
       "      <td>-1</td>\n",
       "      <td>1</td>\n",
       "      <td>03-02-2018</td>\n",
       "      <td>Saturday</td>\n",
       "    </tr>\n",
       "    <tr>\n",
       "      <th>2</th>\n",
       "      <td>1517688352965108</td>\n",
       "      <td>100</td>\n",
       "      <td>Publish Message</td>\n",
       "      <td>08:00:27:0e:06:81</td>\n",
       "      <td>08:00:27:53:41:85</td>\n",
       "      <td>192.168.1.4</td>\n",
       "      <td>192.168.1.5</td>\n",
       "      <td>MQTT</td>\n",
       "      <td>59662</td>\n",
       "      <td>1883</td>\n",
       "      <td>...</td>\n",
       "      <td>229</td>\n",
       "      <td>-1</td>\n",
       "      <td>-1</td>\n",
       "      <td>0x30</td>\n",
       "      <td>46.1680763098</td>\n",
       "      <td>fakeSensor3/sound</td>\n",
       "      <td>32</td>\n",
       "      <td>1</td>\n",
       "      <td>03-02-2018</td>\n",
       "      <td>Saturday</td>\n",
       "    </tr>\n",
       "    <tr>\n",
       "      <th>3</th>\n",
       "      <td>1517688352965147</td>\n",
       "      <td>66</td>\n",
       "      <td>1883  &gt;  59662 [ACK] Seq=1 Ack=35 Win=227 Len=...</td>\n",
       "      <td>08:00:27:53:41:85</td>\n",
       "      <td>08:00:27:0e:06:81</td>\n",
       "      <td>192.168.1.5</td>\n",
       "      <td>192.168.1.4</td>\n",
       "      <td>TCP</td>\n",
       "      <td>1883</td>\n",
       "      <td>59662</td>\n",
       "      <td>...</td>\n",
       "      <td>227</td>\n",
       "      <td>-1</td>\n",
       "      <td>-1</td>\n",
       "      <td>-1</td>\n",
       "      <td>-1</td>\n",
       "      <td>-1</td>\n",
       "      <td>-1</td>\n",
       "      <td>1</td>\n",
       "      <td>03-02-2018</td>\n",
       "      <td>Saturday</td>\n",
       "    </tr>\n",
       "    <tr>\n",
       "      <th>4</th>\n",
       "      <td>1517688354027486</td>\n",
       "      <td>100</td>\n",
       "      <td>Publish Message</td>\n",
       "      <td>08:00:27:0e:06:81</td>\n",
       "      <td>08:00:27:53:41:85</td>\n",
       "      <td>192.168.1.4</td>\n",
       "      <td>192.168.1.5</td>\n",
       "      <td>MQTT</td>\n",
       "      <td>59662</td>\n",
       "      <td>1883</td>\n",
       "      <td>...</td>\n",
       "      <td>229</td>\n",
       "      <td>-1</td>\n",
       "      <td>-1</td>\n",
       "      <td>0x30</td>\n",
       "      <td>31.8849343769</td>\n",
       "      <td>fakeSensor3/sound</td>\n",
       "      <td>32</td>\n",
       "      <td>1</td>\n",
       "      <td>03-02-2018</td>\n",
       "      <td>Saturday</td>\n",
       "    </tr>\n",
       "    <tr>\n",
       "      <th>...</th>\n",
       "      <td>...</td>\n",
       "      <td>...</td>\n",
       "      <td>...</td>\n",
       "      <td>...</td>\n",
       "      <td>...</td>\n",
       "      <td>...</td>\n",
       "      <td>...</td>\n",
       "      <td>...</td>\n",
       "      <td>...</td>\n",
       "      <td>...</td>\n",
       "      <td>...</td>\n",
       "      <td>...</td>\n",
       "      <td>...</td>\n",
       "      <td>...</td>\n",
       "      <td>...</td>\n",
       "      <td>...</td>\n",
       "      <td>...</td>\n",
       "      <td>...</td>\n",
       "      <td>...</td>\n",
       "      <td>...</td>\n",
       "      <td>...</td>\n",
       "    </tr>\n",
       "    <tr>\n",
       "      <th>17035</th>\n",
       "      <td>1517695676698952</td>\n",
       "      <td>66</td>\n",
       "      <td>1883  &gt;  59662 [ACK] Seq=163 Ack=131771 Win=22...</td>\n",
       "      <td>08:00:27:53:41:85</td>\n",
       "      <td>08:00:27:0e:06:81</td>\n",
       "      <td>192.168.1.5</td>\n",
       "      <td>192.168.1.4</td>\n",
       "      <td>TCP</td>\n",
       "      <td>1883</td>\n",
       "      <td>59662</td>\n",
       "      <td>...</td>\n",
       "      <td>227</td>\n",
       "      <td>-1</td>\n",
       "      <td>-1</td>\n",
       "      <td>-1</td>\n",
       "      <td>-1</td>\n",
       "      <td>-1</td>\n",
       "      <td>-1</td>\n",
       "      <td>1</td>\n",
       "      <td>03-02-2018</td>\n",
       "      <td>Saturday</td>\n",
       "    </tr>\n",
       "    <tr>\n",
       "      <th>17036</th>\n",
       "      <td>1517695677347149</td>\n",
       "      <td>100</td>\n",
       "      <td>Publish Message</td>\n",
       "      <td>08:00:27:0e:06:81</td>\n",
       "      <td>08:00:27:53:41:85</td>\n",
       "      <td>192.168.1.4</td>\n",
       "      <td>192.168.1.5</td>\n",
       "      <td>MQTT</td>\n",
       "      <td>59662</td>\n",
       "      <td>1883</td>\n",
       "      <td>...</td>\n",
       "      <td>229</td>\n",
       "      <td>-1</td>\n",
       "      <td>-1</td>\n",
       "      <td>0x30</td>\n",
       "      <td>73.2415646154</td>\n",
       "      <td>fakeSensor3/sound</td>\n",
       "      <td>32</td>\n",
       "      <td>1</td>\n",
       "      <td>03-02-2018</td>\n",
       "      <td>Saturday</td>\n",
       "    </tr>\n",
       "    <tr>\n",
       "      <th>17037</th>\n",
       "      <td>1517695677347185</td>\n",
       "      <td>66</td>\n",
       "      <td>1883  &gt;  59662 [ACK] Seq=163 Ack=131805 Win=22...</td>\n",
       "      <td>08:00:27:53:41:85</td>\n",
       "      <td>08:00:27:0e:06:81</td>\n",
       "      <td>192.168.1.5</td>\n",
       "      <td>192.168.1.4</td>\n",
       "      <td>TCP</td>\n",
       "      <td>1883</td>\n",
       "      <td>59662</td>\n",
       "      <td>...</td>\n",
       "      <td>227</td>\n",
       "      <td>-1</td>\n",
       "      <td>-1</td>\n",
       "      <td>-1</td>\n",
       "      <td>-1</td>\n",
       "      <td>-1</td>\n",
       "      <td>-1</td>\n",
       "      <td>1</td>\n",
       "      <td>03-02-2018</td>\n",
       "      <td>Saturday</td>\n",
       "    </tr>\n",
       "    <tr>\n",
       "      <th>17038</th>\n",
       "      <td>1517695677451076</td>\n",
       "      <td>100</td>\n",
       "      <td>Publish Message</td>\n",
       "      <td>08:00:27:71:f1:05</td>\n",
       "      <td>08:00:27:53:41:85</td>\n",
       "      <td>192.168.1.7</td>\n",
       "      <td>192.168.1.5</td>\n",
       "      <td>MQTT</td>\n",
       "      <td>52588</td>\n",
       "      <td>1883</td>\n",
       "      <td>...</td>\n",
       "      <td>229</td>\n",
       "      <td>-1</td>\n",
       "      <td>-1</td>\n",
       "      <td>0x30</td>\n",
       "      <td>41.4866182673</td>\n",
       "      <td>fakeSensor2/sound</td>\n",
       "      <td>32</td>\n",
       "      <td>1</td>\n",
       "      <td>03-02-2018</td>\n",
       "      <td>Saturday</td>\n",
       "    </tr>\n",
       "    <tr>\n",
       "      <th>17039</th>\n",
       "      <td>1517695677451094</td>\n",
       "      <td>66</td>\n",
       "      <td>1883  &gt;  52588 [ACK] Seq=163 Ack=131990 Win=22...</td>\n",
       "      <td>08:00:27:53:41:85</td>\n",
       "      <td>08:00:27:71:f1:05</td>\n",
       "      <td>192.168.1.5</td>\n",
       "      <td>192.168.1.7</td>\n",
       "      <td>TCP</td>\n",
       "      <td>1883</td>\n",
       "      <td>52588</td>\n",
       "      <td>...</td>\n",
       "      <td>227</td>\n",
       "      <td>-1</td>\n",
       "      <td>-1</td>\n",
       "      <td>-1</td>\n",
       "      <td>-1</td>\n",
       "      <td>-1</td>\n",
       "      <td>-1</td>\n",
       "      <td>1</td>\n",
       "      <td>03-02-2018</td>\n",
       "      <td>Saturday</td>\n",
       "    </tr>\n",
       "  </tbody>\n",
       "</table>\n",
       "<p>17040 rows × 21 columns</p>\n",
       "</div>"
      ],
      "text/plain": [
       "              timestamp  packetLength  \\\n",
       "0      1517688352799319           100   \n",
       "1      1517688352837583            66   \n",
       "2      1517688352965108           100   \n",
       "3      1517688352965147            66   \n",
       "4      1517688354027486           100   \n",
       "...                 ...           ...   \n",
       "17035  1517695676698952            66   \n",
       "17036  1517695677347149           100   \n",
       "17037  1517695677347185            66   \n",
       "17038  1517695677451076           100   \n",
       "17039  1517695677451094            66   \n",
       "\n",
       "                                                    info  \\\n",
       "0                                        Publish Message   \n",
       "1      1883  >  52588 [ACK] Seq=1 Ack=35 Win=227 Len=...   \n",
       "2                                        Publish Message   \n",
       "3      1883  >  59662 [ACK] Seq=1 Ack=35 Win=227 Len=...   \n",
       "4                                        Publish Message   \n",
       "...                                                  ...   \n",
       "17035  1883  >  59662 [ACK] Seq=163 Ack=131771 Win=22...   \n",
       "17036                                    Publish Message   \n",
       "17037  1883  >  59662 [ACK] Seq=163 Ack=131805 Win=22...   \n",
       "17038                                    Publish Message   \n",
       "17039  1883  >  52588 [ACK] Seq=163 Ack=131990 Win=22...   \n",
       "\n",
       "      networkInterface.sourceMAC  networkInterface.destinationMAC  \\\n",
       "0              08:00:27:71:f1:05                08:00:27:53:41:85   \n",
       "1              08:00:27:53:41:85                08:00:27:71:f1:05   \n",
       "2              08:00:27:0e:06:81                08:00:27:53:41:85   \n",
       "3              08:00:27:53:41:85                08:00:27:0e:06:81   \n",
       "4              08:00:27:0e:06:81                08:00:27:53:41:85   \n",
       "...                          ...                              ...   \n",
       "17035          08:00:27:53:41:85                08:00:27:0e:06:81   \n",
       "17036          08:00:27:0e:06:81                08:00:27:53:41:85   \n",
       "17037          08:00:27:53:41:85                08:00:27:0e:06:81   \n",
       "17038          08:00:27:71:f1:05                08:00:27:53:41:85   \n",
       "17039          08:00:27:53:41:85                08:00:27:71:f1:05   \n",
       "\n",
       "      internet.sourceIP internet.destinationIP internet.protocol  \\\n",
       "0           192.168.1.7            192.168.1.5              MQTT   \n",
       "1           192.168.1.5            192.168.1.7               TCP   \n",
       "2           192.168.1.4            192.168.1.5              MQTT   \n",
       "3           192.168.1.5            192.168.1.4               TCP   \n",
       "4           192.168.1.4            192.168.1.5              MQTT   \n",
       "...                 ...                    ...               ...   \n",
       "17035       192.168.1.5            192.168.1.4               TCP   \n",
       "17036       192.168.1.4            192.168.1.5              MQTT   \n",
       "17037       192.168.1.5            192.168.1.4               TCP   \n",
       "17038       192.168.1.7            192.168.1.5              MQTT   \n",
       "17039       192.168.1.5            192.168.1.7               TCP   \n",
       "\n",
       "       TCP.sourcePort  TCP.destinationPort  ... TCP.calculatedWindowSize  \\\n",
       "0               52588                 1883  ...                      229   \n",
       "1                1883                52588  ...                      227   \n",
       "2               59662                 1883  ...                      229   \n",
       "3                1883                59662  ...                      227   \n",
       "4               59662                 1883  ...                      229   \n",
       "...               ...                  ...  ...                      ...   \n",
       "17035            1883                59662  ...                      227   \n",
       "17036           59662                 1883  ...                      229   \n",
       "17037            1883                59662  ...                      227   \n",
       "17038           52588                 1883  ...                      229   \n",
       "17039            1883                52588  ...                      227   \n",
       "\n",
       "       UDP.sourcePort  UDP.destinationPort  MQTT.flags   MQTT.message  \\\n",
       "0                  -1                   -1        0x30  62.7216410003   \n",
       "1                  -1                   -1          -1             -1   \n",
       "2                  -1                   -1        0x30  46.1680763098   \n",
       "3                  -1                   -1          -1             -1   \n",
       "4                  -1                   -1        0x30  31.8849343769   \n",
       "...               ...                  ...         ...            ...   \n",
       "17035              -1                   -1          -1             -1   \n",
       "17036              -1                   -1        0x30  73.2415646154   \n",
       "17037              -1                   -1          -1             -1   \n",
       "17038              -1                   -1        0x30  41.4866182673   \n",
       "17039              -1                   -1          -1             -1   \n",
       "\n",
       "              MQTT.topic MQTT.messageLength  MQTT.frameCounter        date  \\\n",
       "0      fakeSensor2/sound                 32                  1  03-02-2018   \n",
       "1                     -1                 -1                  1  03-02-2018   \n",
       "2      fakeSensor3/sound                 32                  1  03-02-2018   \n",
       "3                     -1                 -1                  1  03-02-2018   \n",
       "4      fakeSensor3/sound                 32                  1  03-02-2018   \n",
       "...                  ...                ...                ...         ...   \n",
       "17035                 -1                 -1                  1  03-02-2018   \n",
       "17036  fakeSensor3/sound                 32                  1  03-02-2018   \n",
       "17037                 -1                 -1                  1  03-02-2018   \n",
       "17038  fakeSensor2/sound                 32                  1  03-02-2018   \n",
       "17039                 -1                 -1                  1  03-02-2018   \n",
       "\n",
       "       day_name  \n",
       "0      Saturday  \n",
       "1      Saturday  \n",
       "2      Saturday  \n",
       "3      Saturday  \n",
       "4      Saturday  \n",
       "...         ...  \n",
       "17035  Saturday  \n",
       "17036  Saturday  \n",
       "17037  Saturday  \n",
       "17038  Saturday  \n",
       "17039  Saturday  \n",
       "\n",
       "[17040 rows x 21 columns]"
      ]
     },
     "execution_count": 34,
     "metadata": {},
     "output_type": "execute_result"
    }
   ],
   "source": [
    "# Completar\n",
    "#df_events[\"date\"] = pd.to_datetime(df_events[\"timestamp\"], unit=\"us\", errors=\"coerce\")\n",
    "#df_events[\"day_name\"] = df_events[\"date\"].apply(pd.Timestamp.day_name)\n",
    "#df_events.head()\n",
    "\n",
    "(\n",
    "    df_events.\n",
    "    assign(\n",
    "        date=lambda df: pd.to_datetime(df_events[\"timestamp\"], unit=\"us\").dt.strftime(\"%d-%m-%Y\"),\n",
    "        day_name=lambda df: pd.to_datetime(df_events[\"timestamp\"], unit=\"us\").dt.day_name()\n",
    "    )\n",
    ")"
   ]
  },
  {
   "cell_type": "markdown",
   "metadata": {},
   "source": [
    "<div style=\"text-align: right\">\n",
    "<a href=\"#indice\"><font size=5><i class=\"fa fa-arrow-circle-up\" aria-hidden=\"true\" style=\"color:#000000\"></i></font></a></div>\n",
    "<a id=\"temporales-datetimeindex\"></a>\n",
    "\n",
    "## DatetimeIndex\n",
    "\n",
    "Esta clase implementa un gran número de funcionalidades que permiten la indexación con marcas de tiempo. Es decir, como un índice formado por elementos de tipo `Timestamp`. "
   ]
  },
  {
   "cell_type": "code",
   "execution_count": 35,
   "metadata": {},
   "outputs": [
    {
     "data": {
      "text/plain": [
       "2019-01-22    Evento 1\n",
       "2019-02-05    Evento 2\n",
       "2019-02-19    Evento 3\n",
       "2019-02-26    Evento 4\n",
       "2019-04-07    Evento 5\n",
       "dtype: object"
      ]
     },
     "execution_count": 35,
     "metadata": {},
     "output_type": "execute_result"
    }
   ],
   "source": [
    "# ejemplo\n",
    "serie = pd.Series([\"Evento 1\",\"Evento 2\", \"Evento 3\", \"Evento 4\", \"Evento 5\"], \n",
    "                 index=[pd.Timestamp(\"2019-01-22\"), pd.Timestamp(\"2019-02-05\"),\n",
    "                  pd.Timestamp(\"2019-02-19\"), pd.Timestamp(\"2019-02-26\"),\n",
    "                  pd.Timestamp(\"2019-04-7\")])\n",
    "serie"
   ]
  },
  {
   "cell_type": "code",
   "execution_count": 36,
   "metadata": {},
   "outputs": [
    {
     "data": {
      "text/plain": [
       "2019-01-22    Evento 1\n",
       "2019-02-05    Evento 2\n",
       "2019-02-19    Evento 3\n",
       "2019-02-26    Evento 4\n",
       "2019-04-07    Evento 5\n",
       "dtype: object"
      ]
     },
     "execution_count": 36,
     "metadata": {},
     "output_type": "execute_result"
    }
   ],
   "source": [
    "serie"
   ]
  },
  {
   "cell_type": "markdown",
   "metadata": {},
   "source": [
    "<div class=\"alert alert-block alert-info\">\n",
    "\n",
    "<i class=\"fa fa-info-circle\" aria-hidden=\"true\"></i> Una funcionalidad interesante de este tipo de índices es que permite localizar elementos comprendidos en un espacio de tiempo.\n",
    "</div>\n"
   ]
  },
  {
   "cell_type": "code",
   "execution_count": 37,
   "metadata": {},
   "outputs": [
    {
     "name": "stdout",
     "output_type": "stream",
     "text": [
      "2019-02-05    Evento 2\n",
      "2019-02-19    Evento 3\n",
      "2019-02-26    Evento 4\n",
      "dtype: object\n",
      "\n",
      "Evento 2\n"
     ]
    }
   ],
   "source": [
    "print(serie.loc[\"2019-02\"]) # Imprime las entrada correspondientes a febrero\n",
    "\n",
    "print()\n",
    "\n",
    "print(serie.loc[\"2019-02-05\"]) #Imprime todas las entradas correspondientes a 2019"
   ]
  },
  {
   "cell_type": "markdown",
   "metadata": {},
   "source": [
    "###  Slicing con índices de marcas temporales\n",
    "\n",
    "`DatetimeIndex` permite hacer _slicing_ (indexación por rangos), igual que otros índices o columnas, pero resulta de especial utilidad en el caso de `DatetimeIndex`, ya que son muy legibles.\n",
    "\n",
    "En el siguiente ejemplo vamos a acceder a los eventos entre las fechas 2019-02-01 2019-02-20: "
   ]
  },
  {
   "cell_type": "code",
   "execution_count": 38,
   "metadata": {},
   "outputs": [
    {
     "data": {
      "text/plain": [
       "2019-02-05    Evento 2\n",
       "2019-02-19    Evento 3\n",
       "dtype: object"
      ]
     },
     "execution_count": 38,
     "metadata": {},
     "output_type": "execute_result"
    }
   ],
   "source": [
    "serie.loc[\"2019-02-01\":\"2019-02-20\"]"
   ]
  },
  {
   "cell_type": "code",
   "execution_count": 39,
   "metadata": {},
   "outputs": [
    {
     "data": {
      "text/plain": [
       "2019-02-05    Evento 2\n",
       "2019-02-19    Evento 3\n",
       "2019-02-26    Evento 4\n",
       "dtype: object"
      ]
     },
     "execution_count": 39,
     "metadata": {},
     "output_type": "execute_result"
    }
   ],
   "source": [
    "# Incluso interpreta fechas con otra granularidad\n",
    "serie.loc[\"2019-02\":\"2019-03\"]"
   ]
  },
  {
   "cell_type": "markdown",
   "metadata": {},
   "source": [
    "<div style=\"text-align: right\">\n",
    "<a href=\"#indice\"><font size=5><i class=\"fa fa-arrow-circle-up\" aria-hidden=\"true\" style=\"color:#000000\"></i></font></a></div>\n",
    "<a id=\"temporales-datetimeindex-creacion\"></a>\n",
    "\n",
    "## Creación\n",
    "\n",
    "Cuando se establece una columna de tipo Datetime a índice, ésta se transforma a `DatetimeIndex`:"
   ]
  },
  {
   "cell_type": "markdown",
   "metadata": {},
   "source": [
    "Tambén se transforma a `DatetimeIndex` cuando establecemos una columna tipo `Timestamp` a índice:"
   ]
  },
  {
   "cell_type": "code",
   "execution_count": 40,
   "metadata": {},
   "outputs": [
    {
     "name": "stdout",
     "output_type": "stream",
     "text": [
      "<class 'pandas.core.series.Series'>\n",
      "<class 'pandas.core.indexes.datetimes.DatetimeIndex'>\n"
     ]
    }
   ],
   "source": [
    "print(\n",
    "    type(\n",
    "        df_events.assign(timestamp=lambda df: pd.to_datetime(df[\"timestamp\"], unit=\"us\"))[\"timestamp\"]\n",
    "    )\n",
    ")\n",
    "print(\n",
    "    type(\n",
    "        df_events.assign(timestamp=lambda df: pd.to_datetime(df[\"timestamp\"], unit=\"us\")).set_index(\"timestamp\").index\n",
    "    )\n",
    ")"
   ]
  },
  {
   "cell_type": "markdown",
   "metadata": {},
   "source": [
    "### Creación de secuencias: `date_range`\n",
    "\n",
    "Permite generar índices de marcas temporales entre dos marcas de tiempo, o a partir de una marca de tiempo. En el primer caso permite indicar cuantos periodos se generan. También requiere que se indique la frecuencia, que por defecto es _días_. "
   ]
  },
  {
   "cell_type": "code",
   "execution_count": 41,
   "metadata": {},
   "outputs": [
    {
     "name": "stdout",
     "output_type": "stream",
     "text": [
      "DatetimeIndex(['2019-03-31', '2019-04-30', '2019-05-31'], dtype='datetime64[ns]', freq='M')\n",
      "DatetimeIndex(['2019-03-01', '2019-03-02', '2019-03-03', '2019-03-04',\n",
      "               '2019-03-05', '2019-03-06'],\n",
      "              dtype='datetime64[ns]', freq='D')\n",
      "DatetimeIndex(['2019-03-01 00:00:00', '2019-03-24 09:36:00',\n",
      "               '2019-04-16 19:12:00', '2019-05-10 04:48:00',\n",
      "               '2019-06-02 14:24:00', '2019-06-26 00:00:00'],\n",
      "              dtype='datetime64[ns]', freq=None)\n",
      "DatetimeIndex(['2019-03-01', '2019-03-02', '2019-03-03', '2019-03-04',\n",
      "               '2019-03-05', '2019-03-06'],\n",
      "              dtype='datetime64[ns]', freq='D')\n",
      "DatetimeIndex(['2019-03-01 00:00:00', '2019-03-04 08:20:00',\n",
      "               '2019-03-07 16:40:00', '2019-03-11 01:00:00',\n",
      "               '2019-03-14 09:20:00', '2019-03-17 17:40:00',\n",
      "               '2019-03-21 02:00:00', '2019-03-24 10:20:00',\n",
      "               '2019-03-27 18:40:00', '2019-03-31 03:00:00',\n",
      "               '2019-04-03 11:20:00', '2019-04-06 19:40:00',\n",
      "               '2019-04-10 04:00:00', '2019-04-13 12:20:00',\n",
      "               '2019-04-16 20:40:00', '2019-04-20 05:00:00',\n",
      "               '2019-04-23 13:20:00', '2019-04-26 21:40:00',\n",
      "               '2019-04-30 06:00:00', '2019-05-03 14:20:00',\n",
      "               '2019-05-06 22:40:00', '2019-05-10 07:00:00',\n",
      "               '2019-05-13 15:20:00', '2019-05-16 23:40:00',\n",
      "               '2019-05-20 08:00:00', '2019-05-23 16:20:00',\n",
      "               '2019-05-27 00:40:00', '2019-05-30 09:00:00',\n",
      "               '2019-06-02 17:20:00', '2019-06-06 01:40:00',\n",
      "               '2019-06-09 10:00:00', '2019-06-12 18:20:00',\n",
      "               '2019-06-16 02:40:00', '2019-06-19 11:00:00',\n",
      "               '2019-06-22 19:20:00'],\n",
      "              dtype='datetime64[ns]', freq='4820T')\n"
     ]
    }
   ],
   "source": [
    "inicio = pd.Timestamp(\"2019-03-01\")\n",
    "fin = pd.Timestamp(\"2019-06-26\")\n",
    "\n",
    "print(pd.date_range(inicio, fin, freq=\"M\"))\n",
    "print(pd.date_range(inicio, periods=6, freq=\"D\"))\n",
    "print(pd.date_range(inicio, fin, periods=6))\n",
    "print(pd.date_range(inicio, periods=6))  # por defecto la frecuencia es cada día\n",
    "print(pd.date_range(inicio, fin, freq=\"80h20min\"))"
   ]
  },
  {
   "cell_type": "markdown",
   "metadata": {},
   "source": [
    "Tambén se transforma a `Datetime` cuando la asignamos a una columna de un `DataFrame`:"
   ]
  },
  {
   "cell_type": "markdown",
   "metadata": {},
   "source": [
    "<div class=\"alert alert-block alert-info\">\n",
    "    \n",
    "<i class=\"fa fa-info-circle\" aria-hidden=\"true\"></i> Existen numerosas posibilidades en relación a la frecuencia. Éstas pueden consultarse [aquí](http://pandas.pydata.org/pandas-docs/stable/timeseries.html#offset-aliases). Por ejemplo, la siguiente porción de código genera marcas de tiempo diarias, pero que solamente corresponden a días laborales.\n",
    "</div>"
   ]
  },
  {
   "cell_type": "markdown",
   "metadata": {},
   "source": [
    "# Ejercicios\n",
    "\n",
    "1. Vamos a asignar la columna `timestamp` como índice. Obtener los eventos entre las fechas \"2018-02-03 21:05\" y \"2018-02-03 21:06\".\n",
    "2. Vamos a crear una nueva columna que es una secuencia de fechas, a incrementos de 1 día, desde ahora (que se puede obtener con `pd.Timestamp.now()`)"
   ]
  },
  {
   "cell_type": "code",
   "execution_count": 42,
   "metadata": {},
   "outputs": [
    {
     "data": {
      "text/html": [
       "<div>\n",
       "<style scoped>\n",
       "    .dataframe tbody tr th:only-of-type {\n",
       "        vertical-align: middle;\n",
       "    }\n",
       "\n",
       "    .dataframe tbody tr th {\n",
       "        vertical-align: top;\n",
       "    }\n",
       "\n",
       "    .dataframe thead th {\n",
       "        text-align: right;\n",
       "    }\n",
       "</style>\n",
       "<table border=\"1\" class=\"dataframe\">\n",
       "  <thead>\n",
       "    <tr style=\"text-align: right;\">\n",
       "      <th></th>\n",
       "      <th>packetLength</th>\n",
       "      <th>info</th>\n",
       "      <th>networkInterface.sourceMAC</th>\n",
       "      <th>networkInterface.destinationMAC</th>\n",
       "      <th>internet.sourceIP</th>\n",
       "      <th>internet.destinationIP</th>\n",
       "      <th>internet.protocol</th>\n",
       "      <th>TCP.sourcePort</th>\n",
       "      <th>TCP.destinationPort</th>\n",
       "      <th>TCP.flags</th>\n",
       "      <th>TCP.calculatedWindowSize</th>\n",
       "      <th>UDP.sourcePort</th>\n",
       "      <th>UDP.destinationPort</th>\n",
       "      <th>MQTT.flags</th>\n",
       "      <th>MQTT.message</th>\n",
       "      <th>MQTT.topic</th>\n",
       "      <th>MQTT.messageLength</th>\n",
       "      <th>MQTT.frameCounter</th>\n",
       "    </tr>\n",
       "    <tr>\n",
       "      <th>timestamp</th>\n",
       "      <th></th>\n",
       "      <th></th>\n",
       "      <th></th>\n",
       "      <th></th>\n",
       "      <th></th>\n",
       "      <th></th>\n",
       "      <th></th>\n",
       "      <th></th>\n",
       "      <th></th>\n",
       "      <th></th>\n",
       "      <th></th>\n",
       "      <th></th>\n",
       "      <th></th>\n",
       "      <th></th>\n",
       "      <th></th>\n",
       "      <th></th>\n",
       "      <th></th>\n",
       "      <th></th>\n",
       "    </tr>\n",
       "  </thead>\n",
       "  <tbody>\n",
       "    <tr>\n",
       "      <th>2018-02-03 21:05:00.455529</th>\n",
       "      <td>100</td>\n",
       "      <td>Publish Message</td>\n",
       "      <td>08:00:27:71:f1:05</td>\n",
       "      <td>08:00:27:53:41:85</td>\n",
       "      <td>192.168.1.7</td>\n",
       "      <td>192.168.1.5</td>\n",
       "      <td>MQTT</td>\n",
       "      <td>52588</td>\n",
       "      <td>1883</td>\n",
       "      <td>0x018</td>\n",
       "      <td>229</td>\n",
       "      <td>-1</td>\n",
       "      <td>-1</td>\n",
       "      <td>0x30</td>\n",
       "      <td>106.873625693</td>\n",
       "      <td>fakeSensor2/sound</td>\n",
       "      <td>32</td>\n",
       "      <td>1</td>\n",
       "    </tr>\n",
       "    <tr>\n",
       "      <th>2018-02-03 21:05:00.455564</th>\n",
       "      <td>66</td>\n",
       "      <td>1883  &gt;  52588 [ACK] Seq=119 Ack=96166 Win=227...</td>\n",
       "      <td>08:00:27:53:41:85</td>\n",
       "      <td>08:00:27:71:f1:05</td>\n",
       "      <td>192.168.1.5</td>\n",
       "      <td>192.168.1.7</td>\n",
       "      <td>TCP</td>\n",
       "      <td>1883</td>\n",
       "      <td>52588</td>\n",
       "      <td>0x010</td>\n",
       "      <td>227</td>\n",
       "      <td>-1</td>\n",
       "      <td>-1</td>\n",
       "      <td>-1</td>\n",
       "      <td>-1</td>\n",
       "      <td>-1</td>\n",
       "      <td>-1</td>\n",
       "      <td>1</td>\n",
       "    </tr>\n",
       "    <tr>\n",
       "      <th>2018-02-03 21:05:01.306403</th>\n",
       "      <td>99</td>\n",
       "      <td>Publish Message</td>\n",
       "      <td>08:00:27:0e:06:81</td>\n",
       "      <td>08:00:27:53:41:85</td>\n",
       "      <td>192.168.1.4</td>\n",
       "      <td>192.168.1.5</td>\n",
       "      <td>MQTT</td>\n",
       "      <td>59662</td>\n",
       "      <td>1883</td>\n",
       "      <td>0x018</td>\n",
       "      <td>229</td>\n",
       "      <td>-1</td>\n",
       "      <td>-1</td>\n",
       "      <td>0x30</td>\n",
       "      <td>38.133925483</td>\n",
       "      <td>fakeSensor3/sound</td>\n",
       "      <td>31</td>\n",
       "      <td>1</td>\n",
       "    </tr>\n",
       "    <tr>\n",
       "      <th>2018-02-03 21:05:01.306441</th>\n",
       "      <td>66</td>\n",
       "      <td>1883  &gt;  59662 [ACK] Seq=119 Ack=95720 Win=227...</td>\n",
       "      <td>08:00:27:53:41:85</td>\n",
       "      <td>08:00:27:0e:06:81</td>\n",
       "      <td>192.168.1.5</td>\n",
       "      <td>192.168.1.4</td>\n",
       "      <td>TCP</td>\n",
       "      <td>1883</td>\n",
       "      <td>59662</td>\n",
       "      <td>0x010</td>\n",
       "      <td>227</td>\n",
       "      <td>-1</td>\n",
       "      <td>-1</td>\n",
       "      <td>-1</td>\n",
       "      <td>-1</td>\n",
       "      <td>-1</td>\n",
       "      <td>-1</td>\n",
       "      <td>1</td>\n",
       "    </tr>\n",
       "    <tr>\n",
       "      <th>2018-02-03 21:05:01.527572</th>\n",
       "      <td>100</td>\n",
       "      <td>Publish Message</td>\n",
       "      <td>08:00:27:71:f1:05</td>\n",
       "      <td>08:00:27:53:41:85</td>\n",
       "      <td>192.168.1.7</td>\n",
       "      <td>192.168.1.5</td>\n",
       "      <td>MQTT</td>\n",
       "      <td>52588</td>\n",
       "      <td>1883</td>\n",
       "      <td>0x018</td>\n",
       "      <td>229</td>\n",
       "      <td>-1</td>\n",
       "      <td>-1</td>\n",
       "      <td>0x30</td>\n",
       "      <td>30.8161040828</td>\n",
       "      <td>fakeSensor2/sound</td>\n",
       "      <td>32</td>\n",
       "      <td>1</td>\n",
       "    </tr>\n",
       "    <tr>\n",
       "      <th>...</th>\n",
       "      <td>...</td>\n",
       "      <td>...</td>\n",
       "      <td>...</td>\n",
       "      <td>...</td>\n",
       "      <td>...</td>\n",
       "      <td>...</td>\n",
       "      <td>...</td>\n",
       "      <td>...</td>\n",
       "      <td>...</td>\n",
       "      <td>...</td>\n",
       "      <td>...</td>\n",
       "      <td>...</td>\n",
       "      <td>...</td>\n",
       "      <td>...</td>\n",
       "      <td>...</td>\n",
       "      <td>...</td>\n",
       "      <td>...</td>\n",
       "      <td>...</td>\n",
       "    </tr>\n",
       "    <tr>\n",
       "      <th>2018-02-03 21:05:49.700516</th>\n",
       "      <td>66</td>\n",
       "      <td>1883  &gt;  59662 [ACK] Seq=121 Ack=97110 Win=227...</td>\n",
       "      <td>08:00:27:53:41:85</td>\n",
       "      <td>08:00:27:0e:06:81</td>\n",
       "      <td>192.168.1.5</td>\n",
       "      <td>192.168.1.4</td>\n",
       "      <td>TCP</td>\n",
       "      <td>1883</td>\n",
       "      <td>59662</td>\n",
       "      <td>0x010</td>\n",
       "      <td>227</td>\n",
       "      <td>-1</td>\n",
       "      <td>-1</td>\n",
       "      <td>-1</td>\n",
       "      <td>-1</td>\n",
       "      <td>-1</td>\n",
       "      <td>-1</td>\n",
       "      <td>1</td>\n",
       "    </tr>\n",
       "    <tr>\n",
       "      <th>2018-02-03 21:05:49.905619</th>\n",
       "      <td>90</td>\n",
       "      <td>NTP Version 4, client</td>\n",
       "      <td>08:00:27:53:41:85</td>\n",
       "      <td>52:54:00:12:35:00</td>\n",
       "      <td>192.168.1.5</td>\n",
       "      <td>91.189.94.4</td>\n",
       "      <td>NTP</td>\n",
       "      <td>37443</td>\n",
       "      <td>123</td>\n",
       "      <td>-1</td>\n",
       "      <td>-1</td>\n",
       "      <td>-1</td>\n",
       "      <td>-1</td>\n",
       "      <td>-1</td>\n",
       "      <td>-1</td>\n",
       "      <td>-1</td>\n",
       "      <td>-1</td>\n",
       "      <td>1</td>\n",
       "    </tr>\n",
       "    <tr>\n",
       "      <th>2018-02-03 21:05:49.963269</th>\n",
       "      <td>60</td>\n",
       "      <td>Who has 192.168.1.5? Tell 192.168.1.1</td>\n",
       "      <td>52:54:00:12:35:00</td>\n",
       "      <td>ff:ff:ff:ff:ff:ff</td>\n",
       "      <td>RealtekU_12:35:00</td>\n",
       "      <td>Broadcast</td>\n",
       "      <td>ARP</td>\n",
       "      <td>-1</td>\n",
       "      <td>-1</td>\n",
       "      <td>-1</td>\n",
       "      <td>-1</td>\n",
       "      <td>-1</td>\n",
       "      <td>-1</td>\n",
       "      <td>-1</td>\n",
       "      <td>-1</td>\n",
       "      <td>-1</td>\n",
       "      <td>-1</td>\n",
       "      <td>1</td>\n",
       "    </tr>\n",
       "    <tr>\n",
       "      <th>2018-02-03 21:05:49.963303</th>\n",
       "      <td>42</td>\n",
       "      <td>192.168.1.5 is at 08:00:27:53:41:85</td>\n",
       "      <td>08:00:27:53:41:85</td>\n",
       "      <td>52:54:00:12:35:00</td>\n",
       "      <td>PcsCompu_53:41:85</td>\n",
       "      <td>RealtekU_12:35:00</td>\n",
       "      <td>ARP</td>\n",
       "      <td>-1</td>\n",
       "      <td>-1</td>\n",
       "      <td>-1</td>\n",
       "      <td>-1</td>\n",
       "      <td>-1</td>\n",
       "      <td>-1</td>\n",
       "      <td>-1</td>\n",
       "      <td>-1</td>\n",
       "      <td>-1</td>\n",
       "      <td>-1</td>\n",
       "      <td>1</td>\n",
       "    </tr>\n",
       "    <tr>\n",
       "      <th>2018-02-03 21:05:49.963451</th>\n",
       "      <td>90</td>\n",
       "      <td>NTP Version 4, server</td>\n",
       "      <td>52:54:00:12:35:00</td>\n",
       "      <td>08:00:27:53:41:85</td>\n",
       "      <td>91.189.94.4</td>\n",
       "      <td>192.168.1.5</td>\n",
       "      <td>NTP</td>\n",
       "      <td>123</td>\n",
       "      <td>37443</td>\n",
       "      <td>-1</td>\n",
       "      <td>-1</td>\n",
       "      <td>-1</td>\n",
       "      <td>-1</td>\n",
       "      <td>-1</td>\n",
       "      <td>-1</td>\n",
       "      <td>-1</td>\n",
       "      <td>-1</td>\n",
       "      <td>1</td>\n",
       "    </tr>\n",
       "  </tbody>\n",
       "</table>\n",
       "<p>182 rows × 18 columns</p>\n",
       "</div>"
      ],
      "text/plain": [
       "                            packetLength  \\\n",
       "timestamp                                  \n",
       "2018-02-03 21:05:00.455529           100   \n",
       "2018-02-03 21:05:00.455564            66   \n",
       "2018-02-03 21:05:01.306403            99   \n",
       "2018-02-03 21:05:01.306441            66   \n",
       "2018-02-03 21:05:01.527572           100   \n",
       "...                                  ...   \n",
       "2018-02-03 21:05:49.700516            66   \n",
       "2018-02-03 21:05:49.905619            90   \n",
       "2018-02-03 21:05:49.963269            60   \n",
       "2018-02-03 21:05:49.963303            42   \n",
       "2018-02-03 21:05:49.963451            90   \n",
       "\n",
       "                                                                         info  \\\n",
       "timestamp                                                                       \n",
       "2018-02-03 21:05:00.455529                                    Publish Message   \n",
       "2018-02-03 21:05:00.455564  1883  >  52588 [ACK] Seq=119 Ack=96166 Win=227...   \n",
       "2018-02-03 21:05:01.306403                                    Publish Message   \n",
       "2018-02-03 21:05:01.306441  1883  >  59662 [ACK] Seq=119 Ack=95720 Win=227...   \n",
       "2018-02-03 21:05:01.527572                                    Publish Message   \n",
       "...                                                                       ...   \n",
       "2018-02-03 21:05:49.700516  1883  >  59662 [ACK] Seq=121 Ack=97110 Win=227...   \n",
       "2018-02-03 21:05:49.905619                              NTP Version 4, client   \n",
       "2018-02-03 21:05:49.963269              Who has 192.168.1.5? Tell 192.168.1.1   \n",
       "2018-02-03 21:05:49.963303                192.168.1.5 is at 08:00:27:53:41:85   \n",
       "2018-02-03 21:05:49.963451                              NTP Version 4, server   \n",
       "\n",
       "                           networkInterface.sourceMAC  \\\n",
       "timestamp                                               \n",
       "2018-02-03 21:05:00.455529          08:00:27:71:f1:05   \n",
       "2018-02-03 21:05:00.455564          08:00:27:53:41:85   \n",
       "2018-02-03 21:05:01.306403          08:00:27:0e:06:81   \n",
       "2018-02-03 21:05:01.306441          08:00:27:53:41:85   \n",
       "2018-02-03 21:05:01.527572          08:00:27:71:f1:05   \n",
       "...                                               ...   \n",
       "2018-02-03 21:05:49.700516          08:00:27:53:41:85   \n",
       "2018-02-03 21:05:49.905619          08:00:27:53:41:85   \n",
       "2018-02-03 21:05:49.963269          52:54:00:12:35:00   \n",
       "2018-02-03 21:05:49.963303          08:00:27:53:41:85   \n",
       "2018-02-03 21:05:49.963451          52:54:00:12:35:00   \n",
       "\n",
       "                            networkInterface.destinationMAC  \\\n",
       "timestamp                                                     \n",
       "2018-02-03 21:05:00.455529                08:00:27:53:41:85   \n",
       "2018-02-03 21:05:00.455564                08:00:27:71:f1:05   \n",
       "2018-02-03 21:05:01.306403                08:00:27:53:41:85   \n",
       "2018-02-03 21:05:01.306441                08:00:27:0e:06:81   \n",
       "2018-02-03 21:05:01.527572                08:00:27:53:41:85   \n",
       "...                                                     ...   \n",
       "2018-02-03 21:05:49.700516                08:00:27:0e:06:81   \n",
       "2018-02-03 21:05:49.905619                52:54:00:12:35:00   \n",
       "2018-02-03 21:05:49.963269                ff:ff:ff:ff:ff:ff   \n",
       "2018-02-03 21:05:49.963303                52:54:00:12:35:00   \n",
       "2018-02-03 21:05:49.963451                08:00:27:53:41:85   \n",
       "\n",
       "                            internet.sourceIP internet.destinationIP  \\\n",
       "timestamp                                                              \n",
       "2018-02-03 21:05:00.455529        192.168.1.7            192.168.1.5   \n",
       "2018-02-03 21:05:00.455564        192.168.1.5            192.168.1.7   \n",
       "2018-02-03 21:05:01.306403        192.168.1.4            192.168.1.5   \n",
       "2018-02-03 21:05:01.306441        192.168.1.5            192.168.1.4   \n",
       "2018-02-03 21:05:01.527572        192.168.1.7            192.168.1.5   \n",
       "...                                       ...                    ...   \n",
       "2018-02-03 21:05:49.700516        192.168.1.5            192.168.1.4   \n",
       "2018-02-03 21:05:49.905619        192.168.1.5            91.189.94.4   \n",
       "2018-02-03 21:05:49.963269  RealtekU_12:35:00              Broadcast   \n",
       "2018-02-03 21:05:49.963303  PcsCompu_53:41:85      RealtekU_12:35:00   \n",
       "2018-02-03 21:05:49.963451        91.189.94.4            192.168.1.5   \n",
       "\n",
       "                           internet.protocol  TCP.sourcePort  \\\n",
       "timestamp                                                      \n",
       "2018-02-03 21:05:00.455529              MQTT           52588   \n",
       "2018-02-03 21:05:00.455564               TCP            1883   \n",
       "2018-02-03 21:05:01.306403              MQTT           59662   \n",
       "2018-02-03 21:05:01.306441               TCP            1883   \n",
       "2018-02-03 21:05:01.527572              MQTT           52588   \n",
       "...                                      ...             ...   \n",
       "2018-02-03 21:05:49.700516               TCP            1883   \n",
       "2018-02-03 21:05:49.905619               NTP           37443   \n",
       "2018-02-03 21:05:49.963269               ARP              -1   \n",
       "2018-02-03 21:05:49.963303               ARP              -1   \n",
       "2018-02-03 21:05:49.963451               NTP             123   \n",
       "\n",
       "                            TCP.destinationPort TCP.flags  \\\n",
       "timestamp                                                   \n",
       "2018-02-03 21:05:00.455529                 1883     0x018   \n",
       "2018-02-03 21:05:00.455564                52588     0x010   \n",
       "2018-02-03 21:05:01.306403                 1883     0x018   \n",
       "2018-02-03 21:05:01.306441                59662     0x010   \n",
       "2018-02-03 21:05:01.527572                 1883     0x018   \n",
       "...                                         ...       ...   \n",
       "2018-02-03 21:05:49.700516                59662     0x010   \n",
       "2018-02-03 21:05:49.905619                  123        -1   \n",
       "2018-02-03 21:05:49.963269                   -1        -1   \n",
       "2018-02-03 21:05:49.963303                   -1        -1   \n",
       "2018-02-03 21:05:49.963451                37443        -1   \n",
       "\n",
       "                            TCP.calculatedWindowSize  UDP.sourcePort  \\\n",
       "timestamp                                                              \n",
       "2018-02-03 21:05:00.455529                       229              -1   \n",
       "2018-02-03 21:05:00.455564                       227              -1   \n",
       "2018-02-03 21:05:01.306403                       229              -1   \n",
       "2018-02-03 21:05:01.306441                       227              -1   \n",
       "2018-02-03 21:05:01.527572                       229              -1   \n",
       "...                                              ...             ...   \n",
       "2018-02-03 21:05:49.700516                       227              -1   \n",
       "2018-02-03 21:05:49.905619                        -1              -1   \n",
       "2018-02-03 21:05:49.963269                        -1              -1   \n",
       "2018-02-03 21:05:49.963303                        -1              -1   \n",
       "2018-02-03 21:05:49.963451                        -1              -1   \n",
       "\n",
       "                            UDP.destinationPort MQTT.flags   MQTT.message  \\\n",
       "timestamp                                                                   \n",
       "2018-02-03 21:05:00.455529                   -1       0x30  106.873625693   \n",
       "2018-02-03 21:05:00.455564                   -1         -1             -1   \n",
       "2018-02-03 21:05:01.306403                   -1       0x30   38.133925483   \n",
       "2018-02-03 21:05:01.306441                   -1         -1             -1   \n",
       "2018-02-03 21:05:01.527572                   -1       0x30  30.8161040828   \n",
       "...                                         ...        ...            ...   \n",
       "2018-02-03 21:05:49.700516                   -1         -1             -1   \n",
       "2018-02-03 21:05:49.905619                   -1         -1             -1   \n",
       "2018-02-03 21:05:49.963269                   -1         -1             -1   \n",
       "2018-02-03 21:05:49.963303                   -1         -1             -1   \n",
       "2018-02-03 21:05:49.963451                   -1         -1             -1   \n",
       "\n",
       "                                   MQTT.topic  MQTT.messageLength  \\\n",
       "timestamp                                                           \n",
       "2018-02-03 21:05:00.455529  fakeSensor2/sound                  32   \n",
       "2018-02-03 21:05:00.455564                 -1                  -1   \n",
       "2018-02-03 21:05:01.306403  fakeSensor3/sound                  31   \n",
       "2018-02-03 21:05:01.306441                 -1                  -1   \n",
       "2018-02-03 21:05:01.527572  fakeSensor2/sound                  32   \n",
       "...                                       ...                 ...   \n",
       "2018-02-03 21:05:49.700516                 -1                  -1   \n",
       "2018-02-03 21:05:49.905619                 -1                  -1   \n",
       "2018-02-03 21:05:49.963269                 -1                  -1   \n",
       "2018-02-03 21:05:49.963303                 -1                  -1   \n",
       "2018-02-03 21:05:49.963451                 -1                  -1   \n",
       "\n",
       "                            MQTT.frameCounter  \n",
       "timestamp                                      \n",
       "2018-02-03 21:05:00.455529                  1  \n",
       "2018-02-03 21:05:00.455564                  1  \n",
       "2018-02-03 21:05:01.306403                  1  \n",
       "2018-02-03 21:05:01.306441                  1  \n",
       "2018-02-03 21:05:01.527572                  1  \n",
       "...                                       ...  \n",
       "2018-02-03 21:05:49.700516                  1  \n",
       "2018-02-03 21:05:49.905619                  1  \n",
       "2018-02-03 21:05:49.963269                  1  \n",
       "2018-02-03 21:05:49.963303                  1  \n",
       "2018-02-03 21:05:49.963451                  1  \n",
       "\n",
       "[182 rows x 18 columns]"
      ]
     },
     "execution_count": 42,
     "metadata": {},
     "output_type": "execute_result"
    }
   ],
   "source": [
    "# 1\n",
    "\n",
    "(\n",
    "    df_events\n",
    "    .assign(\n",
    "        timestamp=lambda df: pd.to_datetime(df.timestamp, unit=\"us\", errors=\"coerce\")\n",
    "    )\n",
    "    .set_index(\"timestamp\")\n",
    "    .loc[\"2018-02-03 21:05\":\"2018-02-03 21:06\"]\n",
    ")"
   ]
  },
  {
   "cell_type": "code",
   "execution_count": 43,
   "metadata": {},
   "outputs": [
    {
     "data": {
      "text/html": [
       "<div>\n",
       "<style scoped>\n",
       "    .dataframe tbody tr th:only-of-type {\n",
       "        vertical-align: middle;\n",
       "    }\n",
       "\n",
       "    .dataframe tbody tr th {\n",
       "        vertical-align: top;\n",
       "    }\n",
       "\n",
       "    .dataframe thead th {\n",
       "        text-align: right;\n",
       "    }\n",
       "</style>\n",
       "<table border=\"1\" class=\"dataframe\">\n",
       "  <thead>\n",
       "    <tr style=\"text-align: right;\">\n",
       "      <th></th>\n",
       "      <th>timestamp</th>\n",
       "      <th>packetLength</th>\n",
       "      <th>info</th>\n",
       "      <th>networkInterface.sourceMAC</th>\n",
       "      <th>networkInterface.destinationMAC</th>\n",
       "      <th>internet.sourceIP</th>\n",
       "      <th>internet.destinationIP</th>\n",
       "      <th>internet.protocol</th>\n",
       "      <th>TCP.sourcePort</th>\n",
       "      <th>TCP.destinationPort</th>\n",
       "      <th>TCP.flags</th>\n",
       "      <th>TCP.calculatedWindowSize</th>\n",
       "      <th>UDP.sourcePort</th>\n",
       "      <th>UDP.destinationPort</th>\n",
       "      <th>MQTT.flags</th>\n",
       "      <th>MQTT.message</th>\n",
       "      <th>MQTT.topic</th>\n",
       "      <th>MQTT.messageLength</th>\n",
       "      <th>MQTT.frameCounter</th>\n",
       "      <th>aux</th>\n",
       "    </tr>\n",
       "  </thead>\n",
       "  <tbody>\n",
       "    <tr>\n",
       "      <th>0</th>\n",
       "      <td>1517688352799319</td>\n",
       "      <td>100</td>\n",
       "      <td>Publish Message</td>\n",
       "      <td>08:00:27:71:f1:05</td>\n",
       "      <td>08:00:27:53:41:85</td>\n",
       "      <td>192.168.1.7</td>\n",
       "      <td>192.168.1.5</td>\n",
       "      <td>MQTT</td>\n",
       "      <td>52588</td>\n",
       "      <td>1883</td>\n",
       "      <td>0x018</td>\n",
       "      <td>229</td>\n",
       "      <td>-1</td>\n",
       "      <td>-1</td>\n",
       "      <td>0x30</td>\n",
       "      <td>62.7216410003</td>\n",
       "      <td>fakeSensor2/sound</td>\n",
       "      <td>32</td>\n",
       "      <td>1</td>\n",
       "      <td>2023-04-26 17:27:49.392831</td>\n",
       "    </tr>\n",
       "    <tr>\n",
       "      <th>1</th>\n",
       "      <td>1517688352837583</td>\n",
       "      <td>66</td>\n",
       "      <td>1883  &gt;  52588 [ACK] Seq=1 Ack=35 Win=227 Len=...</td>\n",
       "      <td>08:00:27:53:41:85</td>\n",
       "      <td>08:00:27:71:f1:05</td>\n",
       "      <td>192.168.1.5</td>\n",
       "      <td>192.168.1.7</td>\n",
       "      <td>TCP</td>\n",
       "      <td>1883</td>\n",
       "      <td>52588</td>\n",
       "      <td>0x010</td>\n",
       "      <td>227</td>\n",
       "      <td>-1</td>\n",
       "      <td>-1</td>\n",
       "      <td>-1</td>\n",
       "      <td>-1</td>\n",
       "      <td>-1</td>\n",
       "      <td>-1</td>\n",
       "      <td>1</td>\n",
       "      <td>2023-04-27 17:27:49.392831</td>\n",
       "    </tr>\n",
       "    <tr>\n",
       "      <th>2</th>\n",
       "      <td>1517688352965108</td>\n",
       "      <td>100</td>\n",
       "      <td>Publish Message</td>\n",
       "      <td>08:00:27:0e:06:81</td>\n",
       "      <td>08:00:27:53:41:85</td>\n",
       "      <td>192.168.1.4</td>\n",
       "      <td>192.168.1.5</td>\n",
       "      <td>MQTT</td>\n",
       "      <td>59662</td>\n",
       "      <td>1883</td>\n",
       "      <td>0x018</td>\n",
       "      <td>229</td>\n",
       "      <td>-1</td>\n",
       "      <td>-1</td>\n",
       "      <td>0x30</td>\n",
       "      <td>46.1680763098</td>\n",
       "      <td>fakeSensor3/sound</td>\n",
       "      <td>32</td>\n",
       "      <td>1</td>\n",
       "      <td>2023-04-28 17:27:49.392831</td>\n",
       "    </tr>\n",
       "    <tr>\n",
       "      <th>3</th>\n",
       "      <td>1517688352965147</td>\n",
       "      <td>66</td>\n",
       "      <td>1883  &gt;  59662 [ACK] Seq=1 Ack=35 Win=227 Len=...</td>\n",
       "      <td>08:00:27:53:41:85</td>\n",
       "      <td>08:00:27:0e:06:81</td>\n",
       "      <td>192.168.1.5</td>\n",
       "      <td>192.168.1.4</td>\n",
       "      <td>TCP</td>\n",
       "      <td>1883</td>\n",
       "      <td>59662</td>\n",
       "      <td>0x010</td>\n",
       "      <td>227</td>\n",
       "      <td>-1</td>\n",
       "      <td>-1</td>\n",
       "      <td>-1</td>\n",
       "      <td>-1</td>\n",
       "      <td>-1</td>\n",
       "      <td>-1</td>\n",
       "      <td>1</td>\n",
       "      <td>2023-04-29 17:27:49.392831</td>\n",
       "    </tr>\n",
       "    <tr>\n",
       "      <th>4</th>\n",
       "      <td>1517688354027486</td>\n",
       "      <td>100</td>\n",
       "      <td>Publish Message</td>\n",
       "      <td>08:00:27:0e:06:81</td>\n",
       "      <td>08:00:27:53:41:85</td>\n",
       "      <td>192.168.1.4</td>\n",
       "      <td>192.168.1.5</td>\n",
       "      <td>MQTT</td>\n",
       "      <td>59662</td>\n",
       "      <td>1883</td>\n",
       "      <td>0x018</td>\n",
       "      <td>229</td>\n",
       "      <td>-1</td>\n",
       "      <td>-1</td>\n",
       "      <td>0x30</td>\n",
       "      <td>31.8849343769</td>\n",
       "      <td>fakeSensor3/sound</td>\n",
       "      <td>32</td>\n",
       "      <td>1</td>\n",
       "      <td>2023-04-30 17:27:49.392831</td>\n",
       "    </tr>\n",
       "    <tr>\n",
       "      <th>...</th>\n",
       "      <td>...</td>\n",
       "      <td>...</td>\n",
       "      <td>...</td>\n",
       "      <td>...</td>\n",
       "      <td>...</td>\n",
       "      <td>...</td>\n",
       "      <td>...</td>\n",
       "      <td>...</td>\n",
       "      <td>...</td>\n",
       "      <td>...</td>\n",
       "      <td>...</td>\n",
       "      <td>...</td>\n",
       "      <td>...</td>\n",
       "      <td>...</td>\n",
       "      <td>...</td>\n",
       "      <td>...</td>\n",
       "      <td>...</td>\n",
       "      <td>...</td>\n",
       "      <td>...</td>\n",
       "      <td>...</td>\n",
       "    </tr>\n",
       "    <tr>\n",
       "      <th>17035</th>\n",
       "      <td>1517695676698952</td>\n",
       "      <td>66</td>\n",
       "      <td>1883  &gt;  59662 [ACK] Seq=163 Ack=131771 Win=22...</td>\n",
       "      <td>08:00:27:53:41:85</td>\n",
       "      <td>08:00:27:0e:06:81</td>\n",
       "      <td>192.168.1.5</td>\n",
       "      <td>192.168.1.4</td>\n",
       "      <td>TCP</td>\n",
       "      <td>1883</td>\n",
       "      <td>59662</td>\n",
       "      <td>0x010</td>\n",
       "      <td>227</td>\n",
       "      <td>-1</td>\n",
       "      <td>-1</td>\n",
       "      <td>-1</td>\n",
       "      <td>-1</td>\n",
       "      <td>-1</td>\n",
       "      <td>-1</td>\n",
       "      <td>1</td>\n",
       "      <td>2069-12-15 17:27:49.392831</td>\n",
       "    </tr>\n",
       "    <tr>\n",
       "      <th>17036</th>\n",
       "      <td>1517695677347149</td>\n",
       "      <td>100</td>\n",
       "      <td>Publish Message</td>\n",
       "      <td>08:00:27:0e:06:81</td>\n",
       "      <td>08:00:27:53:41:85</td>\n",
       "      <td>192.168.1.4</td>\n",
       "      <td>192.168.1.5</td>\n",
       "      <td>MQTT</td>\n",
       "      <td>59662</td>\n",
       "      <td>1883</td>\n",
       "      <td>0x018</td>\n",
       "      <td>229</td>\n",
       "      <td>-1</td>\n",
       "      <td>-1</td>\n",
       "      <td>0x30</td>\n",
       "      <td>73.2415646154</td>\n",
       "      <td>fakeSensor3/sound</td>\n",
       "      <td>32</td>\n",
       "      <td>1</td>\n",
       "      <td>2069-12-16 17:27:49.392831</td>\n",
       "    </tr>\n",
       "    <tr>\n",
       "      <th>17037</th>\n",
       "      <td>1517695677347185</td>\n",
       "      <td>66</td>\n",
       "      <td>1883  &gt;  59662 [ACK] Seq=163 Ack=131805 Win=22...</td>\n",
       "      <td>08:00:27:53:41:85</td>\n",
       "      <td>08:00:27:0e:06:81</td>\n",
       "      <td>192.168.1.5</td>\n",
       "      <td>192.168.1.4</td>\n",
       "      <td>TCP</td>\n",
       "      <td>1883</td>\n",
       "      <td>59662</td>\n",
       "      <td>0x010</td>\n",
       "      <td>227</td>\n",
       "      <td>-1</td>\n",
       "      <td>-1</td>\n",
       "      <td>-1</td>\n",
       "      <td>-1</td>\n",
       "      <td>-1</td>\n",
       "      <td>-1</td>\n",
       "      <td>1</td>\n",
       "      <td>2069-12-17 17:27:49.392831</td>\n",
       "    </tr>\n",
       "    <tr>\n",
       "      <th>17038</th>\n",
       "      <td>1517695677451076</td>\n",
       "      <td>100</td>\n",
       "      <td>Publish Message</td>\n",
       "      <td>08:00:27:71:f1:05</td>\n",
       "      <td>08:00:27:53:41:85</td>\n",
       "      <td>192.168.1.7</td>\n",
       "      <td>192.168.1.5</td>\n",
       "      <td>MQTT</td>\n",
       "      <td>52588</td>\n",
       "      <td>1883</td>\n",
       "      <td>0x018</td>\n",
       "      <td>229</td>\n",
       "      <td>-1</td>\n",
       "      <td>-1</td>\n",
       "      <td>0x30</td>\n",
       "      <td>41.4866182673</td>\n",
       "      <td>fakeSensor2/sound</td>\n",
       "      <td>32</td>\n",
       "      <td>1</td>\n",
       "      <td>2069-12-18 17:27:49.392831</td>\n",
       "    </tr>\n",
       "    <tr>\n",
       "      <th>17039</th>\n",
       "      <td>1517695677451094</td>\n",
       "      <td>66</td>\n",
       "      <td>1883  &gt;  52588 [ACK] Seq=163 Ack=131990 Win=22...</td>\n",
       "      <td>08:00:27:53:41:85</td>\n",
       "      <td>08:00:27:71:f1:05</td>\n",
       "      <td>192.168.1.5</td>\n",
       "      <td>192.168.1.7</td>\n",
       "      <td>TCP</td>\n",
       "      <td>1883</td>\n",
       "      <td>52588</td>\n",
       "      <td>0x010</td>\n",
       "      <td>227</td>\n",
       "      <td>-1</td>\n",
       "      <td>-1</td>\n",
       "      <td>-1</td>\n",
       "      <td>-1</td>\n",
       "      <td>-1</td>\n",
       "      <td>-1</td>\n",
       "      <td>1</td>\n",
       "      <td>2069-12-19 17:27:49.392831</td>\n",
       "    </tr>\n",
       "  </tbody>\n",
       "</table>\n",
       "<p>17040 rows × 20 columns</p>\n",
       "</div>"
      ],
      "text/plain": [
       "              timestamp  packetLength  \\\n",
       "0      1517688352799319           100   \n",
       "1      1517688352837583            66   \n",
       "2      1517688352965108           100   \n",
       "3      1517688352965147            66   \n",
       "4      1517688354027486           100   \n",
       "...                 ...           ...   \n",
       "17035  1517695676698952            66   \n",
       "17036  1517695677347149           100   \n",
       "17037  1517695677347185            66   \n",
       "17038  1517695677451076           100   \n",
       "17039  1517695677451094            66   \n",
       "\n",
       "                                                    info  \\\n",
       "0                                        Publish Message   \n",
       "1      1883  >  52588 [ACK] Seq=1 Ack=35 Win=227 Len=...   \n",
       "2                                        Publish Message   \n",
       "3      1883  >  59662 [ACK] Seq=1 Ack=35 Win=227 Len=...   \n",
       "4                                        Publish Message   \n",
       "...                                                  ...   \n",
       "17035  1883  >  59662 [ACK] Seq=163 Ack=131771 Win=22...   \n",
       "17036                                    Publish Message   \n",
       "17037  1883  >  59662 [ACK] Seq=163 Ack=131805 Win=22...   \n",
       "17038                                    Publish Message   \n",
       "17039  1883  >  52588 [ACK] Seq=163 Ack=131990 Win=22...   \n",
       "\n",
       "      networkInterface.sourceMAC  networkInterface.destinationMAC  \\\n",
       "0              08:00:27:71:f1:05                08:00:27:53:41:85   \n",
       "1              08:00:27:53:41:85                08:00:27:71:f1:05   \n",
       "2              08:00:27:0e:06:81                08:00:27:53:41:85   \n",
       "3              08:00:27:53:41:85                08:00:27:0e:06:81   \n",
       "4              08:00:27:0e:06:81                08:00:27:53:41:85   \n",
       "...                          ...                              ...   \n",
       "17035          08:00:27:53:41:85                08:00:27:0e:06:81   \n",
       "17036          08:00:27:0e:06:81                08:00:27:53:41:85   \n",
       "17037          08:00:27:53:41:85                08:00:27:0e:06:81   \n",
       "17038          08:00:27:71:f1:05                08:00:27:53:41:85   \n",
       "17039          08:00:27:53:41:85                08:00:27:71:f1:05   \n",
       "\n",
       "      internet.sourceIP internet.destinationIP internet.protocol  \\\n",
       "0           192.168.1.7            192.168.1.5              MQTT   \n",
       "1           192.168.1.5            192.168.1.7               TCP   \n",
       "2           192.168.1.4            192.168.1.5              MQTT   \n",
       "3           192.168.1.5            192.168.1.4               TCP   \n",
       "4           192.168.1.4            192.168.1.5              MQTT   \n",
       "...                 ...                    ...               ...   \n",
       "17035       192.168.1.5            192.168.1.4               TCP   \n",
       "17036       192.168.1.4            192.168.1.5              MQTT   \n",
       "17037       192.168.1.5            192.168.1.4               TCP   \n",
       "17038       192.168.1.7            192.168.1.5              MQTT   \n",
       "17039       192.168.1.5            192.168.1.7               TCP   \n",
       "\n",
       "       TCP.sourcePort  TCP.destinationPort TCP.flags  \\\n",
       "0               52588                 1883     0x018   \n",
       "1                1883                52588     0x010   \n",
       "2               59662                 1883     0x018   \n",
       "3                1883                59662     0x010   \n",
       "4               59662                 1883     0x018   \n",
       "...               ...                  ...       ...   \n",
       "17035            1883                59662     0x010   \n",
       "17036           59662                 1883     0x018   \n",
       "17037            1883                59662     0x010   \n",
       "17038           52588                 1883     0x018   \n",
       "17039            1883                52588     0x010   \n",
       "\n",
       "       TCP.calculatedWindowSize  UDP.sourcePort  UDP.destinationPort  \\\n",
       "0                           229              -1                   -1   \n",
       "1                           227              -1                   -1   \n",
       "2                           229              -1                   -1   \n",
       "3                           227              -1                   -1   \n",
       "4                           229              -1                   -1   \n",
       "...                         ...             ...                  ...   \n",
       "17035                       227              -1                   -1   \n",
       "17036                       229              -1                   -1   \n",
       "17037                       227              -1                   -1   \n",
       "17038                       229              -1                   -1   \n",
       "17039                       227              -1                   -1   \n",
       "\n",
       "      MQTT.flags   MQTT.message         MQTT.topic  MQTT.messageLength  \\\n",
       "0           0x30  62.7216410003  fakeSensor2/sound                  32   \n",
       "1             -1             -1                 -1                  -1   \n",
       "2           0x30  46.1680763098  fakeSensor3/sound                  32   \n",
       "3             -1             -1                 -1                  -1   \n",
       "4           0x30  31.8849343769  fakeSensor3/sound                  32   \n",
       "...          ...            ...                ...                 ...   \n",
       "17035         -1             -1                 -1                  -1   \n",
       "17036       0x30  73.2415646154  fakeSensor3/sound                  32   \n",
       "17037         -1             -1                 -1                  -1   \n",
       "17038       0x30  41.4866182673  fakeSensor2/sound                  32   \n",
       "17039         -1             -1                 -1                  -1   \n",
       "\n",
       "       MQTT.frameCounter                        aux  \n",
       "0                      1 2023-04-26 17:27:49.392831  \n",
       "1                      1 2023-04-27 17:27:49.392831  \n",
       "2                      1 2023-04-28 17:27:49.392831  \n",
       "3                      1 2023-04-29 17:27:49.392831  \n",
       "4                      1 2023-04-30 17:27:49.392831  \n",
       "...                  ...                        ...  \n",
       "17035                  1 2069-12-15 17:27:49.392831  \n",
       "17036                  1 2069-12-16 17:27:49.392831  \n",
       "17037                  1 2069-12-17 17:27:49.392831  \n",
       "17038                  1 2069-12-18 17:27:49.392831  \n",
       "17039                  1 2069-12-19 17:27:49.392831  \n",
       "\n",
       "[17040 rows x 20 columns]"
      ]
     },
     "execution_count": 43,
     "metadata": {},
     "output_type": "execute_result"
    }
   ],
   "source": [
    "# 2\n",
    "\n",
    "(\n",
    "    df_events\n",
    "    .assign(\n",
    "        aux=lambda df: pd.date_range(pd.Timestamp.now(), freq=\"D\", periods=df.shape[0])\n",
    "    )\n",
    ")"
   ]
  },
  {
   "cell_type": "markdown",
   "metadata": {},
   "source": [
    "<div style=\"text-align: right\">\n",
    "<a href=\"#indice\"><font size=5><i class=\"fa fa-arrow-circle-up\" aria-hidden=\"true\" style=\"color:#000000\"></i></font></a></div>\n",
    "<a id=\"temporales-period\"></a>\n",
    "\n",
    "## Period\n",
    "\n",
    "Permite representar un periodo de tiempo. El siguiente código código crea un periodo como el segundo mes de 2016. Lo imprime, e imprime el resultado de varios campos que pueden resultar de utilidad."
   ]
  },
  {
   "cell_type": "code",
   "execution_count": 44,
   "metadata": {},
   "outputs": [
    {
     "name": "stdout",
     "output_type": "stream",
     "text": [
      "2016-02\n",
      "29\n",
      "2016-02-01 00:00:00\n",
      "2016-02-29 23:59:59.999999999\n",
      "True\n"
     ]
    }
   ],
   "source": [
    "periodo = pd.Period(\"02/2016\")\n",
    "print(periodo)                     # Periodo\n",
    "print(periodo.days_in_month)       # Días del mes correspondiente al periodo (enero si no se indica nada)\n",
    "print(periodo.start_time)          # Marca de tiempo en la que comienza el periodo\n",
    "print(periodo.end_time)            # Marca de tiempo en la que termina el periodo\n",
    "print(periodo.is_leap_year)        # Si el año en el que está comprendido el periodo es bisiesto"
   ]
  },
  {
   "cell_type": "markdown",
   "metadata": {},
   "source": [
    "<div style=\"text-align: right\">\n",
    "<a href=\"#indice\"><font size=5><i class=\"fa fa-arrow-circle-up\" aria-hidden=\"true\" style=\"color:#000000\"></i></font></a></div>\n",
    "<a id=\"temporales-PeriodIndex\"></a>\n",
    "\n",
    "## PeriodIndex: Indexación con periodos de tiempo \n",
    "\n",
    "<br>\n",
    "Pandas también implementa índices construidos con periodos de tiempo (no marcas)."
   ]
  },
  {
   "cell_type": "code",
   "execution_count": 45,
   "metadata": {},
   "outputs": [
    {
     "name": "stdout",
     "output_type": "stream",
     "text": [
      "2017-02    evento1\n",
      "2017-02    evento2\n",
      "2017-03    evento3\n",
      "2017-05    evento4\n",
      "Freq: M, dtype: object\n",
      "\n",
      "2017-02    evento1\n",
      "2017-02    evento2\n",
      "Freq: M, dtype: object\n",
      "2017-02    evento1\n",
      "2017-02    evento2\n",
      "2017-03    evento3\n",
      "2017-05    evento4\n",
      "Freq: M, dtype: object\n"
     ]
    }
   ],
   "source": [
    "serie = pd.Series([\"evento1\", \"evento2\", \"evento3\", \"evento4\"], \n",
    "                [pd.Period(\"2017/2\"), pd.Period(\"2017/2\"), pd.Period(\"2017/3\"), pd.Period(\"2017/5\")])\n",
    "print(serie)\n",
    "print()\n",
    "print(serie.loc[\"2017-02\"])\n",
    "print(serie.loc[\"2017\"])"
   ]
  },
  {
   "cell_type": "markdown",
   "metadata": {},
   "source": [
    "### `period_range`\n",
    "\n",
    "Es similar a `date_range` descrita anteriormente, con las mismas funcionalidades, solo que esta genera secuencias `PeriodIndex`, es decir, índices construidos a partir de periodos de tiempo."
   ]
  },
  {
   "cell_type": "code",
   "execution_count": 46,
   "metadata": {},
   "outputs": [
    {
     "data": {
      "text/plain": [
       "PeriodIndex(['2018-01', '2018-04', '2018-07', '2018-10', '2019-01', '2019-04',\n",
       "             '2019-07'],\n",
       "            dtype='period[3M]', freq='3M')"
      ]
     },
     "execution_count": 46,
     "metadata": {},
     "output_type": "execute_result"
    }
   ],
   "source": [
    "pd.period_range(start=\"2018-01-15\", end=\"2019-07-22\", freq=\"3M\")"
   ]
  },
  {
   "cell_type": "markdown",
   "metadata": {},
   "source": [
    "<div style=\"text-align: right\">\n",
    "<a href=\"#indice\"><font size=5><i class=\"fa fa-arrow-circle-up\" aria-hidden=\"true\" style=\"color:#000000\"></i></font></a></div>\n",
    "<a id=\"temporales-PeriodIndex\"></a>\n",
    "\n",
    "## TimeDelta: Intervalos de tiempo\n",
    "\n",
    "Los objetos `TimeDelta`, permiten representar intervalos de tiempo y operar con ellos. Consultar [documentación](https://pandas.pydata.org/pandas-docs/stable/reference/api/pandas.Timedelta.html) oficial."
   ]
  },
  {
   "cell_type": "code",
   "execution_count": 47,
   "metadata": {},
   "outputs": [
    {
     "name": "stdout",
     "output_type": "stream",
     "text": [
      "0 days 01:00:00\n",
      "7 days 03:00:00\n",
      "34 days 09:03:00\n"
     ]
    }
   ],
   "source": [
    "intervalo = pd.Timedelta(\"1H\")\n",
    "print(intervalo)\n",
    "\n",
    "intervalo = pd.Timedelta(\"7D 3H\")\n",
    "print(intervalo)\n",
    "\n",
    "otro_intervalo = pd.Timedelta(\"27D 6H 3T\")\n",
    "print(intervalo+otro_intervalo)"
   ]
  },
  {
   "cell_type": "markdown",
   "metadata": {},
   "source": [
    "Las operaciones entre objetos `Timestamp` generan intervalos de tiempo."
   ]
  },
  {
   "cell_type": "code",
   "execution_count": 48,
   "metadata": {},
   "outputs": [
    {
     "name": "stdout",
     "output_type": "stream",
     "text": [
      "35 days 00:00:00\n",
      "<class 'pandas._libs.tslibs.timedeltas.Timedelta'>\n"
     ]
    }
   ],
   "source": [
    "intervalo = pd.Timestamp(\"Mar 10, 2018\") - pd.Timestamp(\"3 February 2018\")\n",
    "print(intervalo)\n",
    "print(type(intervalo))"
   ]
  },
  {
   "cell_type": "markdown",
   "metadata": {},
   "source": [
    "También es posible operar entre marcas e intervalos de tiempo."
   ]
  },
  {
   "cell_type": "code",
   "execution_count": 49,
   "metadata": {},
   "outputs": [
    {
     "data": {
      "text/plain": [
       "3024000.0"
      ]
     },
     "execution_count": 49,
     "metadata": {},
     "output_type": "execute_result"
    }
   ],
   "source": [
    "intervalo.total_seconds()"
   ]
  },
  {
   "cell_type": "code",
   "execution_count": 50,
   "metadata": {},
   "outputs": [
    {
     "name": "stdout",
     "output_type": "stream",
     "text": [
      "2020-04-19 20:30:00\n",
      "<class 'pandas._libs.tslibs.timestamps.Timestamp'>\n"
     ]
    }
   ],
   "source": [
    "deadline = pd.Timestamp(\"2020-03-20T20:30\") + pd.Timedelta(\"30d\")\n",
    "print(deadline)\n",
    "print(type(deadline))"
   ]
  },
  {
   "cell_type": "markdown",
   "metadata": {},
   "source": [
    "# Ejercicio\n",
    "\n",
    "Vamos a calcular el menor timestamp del `DataFrame` df_events. Posteriormente, vamos a crear una nueva columna, llamada `relativeTimestamp`, que será una `Series` de pd.Timedelta, obtenido tras restar la columna `timestamp` con el mínimo timestamp."
   ]
  },
  {
   "cell_type": "code",
   "execution_count": 51,
   "metadata": {},
   "outputs": [
    {
     "name": "stderr",
     "output_type": "stream",
     "text": [
      "<ipython-input-51-968e7995c737>:8: UserWarning: Pandas doesn't allow columns to be created via a new attribute name - see https://pandas.pydata.org/pandas-docs/stable/indexing.html#attribute-access\n",
      "  df_events.relativeTimestamp = pd.to_datetime(df_events.timestamp, unit=\"us\", errors=\"coerce\") - min_timestamp\n"
     ]
    },
    {
     "data": {
      "text/plain": [
       "0              0 days 00:00:00\n",
       "1       0 days 00:00:00.038264\n",
       "2       0 days 00:00:00.165789\n",
       "3       0 days 00:00:00.165828\n",
       "4       0 days 00:00:01.228167\n",
       "                 ...          \n",
       "17035   0 days 02:02:03.899633\n",
       "17036   0 days 02:02:04.547830\n",
       "17037   0 days 02:02:04.547866\n",
       "17038   0 days 02:02:04.651757\n",
       "17039   0 days 02:02:04.651775\n",
       "Name: timestamp, Length: 17040, dtype: timedelta64[ns]"
      ]
     },
     "execution_count": 51,
     "metadata": {},
     "output_type": "execute_result"
    }
   ],
   "source": [
    "# Completar\n",
    "t = df_events.timestamp - df_events.timestamp.min()\n",
    "t = pd.to_datetime(t, unit=\"us\", errors=\"coerce\")\n",
    "# print(t)\n",
    "\n",
    "min_timestamp = pd.to_datetime(df_events.timestamp, unit=\"us\", errors=\"coerce\").min()\n",
    "\n",
    "df_events.relativeTimestamp = pd.to_datetime(df_events.timestamp, unit=\"us\", errors=\"coerce\") - min_timestamp\n",
    "df_events.relativeTimestamp"
   ]
  },
  {
   "cell_type": "markdown",
   "metadata": {},
   "source": [
    "<div style=\"text-align: right\">\n",
    "<a href=\"#indice\"><font size=5><i class=\"fa fa-arrow-circle-up\" aria-hidden=\"true\" style=\"color:#000000\"></i></font></a></div>\n",
    "<a id=\"temporales-resample\"></a>\n",
    "\n",
    "# Resample()\n",
    "\n",
    "Esta función es muy útil para escalonar la `Serie` o el `DataFrame` cuyo índice es temporal (`pd.DatetimeIndex`, `pd.PeriodIndex` o `pd.TimedeltaIndex`) por frecuencia (por días, horas, minutos, etc.). \n",
    "\n",
    "La función puede ser parametrizada con múltiples argumentos ([documentación](https://pandas.pydata.org/pandas-docs/stable/reference/api/pandas.DataFrame.resample.html)), pero el principal, llamado `rule`, es un string que determina la frecuencia sobre la que resamplear (\"1D\" es 1 día, \"3T\" es 3 minutos, \"1W 3D 5T 2S\" es una semana, 3 dias 5 minutos y 2 segundos, ...).\n",
    "\n",
    "Al aplicar la función, se devuelve un objeto especial de tipo `DatetimeIndexResampler`. Este objeto tiene una función muy parecida a la de `groupby`. La diferencia es, que en este caso, hay dos tipos bien diferenciados de agrupaciones:\n",
    "\n",
    "- **Downsampling**: Reducción del número de eventos (filas)\n",
    "- **Upsampling u Oversampling**: Aumento del número de eventos (filas)\n",
    "\n",
    "Mas información sobre como aplicar funciones para _downsampling/upsamping_ en la [documentación](https://pandas.pydata.org/pandas-docs/stable/reference/resampling.html)."
   ]
  },
  {
   "cell_type": "code",
   "execution_count": 52,
   "metadata": {},
   "outputs": [
    {
     "data": {
      "text/html": [
       "<div>\n",
       "<style scoped>\n",
       "    .dataframe tbody tr th:only-of-type {\n",
       "        vertical-align: middle;\n",
       "    }\n",
       "\n",
       "    .dataframe tbody tr th {\n",
       "        vertical-align: top;\n",
       "    }\n",
       "\n",
       "    .dataframe thead th {\n",
       "        text-align: right;\n",
       "    }\n",
       "</style>\n",
       "<table border=\"1\" class=\"dataframe\">\n",
       "  <thead>\n",
       "    <tr style=\"text-align: right;\">\n",
       "      <th></th>\n",
       "      <th>eventos</th>\n",
       "      <th>valores</th>\n",
       "    </tr>\n",
       "  </thead>\n",
       "  <tbody>\n",
       "    <tr>\n",
       "      <th>2019-02-02</th>\n",
       "      <td>evento_0</td>\n",
       "      <td>0</td>\n",
       "    </tr>\n",
       "    <tr>\n",
       "      <th>2019-02-03</th>\n",
       "      <td>evento_1</td>\n",
       "      <td>1</td>\n",
       "    </tr>\n",
       "    <tr>\n",
       "      <th>2019-02-04</th>\n",
       "      <td>evento_2</td>\n",
       "      <td>2</td>\n",
       "    </tr>\n",
       "    <tr>\n",
       "      <th>2019-02-05</th>\n",
       "      <td>evento_3</td>\n",
       "      <td>3</td>\n",
       "    </tr>\n",
       "    <tr>\n",
       "      <th>2019-02-06</th>\n",
       "      <td>evento_4</td>\n",
       "      <td>4</td>\n",
       "    </tr>\n",
       "  </tbody>\n",
       "</table>\n",
       "</div>"
      ],
      "text/plain": [
       "             eventos  valores\n",
       "2019-02-02  evento_0        0\n",
       "2019-02-03  evento_1        1\n",
       "2019-02-04  evento_2        2\n",
       "2019-02-05  evento_3        3\n",
       "2019-02-06  evento_4        4"
      ]
     },
     "execution_count": 52,
     "metadata": {},
     "output_type": "execute_result"
    }
   ],
   "source": [
    "# Creamos una serie con índice temporal que contiene N filas\n",
    "N = 20\n",
    "serie_ts = pd.Series([f\"evento_{i}\" for i in range(N)], index=pd.date_range(\"2019/02/02\", periods=N))\n",
    "\n",
    "df_ts = pd.DataFrame(dict(eventos=serie_ts, valores=range(N)))\n",
    "\n",
    "df_ts.head()"
   ]
  },
  {
   "cell_type": "markdown",
   "metadata": {},
   "source": [
    "## Downsampling o subsampling\n",
    "\n",
    "Se pueden aplicar las mismas funciones que en el caso de `groupby`, ya que en el fondo la casuística es similar. Dentro de las más importantes destacamos:\n",
    "\n",
    "- `apply`\n",
    "- `transform`\n",
    "- `agg`\n",
    "- funciones de agregación como `sum`, `mean`, `unique`, `nunique`, `count`, ..."
   ]
  },
  {
   "cell_type": "code",
   "execution_count": 53,
   "metadata": {},
   "outputs": [
    {
     "data": {
      "text/html": [
       "<div>\n",
       "<style scoped>\n",
       "    .dataframe tbody tr th:only-of-type {\n",
       "        vertical-align: middle;\n",
       "    }\n",
       "\n",
       "    .dataframe tbody tr th {\n",
       "        vertical-align: top;\n",
       "    }\n",
       "\n",
       "    .dataframe thead tr th {\n",
       "        text-align: left;\n",
       "    }\n",
       "</style>\n",
       "<table border=\"1\" class=\"dataframe\">\n",
       "  <thead>\n",
       "    <tr>\n",
       "      <th></th>\n",
       "      <th colspan=\"2\" halign=\"left\">eventos</th>\n",
       "      <th colspan=\"2\" halign=\"left\">valores</th>\n",
       "    </tr>\n",
       "    <tr>\n",
       "      <th></th>\n",
       "      <th>unique</th>\n",
       "      <th>count</th>\n",
       "      <th>mean</th>\n",
       "      <th>count</th>\n",
       "    </tr>\n",
       "  </thead>\n",
       "  <tbody>\n",
       "    <tr>\n",
       "      <th>2019-02-02 00:00:00</th>\n",
       "      <td>[evento_0, evento_1, evento_2, evento_3]</td>\n",
       "      <td>4</td>\n",
       "      <td>1.5</td>\n",
       "      <td>4</td>\n",
       "    </tr>\n",
       "    <tr>\n",
       "      <th>2019-02-05 00:05:02</th>\n",
       "      <td>[evento_4, evento_5, evento_6]</td>\n",
       "      <td>3</td>\n",
       "      <td>5.0</td>\n",
       "      <td>3</td>\n",
       "    </tr>\n",
       "    <tr>\n",
       "      <th>2019-02-08 00:10:04</th>\n",
       "      <td>[evento_7, evento_8, evento_9]</td>\n",
       "      <td>3</td>\n",
       "      <td>8.0</td>\n",
       "      <td>3</td>\n",
       "    </tr>\n",
       "    <tr>\n",
       "      <th>2019-02-11 00:15:06</th>\n",
       "      <td>[evento_10, evento_11, evento_12]</td>\n",
       "      <td>3</td>\n",
       "      <td>11.0</td>\n",
       "      <td>3</td>\n",
       "    </tr>\n",
       "    <tr>\n",
       "      <th>2019-02-14 00:20:08</th>\n",
       "      <td>[evento_13, evento_14, evento_15]</td>\n",
       "      <td>3</td>\n",
       "      <td>14.0</td>\n",
       "      <td>3</td>\n",
       "    </tr>\n",
       "    <tr>\n",
       "      <th>2019-02-17 00:25:10</th>\n",
       "      <td>[evento_16, evento_17, evento_18]</td>\n",
       "      <td>3</td>\n",
       "      <td>17.0</td>\n",
       "      <td>3</td>\n",
       "    </tr>\n",
       "    <tr>\n",
       "      <th>2019-02-20 00:30:12</th>\n",
       "      <td>[evento_19]</td>\n",
       "      <td>1</td>\n",
       "      <td>19.0</td>\n",
       "      <td>1</td>\n",
       "    </tr>\n",
       "  </tbody>\n",
       "</table>\n",
       "</div>"
      ],
      "text/plain": [
       "                                                      eventos       valores  \\\n",
       "                                                       unique count    mean   \n",
       "2019-02-02 00:00:00  [evento_0, evento_1, evento_2, evento_3]     4     1.5   \n",
       "2019-02-05 00:05:02            [evento_4, evento_5, evento_6]     3     5.0   \n",
       "2019-02-08 00:10:04            [evento_7, evento_8, evento_9]     3     8.0   \n",
       "2019-02-11 00:15:06         [evento_10, evento_11, evento_12]     3    11.0   \n",
       "2019-02-14 00:20:08         [evento_13, evento_14, evento_15]     3    14.0   \n",
       "2019-02-17 00:25:10         [evento_16, evento_17, evento_18]     3    17.0   \n",
       "2019-02-20 00:30:12                               [evento_19]     1    19.0   \n",
       "\n",
       "                           \n",
       "                    count  \n",
       "2019-02-02 00:00:00     4  \n",
       "2019-02-05 00:05:02     3  \n",
       "2019-02-08 00:10:04     3  \n",
       "2019-02-11 00:15:06     3  \n",
       "2019-02-14 00:20:08     3  \n",
       "2019-02-17 00:25:10     3  \n",
       "2019-02-20 00:30:12     1  "
      ]
     },
     "execution_count": 53,
     "metadata": {},
     "output_type": "execute_result"
    }
   ],
   "source": [
    "# downsample\n",
    "df_ts.resample(\"3D 5T 2S\").agg({\n",
    "    \"eventos\": [\"unique\", \"count\"],\n",
    "    \"valores\": [\"mean\", \"count\"]\n",
    "})"
   ]
  },
  {
   "cell_type": "markdown",
   "metadata": {},
   "source": [
    "## Upsampling u Oversampling\n",
    "\n",
    "Al crear nuevas instancias, estas nuevas posiciones contendrían NaNs. Existen funciones para rellenar estos valores en función de los valores vecinos (o cercanos). Dentro de las más importantes, recalcamos:\n",
    "\n",
    "- `bfill`\n",
    "- `ffill`\n",
    "- `interpolate` (ver [documentación](https://pandas.pydata.org/pandas-docs/stable/reference/api/pandas.core.resample.Resampler.interpolate.html#pandas.core.resample.Resampler.interpolate))"
   ]
  },
  {
   "cell_type": "code",
   "execution_count": 54,
   "metadata": {},
   "outputs": [
    {
     "data": {
      "text/html": [
       "<div>\n",
       "<style scoped>\n",
       "    .dataframe tbody tr th:only-of-type {\n",
       "        vertical-align: middle;\n",
       "    }\n",
       "\n",
       "    .dataframe tbody tr th {\n",
       "        vertical-align: top;\n",
       "    }\n",
       "\n",
       "    .dataframe thead th {\n",
       "        text-align: right;\n",
       "    }\n",
       "</style>\n",
       "<table border=\"1\" class=\"dataframe\">\n",
       "  <thead>\n",
       "    <tr style=\"text-align: right;\">\n",
       "      <th></th>\n",
       "      <th>eventos</th>\n",
       "      <th>valores</th>\n",
       "    </tr>\n",
       "  </thead>\n",
       "  <tbody>\n",
       "    <tr>\n",
       "      <th>2019-02-02 00:00:00</th>\n",
       "      <td>evento_0</td>\n",
       "      <td>0</td>\n",
       "    </tr>\n",
       "    <tr>\n",
       "      <th>2019-02-02 12:00:00</th>\n",
       "      <td>evento_0</td>\n",
       "      <td>0</td>\n",
       "    </tr>\n",
       "    <tr>\n",
       "      <th>2019-02-03 00:00:00</th>\n",
       "      <td>evento_1</td>\n",
       "      <td>1</td>\n",
       "    </tr>\n",
       "    <tr>\n",
       "      <th>2019-02-03 12:00:00</th>\n",
       "      <td>evento_1</td>\n",
       "      <td>1</td>\n",
       "    </tr>\n",
       "    <tr>\n",
       "      <th>2019-02-04 00:00:00</th>\n",
       "      <td>evento_2</td>\n",
       "      <td>2</td>\n",
       "    </tr>\n",
       "  </tbody>\n",
       "</table>\n",
       "</div>"
      ],
      "text/plain": [
       "                      eventos  valores\n",
       "2019-02-02 00:00:00  evento_0        0\n",
       "2019-02-02 12:00:00  evento_0        0\n",
       "2019-02-03 00:00:00  evento_1        1\n",
       "2019-02-03 12:00:00  evento_1        1\n",
       "2019-02-04 00:00:00  evento_2        2"
      ]
     },
     "execution_count": 54,
     "metadata": {},
     "output_type": "execute_result"
    }
   ],
   "source": [
    "df_ts.resample(\"12H\").ffill().head()"
   ]
  },
  {
   "cell_type": "code",
   "execution_count": 55,
   "metadata": {},
   "outputs": [
    {
     "data": {
      "text/html": [
       "<div>\n",
       "<style scoped>\n",
       "    .dataframe tbody tr th:only-of-type {\n",
       "        vertical-align: middle;\n",
       "    }\n",
       "\n",
       "    .dataframe tbody tr th {\n",
       "        vertical-align: top;\n",
       "    }\n",
       "\n",
       "    .dataframe thead th {\n",
       "        text-align: right;\n",
       "    }\n",
       "</style>\n",
       "<table border=\"1\" class=\"dataframe\">\n",
       "  <thead>\n",
       "    <tr style=\"text-align: right;\">\n",
       "      <th></th>\n",
       "      <th>eventos</th>\n",
       "      <th>valores</th>\n",
       "    </tr>\n",
       "  </thead>\n",
       "  <tbody>\n",
       "    <tr>\n",
       "      <th>2019-02-02 00:00:00</th>\n",
       "      <td>evento_0</td>\n",
       "      <td>0</td>\n",
       "    </tr>\n",
       "    <tr>\n",
       "      <th>2019-02-02 12:00:00</th>\n",
       "      <td>evento_1</td>\n",
       "      <td>1</td>\n",
       "    </tr>\n",
       "    <tr>\n",
       "      <th>2019-02-03 00:00:00</th>\n",
       "      <td>evento_1</td>\n",
       "      <td>1</td>\n",
       "    </tr>\n",
       "    <tr>\n",
       "      <th>2019-02-03 12:00:00</th>\n",
       "      <td>evento_2</td>\n",
       "      <td>2</td>\n",
       "    </tr>\n",
       "    <tr>\n",
       "      <th>2019-02-04 00:00:00</th>\n",
       "      <td>evento_2</td>\n",
       "      <td>2</td>\n",
       "    </tr>\n",
       "  </tbody>\n",
       "</table>\n",
       "</div>"
      ],
      "text/plain": [
       "                      eventos  valores\n",
       "2019-02-02 00:00:00  evento_0        0\n",
       "2019-02-02 12:00:00  evento_1        1\n",
       "2019-02-03 00:00:00  evento_1        1\n",
       "2019-02-03 12:00:00  evento_2        2\n",
       "2019-02-04 00:00:00  evento_2        2"
      ]
     },
     "execution_count": 55,
     "metadata": {},
     "output_type": "execute_result"
    }
   ],
   "source": [
    "df_ts.resample(\"12H\").bfill().head()"
   ]
  },
  {
   "cell_type": "markdown",
   "metadata": {},
   "source": [
    "# Ejercicios\n",
    "\n",
    "1. Combina los `DataFrames` df_events y df_predictions, estableciendo previamente a la unión la columna timestamp como índice en format `pd.Timestamp`.\n",
    "2. Realiza un downsampling por 15 minutos (`15T`) de frecuencia sobre las columnas [\"packetLength\", \"packetLengthPredict\"], y agrega computando el valor máximo, mínimo, la media y la desviación estándar. ¿Ves alguna diferencia de los tamaños por tiempo?"
   ]
  },
  {
   "cell_type": "code",
   "execution_count": 56,
   "metadata": {},
   "outputs": [
    {
     "data": {
      "text/html": [
       "<div>\n",
       "<style scoped>\n",
       "    .dataframe tbody tr th:only-of-type {\n",
       "        vertical-align: middle;\n",
       "    }\n",
       "\n",
       "    .dataframe tbody tr th {\n",
       "        vertical-align: top;\n",
       "    }\n",
       "\n",
       "    .dataframe thead tr th {\n",
       "        text-align: left;\n",
       "    }\n",
       "\n",
       "    .dataframe thead tr:last-of-type th {\n",
       "        text-align: right;\n",
       "    }\n",
       "</style>\n",
       "<table border=\"1\" class=\"dataframe\">\n",
       "  <thead>\n",
       "    <tr>\n",
       "      <th></th>\n",
       "      <th colspan=\"4\" halign=\"left\">packetLength</th>\n",
       "      <th colspan=\"4\" halign=\"left\">packetLengthPredict</th>\n",
       "    </tr>\n",
       "    <tr>\n",
       "      <th></th>\n",
       "      <th>max</th>\n",
       "      <th>min</th>\n",
       "      <th>mean</th>\n",
       "      <th>std</th>\n",
       "      <th>max</th>\n",
       "      <th>min</th>\n",
       "      <th>mean</th>\n",
       "      <th>std</th>\n",
       "    </tr>\n",
       "    <tr>\n",
       "      <th>timestamp</th>\n",
       "      <th></th>\n",
       "      <th></th>\n",
       "      <th></th>\n",
       "      <th></th>\n",
       "      <th></th>\n",
       "      <th></th>\n",
       "      <th></th>\n",
       "      <th></th>\n",
       "    </tr>\n",
       "  </thead>\n",
       "  <tbody>\n",
       "    <tr>\n",
       "      <th>2018-02-03 20:00:00</th>\n",
       "      <td>590.0</td>\n",
       "      <td>42.0</td>\n",
       "      <td>82.753344</td>\n",
       "      <td>29.865269</td>\n",
       "      <td>590.000017</td>\n",
       "      <td>51.210082</td>\n",
       "      <td>82.770998</td>\n",
       "      <td>29.820763</td>\n",
       "    </tr>\n",
       "    <tr>\n",
       "      <th>2018-02-03 20:15:00</th>\n",
       "      <td>590.0</td>\n",
       "      <td>42.0</td>\n",
       "      <td>82.716866</td>\n",
       "      <td>30.851567</td>\n",
       "      <td>590.000020</td>\n",
       "      <td>51.210013</td>\n",
       "      <td>82.822523</td>\n",
       "      <td>30.941912</td>\n",
       "    </tr>\n",
       "    <tr>\n",
       "      <th>2018-02-03 20:30:00</th>\n",
       "      <td>590.0</td>\n",
       "      <td>42.0</td>\n",
       "      <td>84.156051</td>\n",
       "      <td>33.105292</td>\n",
       "      <td>590.000029</td>\n",
       "      <td>51.210039</td>\n",
       "      <td>84.053533</td>\n",
       "      <td>32.469693</td>\n",
       "    </tr>\n",
       "    <tr>\n",
       "      <th>2018-02-03 20:45:00</th>\n",
       "      <td>590.0</td>\n",
       "      <td>42.0</td>\n",
       "      <td>84.489281</td>\n",
       "      <td>34.259784</td>\n",
       "      <td>590.000029</td>\n",
       "      <td>51.210017</td>\n",
       "      <td>84.239036</td>\n",
       "      <td>33.390866</td>\n",
       "    </tr>\n",
       "    <tr>\n",
       "      <th>2018-02-03 21:00:00</th>\n",
       "      <td>590.0</td>\n",
       "      <td>42.0</td>\n",
       "      <td>87.560474</td>\n",
       "      <td>44.504121</td>\n",
       "      <td>590.000029</td>\n",
       "      <td>51.210077</td>\n",
       "      <td>87.293944</td>\n",
       "      <td>43.434721</td>\n",
       "    </tr>\n",
       "    <tr>\n",
       "      <th>2018-02-03 21:15:00</th>\n",
       "      <td>NaN</td>\n",
       "      <td>NaN</td>\n",
       "      <td>NaN</td>\n",
       "      <td>NaN</td>\n",
       "      <td>NaN</td>\n",
       "      <td>NaN</td>\n",
       "      <td>NaN</td>\n",
       "      <td>NaN</td>\n",
       "    </tr>\n",
       "    <tr>\n",
       "      <th>2018-02-03 21:30:00</th>\n",
       "      <td>NaN</td>\n",
       "      <td>NaN</td>\n",
       "      <td>NaN</td>\n",
       "      <td>NaN</td>\n",
       "      <td>NaN</td>\n",
       "      <td>NaN</td>\n",
       "      <td>NaN</td>\n",
       "      <td>NaN</td>\n",
       "    </tr>\n",
       "    <tr>\n",
       "      <th>2018-02-03 21:45:00</th>\n",
       "      <td>590.0</td>\n",
       "      <td>42.0</td>\n",
       "      <td>83.833333</td>\n",
       "      <td>31.651852</td>\n",
       "      <td>590.000029</td>\n",
       "      <td>51.210029</td>\n",
       "      <td>84.224844</td>\n",
       "      <td>31.928209</td>\n",
       "    </tr>\n",
       "    <tr>\n",
       "      <th>2018-02-03 22:00:00</th>\n",
       "      <td>590.0</td>\n",
       "      <td>42.0</td>\n",
       "      <td>83.181484</td>\n",
       "      <td>31.460368</td>\n",
       "      <td>590.000027</td>\n",
       "      <td>51.210035</td>\n",
       "      <td>83.258067</td>\n",
       "      <td>31.468594</td>\n",
       "    </tr>\n",
       "  </tbody>\n",
       "</table>\n",
       "</div>"
      ],
      "text/plain": [
       "                    packetLength                              \\\n",
       "                             max   min       mean        std   \n",
       "timestamp                                                      \n",
       "2018-02-03 20:00:00        590.0  42.0  82.753344  29.865269   \n",
       "2018-02-03 20:15:00        590.0  42.0  82.716866  30.851567   \n",
       "2018-02-03 20:30:00        590.0  42.0  84.156051  33.105292   \n",
       "2018-02-03 20:45:00        590.0  42.0  84.489281  34.259784   \n",
       "2018-02-03 21:00:00        590.0  42.0  87.560474  44.504121   \n",
       "2018-02-03 21:15:00          NaN   NaN        NaN        NaN   \n",
       "2018-02-03 21:30:00          NaN   NaN        NaN        NaN   \n",
       "2018-02-03 21:45:00        590.0  42.0  83.833333  31.651852   \n",
       "2018-02-03 22:00:00        590.0  42.0  83.181484  31.460368   \n",
       "\n",
       "                    packetLengthPredict                                   \n",
       "                                    max        min       mean        std  \n",
       "timestamp                                                                 \n",
       "2018-02-03 20:00:00          590.000017  51.210082  82.770998  29.820763  \n",
       "2018-02-03 20:15:00          590.000020  51.210013  82.822523  30.941912  \n",
       "2018-02-03 20:30:00          590.000029  51.210039  84.053533  32.469693  \n",
       "2018-02-03 20:45:00          590.000029  51.210017  84.239036  33.390866  \n",
       "2018-02-03 21:00:00          590.000029  51.210077  87.293944  43.434721  \n",
       "2018-02-03 21:15:00                 NaN        NaN        NaN        NaN  \n",
       "2018-02-03 21:30:00                 NaN        NaN        NaN        NaN  \n",
       "2018-02-03 21:45:00          590.000029  51.210029  84.224844  31.928209  \n",
       "2018-02-03 22:00:00          590.000027  51.210035  83.258067  31.468594  "
      ]
     },
     "execution_count": 56,
     "metadata": {},
     "output_type": "execute_result"
    }
   ],
   "source": [
    "# Completar\n",
    "\n",
    "(\n",
    "    df_events\n",
    "    .merge(\n",
    "        df_predictions,\n",
    "        on=\"timestamp\"\n",
    "    )\n",
    "    .assign(\n",
    "        timestamp=lambda df:pd.to_datetime(df.timestamp, unit=\"us\")\n",
    "    )\n",
    "    .set_index(\"timestamp\")\n",
    "    .resample(\"15T\")\n",
    "    .agg({\n",
    "        \"packetLength\": [\"max\", \"min\", \"mean\", \"std\"],\n",
    "        \"packetLengthPredict\": [\"max\", \"min\", \"mean\", \"std\"]\n",
    "    })\n",
    ")"
   ]
  }
 ],
 "metadata": {
  "kernelspec": {
   "display_name": "Python 3",
   "language": "python",
   "name": "python3"
  },
  "language_info": {
   "codemirror_mode": {
    "name": "ipython",
    "version": 3
   },
   "file_extension": ".py",
   "mimetype": "text/x-python",
   "name": "python",
   "nbconvert_exporter": "python",
   "pygments_lexer": "ipython3",
   "version": "3.8.8"
  }
 },
 "nbformat": 4,
 "nbformat_minor": 4
}
