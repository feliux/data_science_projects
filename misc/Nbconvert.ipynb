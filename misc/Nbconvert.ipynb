{
 "cells": [
  {
   "cell_type": "markdown",
   "metadata": {
    "slideshow": {
     "slide_type": "slide"
    }
   },
   "source": [
    "# Jupyter notebook"
   ]
  },
  {
   "cell_type": "markdown",
   "metadata": {
    "slideshow": {
     "slide_type": "slide"
    }
   },
   "source": [
    "### NBconvert"
   ]
  },
  {
   "cell_type": "code",
   "execution_count": 1,
   "metadata": {
    "slideshow": {
     "slide_type": "slide"
    }
   },
   "outputs": [],
   "source": [
    "#!jupyter nbconvert --help"
   ]
  },
  {
   "cell_type": "code",
   "execution_count": 2,
   "metadata": {
    "slideshow": {
     "slide_type": "slide"
    }
   },
   "outputs": [],
   "source": [
    "#!jupyter nbconvert --to pdf --template custom_template nbconvert.ipynb"
   ]
  },
  {
   "cell_type": "markdown",
   "metadata": {
    "slideshow": {
     "slide_type": "slide"
    }
   },
   "source": [
    "Then select \"Edit\"/\"Edit Notebook Metadata\" and add\n",
    "\n",
    "~~~\n",
    "  \"latex_metadata\": {\n",
    "    \"date\": \"CUSTOM DATE HERE\"\n",
    "  },\n",
    "~~~\n",
    "\n",
    "**custom_template.tplx**:\n",
    "\n",
    "~~~\n",
    "((*- extends 'article.tplx' -*))\n",
    "\n",
    "((* block author *))\n",
    "\\author{Félix Rodríguez Lagonell}\n",
    "((* endblock author *))\n",
    "\n",
    "((* block title *))\n",
    "\\title{Time Series Forecasting}\n",
    "((* endblock title *))\n",
    "\n",
    "((* block date *))  \n",
    "\\date{19 noviembre 2020}   \n",
    "((* endblock date *))\n",
    "~~~"
   ]
  },
  {
   "cell_type": "markdown",
   "metadata": {
    "slideshow": {
     "slide_type": "slide"
    }
   },
   "source": [
    "### Executing notebooks with python"
   ]
  },
  {
   "cell_type": "markdown",
   "metadata": {
    "slideshow": {
     "slide_type": "slide"
    }
   },
   "source": [
    "The first items of interest are at the top of the code. Here we import nbformat and a preprocessor from nbconvert.preprocessors that is called ExecutePreprocessor. Next we create a function called run_notebook that accepts a path to the Notebook that we want to run. Inside of this function we extract the file name and the directory name from the path that we passed in.\n",
    "\n",
    "Then we read the Notebook file using nbformat.read. You will note that you can tell nbformat what version to read the file as. Be sure to set this to match whichever version of Jupyter Notebook you are using. The next step is to instantiate the ExecutePreprocessor class. Here we give it a timeout and the kernel name. If you were using something other than Python this is where you would want to specify that information.\n",
    "\n",
    "Since we want to ignore errors, we set the allow_errors attribute to True. The default is False. If we hadn’t done this, we would need to wrap the next step in a try/except block. Anyway, we then tell Python to do the preprocessing via the preprocess method call. You will note that we need to pass in the Notebook data that we read as well as tell it where the Notebook is located via a dictionary of metadata. Be sure to update this if your path is different than the one used in this example.\n",
    "\n",
    "Finally we create the output path and write out our the Notebook to a new location. If you open it up, you should see output for all of the code cells that actually produce output."
   ]
  },
  {
   "cell_type": "markdown",
   "metadata": {
    "slideshow": {
     "slide_type": "slide"
    }
   },
   "source": [
    "~~~\n",
    "import nbformat\n",
    "import os\n",
    "from nbconvert.preprocessors import ExecutePreprocessor\n",
    "\n",
    "def run_notebook(notebook_path):\n",
    "    nb_name, _ = os.path.splitext(os.path.basename(notebook_path))\n",
    "    dirname = os.path.dirname(notebook_path)\n",
    "    \n",
    "    with open(notebook_path) as f:\n",
    "        nb = nbformat.read(f, as_version=4)\n",
    "        \n",
    "    proc = ExecutePreprocessor(timeout=600, kernel_name='python3')\n",
    "    proc.allow_errors = True\n",
    "    \n",
    "    proc.preprocess(nb, {'metadata': {'path': '/'}})\n",
    "    output_path = os.path.join(dirname, '{}_all_output.ipynb'.format(nb_name))\n",
    "    \n",
    "    with open(output_path, mode='wt') as f:\n",
    "        nbformat.write(nb, f)\n",
    "    \n",
    "if __name__ == '__main__':\n",
    "    run_notebook('Decorators.ipynb')\n",
    "~~~"
   ]
  },
  {
   "cell_type": "markdown",
   "metadata": {
    "slideshow": {
     "slide_type": "slide"
    }
   },
   "source": [
    "### RISE extension\n",
    "\n",
    "Install and click on the new button “Enter/Exit Live Reveal Slideshow”"
   ]
  },
  {
   "cell_type": "code",
   "execution_count": 3,
   "metadata": {
    "slideshow": {
     "slide_type": "slide"
    }
   },
   "outputs": [],
   "source": [
    "#!pip install RISE"
   ]
  },
  {
   "cell_type": "markdown",
   "metadata": {
    "slideshow": {
     "slide_type": "slide"
    }
   },
   "source": [
    "### References\n",
    "\n",
    "[Documentation](https://nbconvert.readthedocs.io/en/latest/index.html)\n",
    "\n",
    "[Examples](https://github.com/jupyter/nbconvert-examples)\n",
    "\n",
    "[Export with metadata](https://ipython-books.github.io/32-converting-a-jupyter-notebook-to-other-formats-with-nbconvert/)\n",
    "\n",
    "[RISE](https://rise.readthedocs.io/en/stable/)\n",
    "\n",
    "[Notebooks Extensions](https://www.blog.pythonlibrary.org/2018/10/02/jupyter-notebook-extension-basics/)"
   ]
  }
 ],
 "metadata": {
  "celltoolbar": "Slideshow",
  "kernelspec": {
   "display_name": "Python 3",
   "language": "python",
   "name": "python3"
  },
  "language_info": {
   "codemirror_mode": {
    "name": "ipython",
    "version": 3
   },
   "file_extension": ".py",
   "mimetype": "text/x-python",
   "name": "python",
   "nbconvert_exporter": "python",
   "pygments_lexer": "ipython3",
   "version": "3.7.6"
  },
  "latex_metadata": {
   "date": "CUSTOM DATE HERE"
  }
 },
 "nbformat": 4,
 "nbformat_minor": 4
}
