{
 "cells": [
  {
   "cell_type": "markdown",
   "metadata": {},
   "source": [
    "# Análisis logs Apache"
   ]
  },
  {
   "cell_type": "markdown",
   "metadata": {},
   "source": [
    "Vamos a trabajar con un fichero de log generado por el proceso **Apache** en un sistema Linux. Este fichero, _proporcionado en la tarea_, se puede descargar también desde este enlace: [log apache](https://github.com/logpai/loghub/tree/master/Apache)."
   ]
  },
  {
   "cell_type": "code",
   "execution_count": 1,
   "metadata": {},
   "outputs": [
    {
     "data": {
      "text/html": [
       "<div>\n",
       "<style scoped>\n",
       "    .dataframe tbody tr th:only-of-type {\n",
       "        vertical-align: middle;\n",
       "    }\n",
       "\n",
       "    .dataframe tbody tr th {\n",
       "        vertical-align: top;\n",
       "    }\n",
       "\n",
       "    .dataframe thead th {\n",
       "        text-align: right;\n",
       "    }\n",
       "</style>\n",
       "<table border=\"1\" class=\"dataframe\">\n",
       "  <thead>\n",
       "    <tr style=\"text-align: right;\">\n",
       "      <th></th>\n",
       "      <th>0</th>\n",
       "    </tr>\n",
       "  </thead>\n",
       "  <tbody>\n",
       "    <tr>\n",
       "      <th>0</th>\n",
       "      <td>[Sun Dec 04 04:47:44 2005] [notice] workerEnv....</td>\n",
       "    </tr>\n",
       "    <tr>\n",
       "      <th>1</th>\n",
       "      <td>[Sun Dec 04 04:47:44 2005] [error] mod_jk chil...</td>\n",
       "    </tr>\n",
       "    <tr>\n",
       "      <th>2</th>\n",
       "      <td>[Sun Dec 04 04:51:08 2005] [notice] jk2_init()...</td>\n",
       "    </tr>\n",
       "    <tr>\n",
       "      <th>3</th>\n",
       "      <td>[Sun Dec 04 04:51:09 2005] [notice] jk2_init()...</td>\n",
       "    </tr>\n",
       "    <tr>\n",
       "      <th>4</th>\n",
       "      <td>[Sun Dec 04 04:51:09 2005] [notice] jk2_init()...</td>\n",
       "    </tr>\n",
       "  </tbody>\n",
       "</table>\n",
       "</div>"
      ],
      "text/plain": [
       "                                                   0\n",
       "0  [Sun Dec 04 04:47:44 2005] [notice] workerEnv....\n",
       "1  [Sun Dec 04 04:47:44 2005] [error] mod_jk chil...\n",
       "2  [Sun Dec 04 04:51:08 2005] [notice] jk2_init()...\n",
       "3  [Sun Dec 04 04:51:09 2005] [notice] jk2_init()...\n",
       "4  [Sun Dec 04 04:51:09 2005] [notice] jk2_init()..."
      ]
     },
     "execution_count": 1,
     "metadata": {},
     "output_type": "execute_result"
    }
   ],
   "source": [
    "import pandas as pd\n",
    "\n",
    "url = \"https://raw.githubusercontent.com/logpai/loghub/master/Apache/Apache_2k.log\"\n",
    "df = pd.read_csv(url, header=None)\n",
    "\n",
    "df.head()"
   ]
  },
  {
   "cell_type": "markdown",
   "metadata": {},
   "source": [
    "# Descripción\n",
    "\n",
    "Como se puede comprobar en la celda anterior, este dataset contiene diferentes entradas, cada una de ellas con un formato diferente a csv (por ello tan solo existe una columna, llamada `0`).\n",
    "\n",
    "Como podemos observar, el patrón que sigue cada línea es:\n",
    "\n",
    "- La fecha encerrada entre corchetes\n",
    "- Tras un espacio, el log level del mensaje, de nuevo encerrado entre corchetes\n",
    "- El resto es un mensaje descriptivo del evento ocurrido"
   ]
  },
  {
   "cell_type": "markdown",
   "metadata": {},
   "source": [
    "# Task 1\n",
    "\n",
    "En este primer ejercicio vamos a procesar el `DataFrame`, construyendo nuevas columnas a partir de la existente, utilizando _expresiones regulares_:\n",
    "\n",
    "- timestamp: esta columna será el string correspondiente a la fecha, que está encerrada entre corchetes\n",
    "- level: esta columna será el string correspondiente al log level del mensaje, que está encerrado entre corchetes\n",
    "- message: se corresponde con el texto a continuación del carácter `]` después del log level\n",
    "\n",
    "Una vez procesada la columna inicial y creadas las nuevas `timestamp`, `level` y `message`, la columna inicial `0` es redundante. Finalmente **la eliminaremos**. \n",
    "\n",
    "_**NOTA:** Existen varias alternativas para realizar este ejercicio. Una alternativa que puede resultar más cómoda, es procesar directamente la `pd.Series` correspondiente con la columna `0` del `pd.DataFrame` utilizando `str.extract`. Esta última función, si se utiliza un solo grupo en la expresión regular devuelve otra `pd.Series`. Si se utiliza más de un grupo en la expresión regular devuelve un `pd.DataFrame`. Si se usa esta alternativa, no hará falta eliminar la columna `0` como paso final, pero sí hará falta renombrar las columnas._"
   ]
  },
  {
   "cell_type": "markdown",
   "metadata": {},
   "source": [
    "<div class=\"alert alert-block alert-info\">\n",
    "    \n",
    "<i class=\"fa fa-info-circle\" aria-hidden=\"true\"></i> La primera fila del nuevo `DataFrame` debe contener la siguiente información (columnas `timestamp`, `level`, `message`, respectivamente):\n",
    "\n",
    "- Sun Dec 04 04:47:44 2005\n",
    "- notice\n",
    "- workerEnv.init() ok /etc/httpd/conf/workers2....\n",
    "\n",
    "</div>"
   ]
  },
  {
   "cell_type": "code",
   "execution_count": 2,
   "metadata": {},
   "outputs": [
    {
     "data": {
      "text/html": [
       "<div>\n",
       "<style scoped>\n",
       "    .dataframe tbody tr th:only-of-type {\n",
       "        vertical-align: middle;\n",
       "    }\n",
       "\n",
       "    .dataframe tbody tr th {\n",
       "        vertical-align: top;\n",
       "    }\n",
       "\n",
       "    .dataframe thead th {\n",
       "        text-align: right;\n",
       "    }\n",
       "</style>\n",
       "<table border=\"1\" class=\"dataframe\">\n",
       "  <thead>\n",
       "    <tr style=\"text-align: right;\">\n",
       "      <th></th>\n",
       "      <th>timestamp</th>\n",
       "      <th>level</th>\n",
       "      <th>message</th>\n",
       "    </tr>\n",
       "  </thead>\n",
       "  <tbody>\n",
       "    <tr>\n",
       "      <th>0</th>\n",
       "      <td>Sun Dec 04 04:47:44 2005</td>\n",
       "      <td>notice</td>\n",
       "      <td>workerEnv.init() ok /etc/httpd/conf/workers2.p...</td>\n",
       "    </tr>\n",
       "    <tr>\n",
       "      <th>1</th>\n",
       "      <td>Sun Dec 04 04:47:44 2005</td>\n",
       "      <td>error</td>\n",
       "      <td>mod_jk child workerEnv in error state 6</td>\n",
       "    </tr>\n",
       "    <tr>\n",
       "      <th>2</th>\n",
       "      <td>Sun Dec 04 04:51:08 2005</td>\n",
       "      <td>notice</td>\n",
       "      <td>jk2_init() Found child 6725 in scoreboard slot 10</td>\n",
       "    </tr>\n",
       "    <tr>\n",
       "      <th>3</th>\n",
       "      <td>Sun Dec 04 04:51:09 2005</td>\n",
       "      <td>notice</td>\n",
       "      <td>jk2_init() Found child 6726 in scoreboard slot 8</td>\n",
       "    </tr>\n",
       "    <tr>\n",
       "      <th>4</th>\n",
       "      <td>Sun Dec 04 04:51:09 2005</td>\n",
       "      <td>notice</td>\n",
       "      <td>jk2_init() Found child 6728 in scoreboard slot 6</td>\n",
       "    </tr>\n",
       "  </tbody>\n",
       "</table>\n",
       "</div>"
      ],
      "text/plain": [
       "                  timestamp   level  \\\n",
       "0  Sun Dec 04 04:47:44 2005  notice   \n",
       "1  Sun Dec 04 04:47:44 2005   error   \n",
       "2  Sun Dec 04 04:51:08 2005  notice   \n",
       "3  Sun Dec 04 04:51:09 2005  notice   \n",
       "4  Sun Dec 04 04:51:09 2005  notice   \n",
       "\n",
       "                                             message  \n",
       "0  workerEnv.init() ok /etc/httpd/conf/workers2.p...  \n",
       "1            mod_jk child workerEnv in error state 6  \n",
       "2  jk2_init() Found child 6725 in scoreboard slot 10  \n",
       "3   jk2_init() Found child 6726 in scoreboard slot 8  \n",
       "4   jk2_init() Found child 6728 in scoreboard slot 6  "
      ]
     },
     "execution_count": 2,
     "metadata": {},
     "output_type": "execute_result"
    }
   ],
   "source": [
    "import re\n",
    "\n",
    "\n",
    "def extract_by_pattern(re_pattern: re.Pattern, text: str, pos: int) -> str:\n",
    "    m = re_pattern.match(text)\n",
    "    return m.group(pos)\n",
    "\n",
    "\n",
    "re_pattern1 = re.compile(\"\\[(.*\\d)\\]\\s\\[(\\w*)\\]\\s(.*)\")\n",
    "\n",
    "df_processed = (\n",
    "    pd.read_csv(url, header=None)\n",
    "    .rename(columns={0: \"text\"})\n",
    "    .assign(\n",
    "        timestamp=lambda df: df[\"text\"].map(lambda tx: extract_by_pattern(re_pattern=re_pattern1, text=tx, pos=1)),\n",
    "        level=lambda df: df[\"text\"].map(lambda tx: extract_by_pattern(re_pattern=re_pattern1, text=tx, pos=2)),\n",
    "        message=lambda df: df[\"text\"].map(lambda tx: extract_by_pattern(re_pattern=re_pattern1, text=tx, pos=3))\n",
    "    )\n",
    ")\n",
    "\n",
    "del df_processed[\"text\"]\n",
    "df_processed.head()"
   ]
  },
  {
   "cell_type": "markdown",
   "metadata": {},
   "source": [
    "# Task 2\n",
    "\n",
    "Transformar la columna `timestamp` en un tipo `datetime`, y asignarla como índice (siendo entonces de tipo `DatetimeIndex`)."
   ]
  },
  {
   "cell_type": "code",
   "execution_count": 3,
   "metadata": {},
   "outputs": [
    {
     "data": {
      "text/html": [
       "<div>\n",
       "<style scoped>\n",
       "    .dataframe tbody tr th:only-of-type {\n",
       "        vertical-align: middle;\n",
       "    }\n",
       "\n",
       "    .dataframe tbody tr th {\n",
       "        vertical-align: top;\n",
       "    }\n",
       "\n",
       "    .dataframe thead th {\n",
       "        text-align: right;\n",
       "    }\n",
       "</style>\n",
       "<table border=\"1\" class=\"dataframe\">\n",
       "  <thead>\n",
       "    <tr style=\"text-align: right;\">\n",
       "      <th></th>\n",
       "      <th>level</th>\n",
       "      <th>message</th>\n",
       "    </tr>\n",
       "    <tr>\n",
       "      <th>timestamp</th>\n",
       "      <th></th>\n",
       "      <th></th>\n",
       "    </tr>\n",
       "  </thead>\n",
       "  <tbody>\n",
       "    <tr>\n",
       "      <th>2005-12-04 04:47:44</th>\n",
       "      <td>notice</td>\n",
       "      <td>workerEnv.init() ok /etc/httpd/conf/workers2.p...</td>\n",
       "    </tr>\n",
       "    <tr>\n",
       "      <th>2005-12-04 04:47:44</th>\n",
       "      <td>error</td>\n",
       "      <td>mod_jk child workerEnv in error state 6</td>\n",
       "    </tr>\n",
       "    <tr>\n",
       "      <th>2005-12-04 04:51:08</th>\n",
       "      <td>notice</td>\n",
       "      <td>jk2_init() Found child 6725 in scoreboard slot 10</td>\n",
       "    </tr>\n",
       "    <tr>\n",
       "      <th>2005-12-04 04:51:09</th>\n",
       "      <td>notice</td>\n",
       "      <td>jk2_init() Found child 6726 in scoreboard slot 8</td>\n",
       "    </tr>\n",
       "    <tr>\n",
       "      <th>2005-12-04 04:51:09</th>\n",
       "      <td>notice</td>\n",
       "      <td>jk2_init() Found child 6728 in scoreboard slot 6</td>\n",
       "    </tr>\n",
       "    <tr>\n",
       "      <th>...</th>\n",
       "      <td>...</td>\n",
       "      <td>...</td>\n",
       "    </tr>\n",
       "    <tr>\n",
       "      <th>2005-12-05 19:14:11</th>\n",
       "      <td>error</td>\n",
       "      <td>mod_jk child workerEnv in error state 6</td>\n",
       "    </tr>\n",
       "    <tr>\n",
       "      <th>2005-12-05 19:15:55</th>\n",
       "      <td>notice</td>\n",
       "      <td>jk2_init() Found child 6791 in scoreboard slot 8</td>\n",
       "    </tr>\n",
       "    <tr>\n",
       "      <th>2005-12-05 19:15:55</th>\n",
       "      <td>notice</td>\n",
       "      <td>jk2_init() Found child 6790 in scoreboard slot 7</td>\n",
       "    </tr>\n",
       "    <tr>\n",
       "      <th>2005-12-05 19:15:57</th>\n",
       "      <td>notice</td>\n",
       "      <td>workerEnv.init() ok /etc/httpd/conf/workers2.p...</td>\n",
       "    </tr>\n",
       "    <tr>\n",
       "      <th>2005-12-05 19:15:57</th>\n",
       "      <td>error</td>\n",
       "      <td>mod_jk child workerEnv in error state 6</td>\n",
       "    </tr>\n",
       "  </tbody>\n",
       "</table>\n",
       "<p>2000 rows × 2 columns</p>\n",
       "</div>"
      ],
      "text/plain": [
       "                      level                                            message\n",
       "timestamp                                                                     \n",
       "2005-12-04 04:47:44  notice  workerEnv.init() ok /etc/httpd/conf/workers2.p...\n",
       "2005-12-04 04:47:44   error            mod_jk child workerEnv in error state 6\n",
       "2005-12-04 04:51:08  notice  jk2_init() Found child 6725 in scoreboard slot 10\n",
       "2005-12-04 04:51:09  notice   jk2_init() Found child 6726 in scoreboard slot 8\n",
       "2005-12-04 04:51:09  notice   jk2_init() Found child 6728 in scoreboard slot 6\n",
       "...                     ...                                                ...\n",
       "2005-12-05 19:14:11   error            mod_jk child workerEnv in error state 6\n",
       "2005-12-05 19:15:55  notice   jk2_init() Found child 6791 in scoreboard slot 8\n",
       "2005-12-05 19:15:55  notice   jk2_init() Found child 6790 in scoreboard slot 7\n",
       "2005-12-05 19:15:57  notice  workerEnv.init() ok /etc/httpd/conf/workers2.p...\n",
       "2005-12-05 19:15:57   error            mod_jk child workerEnv in error state 6\n",
       "\n",
       "[2000 rows x 2 columns]"
      ]
     },
     "execution_count": 3,
     "metadata": {},
     "output_type": "execute_result"
    }
   ],
   "source": [
    "import datetime\n",
    "\n",
    "df_processed = (\n",
    "    df_processed\n",
    "    .assign(\n",
    "        timestamp=lambda df: pd.to_datetime(df_processed[\"timestamp\"], format=\"%a %b %d %H:%M:%S %Y\")\n",
    "    )\n",
    "    .set_index(\"timestamp\")\n",
    ")\n",
    "\n",
    "df_processed"
   ]
  },
  {
   "cell_type": "markdown",
   "metadata": {},
   "source": [
    "# Task 3\n",
    "\n",
    "Uno de los errores que genera **Apache** es un _forbidden access_. En este tipo de _logs_ se incluye el **path** al que se ha solicitado acceder y se ha denegado el acceso. Por ejemplo:\n",
    "\n",
    "```\n",
    "' [client 222.166.160.184] Directory index forbidden by rule: /var/www/html/'\n",
    "```\n",
    "\n",
    "Vamos a extraer el **path** existente en cada log de tipo _forbidden access_ (que contiene el texto **forbidden** en la columna `message`). ¿Cuántos paths únicos podemos encontrar?"
   ]
  },
  {
   "cell_type": "code",
   "execution_count": 4,
   "metadata": {},
   "outputs": [
    {
     "data": {
      "text/plain": [
       "False    1968\n",
       "True       32\n",
       "Name: message, dtype: int64"
      ]
     },
     "execution_count": 4,
     "metadata": {},
     "output_type": "execute_result"
    }
   ],
   "source": [
    "d1 = df_processed[\"message\"].str.contains(\"forbidden\", regex=False)\n",
    "d1.value_counts()"
   ]
  },
  {
   "cell_type": "code",
   "execution_count": 5,
   "metadata": {},
   "outputs": [
    {
     "name": "stderr",
     "output_type": "stream",
     "text": [
      "/opt/conda/lib/python3.8/site-packages/pandas/core/strings/accessor.py:101: UserWarning: This pattern has match groups. To actually get the groups, use str.extract.\n",
      "  return func(self, *args, **kwargs)\n"
     ]
    },
    {
     "data": {
      "text/html": [
       "<div>\n",
       "<style scoped>\n",
       "    .dataframe tbody tr th:only-of-type {\n",
       "        vertical-align: middle;\n",
       "    }\n",
       "\n",
       "    .dataframe tbody tr th {\n",
       "        vertical-align: top;\n",
       "    }\n",
       "\n",
       "    .dataframe thead tr th {\n",
       "        text-align: left;\n",
       "    }\n",
       "\n",
       "    .dataframe thead tr:last-of-type th {\n",
       "        text-align: right;\n",
       "    }\n",
       "</style>\n",
       "<table border=\"1\" class=\"dataframe\">\n",
       "  <thead>\n",
       "    <tr>\n",
       "      <th></th>\n",
       "      <th>path</th>\n",
       "    </tr>\n",
       "    <tr>\n",
       "      <th></th>\n",
       "      <th>count</th>\n",
       "    </tr>\n",
       "    <tr>\n",
       "      <th>path</th>\n",
       "      <th></th>\n",
       "    </tr>\n",
       "  </thead>\n",
       "  <tbody>\n",
       "    <tr>\n",
       "      <th>/var/www/html/</th>\n",
       "      <td>32</td>\n",
       "    </tr>\n",
       "  </tbody>\n",
       "</table>\n",
       "</div>"
      ],
      "text/plain": [
       "                path\n",
       "               count\n",
       "path                \n",
       "/var/www/html/    32"
      ]
     },
     "execution_count": 5,
     "metadata": {},
     "output_type": "execute_result"
    }
   ],
   "source": [
    "re_pattern2 = re.compile(\"(.*forbidden.*\\s)(/\\w.*/)\")\n",
    "\n",
    "(\n",
    "    df_processed.where(df_processed[\"message\"].str.contains(re_pattern2, regex=True))\n",
    "    .dropna()\n",
    "    .assign(\n",
    "        path=lambda df: df[\"message\"].map(lambda tx: extract_by_pattern(re_pattern=re_pattern2, text=tx, pos=2)),\n",
    "    )\n",
    "    .groupby([\"path\"])\n",
    "    .agg({\n",
    "        \"path\": [\"count\"]\n",
    "    })\n",
    ")"
   ]
  },
  {
   "cell_type": "markdown",
   "metadata": {},
   "source": [
    "# Task 4\n",
    "\n",
    "Vamos a analizar los mensajes en función del _log level_. Para ello, vamos a agrupar por la columna `level`, y vamos a calcular el % de mensajes que son únicos (atendiendo al campo `message`). Por ejemplo, si hay 1000 mensajes de level error, y de ellos solo hay 100 messages únicos, entonces hay un 10% de mensajes únicos."
   ]
  },
  {
   "cell_type": "code",
   "execution_count": 6,
   "metadata": {},
   "outputs": [
    {
     "data": {
      "text/html": [
       "<div>\n",
       "<style scoped>\n",
       "    .dataframe tbody tr th:only-of-type {\n",
       "        vertical-align: middle;\n",
       "    }\n",
       "\n",
       "    .dataframe tbody tr th {\n",
       "        vertical-align: top;\n",
       "    }\n",
       "\n",
       "    .dataframe thead tr th {\n",
       "        text-align: left;\n",
       "    }\n",
       "\n",
       "    .dataframe thead tr:last-of-type th {\n",
       "        text-align: right;\n",
       "    }\n",
       "</style>\n",
       "<table border=\"1\" class=\"dataframe\">\n",
       "  <thead>\n",
       "    <tr>\n",
       "      <th></th>\n",
       "      <th colspan=\"2\" halign=\"left\">message</th>\n",
       "      <th>messageUniquePercent</th>\n",
       "    </tr>\n",
       "    <tr>\n",
       "      <th></th>\n",
       "      <th>count</th>\n",
       "      <th>nunique</th>\n",
       "      <th></th>\n",
       "    </tr>\n",
       "    <tr>\n",
       "      <th>level</th>\n",
       "      <th></th>\n",
       "      <th></th>\n",
       "      <th></th>\n",
       "    </tr>\n",
       "  </thead>\n",
       "  <tbody>\n",
       "    <tr>\n",
       "      <th>error</th>\n",
       "      <td>595</td>\n",
       "      <td>50</td>\n",
       "      <td>8.403361</td>\n",
       "    </tr>\n",
       "    <tr>\n",
       "      <th>notice</th>\n",
       "      <td>1405</td>\n",
       "      <td>836</td>\n",
       "      <td>59.501779</td>\n",
       "    </tr>\n",
       "  </tbody>\n",
       "</table>\n",
       "</div>"
      ],
      "text/plain": [
       "       message         messageUniquePercent\n",
       "         count nunique                     \n",
       "level                                      \n",
       "error      595      50             8.403361\n",
       "notice    1405     836            59.501779"
      ]
     },
     "execution_count": 6,
     "metadata": {},
     "output_type": "execute_result"
    }
   ],
   "source": [
    "df_processed_4 = (\n",
    "    df_processed\n",
    "    .groupby([\"level\"])\n",
    "    .agg({\n",
    "        \"message\": [\"count\", \"nunique\"]\n",
    "    })\n",
    "    .assign(\n",
    "        messageUniquePercent=lambda df: df[\"message\"][\"nunique\"] * 100 / df[\"message\"][\"count\"]\n",
    "    )\n",
    ")\n",
    "\n",
    "df_processed_4"
   ]
  },
  {
   "cell_type": "markdown",
   "metadata": {},
   "source": [
    "# Task 5\n",
    "\n",
    "Mostrar un gráfico de barras en el que en el eje X es el level (`notice` o `error`) y en el eje Y sea el conteo del número de mensajes de cada tipo."
   ]
  },
  {
   "cell_type": "code",
   "execution_count": 7,
   "metadata": {},
   "outputs": [
    {
     "data": {
      "image/png": "[encoded data removed]",
      "text/plain": [
       "<Figure size 720x360 with 1 Axes>"
      ]
     },
     "metadata": {
      "needs_background": "light"
     },
     "output_type": "display_data"
    }
   ],
   "source": [
    "import matplotlib.pyplot as plt\n",
    "\n",
    "df_processed_4[\"message\"][\"count\"].plot(\n",
    "    kind=\"bar\",\n",
    "    alpha=0.7,\n",
    "    title=\"Bar plot\",\n",
    "    rot=45,\n",
    "    grid=True,\n",
    "    figsize=(10, 5),\n",
    "    fontsize=10, \n",
    "    color=[\"#A0E8AF\", \"#FFCF56\"])\n",
    "\n",
    "plt.xlabel(\"Log level\")\n",
    "plt.ylabel(\"Message count\");"
   ]
  },
  {
   "cell_type": "markdown",
   "metadata": {},
   "source": [
    "# Task 6\n",
    "\n",
    "Vamos a mostrar una gráfica de línea en la que el eje X sea la fecha (evolución temporal) y el eje Y sea el número de mensajes en cada hora. Es decir, el **eje X** se corresponde con los timestamps agregados por horas, y el **eje Y** con el número de logs generados para esa hora en concreto. Para ello, seguiremos la siguiente secuencia de pasos:\n",
    "\n",
    "1. Resamplear el `DataFrame` por horas\n",
    "2. Agregar contando por el número de entradas por cada hora\n",
    "3. Usar el timestamp como eje X, y el número de entradas por hora para cada agrupación (hora) como eje Y"
   ]
  },
  {
   "cell_type": "code",
   "execution_count": 8,
   "metadata": {},
   "outputs": [
    {
     "data": {
      "text/html": [
       "<div>\n",
       "<style scoped>\n",
       "    .dataframe tbody tr th:only-of-type {\n",
       "        vertical-align: middle;\n",
       "    }\n",
       "\n",
       "    .dataframe tbody tr th {\n",
       "        vertical-align: top;\n",
       "    }\n",
       "\n",
       "    .dataframe thead tr th {\n",
       "        text-align: left;\n",
       "    }\n",
       "\n",
       "    .dataframe thead tr:last-of-type th {\n",
       "        text-align: right;\n",
       "    }\n",
       "</style>\n",
       "<table border=\"1\" class=\"dataframe\">\n",
       "  <thead>\n",
       "    <tr>\n",
       "      <th></th>\n",
       "      <th>message</th>\n",
       "    </tr>\n",
       "    <tr>\n",
       "      <th></th>\n",
       "      <th>count</th>\n",
       "    </tr>\n",
       "    <tr>\n",
       "      <th>timestamp</th>\n",
       "      <th></th>\n",
       "    </tr>\n",
       "  </thead>\n",
       "  <tbody>\n",
       "    <tr>\n",
       "      <th>2005-12-04 04:00:00</th>\n",
       "      <td>85</td>\n",
       "    </tr>\n",
       "    <tr>\n",
       "      <th>2005-12-04 05:00:00</th>\n",
       "      <td>50</td>\n",
       "    </tr>\n",
       "    <tr>\n",
       "      <th>2005-12-04 06:00:00</th>\n",
       "      <td>340</td>\n",
       "    </tr>\n",
       "    <tr>\n",
       "      <th>2005-12-04 07:00:00</th>\n",
       "      <td>105</td>\n",
       "    </tr>\n",
       "    <tr>\n",
       "      <th>2005-12-04 08:00:00</th>\n",
       "      <td>1</td>\n",
       "    </tr>\n",
       "  </tbody>\n",
       "</table>\n",
       "</div>"
      ],
      "text/plain": [
       "                    message\n",
       "                      count\n",
       "timestamp                  \n",
       "2005-12-04 04:00:00      85\n",
       "2005-12-04 05:00:00      50\n",
       "2005-12-04 06:00:00     340\n",
       "2005-12-04 07:00:00     105\n",
       "2005-12-04 08:00:00       1"
      ]
     },
     "execution_count": 8,
     "metadata": {},
     "output_type": "execute_result"
    }
   ],
   "source": [
    "df_processed_6 = df_processed.resample(\"1H\").agg({\n",
    "    \"message\": [\"count\"]\n",
    "})\n",
    "\n",
    "df_processed_6.head()"
   ]
  },
  {
   "cell_type": "code",
   "execution_count": 9,
   "metadata": {},
   "outputs": [
    {
     "data": {
      "image/png": "[encoded data removed]",
      "text/plain": [
       "<Figure size 1080x576 with 1 Axes>"
      ]
     },
     "metadata": {
      "needs_background": "light"
     },
     "output_type": "display_data"
    }
   ],
   "source": [
    "import matplotlib.pyplot as plt\n",
    "\n",
    "df_processed_6[\"message\"].plot(\n",
    "    kind=\"line\",\n",
    "    alpha=0.7,\n",
    "    title=\"Line plot\",\n",
    "    rot=45,\n",
    "    grid=True,\n",
    "    figsize=(15, 8),\n",
    "    fontsize=10, \n",
    "    color=[\"#A0E8AF\", \"#FFCF56\"])\n",
    "\n",
    "plt.xlabel(\"Timestamp\")\n",
    "plt.ylabel(\"Message count\");"
   ]
  }
 ],
 "metadata": {
  "kernelspec": {
   "display_name": "Python 3",
   "language": "python",
   "name": "python3"
  },
  "language_info": {
   "codemirror_mode": {
    "name": "ipython",
    "version": 3
   },
   "file_extension": ".py",
   "mimetype": "text/x-python",
   "name": "python",
   "nbconvert_exporter": "python",
   "pygments_lexer": "ipython3",
   "version": "3.8.8"
  }
 },
 "nbformat": 4,
 "nbformat_minor": 4
}
