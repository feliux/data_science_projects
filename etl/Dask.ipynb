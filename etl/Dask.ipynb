{
 "cells": [
  {
   "cell_type": "markdown",
   "metadata": {},
   "source": [
    "# Dask\n",
    "\n",
    "[Dask DataFrame API](https://docs.dask.org/en/latest/dataframe-api.html)\n",
    "\n",
    "[Dask DataFrames](https://examples.dask.org/dataframe.html)\n",
    "\n",
    "[Create and Store Dask DataFrames](https://docs.dask.org/en/latest/dataframe-create.html)\n",
    "\n",
    "[Dask insert](https://stackoverflow.com/questions/54344793/create-sql-table-from-dask-dataframe-using-map-partitions-and-pd-df-to-sql)\n",
    "\n",
    "[Dask Examples](https://examples.dask.org/dataframes/01-data-access.html)\n",
    "\n",
    "[SQL insert](https://www.dataquest.io/blog/sql-insert-tutorial/)\n",
    "\n",
    "[SQL Alchemy examples](https://www.compose.com/articles/using-postgresql-through-sqlalchemy/)"
   ]
  },
  {
   "cell_type": "code",
   "execution_count": 1,
   "metadata": {},
   "outputs": [],
   "source": [
    "#!python -m pip install \"dask[complete]\""
   ]
  },
  {
   "cell_type": "code",
   "execution_count": 2,
   "metadata": {},
   "outputs": [
    {
     "name": "stdout",
     "output_type": "stream",
     "text": [
      "total 3736716\n",
      "drwxr-xr-x  2 jovyan 1000       4096 Aug 18 08:46 .\n",
      "drwxr-xr-x 10 jovyan 1000       4096 Nov 23 17:41 ..\n",
      "-rw-r--r--  1 jovyan 1000    6558302 Jan  9  2014 all_ones_benchmark.csv\n",
      "-rw-r--r--  1 jovyan 1000     271676 Dec 11  2019 all_ones_benchmark.zip\n",
      "-rw-r--r--  1 jovyan 1000     271657 Dec 11  2019 all_zeros_benchmark.zip\n",
      "-rw-r--r--  1 jovyan 1000     532227 Dec 11  2019 central_pixel_benchmark.zip\n",
      "-rw-r--r--  1 jovyan 1000 1904094733 Aug 18 08:38 galaxy-zoo-the-galaxy-challenge.zip\n",
      "-rw-r--r--  1 jovyan 1000 1079570035 Dec 11  2019 images_test_rev1.zip\n",
      "-rw-r--r--  1 jovyan 1000  830207257 Dec 11  2019 images_training_rev1.zip\n",
      "-rw-r--r--  1 jovyan 1000    4854569 Dec 11  2019 training_solutions_rev1.zip\n",
      "CPU times: user 9.3 ms, sys: 10.4 ms, total: 19.7 ms\n",
      "Wall time: 1.16 s\n"
     ]
    }
   ],
   "source": [
    "%%time\n",
    "!ls -la zoo/"
   ]
  },
  {
   "cell_type": "code",
   "execution_count": 3,
   "metadata": {},
   "outputs": [
    {
     "data": {
      "text/html": [
       "<div>\n",
       "<style scoped>\n",
       "    .dataframe tbody tr th:only-of-type {\n",
       "        vertical-align: middle;\n",
       "    }\n",
       "\n",
       "    .dataframe tbody tr th {\n",
       "        vertical-align: top;\n",
       "    }\n",
       "\n",
       "    .dataframe thead th {\n",
       "        text-align: right;\n",
       "    }\n",
       "</style>\n",
       "<table border=\"1\" class=\"dataframe\">\n",
       "  <thead>\n",
       "    <tr style=\"text-align: right;\">\n",
       "      <th></th>\n",
       "      <th>GalaxyID</th>\n",
       "      <th>Class1.1</th>\n",
       "      <th>Class1.2</th>\n",
       "      <th>Class1.3</th>\n",
       "      <th>Class2.1</th>\n",
       "      <th>Class2.2</th>\n",
       "      <th>Class3.1</th>\n",
       "      <th>Class3.2</th>\n",
       "      <th>Class4.1</th>\n",
       "      <th>Class4.2</th>\n",
       "      <th>...</th>\n",
       "      <th>Class9.3</th>\n",
       "      <th>Class10.1</th>\n",
       "      <th>Class10.2</th>\n",
       "      <th>Class10.3</th>\n",
       "      <th>Class11.1</th>\n",
       "      <th>Class11.2</th>\n",
       "      <th>Class11.3</th>\n",
       "      <th>Class11.4</th>\n",
       "      <th>Class11.5</th>\n",
       "      <th>Class11.6</th>\n",
       "    </tr>\n",
       "  </thead>\n",
       "  <tbody>\n",
       "    <tr>\n",
       "      <th>79972</th>\n",
       "      <td>999990</td>\n",
       "      <td>1</td>\n",
       "      <td>1</td>\n",
       "      <td>1</td>\n",
       "      <td>1</td>\n",
       "      <td>1</td>\n",
       "      <td>1</td>\n",
       "      <td>1</td>\n",
       "      <td>1</td>\n",
       "      <td>1</td>\n",
       "      <td>...</td>\n",
       "      <td>1</td>\n",
       "      <td>1</td>\n",
       "      <td>1</td>\n",
       "      <td>1</td>\n",
       "      <td>1</td>\n",
       "      <td>1</td>\n",
       "      <td>1</td>\n",
       "      <td>1</td>\n",
       "      <td>1</td>\n",
       "      <td>1</td>\n",
       "    </tr>\n",
       "    <tr>\n",
       "      <th>79973</th>\n",
       "      <td>999994</td>\n",
       "      <td>1</td>\n",
       "      <td>1</td>\n",
       "      <td>1</td>\n",
       "      <td>1</td>\n",
       "      <td>1</td>\n",
       "      <td>1</td>\n",
       "      <td>1</td>\n",
       "      <td>1</td>\n",
       "      <td>1</td>\n",
       "      <td>...</td>\n",
       "      <td>1</td>\n",
       "      <td>1</td>\n",
       "      <td>1</td>\n",
       "      <td>1</td>\n",
       "      <td>1</td>\n",
       "      <td>1</td>\n",
       "      <td>1</td>\n",
       "      <td>1</td>\n",
       "      <td>1</td>\n",
       "      <td>1</td>\n",
       "    </tr>\n",
       "    <tr>\n",
       "      <th>79974</th>\n",
       "      <td>999996</td>\n",
       "      <td>1</td>\n",
       "      <td>1</td>\n",
       "      <td>1</td>\n",
       "      <td>1</td>\n",
       "      <td>1</td>\n",
       "      <td>1</td>\n",
       "      <td>1</td>\n",
       "      <td>1</td>\n",
       "      <td>1</td>\n",
       "      <td>...</td>\n",
       "      <td>1</td>\n",
       "      <td>1</td>\n",
       "      <td>1</td>\n",
       "      <td>1</td>\n",
       "      <td>1</td>\n",
       "      <td>1</td>\n",
       "      <td>1</td>\n",
       "      <td>1</td>\n",
       "      <td>1</td>\n",
       "      <td>1</td>\n",
       "    </tr>\n",
       "  </tbody>\n",
       "</table>\n",
       "<p>3 rows × 38 columns</p>\n",
       "</div>"
      ],
      "text/plain": [
       "       GalaxyID  Class1.1  Class1.2  Class1.3  Class2.1  Class2.2  Class3.1  \\\n",
       "79972    999990         1         1         1         1         1         1   \n",
       "79973    999994         1         1         1         1         1         1   \n",
       "79974    999996         1         1         1         1         1         1   \n",
       "\n",
       "       Class3.2  Class4.1  Class4.2  ...  Class9.3  Class10.1  Class10.2  \\\n",
       "79972         1         1         1  ...         1          1          1   \n",
       "79973         1         1         1  ...         1          1          1   \n",
       "79974         1         1         1  ...         1          1          1   \n",
       "\n",
       "       Class10.3  Class11.1  Class11.2  Class11.3  Class11.4  Class11.5  \\\n",
       "79972          1          1          1          1          1          1   \n",
       "79973          1          1          1          1          1          1   \n",
       "79974          1          1          1          1          1          1   \n",
       "\n",
       "       Class11.6  \n",
       "79972          1  \n",
       "79973          1  \n",
       "79974          1  \n",
       "\n",
       "[3 rows x 38 columns]"
      ]
     },
     "execution_count": 3,
     "metadata": {},
     "output_type": "execute_result"
    }
   ],
   "source": [
    "import dask\n",
    "import dask.dataframe as dd\n",
    "import pandas as pd\n",
    "from sqlalchemy import create_engine\n",
    "\n",
    "data = pd.DataFrame({\"book_id\": [12345,12346,12347], \n",
    "                     \"title\": [\"Python Programming\",\"Learn MySQL\", \"Data Science Cookbook\"], \n",
    "                     \"price\": [29,23,27]\n",
    "                    })\n",
    "\n",
    "df = dd.read_csv(\"zoo/all_ones_benchmark.csv\")\n",
    "df.tail(3)"
   ]
  },
  {
   "cell_type": "code",
   "execution_count": 4,
   "metadata": {},
   "outputs": [
    {
     "data": {
      "text/plain": [
       "Dask Index Structure:\n",
       "npartitions=1\n",
       "    int64\n",
       "      ...\n",
       "dtype: int64\n",
       "Dask Name: from-delayed, 4 tasks"
      ]
     },
     "execution_count": 4,
     "metadata": {},
     "output_type": "execute_result"
    }
   ],
   "source": [
    "df.index"
   ]
  },
  {
   "cell_type": "code",
   "execution_count": 5,
   "metadata": {},
   "outputs": [
    {
     "data": {
      "text/plain": [
       "1"
      ]
     },
     "execution_count": 5,
     "metadata": {},
     "output_type": "execute_result"
    }
   ],
   "source": [
    "df.npartitions"
   ]
  },
  {
   "cell_type": "code",
   "execution_count": 6,
   "metadata": {},
   "outputs": [
    {
     "name": "stdout",
     "output_type": "stream",
     "text": [
      "GalaxyID\n",
      "Class1.1\n",
      "Class1.2\n",
      "Class1.3\n",
      "Class2.1\n",
      "Class2.2\n",
      "Class3.1\n",
      "Class3.2\n",
      "Class4.1\n",
      "Class4.2\n",
      "Class5.1\n",
      "Class5.2\n",
      "Class5.3\n",
      "Class5.4\n",
      "Class6.1\n",
      "Class6.2\n",
      "Class7.1\n",
      "Class7.2\n",
      "Class7.3\n",
      "Class8.1\n",
      "Class8.2\n",
      "Class8.3\n",
      "Class8.4\n",
      "Class8.5\n",
      "Class8.6\n",
      "Class8.7\n",
      "Class9.1\n",
      "Class9.2\n",
      "Class9.3\n",
      "Class10.1\n",
      "Class10.2\n",
      "Class10.3\n",
      "Class11.1\n",
      "Class11.2\n",
      "Class11.3\n",
      "Class11.4\n",
      "Class11.5\n",
      "Class11.6\n"
     ]
    }
   ],
   "source": [
    "for i in df.compute():\n",
    "    print(i)"
   ]
  },
  {
   "cell_type": "code",
   "execution_count": 7,
   "metadata": {},
   "outputs": [
    {
     "data": {
      "text/plain": [
       "GalaxyID     int64\n",
       "Class1.1     int64\n",
       "Class1.2     int64\n",
       "Class1.3     int64\n",
       "Class2.1     int64\n",
       "Class2.2     int64\n",
       "Class3.1     int64\n",
       "Class3.2     int64\n",
       "Class4.1     int64\n",
       "Class4.2     int64\n",
       "Class5.1     int64\n",
       "Class5.2     int64\n",
       "Class5.3     int64\n",
       "Class5.4     int64\n",
       "Class6.1     int64\n",
       "Class6.2     int64\n",
       "Class7.1     int64\n",
       "Class7.2     int64\n",
       "Class7.3     int64\n",
       "Class8.1     int64\n",
       "Class8.2     int64\n",
       "Class8.3     int64\n",
       "Class8.4     int64\n",
       "Class8.5     int64\n",
       "Class8.6     int64\n",
       "Class8.7     int64\n",
       "Class9.1     int64\n",
       "Class9.2     int64\n",
       "Class9.3     int64\n",
       "Class10.1    int64\n",
       "Class10.2    int64\n",
       "Class10.3    int64\n",
       "Class11.1    int64\n",
       "Class11.2    int64\n",
       "Class11.3    int64\n",
       "Class11.4    int64\n",
       "Class11.5    int64\n",
       "Class11.6    int64\n",
       "dtype: object"
      ]
     },
     "execution_count": 7,
     "metadata": {},
     "output_type": "execute_result"
    }
   ],
   "source": [
    "df.dtypes"
   ]
  },
  {
   "cell_type": "code",
   "execution_count": null,
   "metadata": {},
   "outputs": [],
   "source": [
    "# Insert into database\n",
    "_USER = \"\"\n",
    "_PASSWORD = \"\"\n",
    "_HOST = \"\"\n",
    "_DB = \"\"\n",
    "_DB_TABLE = \"\"\n",
    "\n",
    "#db_url = \"mysql+pymysql://{_USER}:{_PASSWORD}@{_HOST}/{_DB}\"\n",
    "db_url = f\"postgres://{_USER}:{_PASSWORD}@{_HOST}/{_DB}\"\n",
    "\n",
    "connection = create_engine(db_url)\n",
    "\n",
    "# SQL Alchemy examples\n",
    "#connection.execute(\"SELECT * FROM test\")\n",
    "#connection.execute(\"CREATE TABLE IF NOT EXISTS films (title text, director text, year text)\")  \n",
    "#connection.execute(\"INSERT INTO films (title, director, year) VALUES ('Doctor Strange', 'Scott Derrickson', '2016')\")\n",
    "\n",
    "#meta = dict(df.dtypes)\n",
    "#df.map_partitions(lambda df: df.to_sql(_DB_TABLE, db_url, if_exists=\"append\", index=True), df, meta=meta)\n",
    "\n",
    "#data.to_sql(_DB_TABLE, con=connection, if_exists=\"append\", chunksize=1000)\n",
    "df.to_sql(_DB_TABLE, con=connection, if_exists=\"append\", chunksize=1000)\n",
    "\n",
    "dto_sql = dask.delayed(pd.DataFrame.to_sql)\n",
    "out = [dto_sql(i , _DB_TABLE, db_url, if_exists=\"append\", index=True) for i in df.to_delayed()]\n",
    "dask.compute(*out)"
   ]
  }
 ],
 "metadata": {
  "kernelspec": {
   "display_name": "Python 3",
   "language": "python",
   "name": "python3"
  },
  "language_info": {
   "codemirror_mode": {
    "name": "ipython",
    "version": 3
   },
   "file_extension": ".py",
   "mimetype": "text/x-python",
   "name": "python",
   "nbconvert_exporter": "python",
   "pygments_lexer": "ipython3",
   "version": "3.7.6"
  }
 },
 "nbformat": 4,
 "nbformat_minor": 4
}
