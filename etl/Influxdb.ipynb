{
 "cells": [
  {
   "cell_type": "markdown",
   "metadata": {},
   "source": [
    "# InfluxDB with python\n",
    "\n",
    "[Getting Started](https://www.influxdata.com/blog/getting-started-python-influxdb/)\n",
    "\n",
    "[Influx Query Language](https://docs.influxdata.com/influxdb/v1.8/query_language/)\n",
    "\n",
    "[Github](https://github.com/influxdata/influxdb-python)"
   ]
  },
  {
   "cell_type": "code",
   "execution_count": 1,
   "metadata": {},
   "outputs": [],
   "source": [
    "#!pip install influxdb"
   ]
  },
  {
   "cell_type": "code",
   "execution_count": 2,
   "metadata": {},
   "outputs": [],
   "source": [
    "from influxdb import InfluxDBClient\n",
    "\n",
    "_HOST = \"172.31.4.217\"\n",
    "_PORT = 8086\n",
    "\n",
    "client = InfluxDBClient(host=_HOST, port=_PORT, username=None, password=None, ssl=None, verify_ssl=None)"
   ]
  },
  {
   "cell_type": "code",
   "execution_count": 3,
   "metadata": {},
   "outputs": [
    {
     "data": {
      "text/plain": [
       "[{'name': 'telegraf'}, {'name': '_internal'}]"
      ]
     },
     "execution_count": 3,
     "metadata": {},
     "output_type": "execute_result"
    }
   ],
   "source": [
    "client.get_list_database()"
   ]
  },
  {
   "cell_type": "code",
   "execution_count": 4,
   "metadata": {},
   "outputs": [
    {
     "data": {
      "text/plain": [
       "ResultSet({'('measurements', None)': [{'name': 'cpu'}, {'name': 'disk'}, {'name': 'diskio'}, {'name': 'docker'}, {'name': 'docker_container_blkio'}, {'name': 'docker_container_cpu'}, {'name': 'docker_container_mem'}, {'name': 'docker_container_net'}, {'name': 'docker_container_status'}, {'name': 'kernel'}, {'name': 'mem'}, {'name': 'processes'}, {'name': 'swap'}, {'name': 'system'}]})"
      ]
     },
     "execution_count": 4,
     "metadata": {},
     "output_type": "execute_result"
    }
   ],
   "source": [
    "client.switch_database(\"telegraf\")\n",
    "\n",
    "query = \"show measurements\"\n",
    "client.query(query)"
   ]
  },
  {
   "cell_type": "code",
   "execution_count": 5,
   "metadata": {},
   "outputs": [
    {
     "data": {
      "text/plain": [
       "ResultSet({'('docker', None)': [{'time': '2020-08-05T13:08:40Z', 'engine_host': 'mad-fra-vm-067', 'host': '283b004cd4b7', 'memory_total': 33568313344, 'n_containers': 26, 'n_containers_paused': 0, 'n_containers_running': 25, 'n_containers_stopped': 1, 'n_cpus': 8, 'n_goroutines': 192, 'n_images': 80, 'n_listener_events': 0, 'n_used_file_descriptors': 226, 'server_version': '19.03.4'}, {'time': '2020-08-05T13:08:50Z', 'engine_host': 'mad-fra-vm-067', 'host': '283b004cd4b7', 'memory_total': 33568313344, 'n_containers': 26, 'n_containers_paused': 0, 'n_containers_running': 25, 'n_containers_stopped': 1, 'n_cpus': 8, 'n_goroutines': 193, 'n_images': 80, 'n_listener_events': 0, 'n_used_file_descriptors': 227, 'server_version': '19.03.4'}]})"
      ]
     },
     "execution_count": 5,
     "metadata": {},
     "output_type": "execute_result"
    }
   ],
   "source": [
    "query2 = \"select * from docker limit 2\"\n",
    "client.query(query2)"
   ]
  },
  {
   "cell_type": "code",
   "execution_count": 6,
   "metadata": {},
   "outputs": [
    {
     "data": {
      "text/plain": [
       "{'statement_id': 0,\n",
       " 'series': [{'name': 'docker',\n",
       "   'columns': ['time',\n",
       "    'engine_host',\n",
       "    'host',\n",
       "    'memory_total',\n",
       "    'n_containers',\n",
       "    'n_containers_paused',\n",
       "    'n_containers_running',\n",
       "    'n_containers_stopped',\n",
       "    'n_cpus',\n",
       "    'n_goroutines',\n",
       "    'n_images',\n",
       "    'n_listener_events',\n",
       "    'n_used_file_descriptors',\n",
       "    'server_version'],\n",
       "   'values': [['2020-08-05T13:08:40Z',\n",
       "     'mad-fra-vm-067',\n",
       "     '283b004cd4b7',\n",
       "     33568313344,\n",
       "     26,\n",
       "     0,\n",
       "     25,\n",
       "     1,\n",
       "     8,\n",
       "     192,\n",
       "     80,\n",
       "     0,\n",
       "     226,\n",
       "     '19.03.4'],\n",
       "    ['2020-08-05T13:08:50Z',\n",
       "     'mad-fra-vm-067',\n",
       "     '283b004cd4b7',\n",
       "     33568313344,\n",
       "     26,\n",
       "     0,\n",
       "     25,\n",
       "     1,\n",
       "     8,\n",
       "     193,\n",
       "     80,\n",
       "     0,\n",
       "     227,\n",
       "     '19.03.4']]}]}"
      ]
     },
     "execution_count": 6,
     "metadata": {},
     "output_type": "execute_result"
    }
   ],
   "source": [
    "client.query(query2).raw"
   ]
  },
  {
   "cell_type": "code",
   "execution_count": 7,
   "metadata": {},
   "outputs": [
    {
     "data": {
      "text/plain": [
       "<bound method ResultSet.get_points of ResultSet({'('docker', None)': [{'time': '2020-08-05T13:08:40Z', 'engine_host': 'mad-fra-vm-067', 'host': '283b004cd4b7', 'memory_total': 33568313344, 'n_containers': 26, 'n_containers_paused': 0, 'n_containers_running': 25, 'n_containers_stopped': 1, 'n_cpus': 8, 'n_goroutines': 192, 'n_images': 80, 'n_listener_events': 0, 'n_used_file_descriptors': 226, 'server_version': '19.03.4'}, {'time': '2020-08-05T13:08:50Z', 'engine_host': 'mad-fra-vm-067', 'host': '283b004cd4b7', 'memory_total': 33568313344, 'n_containers': 26, 'n_containers_paused': 0, 'n_containers_running': 25, 'n_containers_stopped': 1, 'n_cpus': 8, 'n_goroutines': 193, 'n_images': 80, 'n_listener_events': 0, 'n_used_file_descriptors': 227, 'server_version': '19.03.4'}]})>"
      ]
     },
     "execution_count": 7,
     "metadata": {},
     "output_type": "execute_result"
    }
   ],
   "source": [
    "client.query(query2).get_points"
   ]
  },
  {
   "cell_type": "code",
   "execution_count": 8,
   "metadata": {},
   "outputs": [
    {
     "name": "stdout",
     "output_type": "stream",
     "text": [
      "Time: 2020-08-05T13:08:40Z, Containers: 25\n",
      "Time: 2020-08-05T13:08:50Z, Containers: 25\n"
     ]
    }
   ],
   "source": [
    "points = client.query(query2).get_points(tags={\"engine_host\": \"mad-fra-vm-067\"})\n",
    "\n",
    "for point in points:\n",
    "    print(\"Time: %s, Containers: %i\" % (point[\"time\"], point[\"n_containers_running\"]))"
   ]
  }
 ],
 "metadata": {
  "kernelspec": {
   "display_name": "Python 3",
   "language": "python",
   "name": "python3"
  },
  "language_info": {
   "codemirror_mode": {
    "name": "ipython",
    "version": 3
   },
   "file_extension": ".py",
   "mimetype": "text/x-python",
   "name": "python",
   "nbconvert_exporter": "python",
   "pygments_lexer": "ipython3",
   "version": "3.7.6"
  }
 },
 "nbformat": 4,
 "nbformat_minor": 4
}
